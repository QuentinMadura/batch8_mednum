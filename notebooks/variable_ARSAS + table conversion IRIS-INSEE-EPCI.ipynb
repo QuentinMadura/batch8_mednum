{
 "cells": [
  {
   "cell_type": "code",
   "execution_count": 1,
   "metadata": {
    "colab": {
     "base_uri": "https://localhost:8080/",
     "height": 34
    },
    "executionInfo": {
     "elapsed": 1559,
     "status": "ok",
     "timestamp": 1602948172447,
     "user": {
      "displayName": "Michael Dubois",
      "photoUrl": "",
      "userId": "05084359558665777627"
     },
     "user_tz": -120
    },
    "id": "ij_IqcmGo8E1",
    "outputId": "548b6ae8-7290-49fc-e513-114247b14950"
   },
   "outputs": [],
   "source": [
    "import pandas as pd\n",
    "import urllib.request"
   ]
  },
  {
   "cell_type": "markdown",
   "metadata": {},
   "source": [
    "##  Variable  concernant la Part des bénéficiaires des minimas sociaux\t\n",
    "## Source: Insee/CAF     \thttps://www.insee.fr/fr/statistiques/4264564?sommaire=2500477 \n",
    "### Année 2018\n"
   ]
  },
  {
   "cell_type": "code",
   "execution_count": 2,
   "metadata": {},
   "outputs": [],
   "source": [
    "# local_filename, headers = urllib.request.urlretrieve('https://www.insee.fr/fr/statistiques/fichier/4264564/beneficiaires_CAF_31-12-2018.zip')"
   ]
  },
  {
   "cell_type": "code",
   "execution_count": 3,
   "metadata": {
    "colab": {
     "base_uri": "https://localhost:8080/",
     "height": 324
    },
    "executionInfo": {
     "elapsed": 512,
     "status": "error",
     "timestamp": 1602948195683,
     "user": {
      "displayName": "Michael Dubois",
      "photoUrl": "",
      "userId": "05084359558665777627"
     },
     "user_tz": -120
    },
    "id": "fevJqjfQynSl",
    "outputId": "88d2faaa-a441-4865-90f6-b6c494d575c6"
   },
   "outputs": [],
   "source": [
    "# import des données caf 2018\n",
    "df_caf = pd.read_csv(\"data_CAF2018_iris.csv\", sep=\";\", encoding='UTF-8')"
   ]
  },
  {
   "cell_type": "code",
   "execution_count": 4,
   "metadata": {
    "colab": {
     "base_uri": "https://localhost:8080/",
     "height": 80
    },
    "executionInfo": {
     "elapsed": 623,
     "status": "ok",
     "timestamp": 1602948185301,
     "user": {
      "displayName": "Michael Dubois",
      "photoUrl": "",
      "userId": "05084359558665777627"
     },
     "user_tz": -120
    },
    "id": "VvhsgiF-1XZ6",
    "outputId": "d040824a-d89e-4845-e17a-d4c479857577"
   },
   "outputs": [],
   "source": [
    "df_caf = df_caf.rename(columns={\"CODGEO\": \"CODE_IRIS\"})"
   ]
  },
  {
   "cell_type": "code",
   "execution_count": 5,
   "metadata": {
    "executionInfo": {
     "elapsed": 573,
     "status": "ok",
     "timestamp": 1602945894742,
     "user": {
      "displayName": "Michael Dubois",
      "photoUrl": "",
      "userId": "05084359558665777627"
     },
     "user_tz": -120
    },
    "id": "kdsRxK5_13uX"
   },
   "outputs": [
    {
     "data": {
      "text/html": [
       "<div>\n",
       "<style scoped>\n",
       "    .dataframe tbody tr th:only-of-type {\n",
       "        vertical-align: middle;\n",
       "    }\n",
       "\n",
       "    .dataframe tbody tr th {\n",
       "        vertical-align: top;\n",
       "    }\n",
       "\n",
       "    .dataframe thead th {\n",
       "        text-align: right;\n",
       "    }\n",
       "</style>\n",
       "<table border=\"1\" class=\"dataframe\">\n",
       "  <thead>\n",
       "    <tr style=\"text-align: right;\">\n",
       "      <th></th>\n",
       "      <th>CODE_IRIS</th>\n",
       "      <th>EPCI</th>\n",
       "      <th>ARSAS</th>\n",
       "    </tr>\n",
       "  </thead>\n",
       "  <tbody>\n",
       "    <tr>\n",
       "      <th>0</th>\n",
       "      <td>010040101</td>\n",
       "      <td>240100883</td>\n",
       "      <td>63.0</td>\n",
       "    </tr>\n",
       "    <tr>\n",
       "      <th>1</th>\n",
       "      <td>010040102</td>\n",
       "      <td>240100883</td>\n",
       "      <td>148.0</td>\n",
       "    </tr>\n",
       "    <tr>\n",
       "      <th>2</th>\n",
       "      <td>010040201</td>\n",
       "      <td>240100883</td>\n",
       "      <td>95.0</td>\n",
       "    </tr>\n",
       "    <tr>\n",
       "      <th>3</th>\n",
       "      <td>010040202</td>\n",
       "      <td>240100883</td>\n",
       "      <td>58.0</td>\n",
       "    </tr>\n",
       "    <tr>\n",
       "      <th>4</th>\n",
       "      <td>010330102</td>\n",
       "      <td>240100891</td>\n",
       "      <td>NaN</td>\n",
       "    </tr>\n",
       "  </tbody>\n",
       "</table>\n",
       "</div>"
      ],
      "text/plain": [
       "   CODE_IRIS       EPCI  ARSAS\n",
       "0  010040101  240100883   63.0\n",
       "1  010040102  240100883  148.0\n",
       "2  010040201  240100883   95.0\n",
       "3  010040202  240100883   58.0\n",
       "4  010330102  240100891    NaN"
      ]
     },
     "execution_count": 5,
     "metadata": {},
     "output_type": "execute_result"
    }
   ],
   "source": [
    "df_CAF = df_caf[[\"CODE_IRIS\", \"EPCI\", \"ARSAS\"]]  # selection des colonnes utiles\n",
    "df_CAF.head()"
   ]
  },
  {
   "cell_type": "code",
   "execution_count": 6,
   "metadata": {},
   "outputs": [],
   "source": [
    "df_CAF.to_csv(\"IFN_variable_ARSAS.csv\") # table contenant la variable RSA"
   ]
  },
  {
   "cell_type": "markdown",
   "metadata": {},
   "source": [
    "## Referencement geographique IRIS: https://www.insee.fr/fr/information/2017499  \n",
    "### Année 2020"
   ]
  },
  {
   "cell_type": "code",
   "execution_count": 7,
   "metadata": {
    "executionInfo": {
     "elapsed": 7348,
     "status": "ok",
     "timestamp": 1602946819371,
     "user": {
      "displayName": "Michael Dubois",
      "photoUrl": "",
      "userId": "05084359558665777627"
     },
     "user_tz": -120
    },
    "id": "Uzo5mZSI3ClU"
   },
   "outputs": [],
   "source": [
    "# import referencement IRIS 2020\n",
    "iris_file = pd.ExcelFile(\"reference_IRIS_geo2020.xlsx\")\n",
    "ref_iris = iris_file.parse(\"Emboitements_IRIS\", skiprows=5)"
   ]
  },
  {
   "cell_type": "code",
   "execution_count": 8,
   "metadata": {
    "colab": {
     "base_uri": "https://localhost:8080/",
     "height": 307
    },
    "executionInfo": {
     "elapsed": 665,
     "status": "error",
     "timestamp": 1602947534193,
     "user": {
      "displayName": "Michael Dubois",
      "photoUrl": "",
      "userId": "05084359558665777627"
     },
     "user_tz": -120
    },
    "id": "en08aFvSE3Ux",
    "outputId": "7b567069-6938-4f14-9d06-6de894b03f40"
   },
   "outputs": [],
   "source": [
    "ref_iris.drop(\"LIB_IRIS\", axis=1, inplace=True)"
   ]
  },
  {
   "cell_type": "code",
   "execution_count": 9,
   "metadata": {
    "executionInfo": {
     "elapsed": 505,
     "status": "ok",
     "timestamp": 1602947649266,
     "user": {
      "displayName": "Michael Dubois",
      "photoUrl": "",
      "userId": "05084359558665777627"
     },
     "user_tz": -120
    },
    "id": "gl4P7oXqHls1"
   },
   "outputs": [],
   "source": [
    "ref_iris = ref_iris.rename(columns={\"DEPCOM\": \"CODE_INSEE\"})"
   ]
  },
  {
   "cell_type": "code",
   "execution_count": 10,
   "metadata": {},
   "outputs": [
    {
     "data": {
      "text/html": [
       "<div>\n",
       "<style scoped>\n",
       "    .dataframe tbody tr th:only-of-type {\n",
       "        vertical-align: middle;\n",
       "    }\n",
       "\n",
       "    .dataframe tbody tr th {\n",
       "        vertical-align: top;\n",
       "    }\n",
       "\n",
       "    .dataframe thead th {\n",
       "        text-align: right;\n",
       "    }\n",
       "</style>\n",
       "<table border=\"1\" class=\"dataframe\">\n",
       "  <thead>\n",
       "    <tr style=\"text-align: right;\">\n",
       "      <th></th>\n",
       "      <th>CODE_IRIS</th>\n",
       "      <th>TYP_IRIS</th>\n",
       "      <th>MODIF_IRIS</th>\n",
       "      <th>GRD_QUART</th>\n",
       "      <th>CODE_INSEE</th>\n",
       "      <th>LIBCOM</th>\n",
       "      <th>UU2010</th>\n",
       "      <th>REG</th>\n",
       "      <th>DEP</th>\n",
       "    </tr>\n",
       "  </thead>\n",
       "  <tbody>\n",
       "    <tr>\n",
       "      <th>0</th>\n",
       "      <td>010010000</td>\n",
       "      <td>Z</td>\n",
       "      <td>0</td>\n",
       "      <td>0100100</td>\n",
       "      <td>01001</td>\n",
       "      <td>L'Abergement-Clémenciat</td>\n",
       "      <td>01000</td>\n",
       "      <td>84</td>\n",
       "      <td>01</td>\n",
       "    </tr>\n",
       "    <tr>\n",
       "      <th>1</th>\n",
       "      <td>010020000</td>\n",
       "      <td>Z</td>\n",
       "      <td>0</td>\n",
       "      <td>0100200</td>\n",
       "      <td>01002</td>\n",
       "      <td>L'Abergement-de-Varey</td>\n",
       "      <td>01000</td>\n",
       "      <td>84</td>\n",
       "      <td>01</td>\n",
       "    </tr>\n",
       "    <tr>\n",
       "      <th>2</th>\n",
       "      <td>010040101</td>\n",
       "      <td>H</td>\n",
       "      <td>0</td>\n",
       "      <td>0100401</td>\n",
       "      <td>01004</td>\n",
       "      <td>Ambérieu-en-Bugey</td>\n",
       "      <td>01302</td>\n",
       "      <td>84</td>\n",
       "      <td>01</td>\n",
       "    </tr>\n",
       "    <tr>\n",
       "      <th>3</th>\n",
       "      <td>010040102</td>\n",
       "      <td>H</td>\n",
       "      <td>0</td>\n",
       "      <td>0100401</td>\n",
       "      <td>01004</td>\n",
       "      <td>Ambérieu-en-Bugey</td>\n",
       "      <td>01302</td>\n",
       "      <td>84</td>\n",
       "      <td>01</td>\n",
       "    </tr>\n",
       "    <tr>\n",
       "      <th>4</th>\n",
       "      <td>010040201</td>\n",
       "      <td>H</td>\n",
       "      <td>0</td>\n",
       "      <td>0100402</td>\n",
       "      <td>01004</td>\n",
       "      <td>Ambérieu-en-Bugey</td>\n",
       "      <td>01302</td>\n",
       "      <td>84</td>\n",
       "      <td>01</td>\n",
       "    </tr>\n",
       "  </tbody>\n",
       "</table>\n",
       "</div>"
      ],
      "text/plain": [
       "   CODE_IRIS TYP_IRIS  MODIF_IRIS GRD_QUART CODE_INSEE  \\\n",
       "0  010010000        Z           0   0100100      01001   \n",
       "1  010020000        Z           0   0100200      01002   \n",
       "2  010040101        H           0   0100401      01004   \n",
       "3  010040102        H           0   0100401      01004   \n",
       "4  010040201        H           0   0100402      01004   \n",
       "\n",
       "                    LIBCOM UU2010  REG DEP  \n",
       "0  L'Abergement-Clémenciat  01000   84  01  \n",
       "1    L'Abergement-de-Varey  01000   84  01  \n",
       "2        Ambérieu-en-Bugey  01302   84  01  \n",
       "3        Ambérieu-en-Bugey  01302   84  01  \n",
       "4        Ambérieu-en-Bugey  01302   84  01  "
      ]
     },
     "execution_count": 10,
     "metadata": {},
     "output_type": "execute_result"
    }
   ],
   "source": [
    "ref_iris.head()"
   ]
  },
  {
   "cell_type": "markdown",
   "metadata": {},
   "source": [
    "## Decoupage communal : https://www.insee.fr/fr/information/2028028\n",
    "### Année 2020"
   ]
  },
  {
   "cell_type": "code",
   "execution_count": 11,
   "metadata": {},
   "outputs": [],
   "source": [
    "# ajout de la colonne EPCI\n",
    "epci_file = pd.ExcelFile(\"table-appartenance-geo-communes-20_ZE2020.xlsx\")"
   ]
  },
  {
   "cell_type": "code",
   "execution_count": 12,
   "metadata": {},
   "outputs": [],
   "source": [
    "epci = epci_file.parse(\"COM\", skiprows = 5)\n",
    "epci_arm = epci_file.parse(\"ARM\", skiprows = 5)"
   ]
  },
  {
   "cell_type": "code",
   "execution_count": 13,
   "metadata": {},
   "outputs": [],
   "source": [
    "epci_arm = epci_arm[[\"CODGEO\", \"EPCI\", \"NATURE_EPCI\"]]\n",
    "epci_arm = epci_arm.rename(columns={\"CODGEO\": \"CODE_INSEE\"})"
   ]
  },
  {
   "cell_type": "code",
   "execution_count": 14,
   "metadata": {},
   "outputs": [],
   "source": [
    "epci = epci[[\"CODGEO\", \"EPCI\", \"NATURE_EPCI\"]]\n",
    "epci = epci.rename(columns={\"CODGEO\": \"CODE_INSEE\"})"
   ]
  },
  {
   "cell_type": "code",
   "execution_count": 15,
   "metadata": {},
   "outputs": [
    {
     "data": {
      "text/plain": [
       "CODE_INSEE     35013\n",
       "EPCI            1259\n",
       "NATURE_EPCI        5\n",
       "dtype: int64"
      ]
     },
     "execution_count": 15,
     "metadata": {},
     "output_type": "execute_result"
    }
   ],
   "source": [
    "# concatenation des 2 feuilles\n",
    "epci2merge = pd.concat([epci, epci_arm])\n",
    "epci2merge.nunique()  # 1259 EPCI"
   ]
  },
  {
   "cell_type": "code",
   "execution_count": 16,
   "metadata": {},
   "outputs": [],
   "source": [
    "ref_iris[\"CODE_INSEE\"] = ref_iris[\"CODE_INSEE\"].astype(str)\n",
    "epci2merge[\"CODE_INSEE\"] = epci2merge[\"CODE_INSEE\"].astype(str)"
   ]
  },
  {
   "cell_type": "code",
   "execution_count": 17,
   "metadata": {},
   "outputs": [],
   "source": [
    "# jointure\n",
    "ref_iris_insee_epci = pd.merge(ref_iris, epci2merge, on=\"CODE_INSEE\")"
   ]
  },
  {
   "cell_type": "code",
   "execution_count": 18,
   "metadata": {},
   "outputs": [
    {
     "data": {
      "text/plain": [
       "CODE_IRIS      49409\n",
       "TYP_IRIS           4\n",
       "MODIF_IRIS         3\n",
       "GRD_QUART      37323\n",
       "CODE_INSEE     35010\n",
       "LIBCOM         32746\n",
       "UU2010          2386\n",
       "REG               18\n",
       "DEP              101\n",
       "EPCI            1259\n",
       "NATURE_EPCI        5\n",
       "dtype: int64"
      ]
     },
     "execution_count": 18,
     "metadata": {},
     "output_type": "execute_result"
    }
   ],
   "source": [
    "ref_iris_insee_epci.nunique()"
   ]
  },
  {
   "cell_type": "code",
   "execution_count": 19,
   "metadata": {
    "executionInfo": {
     "elapsed": 1308,
     "status": "ok",
     "timestamp": 1602947919838,
     "user": {
      "displayName": "Michael Dubois",
      "photoUrl": "",
      "userId": "05084359558665777627"
     },
     "user_tz": -120
    },
    "id": "_MeZUm_3IGBd"
   },
   "outputs": [],
   "source": [
    "ref_iris_insee_epci = ref_iris_insee_epci[['CODE_IRIS', 'TYP_IRIS', 'CODE_INSEE', 'LIBCOM', 'EPCI', 'NATURE_EPCI', 'MODIF_IRIS', 'GRD_QUART', 'UU2010', 'REG', 'DEP']]"
   ]
  },
  {
   "cell_type": "code",
   "execution_count": 21,
   "metadata": {},
   "outputs": [
    {
     "data": {
      "text/html": [
       "<div>\n",
       "<style scoped>\n",
       "    .dataframe tbody tr th:only-of-type {\n",
       "        vertical-align: middle;\n",
       "    }\n",
       "\n",
       "    .dataframe tbody tr th {\n",
       "        vertical-align: top;\n",
       "    }\n",
       "\n",
       "    .dataframe thead th {\n",
       "        text-align: right;\n",
       "    }\n",
       "</style>\n",
       "<table border=\"1\" class=\"dataframe\">\n",
       "  <thead>\n",
       "    <tr style=\"text-align: right;\">\n",
       "      <th></th>\n",
       "      <th>CODE_IRIS</th>\n",
       "      <th>TYP_IRIS</th>\n",
       "      <th>CODE_INSEE</th>\n",
       "      <th>LIBCOM</th>\n",
       "      <th>EPCI</th>\n",
       "      <th>NATURE_EPCI</th>\n",
       "      <th>MODIF_IRIS</th>\n",
       "      <th>GRD_QUART</th>\n",
       "      <th>UU2010</th>\n",
       "      <th>REG</th>\n",
       "      <th>DEP</th>\n",
       "    </tr>\n",
       "  </thead>\n",
       "  <tbody>\n",
       "    <tr>\n",
       "      <th>0</th>\n",
       "      <td>010010000</td>\n",
       "      <td>Z</td>\n",
       "      <td>01001</td>\n",
       "      <td>L'Abergement-Clémenciat</td>\n",
       "      <td>200069193</td>\n",
       "      <td>CC</td>\n",
       "      <td>0</td>\n",
       "      <td>0100100</td>\n",
       "      <td>01000</td>\n",
       "      <td>84</td>\n",
       "      <td>01</td>\n",
       "    </tr>\n",
       "    <tr>\n",
       "      <th>1</th>\n",
       "      <td>010020000</td>\n",
       "      <td>Z</td>\n",
       "      <td>01002</td>\n",
       "      <td>L'Abergement-de-Varey</td>\n",
       "      <td>240100883</td>\n",
       "      <td>CC</td>\n",
       "      <td>0</td>\n",
       "      <td>0100200</td>\n",
       "      <td>01000</td>\n",
       "      <td>84</td>\n",
       "      <td>01</td>\n",
       "    </tr>\n",
       "    <tr>\n",
       "      <th>2</th>\n",
       "      <td>010040101</td>\n",
       "      <td>H</td>\n",
       "      <td>01004</td>\n",
       "      <td>Ambérieu-en-Bugey</td>\n",
       "      <td>240100883</td>\n",
       "      <td>CC</td>\n",
       "      <td>0</td>\n",
       "      <td>0100401</td>\n",
       "      <td>01302</td>\n",
       "      <td>84</td>\n",
       "      <td>01</td>\n",
       "    </tr>\n",
       "    <tr>\n",
       "      <th>3</th>\n",
       "      <td>010040102</td>\n",
       "      <td>H</td>\n",
       "      <td>01004</td>\n",
       "      <td>Ambérieu-en-Bugey</td>\n",
       "      <td>240100883</td>\n",
       "      <td>CC</td>\n",
       "      <td>0</td>\n",
       "      <td>0100401</td>\n",
       "      <td>01302</td>\n",
       "      <td>84</td>\n",
       "      <td>01</td>\n",
       "    </tr>\n",
       "    <tr>\n",
       "      <th>4</th>\n",
       "      <td>010040201</td>\n",
       "      <td>H</td>\n",
       "      <td>01004</td>\n",
       "      <td>Ambérieu-en-Bugey</td>\n",
       "      <td>240100883</td>\n",
       "      <td>CC</td>\n",
       "      <td>0</td>\n",
       "      <td>0100402</td>\n",
       "      <td>01302</td>\n",
       "      <td>84</td>\n",
       "      <td>01</td>\n",
       "    </tr>\n",
       "    <tr>\n",
       "      <th>...</th>\n",
       "      <td>...</td>\n",
       "      <td>...</td>\n",
       "      <td>...</td>\n",
       "      <td>...</td>\n",
       "      <td>...</td>\n",
       "      <td>...</td>\n",
       "      <td>...</td>\n",
       "      <td>...</td>\n",
       "      <td>...</td>\n",
       "      <td>...</td>\n",
       "      <td>...</td>\n",
       "    </tr>\n",
       "    <tr>\n",
       "      <th>49418</th>\n",
       "      <td>976170301</td>\n",
       "      <td>H</td>\n",
       "      <td>97617</td>\n",
       "      <td>Tsingoni</td>\n",
       "      <td>200059871</td>\n",
       "      <td>CC</td>\n",
       "      <td>0</td>\n",
       "      <td>9761703</td>\n",
       "      <td>9F209</td>\n",
       "      <td>6</td>\n",
       "      <td>976</td>\n",
       "    </tr>\n",
       "    <tr>\n",
       "      <th>49419</th>\n",
       "      <td>976170302</td>\n",
       "      <td>H</td>\n",
       "      <td>97617</td>\n",
       "      <td>Tsingoni</td>\n",
       "      <td>200059871</td>\n",
       "      <td>CC</td>\n",
       "      <td>0</td>\n",
       "      <td>9761703</td>\n",
       "      <td>9F209</td>\n",
       "      <td>6</td>\n",
       "      <td>976</td>\n",
       "    </tr>\n",
       "    <tr>\n",
       "      <th>49420</th>\n",
       "      <td>976170303</td>\n",
       "      <td>D</td>\n",
       "      <td>97617</td>\n",
       "      <td>Tsingoni</td>\n",
       "      <td>200059871</td>\n",
       "      <td>CC</td>\n",
       "      <td>0</td>\n",
       "      <td>9761703</td>\n",
       "      <td>9F209</td>\n",
       "      <td>6</td>\n",
       "      <td>976</td>\n",
       "    </tr>\n",
       "    <tr>\n",
       "      <th>49421</th>\n",
       "      <td>976170304</td>\n",
       "      <td>D</td>\n",
       "      <td>97617</td>\n",
       "      <td>Tsingoni</td>\n",
       "      <td>200059871</td>\n",
       "      <td>CC</td>\n",
       "      <td>0</td>\n",
       "      <td>9761703</td>\n",
       "      <td>9F209</td>\n",
       "      <td>6</td>\n",
       "      <td>976</td>\n",
       "    </tr>\n",
       "    <tr>\n",
       "      <th>49422</th>\n",
       "      <td>976170400</td>\n",
       "      <td>H</td>\n",
       "      <td>97617</td>\n",
       "      <td>Tsingoni</td>\n",
       "      <td>200059871</td>\n",
       "      <td>CC</td>\n",
       "      <td>0</td>\n",
       "      <td>9761704</td>\n",
       "      <td>9F209</td>\n",
       "      <td>6</td>\n",
       "      <td>976</td>\n",
       "    </tr>\n",
       "  </tbody>\n",
       "</table>\n",
       "<p>49423 rows × 11 columns</p>\n",
       "</div>"
      ],
      "text/plain": [
       "       CODE_IRIS TYP_IRIS CODE_INSEE                   LIBCOM       EPCI  \\\n",
       "0      010010000        Z      01001  L'Abergement-Clémenciat  200069193   \n",
       "1      010020000        Z      01002    L'Abergement-de-Varey  240100883   \n",
       "2      010040101        H      01004        Ambérieu-en-Bugey  240100883   \n",
       "3      010040102        H      01004        Ambérieu-en-Bugey  240100883   \n",
       "4      010040201        H      01004        Ambérieu-en-Bugey  240100883   \n",
       "...          ...      ...        ...                      ...        ...   \n",
       "49418  976170301        H      97617                 Tsingoni  200059871   \n",
       "49419  976170302        H      97617                 Tsingoni  200059871   \n",
       "49420  976170303        D      97617                 Tsingoni  200059871   \n",
       "49421  976170304        D      97617                 Tsingoni  200059871   \n",
       "49422  976170400        H      97617                 Tsingoni  200059871   \n",
       "\n",
       "      NATURE_EPCI  MODIF_IRIS GRD_QUART UU2010  REG  DEP  \n",
       "0              CC           0   0100100  01000   84   01  \n",
       "1              CC           0   0100200  01000   84   01  \n",
       "2              CC           0   0100401  01302   84   01  \n",
       "3              CC           0   0100401  01302   84   01  \n",
       "4              CC           0   0100402  01302   84   01  \n",
       "...           ...         ...       ...    ...  ...  ...  \n",
       "49418          CC           0   9761703  9F209    6  976  \n",
       "49419          CC           0   9761703  9F209    6  976  \n",
       "49420          CC           0   9761703  9F209    6  976  \n",
       "49421          CC           0   9761703  9F209    6  976  \n",
       "49422          CC           0   9761704  9F209    6  976  \n",
       "\n",
       "[49423 rows x 11 columns]"
      ]
     },
     "execution_count": 21,
     "metadata": {},
     "output_type": "execute_result"
    }
   ],
   "source": [
    "ref_iris_insee_epci"
   ]
  },
  {
   "cell_type": "code",
   "execution_count": 22,
   "metadata": {},
   "outputs": [
    {
     "data": {
      "text/plain": [
       "CODE_IRIS      0\n",
       "TYP_IRIS       0\n",
       "CODE_INSEE     0\n",
       "LIBCOM         0\n",
       "EPCI           0\n",
       "NATURE_EPCI    0\n",
       "MODIF_IRIS     0\n",
       "GRD_QUART      0\n",
       "UU2010         0\n",
       "REG            0\n",
       "DEP            0\n",
       "dtype: int64"
      ]
     },
     "execution_count": 22,
     "metadata": {},
     "output_type": "execute_result"
    }
   ],
   "source": [
    "ref_iris_insee_epci.isna().sum() # tout semble Ok"
   ]
  },
  {
   "cell_type": "code",
   "execution_count": 23,
   "metadata": {
    "executionInfo": {
     "elapsed": 707,
     "status": "ok",
     "timestamp": 1602948006868,
     "user": {
      "displayName": "Michael Dubois",
      "photoUrl": "",
      "userId": "05084359558665777627"
     },
     "user_tz": -120
    },
    "id": "eYra5T8PJRMK"
   },
   "outputs": [],
   "source": [
    "ref_iris_insee_epci.to_csv(\"table_iris_insee_epci.csv\") # table de correspondance IRIS / INSEE / EPCI"
   ]
  }
 ],
 "metadata": {
  "colab": {
   "authorship_tag": "ABX9TyPgnxbf3+x7mviCMNon87SV",
   "collapsed_sections": [],
   "name": "Untitled",
   "provenance": [],
   "toc_visible": true
  },
  "kernelspec": {
   "display_name": "Python 3",
   "language": "python",
   "name": "python3"
  },
  "language_info": {
   "codemirror_mode": {
    "name": "ipython",
    "version": 3
   },
   "file_extension": ".py",
   "mimetype": "text/x-python",
   "name": "python",
   "nbconvert_exporter": "python",
   "pygments_lexer": "ipython3",
   "version": "3.7.8"
  }
 },
 "nbformat": 4,
 "nbformat_minor": 1
}
