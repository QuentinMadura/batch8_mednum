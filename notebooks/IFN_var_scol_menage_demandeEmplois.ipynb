{
  "nbformat": 4,
  "nbformat_minor": 0,
  "metadata": {
    "kernelspec": {
      "display_name": "Python 3",
      "language": "python",
      "name": "python3"
    },
    "language_info": {
      "codemirror_mode": {
        "name": "ipython",
        "version": 3
      },
      "file_extension": ".py",
      "mimetype": "text/x-python",
      "name": "python",
      "nbconvert_exporter": "python",
      "pygments_lexer": "ipython3",
      "version": "3.7.9"
    },
    "colab": {
      "name": "Pre-processing - Cécile.ipynb",
      "provenance": [],
      "collapsed_sections": []
    }
  },
  "cells": [
    {
      "cell_type": "markdown",
      "metadata": {
        "id": "RwF7q3_y4dOR"
      },
      "source": [
        "#Pré-processing des données : Indice de fragilité numérique"
      ]
    },
    {
      "cell_type": "markdown",
      "metadata": {
        "id": "UNGXGXs443q1"
      },
      "source": [
        "Avant de commencer à construire l'indice de fragilité numérique, la première étape est de mettre à jour les données utilisées et de faire les calculs nécessaires aux différentes variables de cet indice. "
      ]
    },
    {
      "cell_type": "code",
      "metadata": {
        "id": "3sHbMPxELKC4",
        "outputId": "b5fca2d8-8ca8-4640-f25b-946038d9adf8",
        "colab": {
          "base_uri": "https://localhost:8080/",
          "height": 56
        }
      },
      "source": [
        "# connexion à Google Drive pour importer les dossiers\n",
        "from google.colab import drive\n",
        "drive.mount('/content/drive')"
      ],
      "execution_count": null,
      "outputs": [
        {
          "output_type": "stream",
          "text": [
            "Drive already mounted at /content/drive; to attempt to forcibly remount, call drive.mount(\"/content/drive\", force_remount=True).\n"
          ],
          "name": "stdout"
        }
      ]
    },
    {
      "cell_type": "code",
      "metadata": {
        "id": "e_ljAocbK7TB"
      },
      "source": [
        "import pandas as pd\n",
        "import numpy as np"
      ],
      "execution_count": null,
      "outputs": []
    },
    {
      "cell_type": "markdown",
      "metadata": {
        "id": "EniNJ0KwDGnn"
      },
      "source": [
        "## 1. Taux de plus de 60 ans, taux de ménages d'une personne et taux de familles monoparentales"
      ]
    },
    {
      "cell_type": "code",
      "metadata": {
        "id": "lNc3QrxbK7TN",
        "outputId": "f93e1649-cfbe-4a63-823d-92187e9f287f",
        "colab": {
          "base_uri": "https://localhost:8080/",
          "height": 293
        }
      },
      "source": [
        "# Chargement des données démographiques\n",
        "compo_menage = pd.read_csv('/content/drive/My Drive/Data4Good/8_Mednum/base-cc-coupl-fam-men-2017.CSV', sep=';')\n",
        "compo_menage_2 = pd.read_csv('/content/drive/My Drive/Data4Good/8_Mednum/base-cc-coupl-fam-men-2017-COM.CSV', sep=\";\")\n",
        "compo_menage = compo_menage.append(compo_menage_2).reset_index()\n",
        "compo_menage.head()"
      ],
      "execution_count": null,
      "outputs": [
        {
          "output_type": "stream",
          "text": [
            "/usr/local/lib/python3.6/dist-packages/IPython/core/interactiveshell.py:2718: DtypeWarning: Columns (0) have mixed types.Specify dtype option on import or set low_memory=False.\n",
            "  interactivity=interactivity, compiler=compiler, result=result)\n"
          ],
          "name": "stderr"
        },
        {
          "output_type": "execute_result",
          "data": {
            "text/html": [
              "<div>\n",
              "<style scoped>\n",
              "    .dataframe tbody tr th:only-of-type {\n",
              "        vertical-align: middle;\n",
              "    }\n",
              "\n",
              "    .dataframe tbody tr th {\n",
              "        vertical-align: top;\n",
              "    }\n",
              "\n",
              "    .dataframe thead th {\n",
              "        text-align: right;\n",
              "    }\n",
              "</style>\n",
              "<table border=\"1\" class=\"dataframe\">\n",
              "  <thead>\n",
              "    <tr style=\"text-align: right;\">\n",
              "      <th></th>\n",
              "      <th>index</th>\n",
              "      <th>CODGEO</th>\n",
              "      <th>C17_MEN</th>\n",
              "      <th>C17_MENPSEUL</th>\n",
              "      <th>C17_MENHSEUL</th>\n",
              "      <th>C17_MENFSEUL</th>\n",
              "      <th>C17_MENSFAM</th>\n",
              "      <th>C17_MENFAM</th>\n",
              "      <th>C17_MENCOUPSENF</th>\n",
              "      <th>C17_MENCOUPAENF</th>\n",
              "      <th>C17_MENFAMMONO</th>\n",
              "      <th>C17_PMEN</th>\n",
              "      <th>C17_PMEN_MENPSEUL</th>\n",
              "      <th>C17_PMEN_MENHSEUL</th>\n",
              "      <th>C17_PMEN_MENFSEUL</th>\n",
              "      <th>C17_PMEN_MENSFAM</th>\n",
              "      <th>C17_PMEN_MENFAM</th>\n",
              "      <th>C17_PMEN_MENCOUPSENF</th>\n",
              "      <th>C17_PMEN_MENCOUPAENF</th>\n",
              "      <th>C17_PMEN_MENFAMMONO</th>\n",
              "      <th>P17_POP15P</th>\n",
              "      <th>P17_POP1519</th>\n",
              "      <th>P17_POP2024</th>\n",
              "      <th>P17_POP2539</th>\n",
              "      <th>P17_POP4054</th>\n",
              "      <th>P17_POP5564</th>\n",
              "      <th>P17_POP6579</th>\n",
              "      <th>P17_POP80P</th>\n",
              "      <th>P17_POPMEN1519</th>\n",
              "      <th>P17_POPMEN2024</th>\n",
              "      <th>P17_POPMEN2539</th>\n",
              "      <th>P17_POPMEN4054</th>\n",
              "      <th>P17_POPMEN5564</th>\n",
              "      <th>P17_POPMEN6579</th>\n",
              "      <th>P17_POPMEN80P</th>\n",
              "      <th>P17_POP1519_PSEUL</th>\n",
              "      <th>P17_POP2024_PSEUL</th>\n",
              "      <th>P17_POP2539_PSEUL</th>\n",
              "      <th>P17_POP4054_PSEUL</th>\n",
              "      <th>P17_POP5564_PSEUL</th>\n",
              "      <th>...</th>\n",
              "      <th>P07_POP6579_PSEUL</th>\n",
              "      <th>P07_POP80P_PSEUL</th>\n",
              "      <th>P07_POP1519_COUPLE</th>\n",
              "      <th>P07_POP2024_COUPLE</th>\n",
              "      <th>P07_POP2539_COUPLE</th>\n",
              "      <th>P07_POP4054_COUPLE</th>\n",
              "      <th>P07_POP5564_COUPLE</th>\n",
              "      <th>P07_POP6579_COUPLE</th>\n",
              "      <th>P07_POP80P_COUPLE</th>\n",
              "      <th>P07_POP15P_MARIE</th>\n",
              "      <th>P07_POP15P_CELIB</th>\n",
              "      <th>P07_POP15P_VEUF</th>\n",
              "      <th>P07_POP15P_DIVOR</th>\n",
              "      <th>C07_MEN_CS1</th>\n",
              "      <th>C07_MEN_CS2</th>\n",
              "      <th>C07_MEN_CS3</th>\n",
              "      <th>C07_MEN_CS4</th>\n",
              "      <th>C07_MEN_CS5</th>\n",
              "      <th>C07_MEN_CS6</th>\n",
              "      <th>C07_MEN_CS7</th>\n",
              "      <th>C07_MEN_CS8</th>\n",
              "      <th>C07_PMEN_CS1</th>\n",
              "      <th>C07_PMEN_CS2</th>\n",
              "      <th>C07_PMEN_CS3</th>\n",
              "      <th>C07_PMEN_CS4</th>\n",
              "      <th>C07_PMEN_CS5</th>\n",
              "      <th>C07_PMEN_CS6</th>\n",
              "      <th>C07_PMEN_CS7</th>\n",
              "      <th>C07_PMEN_CS8</th>\n",
              "      <th>C07_FAM</th>\n",
              "      <th>C07_COUPAENF</th>\n",
              "      <th>C07_FAMMONO</th>\n",
              "      <th>C07_HMONO</th>\n",
              "      <th>C07_FMONO</th>\n",
              "      <th>C07_COUPSENF</th>\n",
              "      <th>C07_NE24F0</th>\n",
              "      <th>C07_NE24F1</th>\n",
              "      <th>C07_NE24F2</th>\n",
              "      <th>C07_NE24F3</th>\n",
              "      <th>C07_NE24F4P</th>\n",
              "    </tr>\n",
              "  </thead>\n",
              "  <tbody>\n",
              "    <tr>\n",
              "      <th>0</th>\n",
              "      <td>0</td>\n",
              "      <td>1001</td>\n",
              "      <td>315.154412</td>\n",
              "      <td>71.929625</td>\n",
              "      <td>35.964813</td>\n",
              "      <td>35.964813</td>\n",
              "      <td>5.100362</td>\n",
              "      <td>238.124424</td>\n",
              "      <td>112.207972</td>\n",
              "      <td>110.689754</td>\n",
              "      <td>15.226698</td>\n",
              "      <td>774.254876</td>\n",
              "      <td>71.929625</td>\n",
              "      <td>35.964813</td>\n",
              "      <td>35.964813</td>\n",
              "      <td>10.200725</td>\n",
              "      <td>692.124526</td>\n",
              "      <td>224.415944</td>\n",
              "      <td>427.128852</td>\n",
              "      <td>40.579730</td>\n",
              "      <td>614.445217</td>\n",
              "      <td>51.313236</td>\n",
              "      <td>18.176249</td>\n",
              "      <td>106.958342</td>\n",
              "      <td>195.068521</td>\n",
              "      <td>96.818491</td>\n",
              "      <td>113.392959</td>\n",
              "      <td>32.717419</td>\n",
              "      <td>51.313236</td>\n",
              "      <td>18.176249</td>\n",
              "      <td>106.958342</td>\n",
              "      <td>195.068521</td>\n",
              "      <td>96.818491</td>\n",
              "      <td>113.392959</td>\n",
              "      <td>32.717419</td>\n",
              "      <td>0.000000</td>\n",
              "      <td>0.000000</td>\n",
              "      <td>7.192963</td>\n",
              "      <td>11.303227</td>\n",
              "      <td>13.358359</td>\n",
              "      <td>...</td>\n",
              "      <td>17.851486</td>\n",
              "      <td>8.925743</td>\n",
              "      <td>0.000000</td>\n",
              "      <td>4.958746</td>\n",
              "      <td>144.795383</td>\n",
              "      <td>137.853139</td>\n",
              "      <td>86.282181</td>\n",
              "      <td>57.521454</td>\n",
              "      <td>11.900990</td>\n",
              "      <td>364.963706</td>\n",
              "      <td>179.506605</td>\n",
              "      <td>34.711222</td>\n",
              "      <td>39.669968</td>\n",
              "      <td>7.933994</td>\n",
              "      <td>11.900990</td>\n",
              "      <td>23.801981</td>\n",
              "      <td>55.537955</td>\n",
              "      <td>15.867987</td>\n",
              "      <td>63.471949</td>\n",
              "      <td>107.108914</td>\n",
              "      <td>11.900990</td>\n",
              "      <td>27.768978</td>\n",
              "      <td>19.834984</td>\n",
              "      <td>91.240927</td>\n",
              "      <td>162.646869</td>\n",
              "      <td>51.570958</td>\n",
              "      <td>222.151821</td>\n",
              "      <td>198.349840</td>\n",
              "      <td>27.768978</td>\n",
              "      <td>238.019808</td>\n",
              "      <td>119.009904</td>\n",
              "      <td>27.768978</td>\n",
              "      <td>19.834984</td>\n",
              "      <td>7.933994</td>\n",
              "      <td>91.240927</td>\n",
              "      <td>99.174920</td>\n",
              "      <td>55.537955</td>\n",
              "      <td>63.471949</td>\n",
              "      <td>15.867987</td>\n",
              "      <td>3.966997</td>\n",
              "    </tr>\n",
              "    <tr>\n",
              "      <th>1</th>\n",
              "      <td>1</td>\n",
              "      <td>1002</td>\n",
              "      <td>107.160494</td>\n",
              "      <td>30.617284</td>\n",
              "      <td>25.514403</td>\n",
              "      <td>5.102881</td>\n",
              "      <td>0.000000</td>\n",
              "      <td>76.543210</td>\n",
              "      <td>35.720165</td>\n",
              "      <td>35.720165</td>\n",
              "      <td>5.102881</td>\n",
              "      <td>265.349794</td>\n",
              "      <td>30.617284</td>\n",
              "      <td>25.514403</td>\n",
              "      <td>5.102881</td>\n",
              "      <td>0.000000</td>\n",
              "      <td>234.732510</td>\n",
              "      <td>71.440329</td>\n",
              "      <td>147.983539</td>\n",
              "      <td>15.308642</td>\n",
              "      <td>191.868313</td>\n",
              "      <td>11.226337</td>\n",
              "      <td>4.082305</td>\n",
              "      <td>55.111111</td>\n",
              "      <td>51.028807</td>\n",
              "      <td>25.514403</td>\n",
              "      <td>33.679012</td>\n",
              "      <td>11.226337</td>\n",
              "      <td>11.226337</td>\n",
              "      <td>4.082305</td>\n",
              "      <td>55.111111</td>\n",
              "      <td>51.028807</td>\n",
              "      <td>25.514403</td>\n",
              "      <td>33.679012</td>\n",
              "      <td>11.226337</td>\n",
              "      <td>0.000000</td>\n",
              "      <td>0.000000</td>\n",
              "      <td>4.082305</td>\n",
              "      <td>6.123457</td>\n",
              "      <td>2.041152</td>\n",
              "      <td>...</td>\n",
              "      <td>6.882328</td>\n",
              "      <td>2.949569</td>\n",
              "      <td>0.000000</td>\n",
              "      <td>0.983190</td>\n",
              "      <td>41.293971</td>\n",
              "      <td>25.562934</td>\n",
              "      <td>16.714226</td>\n",
              "      <td>16.714226</td>\n",
              "      <td>5.899139</td>\n",
              "      <td>77.671993</td>\n",
              "      <td>51.125868</td>\n",
              "      <td>8.848708</td>\n",
              "      <td>13.764657</td>\n",
              "      <td>3.932759</td>\n",
              "      <td>3.932759</td>\n",
              "      <td>11.798277</td>\n",
              "      <td>15.731036</td>\n",
              "      <td>0.000000</td>\n",
              "      <td>15.731036</td>\n",
              "      <td>35.394832</td>\n",
              "      <td>0.000000</td>\n",
              "      <td>15.731036</td>\n",
              "      <td>15.731036</td>\n",
              "      <td>19.663796</td>\n",
              "      <td>35.394832</td>\n",
              "      <td>0.000000</td>\n",
              "      <td>39.327591</td>\n",
              "      <td>66.856905</td>\n",
              "      <td>0.000000</td>\n",
              "      <td>58.991387</td>\n",
              "      <td>31.462073</td>\n",
              "      <td>3.932759</td>\n",
              "      <td>3.932759</td>\n",
              "      <td>0.000000</td>\n",
              "      <td>23.596555</td>\n",
              "      <td>31.462073</td>\n",
              "      <td>11.798277</td>\n",
              "      <td>15.731036</td>\n",
              "      <td>0.000000</td>\n",
              "      <td>0.000000</td>\n",
              "    </tr>\n",
              "    <tr>\n",
              "      <th>2</th>\n",
              "      <td>2</td>\n",
              "      <td>1004</td>\n",
              "      <td>6405.910326</td>\n",
              "      <td>2659.428492</td>\n",
              "      <td>1207.832644</td>\n",
              "      <td>1451.595848</td>\n",
              "      <td>92.821886</td>\n",
              "      <td>3653.659948</td>\n",
              "      <td>1490.158562</td>\n",
              "      <td>1509.068222</td>\n",
              "      <td>654.433164</td>\n",
              "      <td>13539.100310</td>\n",
              "      <td>2659.428492</td>\n",
              "      <td>1207.832644</td>\n",
              "      <td>1451.595848</td>\n",
              "      <td>212.639705</td>\n",
              "      <td>10667.032114</td>\n",
              "      <td>3026.023009</td>\n",
              "      <td>5967.743080</td>\n",
              "      <td>1673.266025</td>\n",
              "      <td>11309.467304</td>\n",
              "      <td>1036.882405</td>\n",
              "      <td>842.752556</td>\n",
              "      <td>2983.514483</td>\n",
              "      <td>2549.754986</td>\n",
              "      <td>1551.667575</td>\n",
              "      <td>1586.176459</td>\n",
              "      <td>758.718840</td>\n",
              "      <td>950.416782</td>\n",
              "      <td>793.426970</td>\n",
              "      <td>2903.863393</td>\n",
              "      <td>2509.776506</td>\n",
              "      <td>1538.716113</td>\n",
              "      <td>1541.438539</td>\n",
              "      <td>635.564924</td>\n",
              "      <td>90.764616</td>\n",
              "      <td>154.317972</td>\n",
              "      <td>573.969561</td>\n",
              "      <td>503.884102</td>\n",
              "      <td>414.584517</td>\n",
              "      <td>...</td>\n",
              "      <td>360.782918</td>\n",
              "      <td>252.501736</td>\n",
              "      <td>28.169137</td>\n",
              "      <td>311.140466</td>\n",
              "      <td>1776.508503</td>\n",
              "      <td>1819.063085</td>\n",
              "      <td>991.680713</td>\n",
              "      <td>912.017448</td>\n",
              "      <td>211.612379</td>\n",
              "      <td>4946.599229</td>\n",
              "      <td>3640.562593</td>\n",
              "      <td>805.513617</td>\n",
              "      <td>928.018569</td>\n",
              "      <td>0.000000</td>\n",
              "      <td>176.876940</td>\n",
              "      <td>455.649696</td>\n",
              "      <td>916.598986</td>\n",
              "      <td>697.704688</td>\n",
              "      <td>1293.170060</td>\n",
              "      <td>1659.057668</td>\n",
              "      <td>266.454759</td>\n",
              "      <td>0.000000</td>\n",
              "      <td>544.329226</td>\n",
              "      <td>1364.921469</td>\n",
              "      <td>2189.104098</td>\n",
              "      <td>1538.802502</td>\n",
              "      <td>3268.330873</td>\n",
              "      <td>2755.348988</td>\n",
              "      <td>583.718310</td>\n",
              "      <td>3433.897679</td>\n",
              "      <td>1431.949014</td>\n",
              "      <td>512.331482</td>\n",
              "      <td>69.374672</td>\n",
              "      <td>442.956810</td>\n",
              "      <td>1489.617182</td>\n",
              "      <td>1632.483842</td>\n",
              "      <td>776.942502</td>\n",
              "      <td>630.333691</td>\n",
              "      <td>295.807389</td>\n",
              "      <td>98.330254</td>\n",
              "    </tr>\n",
              "    <tr>\n",
              "      <th>3</th>\n",
              "      <td>3</td>\n",
              "      <td>1005</td>\n",
              "      <td>636.197591</td>\n",
              "      <td>134.086315</td>\n",
              "      <td>80.451789</td>\n",
              "      <td>53.634526</td>\n",
              "      <td>5.298234</td>\n",
              "      <td>496.813042</td>\n",
              "      <td>201.268460</td>\n",
              "      <td>253.542925</td>\n",
              "      <td>42.001657</td>\n",
              "      <td>1663.687004</td>\n",
              "      <td>134.086315</td>\n",
              "      <td>80.451789</td>\n",
              "      <td>53.634526</td>\n",
              "      <td>10.596468</td>\n",
              "      <td>1519.004222</td>\n",
              "      <td>407.770727</td>\n",
              "      <td>996.206864</td>\n",
              "      <td>115.026631</td>\n",
              "      <td>1344.987086</td>\n",
              "      <td>99.149469</td>\n",
              "      <td>87.186728</td>\n",
              "      <td>290.320733</td>\n",
              "      <td>389.858664</td>\n",
              "      <td>216.354462</td>\n",
              "      <td>200.447239</td>\n",
              "      <td>61.669791</td>\n",
              "      <td>99.149469</td>\n",
              "      <td>87.186728</td>\n",
              "      <td>290.320733</td>\n",
              "      <td>389.858664</td>\n",
              "      <td>216.354462</td>\n",
              "      <td>200.447239</td>\n",
              "      <td>61.669791</td>\n",
              "      <td>0.000000</td>\n",
              "      <td>3.218072</td>\n",
              "      <td>16.090358</td>\n",
              "      <td>26.817263</td>\n",
              "      <td>28.962644</td>\n",
              "      <td>...</td>\n",
              "      <td>31.053539</td>\n",
              "      <td>19.274611</td>\n",
              "      <td>0.000000</td>\n",
              "      <td>17.132987</td>\n",
              "      <td>240.932631</td>\n",
              "      <td>299.827275</td>\n",
              "      <td>147.772014</td>\n",
              "      <td>98.514676</td>\n",
              "      <td>16.062175</td>\n",
              "      <td>701.310849</td>\n",
              "      <td>380.138152</td>\n",
              "      <td>68.531949</td>\n",
              "      <td>55.682208</td>\n",
              "      <td>12.849740</td>\n",
              "      <td>42.832468</td>\n",
              "      <td>21.416234</td>\n",
              "      <td>85.664936</td>\n",
              "      <td>25.699481</td>\n",
              "      <td>158.480131</td>\n",
              "      <td>175.613118</td>\n",
              "      <td>29.982727</td>\n",
              "      <td>38.549221</td>\n",
              "      <td>154.196884</td>\n",
              "      <td>89.948182</td>\n",
              "      <td>269.844547</td>\n",
              "      <td>107.081170</td>\n",
              "      <td>526.839354</td>\n",
              "      <td>299.827275</td>\n",
              "      <td>47.115715</td>\n",
              "      <td>441.174419</td>\n",
              "      <td>252.711560</td>\n",
              "      <td>42.832468</td>\n",
              "      <td>17.132987</td>\n",
              "      <td>25.699481</td>\n",
              "      <td>145.630391</td>\n",
              "      <td>179.896365</td>\n",
              "      <td>77.098442</td>\n",
              "      <td>119.930910</td>\n",
              "      <td>55.682208</td>\n",
              "      <td>8.566494</td>\n",
              "    </tr>\n",
              "    <tr>\n",
              "      <th>4</th>\n",
              "      <td>4</td>\n",
              "      <td>1006</td>\n",
              "      <td>55.500000</td>\n",
              "      <td>20.181818</td>\n",
              "      <td>5.045455</td>\n",
              "      <td>15.136364</td>\n",
              "      <td>0.000000</td>\n",
              "      <td>35.318182</td>\n",
              "      <td>20.181818</td>\n",
              "      <td>10.090909</td>\n",
              "      <td>5.045455</td>\n",
              "      <td>105.954545</td>\n",
              "      <td>20.181818</td>\n",
              "      <td>5.045455</td>\n",
              "      <td>15.136364</td>\n",
              "      <td>0.000000</td>\n",
              "      <td>85.772727</td>\n",
              "      <td>40.363636</td>\n",
              "      <td>35.318182</td>\n",
              "      <td>10.090909</td>\n",
              "      <td>98.890909</td>\n",
              "      <td>3.027273</td>\n",
              "      <td>7.063636</td>\n",
              "      <td>15.136364</td>\n",
              "      <td>28.254545</td>\n",
              "      <td>19.172727</td>\n",
              "      <td>18.163636</td>\n",
              "      <td>8.072727</td>\n",
              "      <td>3.027273</td>\n",
              "      <td>7.063636</td>\n",
              "      <td>15.136364</td>\n",
              "      <td>28.254545</td>\n",
              "      <td>19.172727</td>\n",
              "      <td>18.163636</td>\n",
              "      <td>8.072727</td>\n",
              "      <td>0.000000</td>\n",
              "      <td>1.009091</td>\n",
              "      <td>4.036364</td>\n",
              "      <td>2.018182</td>\n",
              "      <td>7.063636</td>\n",
              "      <td>...</td>\n",
              "      <td>4.179697</td>\n",
              "      <td>3.134773</td>\n",
              "      <td>0.000000</td>\n",
              "      <td>0.000000</td>\n",
              "      <td>18.808635</td>\n",
              "      <td>20.898483</td>\n",
              "      <td>10.449242</td>\n",
              "      <td>14.628938</td>\n",
              "      <td>2.089848</td>\n",
              "      <td>59.560678</td>\n",
              "      <td>27.168028</td>\n",
              "      <td>10.449242</td>\n",
              "      <td>7.314469</td>\n",
              "      <td>0.000000</td>\n",
              "      <td>0.000000</td>\n",
              "      <td>4.179697</td>\n",
              "      <td>16.718787</td>\n",
              "      <td>0.000000</td>\n",
              "      <td>12.539090</td>\n",
              "      <td>16.718787</td>\n",
              "      <td>4.179697</td>\n",
              "      <td>0.000000</td>\n",
              "      <td>0.000000</td>\n",
              "      <td>4.179697</td>\n",
              "      <td>37.617270</td>\n",
              "      <td>0.000000</td>\n",
              "      <td>41.796967</td>\n",
              "      <td>29.257877</td>\n",
              "      <td>4.179697</td>\n",
              "      <td>33.437574</td>\n",
              "      <td>16.718787</td>\n",
              "      <td>0.000000</td>\n",
              "      <td>0.000000</td>\n",
              "      <td>0.000000</td>\n",
              "      <td>16.718787</td>\n",
              "      <td>16.718787</td>\n",
              "      <td>8.359393</td>\n",
              "      <td>4.179697</td>\n",
              "      <td>4.179697</td>\n",
              "      <td>0.000000</td>\n",
              "    </tr>\n",
              "  </tbody>\n",
              "</table>\n",
              "<p>5 rows × 238 columns</p>\n",
              "</div>"
            ],
            "text/plain": [
              "   index CODGEO      C17_MEN  ...  C07_NE24F2  C07_NE24F3  C07_NE24F4P\n",
              "0      0   1001   315.154412  ...   63.471949   15.867987     3.966997\n",
              "1      1   1002   107.160494  ...   15.731036    0.000000     0.000000\n",
              "2      2   1004  6405.910326  ...  630.333691  295.807389    98.330254\n",
              "3      3   1005   636.197591  ...  119.930910   55.682208     8.566494\n",
              "4      4   1006    55.500000  ...    4.179697    4.179697     0.000000\n",
              "\n",
              "[5 rows x 238 columns]"
            ]
          },
          "metadata": {
            "tags": []
          },
          "execution_count": 3
        }
      ]
    },
    {
      "cell_type": "code",
      "metadata": {
        "id": "ncc19-tC2P7T",
        "outputId": "7397403e-1e22-4448-8010-874262b0d0be",
        "colab": {
          "base_uri": "https://localhost:8080/",
          "height": 36
        }
      },
      "source": [
        "compo_menage.shape"
      ],
      "execution_count": null,
      "outputs": [
        {
          "output_type": "execute_result",
          "data": {
            "text/plain": [
              "(35000, 238)"
            ]
          },
          "metadata": {
            "tags": []
          },
          "execution_count": 4
        }
      ]
    },
    {
      "cell_type": "code",
      "metadata": {
        "id": "tpENRMoBgZE3"
      },
      "source": [
        "compo_menage = compo_menage[['CODGEO','C17_MEN', 'C17_MENPSEUL', 'C17_MENFAMMONO', 'P17_POP15P','P17_POP6579', 'P17_POP80P']]\n",
        "compo_menage['TX_MENSEUL'] = (compo_menage['C17_MENPSEUL'] / compo_menage['C17_MEN']) * 100\n",
        "compo_menage['TX_FAMMONO'] = (compo_menage['C17_MENFAMMONO'] / compo_menage['C17_MEN']) * 100\n",
        "compo_menage['TX_65ETPLUS'] = ((compo_menage['P17_POP6579'] + compo_menage['P17_POP80P']) / compo_menage['P17_POP15P']) * 100"
      ],
      "execution_count": null,
      "outputs": []
    },
    {
      "cell_type": "code",
      "metadata": {
        "id": "7UZbOJvqhPEG",
        "outputId": "5c7915b4-9196-4c8b-9643-58bfa4541f60",
        "colab": {
          "base_uri": "https://localhost:8080/",
          "height": 206
        }
      },
      "source": [
        "compo_menage.head()"
      ],
      "execution_count": null,
      "outputs": [
        {
          "output_type": "execute_result",
          "data": {
            "text/html": [
              "<div>\n",
              "<style scoped>\n",
              "    .dataframe tbody tr th:only-of-type {\n",
              "        vertical-align: middle;\n",
              "    }\n",
              "\n",
              "    .dataframe tbody tr th {\n",
              "        vertical-align: top;\n",
              "    }\n",
              "\n",
              "    .dataframe thead th {\n",
              "        text-align: right;\n",
              "    }\n",
              "</style>\n",
              "<table border=\"1\" class=\"dataframe\">\n",
              "  <thead>\n",
              "    <tr style=\"text-align: right;\">\n",
              "      <th></th>\n",
              "      <th>CODGEO</th>\n",
              "      <th>C17_MEN</th>\n",
              "      <th>C17_MENPSEUL</th>\n",
              "      <th>C17_MENFAMMONO</th>\n",
              "      <th>P17_POP15P</th>\n",
              "      <th>P17_POP6579</th>\n",
              "      <th>P17_POP80P</th>\n",
              "      <th>TX_MENSEUL</th>\n",
              "      <th>TX_FAMMONO</th>\n",
              "      <th>TX_65ETPLUS</th>\n",
              "    </tr>\n",
              "  </thead>\n",
              "  <tbody>\n",
              "    <tr>\n",
              "      <th>0</th>\n",
              "      <td>1001</td>\n",
              "      <td>315.154412</td>\n",
              "      <td>71.929625</td>\n",
              "      <td>15.226698</td>\n",
              "      <td>614.445217</td>\n",
              "      <td>113.392959</td>\n",
              "      <td>32.717419</td>\n",
              "      <td>22.823614</td>\n",
              "      <td>4.831504</td>\n",
              "      <td>23.779236</td>\n",
              "    </tr>\n",
              "    <tr>\n",
              "      <th>1</th>\n",
              "      <td>1002</td>\n",
              "      <td>107.160494</td>\n",
              "      <td>30.617284</td>\n",
              "      <td>5.102881</td>\n",
              "      <td>191.868313</td>\n",
              "      <td>33.679012</td>\n",
              "      <td>11.226337</td>\n",
              "      <td>28.571429</td>\n",
              "      <td>4.761905</td>\n",
              "      <td>23.404255</td>\n",
              "    </tr>\n",
              "    <tr>\n",
              "      <th>2</th>\n",
              "      <td>1004</td>\n",
              "      <td>6405.910326</td>\n",
              "      <td>2659.428492</td>\n",
              "      <td>654.433164</td>\n",
              "      <td>11309.467304</td>\n",
              "      <td>1586.176459</td>\n",
              "      <td>758.718840</td>\n",
              "      <td>41.515231</td>\n",
              "      <td>10.216084</td>\n",
              "      <td>20.733915</td>\n",
              "    </tr>\n",
              "    <tr>\n",
              "      <th>3</th>\n",
              "      <td>1005</td>\n",
              "      <td>636.197591</td>\n",
              "      <td>134.086315</td>\n",
              "      <td>42.001657</td>\n",
              "      <td>1344.987086</td>\n",
              "      <td>200.447239</td>\n",
              "      <td>61.669791</td>\n",
              "      <td>21.076206</td>\n",
              "      <td>6.601983</td>\n",
              "      <td>19.488442</td>\n",
              "    </tr>\n",
              "    <tr>\n",
              "      <th>4</th>\n",
              "      <td>1006</td>\n",
              "      <td>55.500000</td>\n",
              "      <td>20.181818</td>\n",
              "      <td>5.045455</td>\n",
              "      <td>98.890909</td>\n",
              "      <td>18.163636</td>\n",
              "      <td>8.072727</td>\n",
              "      <td>36.363636</td>\n",
              "      <td>9.090909</td>\n",
              "      <td>26.530612</td>\n",
              "    </tr>\n",
              "  </tbody>\n",
              "</table>\n",
              "</div>"
            ],
            "text/plain": [
              "  CODGEO      C17_MEN  C17_MENPSEUL  ...  TX_MENSEUL  TX_FAMMONO  TX_65ETPLUS\n",
              "0   1001   315.154412     71.929625  ...   22.823614    4.831504    23.779236\n",
              "1   1002   107.160494     30.617284  ...   28.571429    4.761905    23.404255\n",
              "2   1004  6405.910326   2659.428492  ...   41.515231   10.216084    20.733915\n",
              "3   1005   636.197591    134.086315  ...   21.076206    6.601983    19.488442\n",
              "4   1006    55.500000     20.181818  ...   36.363636    9.090909    26.530612\n",
              "\n",
              "[5 rows x 10 columns]"
            ]
          },
          "metadata": {
            "tags": []
          },
          "execution_count": 6
        }
      ]
    },
    {
      "cell_type": "code",
      "metadata": {
        "id": "07R15I4ShKtH"
      },
      "source": [
        "compo_menage.to_csv('compo_foyer')"
      ],
      "execution_count": null,
      "outputs": []
    },
    {
      "cell_type": "markdown",
      "metadata": {
        "id": "C8Jb9EUwDotI"
      },
      "source": [
        "## 2. Demandeurs d'emplois"
      ]
    },
    {
      "cell_type": "markdown",
      "metadata": {
        "id": "FJ26QNT-D_4n"
      },
      "source": [
        "Les fichiers utilisés ici proviennent du site de l'INSEE. Le nombre de demandeurs d'emplois est celui que l'on avait au 31 décembre 2019 (https://www.insee.fr/fr/statistiques/4633819?sommaire=2500477). Pour calculer le taux de demandeur d'emplois, on utilise le nombre de personnes comptabilisé dans la population active. Le nombre de personnes actives (entre 15 et 64 ans) provient du site de l'INSEE (chiffres de 2016)."
      ]
    },
    {
      "cell_type": "code",
      "metadata": {
        "id": "gkXT8eVIU3gT",
        "outputId": "d1f1de20-f095-413d-f48e-a576e3c940d9",
        "colab": {
          "base_uri": "https://localhost:8080/",
          "height": 74
        }
      },
      "source": [
        "# Chargement des données sur les demandeurs d'emplois et la population active\n",
        "demandeur_emplois = pd.read_csv('/content/drive/My Drive/Data4Good/8_Mednum//data_DEFM2019_com.csv', sep=\";\")\n",
        "pop_active = pd.read_csv('/content/drive/My Drive/Data4Good/8_Mednum//base-cc-emploi-pop-active-2016.CSV', sep=\";\")\n",
        "pop_active2 = pd.read_csv('/content/drive/My Drive/Data4Good/8_Mednum/base-cc-emploi-pop-active-2016-COM.CSV', sep=\";\")"
      ],
      "execution_count": null,
      "outputs": [
        {
          "output_type": "stream",
          "text": [
            "/usr/local/lib/python3.6/dist-packages/IPython/core/interactiveshell.py:2718: DtypeWarning: Columns (0) have mixed types.Specify dtype option on import or set low_memory=False.\n",
            "  interactivity=interactivity, compiler=compiler, result=result)\n"
          ],
          "name": "stderr"
        }
      ]
    },
    {
      "cell_type": "code",
      "metadata": {
        "id": "KYTdbHrJJ9-i"
      },
      "source": [
        "# Création d'un df unique avec la population active de toutes les communes (Mayotte inclus)\n",
        "pop_active = pop_active.append(pop_active2).reset_index()"
      ],
      "execution_count": null,
      "outputs": []
    },
    {
      "cell_type": "markdown",
      "metadata": {
        "id": "YxhJ2gVjE4sH"
      },
      "source": [
        "La population active est composée de deux fichiers : un fichier avec les chiffres de la France (sans Mayotte) et un fichier contenant les informations de Mayotte."
      ]
    },
    {
      "cell_type": "code",
      "metadata": {
        "id": "N7-BEZ56aYvz",
        "outputId": "6b8fdc1e-e47c-436e-ad49-032c6b02796a",
        "colab": {
          "base_uri": "https://localhost:8080/",
          "height": 206
        }
      },
      "source": [
        "# Conservation des données de population active entre 15 et 64 ans pour l'année 2016\n",
        "pop_active = pop_active[['CODGEO', 'P16_ACT1564']]\n",
        "pop_active.head()"
      ],
      "execution_count": null,
      "outputs": [
        {
          "output_type": "execute_result",
          "data": {
            "text/html": [
              "<div>\n",
              "<style scoped>\n",
              "    .dataframe tbody tr th:only-of-type {\n",
              "        vertical-align: middle;\n",
              "    }\n",
              "\n",
              "    .dataframe tbody tr th {\n",
              "        vertical-align: top;\n",
              "    }\n",
              "\n",
              "    .dataframe thead th {\n",
              "        text-align: right;\n",
              "    }\n",
              "</style>\n",
              "<table border=\"1\" class=\"dataframe\">\n",
              "  <thead>\n",
              "    <tr style=\"text-align: right;\">\n",
              "      <th></th>\n",
              "      <th>CODGEO</th>\n",
              "      <th>P16_ACT1564</th>\n",
              "    </tr>\n",
              "  </thead>\n",
              "  <tbody>\n",
              "    <tr>\n",
              "      <th>0</th>\n",
              "      <td>1001</td>\n",
              "      <td>376.000000</td>\n",
              "    </tr>\n",
              "    <tr>\n",
              "      <th>1</th>\n",
              "      <td>1002</td>\n",
              "      <td>123.000000</td>\n",
              "    </tr>\n",
              "    <tr>\n",
              "      <th>2</th>\n",
              "      <td>1004</td>\n",
              "      <td>6697.333122</td>\n",
              "    </tr>\n",
              "    <tr>\n",
              "      <th>3</th>\n",
              "      <td>1005</td>\n",
              "      <td>864.845592</td>\n",
              "    </tr>\n",
              "    <tr>\n",
              "      <th>4</th>\n",
              "      <td>1006</td>\n",
              "      <td>58.000000</td>\n",
              "    </tr>\n",
              "  </tbody>\n",
              "</table>\n",
              "</div>"
            ],
            "text/plain": [
              "  CODGEO  P16_ACT1564\n",
              "0   1001   376.000000\n",
              "1   1002   123.000000\n",
              "2   1004  6697.333122\n",
              "3   1005   864.845592\n",
              "4   1006    58.000000"
            ]
          },
          "metadata": {
            "tags": []
          },
          "execution_count": 10
        }
      ]
    },
    {
      "cell_type": "markdown",
      "metadata": {
        "id": "T_HhG7pAKwwS"
      },
      "source": [
        "On conserve donc le CODGEO (code INSEE de chaque commune) et le nombre de personnes actives âgés de 15 à 64 ans. "
      ]
    },
    {
      "cell_type": "markdown",
      "metadata": {
        "id": "XjKma-u_K5he"
      },
      "source": [
        "Concernant le total de demandeurs d'emplois, on conserve les valeurs associées au CODGEO (code INSEE de la commune), des demandeurs d'emplois de catégorie A, B et C dans les tranches d'âge suivants : moins de 25 ans, entre 26 et 49 ans et les plus de 50 ans. Pour le calcul du taux de demandeurs d'emplois, on additionne ces valeurs que l'on divisera par le nombre de personnes dans la population active. "
      ]
    },
    {
      "cell_type": "code",
      "metadata": {
        "id": "TSUVdAhpK7Tf",
        "outputId": "2b559f77-02cc-48be-9a24-e5b3ccb2d2c1",
        "colab": {
          "base_uri": "https://localhost:8080/",
          "height": 206
        }
      },
      "source": [
        "# Conservation des données sur les demandeurs d'emplois de catégorie A, B et C. \n",
        "# Calcul du total de demandeurs d'emplois sans prise en compte de l'âge\n",
        "demandeur_emplois = demandeur_emplois[['CODGEO', 'ABC_25', 'ABC_2649', 'ABC_50']]\n",
        "demandeur_emplois['ABC_TOT'] = demandeur_emplois['ABC_25'] + demandeur_emplois['ABC_2649'] + demandeur_emplois['ABC_50']\n",
        "demandeur_emplois = demandeur_emplois.sort_values('CODGEO')\n",
        "demandeur_emplois.head()"
      ],
      "execution_count": null,
      "outputs": [
        {
          "output_type": "execute_result",
          "data": {
            "text/html": [
              "<div>\n",
              "<style scoped>\n",
              "    .dataframe tbody tr th:only-of-type {\n",
              "        vertical-align: middle;\n",
              "    }\n",
              "\n",
              "    .dataframe tbody tr th {\n",
              "        vertical-align: top;\n",
              "    }\n",
              "\n",
              "    .dataframe thead th {\n",
              "        text-align: right;\n",
              "    }\n",
              "</style>\n",
              "<table border=\"1\" class=\"dataframe\">\n",
              "  <thead>\n",
              "    <tr style=\"text-align: right;\">\n",
              "      <th></th>\n",
              "      <th>CODGEO</th>\n",
              "      <th>ABC_25</th>\n",
              "      <th>ABC_2649</th>\n",
              "      <th>ABC_50</th>\n",
              "      <th>ABC_TOT</th>\n",
              "    </tr>\n",
              "  </thead>\n",
              "  <tbody>\n",
              "    <tr>\n",
              "      <th>0</th>\n",
              "      <td>01004</td>\n",
              "      <td>256.0</td>\n",
              "      <td>869.0</td>\n",
              "      <td>332.0</td>\n",
              "      <td>1457.0</td>\n",
              "    </tr>\n",
              "    <tr>\n",
              "      <th>1</th>\n",
              "      <td>01031</td>\n",
              "      <td>68.0</td>\n",
              "      <td>234.0</td>\n",
              "      <td>73.0</td>\n",
              "      <td>375.0</td>\n",
              "    </tr>\n",
              "    <tr>\n",
              "      <th>2</th>\n",
              "      <td>01033</td>\n",
              "      <td>210.0</td>\n",
              "      <td>903.0</td>\n",
              "      <td>357.0</td>\n",
              "      <td>1470.0</td>\n",
              "    </tr>\n",
              "    <tr>\n",
              "      <th>3</th>\n",
              "      <td>01034</td>\n",
              "      <td>147.0</td>\n",
              "      <td>444.0</td>\n",
              "      <td>193.0</td>\n",
              "      <td>784.0</td>\n",
              "    </tr>\n",
              "    <tr>\n",
              "      <th>4</th>\n",
              "      <td>01053</td>\n",
              "      <td>678.0</td>\n",
              "      <td>2441.0</td>\n",
              "      <td>1029.0</td>\n",
              "      <td>4148.0</td>\n",
              "    </tr>\n",
              "  </tbody>\n",
              "</table>\n",
              "</div>"
            ],
            "text/plain": [
              "  CODGEO  ABC_25  ABC_2649  ABC_50  ABC_TOT\n",
              "0  01004   256.0     869.0   332.0   1457.0\n",
              "1  01031    68.0     234.0    73.0    375.0\n",
              "2  01033   210.0     903.0   357.0   1470.0\n",
              "3  01034   147.0     444.0   193.0    784.0\n",
              "4  01053   678.0    2441.0  1029.0   4148.0"
            ]
          },
          "metadata": {
            "tags": []
          },
          "execution_count": 11
        }
      ]
    },
    {
      "cell_type": "code",
      "metadata": {
        "id": "BWEIi154UBPw"
      },
      "source": [
        "pop_active.to_csv('pop_active.csv')\n",
        "demandeur_emplois.to_csv('demandeur_emplois.csv')"
      ],
      "execution_count": null,
      "outputs": []
    },
    {
      "cell_type": "markdown",
      "metadata": {
        "id": "_BMBCcX9Ldq3"
      },
      "source": [
        "## 3. Personnes peu ou pas diplômés"
      ]
    },
    {
      "cell_type": "markdown",
      "metadata": {
        "id": "yNi8KuW3LsEJ"
      },
      "source": [
        "Les données utilisées proviennent du site de l'INSEE (https://www.insee.fr/fr/statistiques/4516086?sommaire=4516089). Les données proviennent de 2017 avec le découpage en vigueur au 1er janvier 2020."
      ]
    },
    {
      "cell_type": "code",
      "metadata": {
        "id": "Z2GiVutWU-PW",
        "outputId": "c1725f86-75ad-4c86-d81f-fb0754c70ee9",
        "colab": {
          "base_uri": "https://localhost:8080/",
          "height": 74
        }
      },
      "source": [
        "# Chargement des données en lien avec la scolarité dans toutes les communes\n",
        "scol = pd.read_csv('/content/drive/My Drive/Data4Good/8_Mednum//base-cc-diplomes-formation-2017.CSV', sep=\";\")\n",
        "scol2 = pd.read_csv('/content/drive/My Drive/Data4Good/8_Mednum//base-cc-diplomes-formation-2017-COM.CSV', sep=\";\")"
      ],
      "execution_count": null,
      "outputs": [
        {
          "output_type": "stream",
          "text": [
            "/usr/local/lib/python3.6/dist-packages/IPython/core/interactiveshell.py:2718: DtypeWarning: Columns (0) have mixed types.Specify dtype option on import or set low_memory=False.\n",
            "  interactivity=interactivity, compiler=compiler, result=result)\n"
          ],
          "name": "stderr"
        }
      ]
    },
    {
      "cell_type": "code",
      "metadata": {
        "id": "48AjKD1eKL2t"
      },
      "source": [
        "# Création d'un df unique avec les données de Mayotte incluses\n",
        "scol = scol.append(scol2).reset_index()"
      ],
      "execution_count": null,
      "outputs": []
    },
    {
      "cell_type": "markdown",
      "metadata": {
        "id": "6nhk-Uv_MpK0"
      },
      "source": [
        "Le taux de personnes non scolarisés peu ou pas diplômés est calculé sur le nombre de personnes de plus de 15 ans non scolarisés avec un diplôme minimum divisé par la population totale de plus de 15 ans. "
      ]
    },
    {
      "cell_type": "code",
      "metadata": {
        "id": "xNa4b2KNK7Tm",
        "outputId": "10671580-eaba-4f87-9e31-36a2a5243804",
        "colab": {
          "base_uri": "https://localhost:8080/",
          "height": 226
        }
      },
      "source": [
        "# Calcul du total de personnes scolarisées\n",
        "# Calcul du total de personnes de plus de 15 ans non scolarisés\n",
        "# Calcul du taux de personnes de plus de 15 ans non scolarisés\n",
        "scol = scol[['CODGEO', 'P17_POP1517', 'P17_POP1824', 'P17_POP2529', 'P17_POP30P', 'P17_NSCOL15P', 'P17_NSCOL15P_DIPLMIN','P17_NSCOL15P_BEPC','P17_NSCOL15P_CAPBEP' ,'P17_NSCOL15P_BAC']]\n",
        "scol['TOT_POP15P'] = scol['P17_POP1517'] + scol['P17_POP1824'] + scol['P17_POP2529'] + scol['P17_POP30P']\n",
        "scol['TOT_NSCOL15P'] = scol['P17_NSCOL15P_DIPLMIN'] + scol['P17_NSCOL15P_BEPC'] + scol['P17_NSCOL15P_CAPBEP']\n",
        "scol['TX_NSCOL15P'] = (scol['TOT_NSCOL15P']/scol['TOT_POP15P']) * 100\n",
        "scol.head()"
      ],
      "execution_count": null,
      "outputs": [
        {
          "output_type": "execute_result",
          "data": {
            "text/html": [
              "<div>\n",
              "<style scoped>\n",
              "    .dataframe tbody tr th:only-of-type {\n",
              "        vertical-align: middle;\n",
              "    }\n",
              "\n",
              "    .dataframe tbody tr th {\n",
              "        vertical-align: top;\n",
              "    }\n",
              "\n",
              "    .dataframe thead th {\n",
              "        text-align: right;\n",
              "    }\n",
              "</style>\n",
              "<table border=\"1\" class=\"dataframe\">\n",
              "  <thead>\n",
              "    <tr style=\"text-align: right;\">\n",
              "      <th></th>\n",
              "      <th>CODGEO</th>\n",
              "      <th>P17_POP1517</th>\n",
              "      <th>P17_POP1824</th>\n",
              "      <th>P17_POP2529</th>\n",
              "      <th>P17_POP30P</th>\n",
              "      <th>P17_NSCOL15P</th>\n",
              "      <th>P17_NSCOL15P_DIPLMIN</th>\n",
              "      <th>P17_NSCOL15P_BEPC</th>\n",
              "      <th>P17_NSCOL15P_CAPBEP</th>\n",
              "      <th>P17_NSCOL15P_BAC</th>\n",
              "      <th>TOT_POP15P</th>\n",
              "      <th>TOT_NSCOL15P</th>\n",
              "      <th>TX_NSCOL15P</th>\n",
              "    </tr>\n",
              "  </thead>\n",
              "  <tbody>\n",
              "    <tr>\n",
              "      <th>0</th>\n",
              "      <td>1001</td>\n",
              "      <td>33.181349</td>\n",
              "      <td>36.308136</td>\n",
              "      <td>33.410552</td>\n",
              "      <td>511.545180</td>\n",
              "      <td>558.105307</td>\n",
              "      <td>107.168650</td>\n",
              "      <td>26.381412</td>\n",
              "      <td>186.909421</td>\n",
              "      <td>95.095609</td>\n",
              "      <td>614.445217</td>\n",
              "      <td>320.459483</td>\n",
              "      <td>52.154281</td>\n",
              "    </tr>\n",
              "    <tr>\n",
              "      <th>1</th>\n",
              "      <td>1002</td>\n",
              "      <td>7.144033</td>\n",
              "      <td>8.164609</td>\n",
              "      <td>13.267490</td>\n",
              "      <td>163.292181</td>\n",
              "      <td>178.600823</td>\n",
              "      <td>22.452675</td>\n",
              "      <td>7.144033</td>\n",
              "      <td>47.967078</td>\n",
              "      <td>38.781893</td>\n",
              "      <td>191.868313</td>\n",
              "      <td>77.563786</td>\n",
              "      <td>40.425532</td>\n",
              "    </tr>\n",
              "    <tr>\n",
              "      <th>2</th>\n",
              "      <td>1004</td>\n",
              "      <td>593.927796</td>\n",
              "      <td>1285.707165</td>\n",
              "      <td>1108.451063</td>\n",
              "      <td>8321.381280</td>\n",
              "      <td>10149.026196</td>\n",
              "      <td>2207.010696</td>\n",
              "      <td>588.550154</td>\n",
              "      <td>2799.751384</td>\n",
              "      <td>1938.190106</td>\n",
              "      <td>11309.467304</td>\n",
              "      <td>5595.312233</td>\n",
              "      <td>49.474587</td>\n",
              "    </tr>\n",
              "    <tr>\n",
              "      <th>3</th>\n",
              "      <td>1005</td>\n",
              "      <td>59.940064</td>\n",
              "      <td>126.396133</td>\n",
              "      <td>73.152717</td>\n",
              "      <td>1085.498171</td>\n",
              "      <td>1234.359736</td>\n",
              "      <td>294.111609</td>\n",
              "      <td>55.410401</td>\n",
              "      <td>371.050484</td>\n",
              "      <td>221.492025</td>\n",
              "      <td>1344.987086</td>\n",
              "      <td>720.572494</td>\n",
              "      <td>53.574678</td>\n",
              "    </tr>\n",
              "    <tr>\n",
              "      <th>4</th>\n",
              "      <td>1006</td>\n",
              "      <td>3.027273</td>\n",
              "      <td>7.063636</td>\n",
              "      <td>6.054545</td>\n",
              "      <td>82.745455</td>\n",
              "      <td>95.863636</td>\n",
              "      <td>17.154545</td>\n",
              "      <td>4.036364</td>\n",
              "      <td>31.281818</td>\n",
              "      <td>30.272727</td>\n",
              "      <td>98.890909</td>\n",
              "      <td>52.472727</td>\n",
              "      <td>53.061224</td>\n",
              "    </tr>\n",
              "  </tbody>\n",
              "</table>\n",
              "</div>"
            ],
            "text/plain": [
              "  CODGEO  P17_POP1517  P17_POP1824  ...    TOT_POP15P  TOT_NSCOL15P  TX_NSCOL15P\n",
              "0   1001    33.181349    36.308136  ...    614.445217    320.459483    52.154281\n",
              "1   1002     7.144033     8.164609  ...    191.868313     77.563786    40.425532\n",
              "2   1004   593.927796  1285.707165  ...  11309.467304   5595.312233    49.474587\n",
              "3   1005    59.940064   126.396133  ...   1344.987086    720.572494    53.574678\n",
              "4   1006     3.027273     7.063636  ...     98.890909     52.472727    53.061224\n",
              "\n",
              "[5 rows x 13 columns]"
            ]
          },
          "metadata": {
            "tags": []
          },
          "execution_count": 15
        }
      ]
    },
    {
      "cell_type": "code",
      "metadata": {
        "id": "Q0dwm0OjUMft"
      },
      "source": [
        "scol.to_csv('scol.csv')"
      ],
      "execution_count": null,
      "outputs": []
    },
    {
      "cell_type": "markdown",
      "metadata": {
        "id": "0cp1srFoM7WB"
      },
      "source": [
        "## 4. Assemblage des fichiers"
      ]
    },
    {
      "cell_type": "markdown",
      "metadata": {
        "id": "r4P6ZzXXM-9f"
      },
      "source": [
        "On effectue une jointure entre le fichier contenant les informations démographiques et celles des demandeurs d'emplois en utilisant le \"CODGEO\" de chacune de nos tables. "
      ]
    },
    {
      "cell_type": "code",
      "metadata": {
        "id": "OR69L1p9KP6g",
        "outputId": "ebb7e038-fe8e-4639-e55f-b9a636c62a3c",
        "colab": {
          "base_uri": "https://localhost:8080/",
          "height": 226
        }
      },
      "source": [
        "df1 = pd.merge(compo_menage, demandeur_emplois, on = ['CODGEO'], how='outer')\n",
        "df1.head()"
      ],
      "execution_count": null,
      "outputs": [
        {
          "output_type": "execute_result",
          "data": {
            "text/html": [
              "<div>\n",
              "<style scoped>\n",
              "    .dataframe tbody tr th:only-of-type {\n",
              "        vertical-align: middle;\n",
              "    }\n",
              "\n",
              "    .dataframe tbody tr th {\n",
              "        vertical-align: top;\n",
              "    }\n",
              "\n",
              "    .dataframe thead th {\n",
              "        text-align: right;\n",
              "    }\n",
              "</style>\n",
              "<table border=\"1\" class=\"dataframe\">\n",
              "  <thead>\n",
              "    <tr style=\"text-align: right;\">\n",
              "      <th></th>\n",
              "      <th>CODGEO</th>\n",
              "      <th>C17_MEN</th>\n",
              "      <th>C17_MENPSEUL</th>\n",
              "      <th>C17_MENFAMMONO</th>\n",
              "      <th>P17_POP15P</th>\n",
              "      <th>P17_POP6579</th>\n",
              "      <th>P17_POP80P</th>\n",
              "      <th>TX_MENSEUL</th>\n",
              "      <th>TX_FAMMONO</th>\n",
              "      <th>TX_65ETPLUS</th>\n",
              "      <th>ABC_25</th>\n",
              "      <th>ABC_2649</th>\n",
              "      <th>ABC_50</th>\n",
              "      <th>ABC_TOT</th>\n",
              "    </tr>\n",
              "  </thead>\n",
              "  <tbody>\n",
              "    <tr>\n",
              "      <th>0</th>\n",
              "      <td>1001</td>\n",
              "      <td>315.154412</td>\n",
              "      <td>71.929625</td>\n",
              "      <td>15.226698</td>\n",
              "      <td>614.445217</td>\n",
              "      <td>113.392959</td>\n",
              "      <td>32.717419</td>\n",
              "      <td>22.823614</td>\n",
              "      <td>4.831504</td>\n",
              "      <td>23.779236</td>\n",
              "      <td>NaN</td>\n",
              "      <td>NaN</td>\n",
              "      <td>NaN</td>\n",
              "      <td>NaN</td>\n",
              "    </tr>\n",
              "    <tr>\n",
              "      <th>1</th>\n",
              "      <td>1002</td>\n",
              "      <td>107.160494</td>\n",
              "      <td>30.617284</td>\n",
              "      <td>5.102881</td>\n",
              "      <td>191.868313</td>\n",
              "      <td>33.679012</td>\n",
              "      <td>11.226337</td>\n",
              "      <td>28.571429</td>\n",
              "      <td>4.761905</td>\n",
              "      <td>23.404255</td>\n",
              "      <td>NaN</td>\n",
              "      <td>NaN</td>\n",
              "      <td>NaN</td>\n",
              "      <td>NaN</td>\n",
              "    </tr>\n",
              "    <tr>\n",
              "      <th>2</th>\n",
              "      <td>1004</td>\n",
              "      <td>6405.910326</td>\n",
              "      <td>2659.428492</td>\n",
              "      <td>654.433164</td>\n",
              "      <td>11309.467304</td>\n",
              "      <td>1586.176459</td>\n",
              "      <td>758.718840</td>\n",
              "      <td>41.515231</td>\n",
              "      <td>10.216084</td>\n",
              "      <td>20.733915</td>\n",
              "      <td>NaN</td>\n",
              "      <td>NaN</td>\n",
              "      <td>NaN</td>\n",
              "      <td>NaN</td>\n",
              "    </tr>\n",
              "    <tr>\n",
              "      <th>3</th>\n",
              "      <td>1005</td>\n",
              "      <td>636.197591</td>\n",
              "      <td>134.086315</td>\n",
              "      <td>42.001657</td>\n",
              "      <td>1344.987086</td>\n",
              "      <td>200.447239</td>\n",
              "      <td>61.669791</td>\n",
              "      <td>21.076206</td>\n",
              "      <td>6.601983</td>\n",
              "      <td>19.488442</td>\n",
              "      <td>NaN</td>\n",
              "      <td>NaN</td>\n",
              "      <td>NaN</td>\n",
              "      <td>NaN</td>\n",
              "    </tr>\n",
              "    <tr>\n",
              "      <th>4</th>\n",
              "      <td>1006</td>\n",
              "      <td>55.500000</td>\n",
              "      <td>20.181818</td>\n",
              "      <td>5.045455</td>\n",
              "      <td>98.890909</td>\n",
              "      <td>18.163636</td>\n",
              "      <td>8.072727</td>\n",
              "      <td>36.363636</td>\n",
              "      <td>9.090909</td>\n",
              "      <td>26.530612</td>\n",
              "      <td>NaN</td>\n",
              "      <td>NaN</td>\n",
              "      <td>NaN</td>\n",
              "      <td>NaN</td>\n",
              "    </tr>\n",
              "  </tbody>\n",
              "</table>\n",
              "</div>"
            ],
            "text/plain": [
              "  CODGEO      C17_MEN  C17_MENPSEUL  ...  ABC_2649  ABC_50  ABC_TOT\n",
              "0   1001   315.154412     71.929625  ...       NaN     NaN      NaN\n",
              "1   1002   107.160494     30.617284  ...       NaN     NaN      NaN\n",
              "2   1004  6405.910326   2659.428492  ...       NaN     NaN      NaN\n",
              "3   1005   636.197591    134.086315  ...       NaN     NaN      NaN\n",
              "4   1006    55.500000     20.181818  ...       NaN     NaN      NaN\n",
              "\n",
              "[5 rows x 14 columns]"
            ]
          },
          "metadata": {
            "tags": []
          },
          "execution_count": 17
        }
      ]
    },
    {
      "cell_type": "markdown",
      "metadata": {
        "id": "VM5S4r4MNKpB"
      },
      "source": [
        "On supprime les colonnes qui ne seront pas nécessaires à la suite du traitement."
      ]
    },
    {
      "cell_type": "code",
      "metadata": {
        "id": "fzEsrO2vKjij",
        "outputId": "e9136caa-c0b3-4a81-f4d8-f075a09cf16e",
        "colab": {
          "base_uri": "https://localhost:8080/",
          "height": 206
        }
      },
      "source": [
        "df1 = df1.drop(columns=['C17_MEN', 'C17_MENPSEUL', 'C17_MENFAMMONO', 'P17_POP15P','P17_POP6579', 'P17_POP80P','ABC_25', 'ABC_2649', 'ABC_50'])\n",
        "df1.head()"
      ],
      "execution_count": null,
      "outputs": [
        {
          "output_type": "execute_result",
          "data": {
            "text/html": [
              "<div>\n",
              "<style scoped>\n",
              "    .dataframe tbody tr th:only-of-type {\n",
              "        vertical-align: middle;\n",
              "    }\n",
              "\n",
              "    .dataframe tbody tr th {\n",
              "        vertical-align: top;\n",
              "    }\n",
              "\n",
              "    .dataframe thead th {\n",
              "        text-align: right;\n",
              "    }\n",
              "</style>\n",
              "<table border=\"1\" class=\"dataframe\">\n",
              "  <thead>\n",
              "    <tr style=\"text-align: right;\">\n",
              "      <th></th>\n",
              "      <th>CODGEO</th>\n",
              "      <th>TX_MENSEUL</th>\n",
              "      <th>TX_FAMMONO</th>\n",
              "      <th>TX_65ETPLUS</th>\n",
              "      <th>ABC_TOT</th>\n",
              "    </tr>\n",
              "  </thead>\n",
              "  <tbody>\n",
              "    <tr>\n",
              "      <th>0</th>\n",
              "      <td>1001</td>\n",
              "      <td>22.823614</td>\n",
              "      <td>4.831504</td>\n",
              "      <td>23.779236</td>\n",
              "      <td>NaN</td>\n",
              "    </tr>\n",
              "    <tr>\n",
              "      <th>1</th>\n",
              "      <td>1002</td>\n",
              "      <td>28.571429</td>\n",
              "      <td>4.761905</td>\n",
              "      <td>23.404255</td>\n",
              "      <td>NaN</td>\n",
              "    </tr>\n",
              "    <tr>\n",
              "      <th>2</th>\n",
              "      <td>1004</td>\n",
              "      <td>41.515231</td>\n",
              "      <td>10.216084</td>\n",
              "      <td>20.733915</td>\n",
              "      <td>NaN</td>\n",
              "    </tr>\n",
              "    <tr>\n",
              "      <th>3</th>\n",
              "      <td>1005</td>\n",
              "      <td>21.076206</td>\n",
              "      <td>6.601983</td>\n",
              "      <td>19.488442</td>\n",
              "      <td>NaN</td>\n",
              "    </tr>\n",
              "    <tr>\n",
              "      <th>4</th>\n",
              "      <td>1006</td>\n",
              "      <td>36.363636</td>\n",
              "      <td>9.090909</td>\n",
              "      <td>26.530612</td>\n",
              "      <td>NaN</td>\n",
              "    </tr>\n",
              "  </tbody>\n",
              "</table>\n",
              "</div>"
            ],
            "text/plain": [
              "  CODGEO  TX_MENSEUL  TX_FAMMONO  TX_65ETPLUS  ABC_TOT\n",
              "0   1001   22.823614    4.831504    23.779236      NaN\n",
              "1   1002   28.571429    4.761905    23.404255      NaN\n",
              "2   1004   41.515231   10.216084    20.733915      NaN\n",
              "3   1005   21.076206    6.601983    19.488442      NaN\n",
              "4   1006   36.363636    9.090909    26.530612      NaN"
            ]
          },
          "metadata": {
            "tags": []
          },
          "execution_count": 18
        }
      ]
    },
    {
      "cell_type": "code",
      "metadata": {
        "id": "D9h11FANyjdR",
        "outputId": "0c2439df-2f84-4b51-9760-4a2ea74340b5",
        "colab": {
          "base_uri": "https://localhost:8080/",
          "height": 36
        }
      },
      "source": [
        "df1.shape"
      ],
      "execution_count": null,
      "outputs": [
        {
          "output_type": "execute_result",
          "data": {
            "text/plain": [
              "(36109, 5)"
            ]
          },
          "metadata": {
            "tags": []
          },
          "execution_count": 19
        }
      ]
    },
    {
      "cell_type": "code",
      "metadata": {
        "id": "S_Kyqu9MUajF"
      },
      "source": [
        "df1.to_csv('df1.csv')"
      ],
      "execution_count": null,
      "outputs": []
    },
    {
      "cell_type": "code",
      "metadata": {
        "id": "GCIN0rAs10AX"
      },
      "source": [
        "del compo_menage\n",
        "del demandeur_emplois"
      ],
      "execution_count": null,
      "outputs": []
    },
    {
      "cell_type": "markdown",
      "metadata": {
        "id": "sXU6lobRNRY5"
      },
      "source": [
        "On effectue une jointure entre le fichier contenant les informations sur la population non scolarisés et celles de la population active en utilisant le \"CODGEO\" de chacune de nos tables. "
      ]
    },
    {
      "cell_type": "code",
      "metadata": {
        "id": "Q83rVIdRKXVx",
        "outputId": "ff273e0c-9506-4382-b0e6-55c9a7c08e2c",
        "colab": {
          "base_uri": "https://localhost:8080/",
          "height": 226
        }
      },
      "source": [
        "df2 = pd.merge(scol, pop_active, on = 'CODGEO', how='outer')\n",
        "df2.head()"
      ],
      "execution_count": null,
      "outputs": [
        {
          "output_type": "execute_result",
          "data": {
            "text/html": [
              "<div>\n",
              "<style scoped>\n",
              "    .dataframe tbody tr th:only-of-type {\n",
              "        vertical-align: middle;\n",
              "    }\n",
              "\n",
              "    .dataframe tbody tr th {\n",
              "        vertical-align: top;\n",
              "    }\n",
              "\n",
              "    .dataframe thead th {\n",
              "        text-align: right;\n",
              "    }\n",
              "</style>\n",
              "<table border=\"1\" class=\"dataframe\">\n",
              "  <thead>\n",
              "    <tr style=\"text-align: right;\">\n",
              "      <th></th>\n",
              "      <th>CODGEO</th>\n",
              "      <th>P17_POP1517</th>\n",
              "      <th>P17_POP1824</th>\n",
              "      <th>P17_POP2529</th>\n",
              "      <th>P17_POP30P</th>\n",
              "      <th>P17_NSCOL15P</th>\n",
              "      <th>P17_NSCOL15P_DIPLMIN</th>\n",
              "      <th>P17_NSCOL15P_BEPC</th>\n",
              "      <th>P17_NSCOL15P_CAPBEP</th>\n",
              "      <th>P17_NSCOL15P_BAC</th>\n",
              "      <th>TOT_POP15P</th>\n",
              "      <th>TOT_NSCOL15P</th>\n",
              "      <th>TX_NSCOL15P</th>\n",
              "      <th>P16_ACT1564</th>\n",
              "    </tr>\n",
              "  </thead>\n",
              "  <tbody>\n",
              "    <tr>\n",
              "      <th>0</th>\n",
              "      <td>1001</td>\n",
              "      <td>33.181349</td>\n",
              "      <td>36.308136</td>\n",
              "      <td>33.410552</td>\n",
              "      <td>511.545180</td>\n",
              "      <td>558.105307</td>\n",
              "      <td>107.168650</td>\n",
              "      <td>26.381412</td>\n",
              "      <td>186.909421</td>\n",
              "      <td>95.095609</td>\n",
              "      <td>614.445217</td>\n",
              "      <td>320.459483</td>\n",
              "      <td>52.154281</td>\n",
              "      <td>376.000000</td>\n",
              "    </tr>\n",
              "    <tr>\n",
              "      <th>1</th>\n",
              "      <td>1002</td>\n",
              "      <td>7.144033</td>\n",
              "      <td>8.164609</td>\n",
              "      <td>13.267490</td>\n",
              "      <td>163.292181</td>\n",
              "      <td>178.600823</td>\n",
              "      <td>22.452675</td>\n",
              "      <td>7.144033</td>\n",
              "      <td>47.967078</td>\n",
              "      <td>38.781893</td>\n",
              "      <td>191.868313</td>\n",
              "      <td>77.563786</td>\n",
              "      <td>40.425532</td>\n",
              "      <td>123.000000</td>\n",
              "    </tr>\n",
              "    <tr>\n",
              "      <th>2</th>\n",
              "      <td>1004</td>\n",
              "      <td>593.927796</td>\n",
              "      <td>1285.707165</td>\n",
              "      <td>1108.451063</td>\n",
              "      <td>8321.381280</td>\n",
              "      <td>10149.026196</td>\n",
              "      <td>2207.010696</td>\n",
              "      <td>588.550154</td>\n",
              "      <td>2799.751384</td>\n",
              "      <td>1938.190106</td>\n",
              "      <td>11309.467304</td>\n",
              "      <td>5595.312233</td>\n",
              "      <td>49.474587</td>\n",
              "      <td>6697.333122</td>\n",
              "    </tr>\n",
              "    <tr>\n",
              "      <th>3</th>\n",
              "      <td>1005</td>\n",
              "      <td>59.940064</td>\n",
              "      <td>126.396133</td>\n",
              "      <td>73.152717</td>\n",
              "      <td>1085.498171</td>\n",
              "      <td>1234.359736</td>\n",
              "      <td>294.111609</td>\n",
              "      <td>55.410401</td>\n",
              "      <td>371.050484</td>\n",
              "      <td>221.492025</td>\n",
              "      <td>1344.987086</td>\n",
              "      <td>720.572494</td>\n",
              "      <td>53.574678</td>\n",
              "      <td>864.845592</td>\n",
              "    </tr>\n",
              "    <tr>\n",
              "      <th>4</th>\n",
              "      <td>1006</td>\n",
              "      <td>3.027273</td>\n",
              "      <td>7.063636</td>\n",
              "      <td>6.054545</td>\n",
              "      <td>82.745455</td>\n",
              "      <td>95.863636</td>\n",
              "      <td>17.154545</td>\n",
              "      <td>4.036364</td>\n",
              "      <td>31.281818</td>\n",
              "      <td>30.272727</td>\n",
              "      <td>98.890909</td>\n",
              "      <td>52.472727</td>\n",
              "      <td>53.061224</td>\n",
              "      <td>58.000000</td>\n",
              "    </tr>\n",
              "  </tbody>\n",
              "</table>\n",
              "</div>"
            ],
            "text/plain": [
              "  CODGEO  P17_POP1517  P17_POP1824  ...  TOT_NSCOL15P  TX_NSCOL15P  P16_ACT1564\n",
              "0   1001    33.181349    36.308136  ...    320.459483    52.154281   376.000000\n",
              "1   1002     7.144033     8.164609  ...     77.563786    40.425532   123.000000\n",
              "2   1004   593.927796  1285.707165  ...   5595.312233    49.474587  6697.333122\n",
              "3   1005    59.940064   126.396133  ...    720.572494    53.574678   864.845592\n",
              "4   1006     3.027273     7.063636  ...     52.472727    53.061224    58.000000\n",
              "\n",
              "[5 rows x 14 columns]"
            ]
          },
          "metadata": {
            "tags": []
          },
          "execution_count": 22
        }
      ]
    },
    {
      "cell_type": "markdown",
      "metadata": {
        "id": "H6iIKPT1NbaR"
      },
      "source": [
        "On supprime les différentes colonnes non utilisées."
      ]
    },
    {
      "cell_type": "code",
      "metadata": {
        "id": "QVmb5Eo2KwvL",
        "outputId": "65d798f1-0322-4f9a-cdb3-db1af716f121",
        "colab": {
          "base_uri": "https://localhost:8080/",
          "height": 206
        }
      },
      "source": [
        "df2 = df2.drop(columns=['P17_POP1517', 'P17_POP1824', 'P17_POP2529','P17_POP30P', 'P17_NSCOL15P_BEPC', 'P17_NSCOL15P_CAPBEP', 'P17_NSCOL15P_BAC'])\n",
        "df2.head()"
      ],
      "execution_count": null,
      "outputs": [
        {
          "output_type": "execute_result",
          "data": {
            "text/html": [
              "<div>\n",
              "<style scoped>\n",
              "    .dataframe tbody tr th:only-of-type {\n",
              "        vertical-align: middle;\n",
              "    }\n",
              "\n",
              "    .dataframe tbody tr th {\n",
              "        vertical-align: top;\n",
              "    }\n",
              "\n",
              "    .dataframe thead th {\n",
              "        text-align: right;\n",
              "    }\n",
              "</style>\n",
              "<table border=\"1\" class=\"dataframe\">\n",
              "  <thead>\n",
              "    <tr style=\"text-align: right;\">\n",
              "      <th></th>\n",
              "      <th>CODGEO</th>\n",
              "      <th>P17_NSCOL15P</th>\n",
              "      <th>P17_NSCOL15P_DIPLMIN</th>\n",
              "      <th>TOT_POP15P</th>\n",
              "      <th>TOT_NSCOL15P</th>\n",
              "      <th>TX_NSCOL15P</th>\n",
              "      <th>P16_ACT1564</th>\n",
              "    </tr>\n",
              "  </thead>\n",
              "  <tbody>\n",
              "    <tr>\n",
              "      <th>0</th>\n",
              "      <td>1001</td>\n",
              "      <td>558.105307</td>\n",
              "      <td>107.168650</td>\n",
              "      <td>614.445217</td>\n",
              "      <td>320.459483</td>\n",
              "      <td>52.154281</td>\n",
              "      <td>376.000000</td>\n",
              "    </tr>\n",
              "    <tr>\n",
              "      <th>1</th>\n",
              "      <td>1002</td>\n",
              "      <td>178.600823</td>\n",
              "      <td>22.452675</td>\n",
              "      <td>191.868313</td>\n",
              "      <td>77.563786</td>\n",
              "      <td>40.425532</td>\n",
              "      <td>123.000000</td>\n",
              "    </tr>\n",
              "    <tr>\n",
              "      <th>2</th>\n",
              "      <td>1004</td>\n",
              "      <td>10149.026196</td>\n",
              "      <td>2207.010696</td>\n",
              "      <td>11309.467304</td>\n",
              "      <td>5595.312233</td>\n",
              "      <td>49.474587</td>\n",
              "      <td>6697.333122</td>\n",
              "    </tr>\n",
              "    <tr>\n",
              "      <th>3</th>\n",
              "      <td>1005</td>\n",
              "      <td>1234.359736</td>\n",
              "      <td>294.111609</td>\n",
              "      <td>1344.987086</td>\n",
              "      <td>720.572494</td>\n",
              "      <td>53.574678</td>\n",
              "      <td>864.845592</td>\n",
              "    </tr>\n",
              "    <tr>\n",
              "      <th>4</th>\n",
              "      <td>1006</td>\n",
              "      <td>95.863636</td>\n",
              "      <td>17.154545</td>\n",
              "      <td>98.890909</td>\n",
              "      <td>52.472727</td>\n",
              "      <td>53.061224</td>\n",
              "      <td>58.000000</td>\n",
              "    </tr>\n",
              "  </tbody>\n",
              "</table>\n",
              "</div>"
            ],
            "text/plain": [
              "  CODGEO  P17_NSCOL15P  ...  TX_NSCOL15P  P16_ACT1564\n",
              "0   1001    558.105307  ...    52.154281   376.000000\n",
              "1   1002    178.600823  ...    40.425532   123.000000\n",
              "2   1004  10149.026196  ...    49.474587  6697.333122\n",
              "3   1005   1234.359736  ...    53.574678   864.845592\n",
              "4   1006     95.863636  ...    53.061224    58.000000\n",
              "\n",
              "[5 rows x 7 columns]"
            ]
          },
          "metadata": {
            "tags": []
          },
          "execution_count": 23
        }
      ]
    },
    {
      "cell_type": "code",
      "metadata": {
        "id": "W5Ej2gb9hVBl",
        "outputId": "57e33e01-30e1-447a-f4d0-85a56eaa5cca",
        "colab": {
          "base_uri": "https://localhost:8080/",
          "height": 226
        }
      },
      "source": [
        "df2 = df2.merge(df1, on='CODGEO', how='outer')\n",
        "df2.head()"
      ],
      "execution_count": null,
      "outputs": [
        {
          "output_type": "execute_result",
          "data": {
            "text/html": [
              "<div>\n",
              "<style scoped>\n",
              "    .dataframe tbody tr th:only-of-type {\n",
              "        vertical-align: middle;\n",
              "    }\n",
              "\n",
              "    .dataframe tbody tr th {\n",
              "        vertical-align: top;\n",
              "    }\n",
              "\n",
              "    .dataframe thead th {\n",
              "        text-align: right;\n",
              "    }\n",
              "</style>\n",
              "<table border=\"1\" class=\"dataframe\">\n",
              "  <thead>\n",
              "    <tr style=\"text-align: right;\">\n",
              "      <th></th>\n",
              "      <th>CODGEO</th>\n",
              "      <th>P17_NSCOL15P</th>\n",
              "      <th>P17_NSCOL15P_DIPLMIN</th>\n",
              "      <th>TOT_POP15P</th>\n",
              "      <th>TOT_NSCOL15P</th>\n",
              "      <th>TX_NSCOL15P</th>\n",
              "      <th>P16_ACT1564</th>\n",
              "      <th>TX_MENSEUL</th>\n",
              "      <th>TX_FAMMONO</th>\n",
              "      <th>TX_65ETPLUS</th>\n",
              "      <th>ABC_TOT</th>\n",
              "    </tr>\n",
              "  </thead>\n",
              "  <tbody>\n",
              "    <tr>\n",
              "      <th>0</th>\n",
              "      <td>1001</td>\n",
              "      <td>558.105307</td>\n",
              "      <td>107.168650</td>\n",
              "      <td>614.445217</td>\n",
              "      <td>320.459483</td>\n",
              "      <td>52.154281</td>\n",
              "      <td>376.000000</td>\n",
              "      <td>22.823614</td>\n",
              "      <td>4.831504</td>\n",
              "      <td>23.779236</td>\n",
              "      <td>NaN</td>\n",
              "    </tr>\n",
              "    <tr>\n",
              "      <th>1</th>\n",
              "      <td>1002</td>\n",
              "      <td>178.600823</td>\n",
              "      <td>22.452675</td>\n",
              "      <td>191.868313</td>\n",
              "      <td>77.563786</td>\n",
              "      <td>40.425532</td>\n",
              "      <td>123.000000</td>\n",
              "      <td>28.571429</td>\n",
              "      <td>4.761905</td>\n",
              "      <td>23.404255</td>\n",
              "      <td>NaN</td>\n",
              "    </tr>\n",
              "    <tr>\n",
              "      <th>2</th>\n",
              "      <td>1004</td>\n",
              "      <td>10149.026196</td>\n",
              "      <td>2207.010696</td>\n",
              "      <td>11309.467304</td>\n",
              "      <td>5595.312233</td>\n",
              "      <td>49.474587</td>\n",
              "      <td>6697.333122</td>\n",
              "      <td>41.515231</td>\n",
              "      <td>10.216084</td>\n",
              "      <td>20.733915</td>\n",
              "      <td>NaN</td>\n",
              "    </tr>\n",
              "    <tr>\n",
              "      <th>3</th>\n",
              "      <td>1005</td>\n",
              "      <td>1234.359736</td>\n",
              "      <td>294.111609</td>\n",
              "      <td>1344.987086</td>\n",
              "      <td>720.572494</td>\n",
              "      <td>53.574678</td>\n",
              "      <td>864.845592</td>\n",
              "      <td>21.076206</td>\n",
              "      <td>6.601983</td>\n",
              "      <td>19.488442</td>\n",
              "      <td>NaN</td>\n",
              "    </tr>\n",
              "    <tr>\n",
              "      <th>4</th>\n",
              "      <td>1006</td>\n",
              "      <td>95.863636</td>\n",
              "      <td>17.154545</td>\n",
              "      <td>98.890909</td>\n",
              "      <td>52.472727</td>\n",
              "      <td>53.061224</td>\n",
              "      <td>58.000000</td>\n",
              "      <td>36.363636</td>\n",
              "      <td>9.090909</td>\n",
              "      <td>26.530612</td>\n",
              "      <td>NaN</td>\n",
              "    </tr>\n",
              "  </tbody>\n",
              "</table>\n",
              "</div>"
            ],
            "text/plain": [
              "  CODGEO  P17_NSCOL15P  P17_NSCOL15P_DIPLMIN  ...  TX_FAMMONO  TX_65ETPLUS  ABC_TOT\n",
              "0   1001    558.105307            107.168650  ...    4.831504    23.779236      NaN\n",
              "1   1002    178.600823             22.452675  ...    4.761905    23.404255      NaN\n",
              "2   1004  10149.026196           2207.010696  ...   10.216084    20.733915      NaN\n",
              "3   1005   1234.359736            294.111609  ...    6.601983    19.488442      NaN\n",
              "4   1006     95.863636             17.154545  ...    9.090909    26.530612      NaN\n",
              "\n",
              "[5 rows x 11 columns]"
            ]
          },
          "metadata": {
            "tags": []
          },
          "execution_count": 24
        }
      ]
    },
    {
      "cell_type": "code",
      "metadata": {
        "id": "wt1D1jLKh4Yp",
        "outputId": "c6df2c42-fdad-4eed-d6e4-3d31a9c7a35b",
        "colab": {
          "base_uri": "https://localhost:8080/",
          "height": 206
        }
      },
      "source": [
        "df2 = df2.drop(columns = ['P17_NSCOL15P','P17_NSCOL15P_DIPLMIN', 'TOT_POP15P', 'TOT_NSCOL15P'])\n",
        "df2.head()"
      ],
      "execution_count": null,
      "outputs": [
        {
          "output_type": "execute_result",
          "data": {
            "text/html": [
              "<div>\n",
              "<style scoped>\n",
              "    .dataframe tbody tr th:only-of-type {\n",
              "        vertical-align: middle;\n",
              "    }\n",
              "\n",
              "    .dataframe tbody tr th {\n",
              "        vertical-align: top;\n",
              "    }\n",
              "\n",
              "    .dataframe thead th {\n",
              "        text-align: right;\n",
              "    }\n",
              "</style>\n",
              "<table border=\"1\" class=\"dataframe\">\n",
              "  <thead>\n",
              "    <tr style=\"text-align: right;\">\n",
              "      <th></th>\n",
              "      <th>CODGEO</th>\n",
              "      <th>TX_NSCOL15P</th>\n",
              "      <th>P16_ACT1564</th>\n",
              "      <th>TX_MENSEUL</th>\n",
              "      <th>TX_FAMMONO</th>\n",
              "      <th>TX_65ETPLUS</th>\n",
              "      <th>ABC_TOT</th>\n",
              "    </tr>\n",
              "  </thead>\n",
              "  <tbody>\n",
              "    <tr>\n",
              "      <th>0</th>\n",
              "      <td>1001</td>\n",
              "      <td>52.154281</td>\n",
              "      <td>376.000000</td>\n",
              "      <td>22.823614</td>\n",
              "      <td>4.831504</td>\n",
              "      <td>23.779236</td>\n",
              "      <td>NaN</td>\n",
              "    </tr>\n",
              "    <tr>\n",
              "      <th>1</th>\n",
              "      <td>1002</td>\n",
              "      <td>40.425532</td>\n",
              "      <td>123.000000</td>\n",
              "      <td>28.571429</td>\n",
              "      <td>4.761905</td>\n",
              "      <td>23.404255</td>\n",
              "      <td>NaN</td>\n",
              "    </tr>\n",
              "    <tr>\n",
              "      <th>2</th>\n",
              "      <td>1004</td>\n",
              "      <td>49.474587</td>\n",
              "      <td>6697.333122</td>\n",
              "      <td>41.515231</td>\n",
              "      <td>10.216084</td>\n",
              "      <td>20.733915</td>\n",
              "      <td>NaN</td>\n",
              "    </tr>\n",
              "    <tr>\n",
              "      <th>3</th>\n",
              "      <td>1005</td>\n",
              "      <td>53.574678</td>\n",
              "      <td>864.845592</td>\n",
              "      <td>21.076206</td>\n",
              "      <td>6.601983</td>\n",
              "      <td>19.488442</td>\n",
              "      <td>NaN</td>\n",
              "    </tr>\n",
              "    <tr>\n",
              "      <th>4</th>\n",
              "      <td>1006</td>\n",
              "      <td>53.061224</td>\n",
              "      <td>58.000000</td>\n",
              "      <td>36.363636</td>\n",
              "      <td>9.090909</td>\n",
              "      <td>26.530612</td>\n",
              "      <td>NaN</td>\n",
              "    </tr>\n",
              "  </tbody>\n",
              "</table>\n",
              "</div>"
            ],
            "text/plain": [
              "  CODGEO  TX_NSCOL15P  P16_ACT1564  ...  TX_FAMMONO  TX_65ETPLUS  ABC_TOT\n",
              "0   1001    52.154281   376.000000  ...    4.831504    23.779236      NaN\n",
              "1   1002    40.425532   123.000000  ...    4.761905    23.404255      NaN\n",
              "2   1004    49.474587  6697.333122  ...   10.216084    20.733915      NaN\n",
              "3   1005    53.574678   864.845592  ...    6.601983    19.488442      NaN\n",
              "4   1006    53.061224    58.000000  ...    9.090909    26.530612      NaN\n",
              "\n",
              "[5 rows x 7 columns]"
            ]
          },
          "metadata": {
            "tags": []
          },
          "execution_count": 25
        }
      ]
    },
    {
      "cell_type": "code",
      "metadata": {
        "id": "bpeYv2GOUeNx"
      },
      "source": [
        "df2.to_csv('df2.csv')"
      ],
      "execution_count": null,
      "outputs": []
    },
    {
      "cell_type": "code",
      "metadata": {
        "id": "PJEOKpFy1vjX"
      },
      "source": [
        "del scol\n",
        "del pop_active"
      ],
      "execution_count": null,
      "outputs": []
    },
    {
      "cell_type": "markdown",
      "metadata": {
        "id": "HClIw-WMkyg_"
      },
      "source": [
        "## Dataset final"
      ]
    },
    {
      "cell_type": "code",
      "metadata": {
        "id": "si4gmevIk1yO",
        "outputId": "5f431564-2709-4f80-bd4b-0deacd1949d3",
        "colab": {
          "base_uri": "https://localhost:8080/",
          "height": 206
        }
      },
      "source": [
        "data = df2\n",
        "data['TX_DEMANDEUR_EMPLOIS'] = (data['ABC_TOT']/data['P16_ACT1564'])*100\n",
        "data = data.drop(columns=['ABC_TOT', 'P16_ACT1564'])\n",
        "data.head()"
      ],
      "execution_count": null,
      "outputs": [
        {
          "output_type": "execute_result",
          "data": {
            "text/html": [
              "<div>\n",
              "<style scoped>\n",
              "    .dataframe tbody tr th:only-of-type {\n",
              "        vertical-align: middle;\n",
              "    }\n",
              "\n",
              "    .dataframe tbody tr th {\n",
              "        vertical-align: top;\n",
              "    }\n",
              "\n",
              "    .dataframe thead th {\n",
              "        text-align: right;\n",
              "    }\n",
              "</style>\n",
              "<table border=\"1\" class=\"dataframe\">\n",
              "  <thead>\n",
              "    <tr style=\"text-align: right;\">\n",
              "      <th></th>\n",
              "      <th>CODGEO</th>\n",
              "      <th>TX_NSCOL15P</th>\n",
              "      <th>TX_MENSEUL</th>\n",
              "      <th>TX_FAMMONO</th>\n",
              "      <th>TX_65ETPLUS</th>\n",
              "      <th>TX_DEMANDEUR_EMPLOIS</th>\n",
              "    </tr>\n",
              "  </thead>\n",
              "  <tbody>\n",
              "    <tr>\n",
              "      <th>0</th>\n",
              "      <td>1001</td>\n",
              "      <td>52.154281</td>\n",
              "      <td>22.823614</td>\n",
              "      <td>4.831504</td>\n",
              "      <td>23.779236</td>\n",
              "      <td>NaN</td>\n",
              "    </tr>\n",
              "    <tr>\n",
              "      <th>1</th>\n",
              "      <td>1002</td>\n",
              "      <td>40.425532</td>\n",
              "      <td>28.571429</td>\n",
              "      <td>4.761905</td>\n",
              "      <td>23.404255</td>\n",
              "      <td>NaN</td>\n",
              "    </tr>\n",
              "    <tr>\n",
              "      <th>2</th>\n",
              "      <td>1004</td>\n",
              "      <td>49.474587</td>\n",
              "      <td>41.515231</td>\n",
              "      <td>10.216084</td>\n",
              "      <td>20.733915</td>\n",
              "      <td>NaN</td>\n",
              "    </tr>\n",
              "    <tr>\n",
              "      <th>3</th>\n",
              "      <td>1005</td>\n",
              "      <td>53.574678</td>\n",
              "      <td>21.076206</td>\n",
              "      <td>6.601983</td>\n",
              "      <td>19.488442</td>\n",
              "      <td>NaN</td>\n",
              "    </tr>\n",
              "    <tr>\n",
              "      <th>4</th>\n",
              "      <td>1006</td>\n",
              "      <td>53.061224</td>\n",
              "      <td>36.363636</td>\n",
              "      <td>9.090909</td>\n",
              "      <td>26.530612</td>\n",
              "      <td>NaN</td>\n",
              "    </tr>\n",
              "  </tbody>\n",
              "</table>\n",
              "</div>"
            ],
            "text/plain": [
              "  CODGEO  TX_NSCOL15P  ...  TX_65ETPLUS  TX_DEMANDEUR_EMPLOIS\n",
              "0   1001    52.154281  ...    23.779236                   NaN\n",
              "1   1002    40.425532  ...    23.404255                   NaN\n",
              "2   1004    49.474587  ...    20.733915                   NaN\n",
              "3   1005    53.574678  ...    19.488442                   NaN\n",
              "4   1006    53.061224  ...    26.530612                   NaN\n",
              "\n",
              "[5 rows x 6 columns]"
            ]
          },
          "metadata": {
            "tags": []
          },
          "execution_count": 28
        }
      ]
    },
    {
      "cell_type": "code",
      "metadata": {
        "id": "OTvqcE4r7anR"
      },
      "source": [
        "dir = '/content/drive/My Drive/Data4Good/8_Mednum/'\n",
        "data.to_csv(f'{dir}data_scol_menage_demandeurEmplois.csv')"
      ],
      "execution_count": null,
      "outputs": []
    },
    {
      "cell_type": "code",
      "metadata": {
        "id": "JYCX32p4Exac",
        "outputId": "345b9d22-6575-43e3-cf6f-445d9a1ec5a2",
        "colab": {
          "base_uri": "https://localhost:8080/",
          "height": 36
        }
      },
      "source": [
        "data.shape"
      ],
      "execution_count": null,
      "outputs": [
        {
          "output_type": "execute_result",
          "data": {
            "text/plain": [
              "(36114, 6)"
            ]
          },
          "metadata": {
            "tags": []
          },
          "execution_count": 30
        }
      ]
    }
  ]
}