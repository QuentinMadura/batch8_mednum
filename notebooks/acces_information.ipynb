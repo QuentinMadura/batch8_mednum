{
  "nbformat": 4,
  "nbformat_minor": 0,
  "metadata": {
    "colab": {
      "name": "carte_mediatheque.ipynb",
      "provenance": [],
      "collapsed_sections": [],
      "toc_visible": true,
      "include_colab_link": true
    },
    "kernelspec": {
      "name": "python3",
      "display_name": "Python 3"
    }
  },
  "cells": [
    {
      "cell_type": "markdown",
      "metadata": {
        "id": "view-in-github",
        "colab_type": "text"
      },
      "source": [
        "<a href=\"https://colab.research.google.com/github/dataforgoodfr/batch8_mednum/blob/master/notebooks/acces_information.ipynb\" target=\"_parent\"><img src=\"https://colab.research.google.com/assets/colab-badge.svg\" alt=\"Open In Colab\"/></a>"
      ]
    },
    {
      "cell_type": "markdown",
      "metadata": {
        "id": "t_HA6Y74Bj6Y"
      },
      "source": [
        "## 1. Liste des médiathèques\n"
      ]
    },
    {
      "cell_type": "code",
      "metadata": {
        "id": "lTy9Hg7uY623",
        "outputId": "a4d7f681-083a-4bf8-8986-79bf7ed922f6",
        "colab": {
          "base_uri": "https://localhost:8080/",
          "height": 260
        }
      },
      "source": [
        "# get mediatheques map\n",
        "import pandas as pd\n",
        "import numpy as np\n",
        "!pip install pgeocode"
      ],
      "execution_count": 14,
      "outputs": [
        {
          "output_type": "stream",
          "text": [
            "Collecting pgeocode\n",
            "  Downloading https://files.pythonhosted.org/packages/35/88/688b8550ceeed59a4b0be3f54d2ad8075ce708b5d5c0b0ec1a3abe58d4cb/pgeocode-0.3.0-py3-none-any.whl\n",
            "Requirement already satisfied: pandas in /usr/local/lib/python3.6/dist-packages (from pgeocode) (1.1.3)\n",
            "Requirement already satisfied: numpy in /usr/local/lib/python3.6/dist-packages (from pgeocode) (1.18.5)\n",
            "Requirement already satisfied: requests in /usr/local/lib/python3.6/dist-packages (from pgeocode) (2.23.0)\n",
            "Requirement already satisfied: pytz>=2017.2 in /usr/local/lib/python3.6/dist-packages (from pandas->pgeocode) (2018.9)\n",
            "Requirement already satisfied: python-dateutil>=2.7.3 in /usr/local/lib/python3.6/dist-packages (from pandas->pgeocode) (2.8.1)\n",
            "Requirement already satisfied: idna<3,>=2.5 in /usr/local/lib/python3.6/dist-packages (from requests->pgeocode) (2.10)\n",
            "Requirement already satisfied: urllib3!=1.25.0,!=1.25.1,<1.26,>=1.21.1 in /usr/local/lib/python3.6/dist-packages (from requests->pgeocode) (1.24.3)\n",
            "Requirement already satisfied: certifi>=2017.4.17 in /usr/local/lib/python3.6/dist-packages (from requests->pgeocode) (2020.6.20)\n",
            "Requirement already satisfied: chardet<4,>=3.0.2 in /usr/local/lib/python3.6/dist-packages (from requests->pgeocode) (3.0.4)\n",
            "Requirement already satisfied: six>=1.5 in /usr/local/lib/python3.6/dist-packages (from python-dateutil>=2.7.3->pandas->pgeocode) (1.15.0)\n",
            "Installing collected packages: pgeocode\n",
            "Successfully installed pgeocode-0.3.0\n"
          ],
          "name": "stdout"
        }
      ]
    },
    {
      "cell_type": "code",
      "metadata": {
        "id": "0-xH_tWAtWZj",
        "outputId": "e3167a04-d6a9-4ad0-bdf0-68b135d7451e",
        "colab": {
          "base_uri": "https://localhost:8080/",
          "height": 34
        }
      },
      "source": [
        "from google.colab import drive\n",
        "drive.mount(\"/content/drive\")"
      ],
      "execution_count": 7,
      "outputs": [
        {
          "output_type": "stream",
          "text": [
            "Mounted at /content/drive\n"
          ],
          "name": "stdout"
        }
      ]
    },
    {
      "cell_type": "code",
      "metadata": {
        "id": "8tBKP6-Ftkw2",
        "outputId": "c2b89394-482e-4fdd-fd5f-ce687257ab8a",
        "colab": {
          "base_uri": "https://localhost:8080/",
          "height": 173
        }
      },
      "source": [
        "import pgeocode\n",
        "dist = pgeocode.GeoDistance('fr')\n",
        "\n",
        "!rm -rf batch8_mednum/\n",
        "!git clone https://github.com/dataforgoodfr/batch8_mednum.git\n",
        "!mv batch8_mednum/data/table_iris_insee_epci.csv .\n",
        "!ls\n",
        "\n",
        "#commune = pd.read_csv('table_iris_insee_epci.csv')\n",
        "#del commune['Unnamed: 0']\n",
        "commune = pd.read_csv('/content/drive/My Drive/Colab Notebooks/laposte_hexasmal.csv', delimiter=';')\n",
        "commune.rename(columns={'Code_postal': 'code_postal'}, inplace=True)\n",
        "code_postal = []\n",
        "for value in commune[\"code_postal\"]:\n",
        "    value = str(value)\n",
        "    code_postal.append(value.zfill(5))\n",
        "len(code_postal)\n",
        "commune[\"code_postal\"] = code_postal"
      ],
      "execution_count": 22,
      "outputs": [
        {
          "output_type": "stream",
          "text": [
            "Cloning into 'batch8_mednum'...\n",
            "remote: Enumerating objects: 120, done.\u001b[K\n",
            "remote: Counting objects: 100% (120/120), done.\u001b[K\n",
            "remote: Compressing objects: 100% (108/108), done.\u001b[K\n",
            "remote: Total 120 (delta 60), reused 30 (delta 8), pack-reused 0\u001b[K\n",
            "Receiving objects: 100% (120/120), 5.30 MiB | 6.79 MiB/s, done.\n",
            "Resolving deltas: 100% (60/60), done.\n",
            "batch8_mednum  France-services\t\tsample_data\n",
            "drive\t       france_services.geojson\ttable_iris_insee_epci.csv\n"
          ],
          "name": "stdout"
        }
      ]
    },
    {
      "cell_type": "code",
      "metadata": {
        "id": "vcet6HSodk2r",
        "outputId": "d64af9c0-142f-44ec-838f-f5d3cdf50a5f",
        "colab": {
          "base_uri": "https://localhost:8080/",
          "height": 424
        }
      },
      "source": [
        "commune"
      ],
      "execution_count": 23,
      "outputs": [
        {
          "output_type": "execute_result",
          "data": {
            "text/html": [
              "<div>\n",
              "<style scoped>\n",
              "    .dataframe tbody tr th:only-of-type {\n",
              "        vertical-align: middle;\n",
              "    }\n",
              "\n",
              "    .dataframe tbody tr th {\n",
              "        vertical-align: top;\n",
              "    }\n",
              "\n",
              "    .dataframe thead th {\n",
              "        text-align: right;\n",
              "    }\n",
              "</style>\n",
              "<table border=\"1\" class=\"dataframe\">\n",
              "  <thead>\n",
              "    <tr style=\"text-align: right;\">\n",
              "      <th></th>\n",
              "      <th>Code_commune_INSEE</th>\n",
              "      <th>Nom_commune</th>\n",
              "      <th>code_postal</th>\n",
              "      <th>Ligne_5</th>\n",
              "      <th>Libellé_d_acheminement</th>\n",
              "      <th>coordonnees_gps</th>\n",
              "    </tr>\n",
              "  </thead>\n",
              "  <tbody>\n",
              "    <tr>\n",
              "      <th>0</th>\n",
              "      <td>01004</td>\n",
              "      <td>AMBERIEU EN BUGEY</td>\n",
              "      <td>01500</td>\n",
              "      <td>NaN</td>\n",
              "      <td>AMBERIEU EN BUGEY</td>\n",
              "      <td>45.9608475114,5.3729257777</td>\n",
              "    </tr>\n",
              "    <tr>\n",
              "      <th>1</th>\n",
              "      <td>01008</td>\n",
              "      <td>AMBUTRIX</td>\n",
              "      <td>01500</td>\n",
              "      <td>NaN</td>\n",
              "      <td>AMBUTRIX</td>\n",
              "      <td>45.9367134524,5.3328092349</td>\n",
              "    </tr>\n",
              "    <tr>\n",
              "      <th>2</th>\n",
              "      <td>01015</td>\n",
              "      <td>ARBOYS EN BUGEY</td>\n",
              "      <td>01300</td>\n",
              "      <td>ST BOIS</td>\n",
              "      <td>ARBOYS EN BUGEY</td>\n",
              "      <td>45.7237621545,5.65263086429</td>\n",
              "    </tr>\n",
              "    <tr>\n",
              "      <th>3</th>\n",
              "      <td>01017</td>\n",
              "      <td>ARGIS</td>\n",
              "      <td>01230</td>\n",
              "      <td>NaN</td>\n",
              "      <td>ARGIS</td>\n",
              "      <td>45.9337182132,5.48251100314</td>\n",
              "    </tr>\n",
              "    <tr>\n",
              "      <th>4</th>\n",
              "      <td>01019</td>\n",
              "      <td>ARMIX</td>\n",
              "      <td>01510</td>\n",
              "      <td>NaN</td>\n",
              "      <td>ARMIX</td>\n",
              "      <td>45.8541838459,5.58357838695</td>\n",
              "    </tr>\n",
              "    <tr>\n",
              "      <th>...</th>\n",
              "      <td>...</td>\n",
              "      <td>...</td>\n",
              "      <td>...</td>\n",
              "      <td>...</td>\n",
              "      <td>...</td>\n",
              "      <td>...</td>\n",
              "    </tr>\n",
              "    <tr>\n",
              "      <th>39187</th>\n",
              "      <td>98824</td>\n",
              "      <td>POUEBO</td>\n",
              "      <td>98824</td>\n",
              "      <td>NaN</td>\n",
              "      <td>POUEBO</td>\n",
              "      <td>NaN</td>\n",
              "    </tr>\n",
              "    <tr>\n",
              "      <th>39188</th>\n",
              "      <td>98825</td>\n",
              "      <td>POUEMBOUT</td>\n",
              "      <td>98825</td>\n",
              "      <td>NaN</td>\n",
              "      <td>POUEMBOUT</td>\n",
              "      <td>NaN</td>\n",
              "    </tr>\n",
              "    <tr>\n",
              "      <th>39189</th>\n",
              "      <td>98828</td>\n",
              "      <td>SARRAMEA</td>\n",
              "      <td>98882</td>\n",
              "      <td>NaN</td>\n",
              "      <td>SARRAMEA</td>\n",
              "      <td>NaN</td>\n",
              "    </tr>\n",
              "    <tr>\n",
              "      <th>39190</th>\n",
              "      <td>98830</td>\n",
              "      <td>TOUHO</td>\n",
              "      <td>98831</td>\n",
              "      <td>NaN</td>\n",
              "      <td>TOUHO</td>\n",
              "      <td>NaN</td>\n",
              "    </tr>\n",
              "    <tr>\n",
              "      <th>39191</th>\n",
              "      <td>98901</td>\n",
              "      <td>ILE DE CLIPPERTON</td>\n",
              "      <td>98799</td>\n",
              "      <td>NaN</td>\n",
              "      <td>ILE DE CLIPPERTON</td>\n",
              "      <td>NaN</td>\n",
              "    </tr>\n",
              "  </tbody>\n",
              "</table>\n",
              "<p>39192 rows × 6 columns</p>\n",
              "</div>"
            ],
            "text/plain": [
              "      Code_commune_INSEE  ...              coordonnees_gps\n",
              "0                  01004  ...   45.9608475114,5.3729257777\n",
              "1                  01008  ...   45.9367134524,5.3328092349\n",
              "2                  01015  ...  45.7237621545,5.65263086429\n",
              "3                  01017  ...  45.9337182132,5.48251100314\n",
              "4                  01019  ...  45.8541838459,5.58357838695\n",
              "...                  ...  ...                          ...\n",
              "39187              98824  ...                          NaN\n",
              "39188              98825  ...                          NaN\n",
              "39189              98828  ...                          NaN\n",
              "39190              98830  ...                          NaN\n",
              "39191              98901  ...                          NaN\n",
              "\n",
              "[39192 rows x 6 columns]"
            ]
          },
          "metadata": {
            "tags": []
          },
          "execution_count": 23
        }
      ]
    },
    {
      "cell_type": "code",
      "metadata": {
        "id": "0uiJI65XtwW5",
        "outputId": "807b55ff-3dc3-45ff-becb-c0991479a55f",
        "colab": {
          "base_uri": "https://localhost:8080/",
          "height": 521
        }
      },
      "source": [
        "df = pd.read_csv('/content/drive/My Drive/Colab Notebooks/carte-des-bibliotheques.csv', header=0, sep=';')\n",
        "df.rename(columns={'Code postal': 'code_postal'}, inplace=True)\n",
        "print(df.shape)\n",
        "df.head()"
      ],
      "execution_count": 41,
      "outputs": [
        {
          "output_type": "stream",
          "text": [
            "(844, 21)\n"
          ],
          "name": "stdout"
        },
        {
          "output_type": "execute_result",
          "data": {
            "text/html": [
              "<div>\n",
              "<style scoped>\n",
              "    .dataframe tbody tr th:only-of-type {\n",
              "        vertical-align: middle;\n",
              "    }\n",
              "\n",
              "    .dataframe tbody tr th {\n",
              "        vertical-align: top;\n",
              "    }\n",
              "\n",
              "    .dataframe thead th {\n",
              "        text-align: right;\n",
              "    }\n",
              "</style>\n",
              "<table border=\"1\" class=\"dataframe\">\n",
              "  <thead>\n",
              "    <tr style=\"text-align: right;\">\n",
              "      <th></th>\n",
              "      <th>Nom structure</th>\n",
              "      <th>Adresse</th>\n",
              "      <th>code_postal</th>\n",
              "      <th>Département</th>\n",
              "      <th>Ville</th>\n",
              "      <th>Année(s) subvention Région</th>\n",
              "      <th>Montant subvention 2000</th>\n",
              "      <th>Montant subvention 2001</th>\n",
              "      <th>Montant subvention 2002</th>\n",
              "      <th>Montant subvention 2003</th>\n",
              "      <th>Montant subvention 2004</th>\n",
              "      <th>Montant subvention 2005</th>\n",
              "      <th>Montant subvention 2006</th>\n",
              "      <th>Montant subvention 2007</th>\n",
              "      <th>Montant subvention 2008</th>\n",
              "      <th>Montant subvention 2009</th>\n",
              "      <th>Montant subvention 2010</th>\n",
              "      <th>Montant subvention 2011</th>\n",
              "      <th>Montant subvention 2012</th>\n",
              "      <th>Montant subvention 2013</th>\n",
              "      <th>wgs84</th>\n",
              "    </tr>\n",
              "  </thead>\n",
              "  <tbody>\n",
              "    <tr>\n",
              "      <th>0</th>\n",
              "      <td>MÉDIATHÈQUE SAINT-JOHN PERSE</td>\n",
              "      <td>2 rue Édouard Poisson</td>\n",
              "      <td>93300</td>\n",
              "      <td>93</td>\n",
              "      <td>AUBERVILLIERS</td>\n",
              "      <td>NaN</td>\n",
              "      <td>NaN</td>\n",
              "      <td>NaN</td>\n",
              "      <td>NaN</td>\n",
              "      <td>NaN</td>\n",
              "      <td>NaN</td>\n",
              "      <td>NaN</td>\n",
              "      <td>NaN</td>\n",
              "      <td>NaN</td>\n",
              "      <td>NaN</td>\n",
              "      <td>NaN</td>\n",
              "      <td>NaN</td>\n",
              "      <td>NaN</td>\n",
              "      <td>NaN</td>\n",
              "      <td>NaN</td>\n",
              "      <td>48.9104747,2.385008</td>\n",
              "    </tr>\n",
              "    <tr>\n",
              "      <th>1</th>\n",
              "      <td>MÉDIATHÈQUE GEORGES PÉREC</td>\n",
              "      <td>8-10 rue du Marqis de Raies</td>\n",
              "      <td>91080</td>\n",
              "      <td>91</td>\n",
              "      <td>COURCOURONNES</td>\n",
              "      <td>NaN</td>\n",
              "      <td>NaN</td>\n",
              "      <td>NaN</td>\n",
              "      <td>NaN</td>\n",
              "      <td>NaN</td>\n",
              "      <td>NaN</td>\n",
              "      <td>NaN</td>\n",
              "      <td>NaN</td>\n",
              "      <td>NaN</td>\n",
              "      <td>NaN</td>\n",
              "      <td>NaN</td>\n",
              "      <td>NaN</td>\n",
              "      <td>NaN</td>\n",
              "      <td>NaN</td>\n",
              "      <td>NaN</td>\n",
              "      <td>48.6293899,2.4135832</td>\n",
              "    </tr>\n",
              "    <tr>\n",
              "      <th>2</th>\n",
              "      <td>MÉDIATHÈQUE LES MUSES</td>\n",
              "      <td>101 rue de la Division Leclerc</td>\n",
              "      <td>91310</td>\n",
              "      <td>91</td>\n",
              "      <td>LINAS</td>\n",
              "      <td>NaN</td>\n",
              "      <td>NaN</td>\n",
              "      <td>NaN</td>\n",
              "      <td>NaN</td>\n",
              "      <td>NaN</td>\n",
              "      <td>NaN</td>\n",
              "      <td>NaN</td>\n",
              "      <td>NaN</td>\n",
              "      <td>NaN</td>\n",
              "      <td>NaN</td>\n",
              "      <td>NaN</td>\n",
              "      <td>NaN</td>\n",
              "      <td>NaN</td>\n",
              "      <td>NaN</td>\n",
              "      <td>NaN</td>\n",
              "      <td>48.6305113,2.2650636</td>\n",
              "    </tr>\n",
              "    <tr>\n",
              "      <th>3</th>\n",
              "      <td>MÉDIATHÈQUE MUNICIPALE</td>\n",
              "      <td>2 route de la Creusée</td>\n",
              "      <td>91530</td>\n",
              "      <td>91</td>\n",
              "      <td>LE-VAL-SAINT-GERMAIN</td>\n",
              "      <td>NaN</td>\n",
              "      <td>NaN</td>\n",
              "      <td>NaN</td>\n",
              "      <td>NaN</td>\n",
              "      <td>NaN</td>\n",
              "      <td>NaN</td>\n",
              "      <td>NaN</td>\n",
              "      <td>NaN</td>\n",
              "      <td>NaN</td>\n",
              "      <td>NaN</td>\n",
              "      <td>NaN</td>\n",
              "      <td>NaN</td>\n",
              "      <td>NaN</td>\n",
              "      <td>NaN</td>\n",
              "      <td>NaN</td>\n",
              "      <td>48.5657217,2.0601725</td>\n",
              "    </tr>\n",
              "    <tr>\n",
              "      <th>4</th>\n",
              "      <td>BIBLIOTHÈQUE LE GRENIER</td>\n",
              "      <td>5 place des Droits de l'Homme</td>\n",
              "      <td>91800</td>\n",
              "      <td>91</td>\n",
              "      <td>BOUSSY-SAINT-ANTOINE</td>\n",
              "      <td>NaN</td>\n",
              "      <td>NaN</td>\n",
              "      <td>NaN</td>\n",
              "      <td>NaN</td>\n",
              "      <td>NaN</td>\n",
              "      <td>NaN</td>\n",
              "      <td>NaN</td>\n",
              "      <td>NaN</td>\n",
              "      <td>NaN</td>\n",
              "      <td>NaN</td>\n",
              "      <td>NaN</td>\n",
              "      <td>NaN</td>\n",
              "      <td>NaN</td>\n",
              "      <td>NaN</td>\n",
              "      <td>NaN</td>\n",
              "      <td>48.6891076,2.5297452</td>\n",
              "    </tr>\n",
              "  </tbody>\n",
              "</table>\n",
              "</div>"
            ],
            "text/plain": [
              "                  Nom structure  ...                 wgs84\n",
              "0  MÉDIATHÈQUE SAINT-JOHN PERSE  ...   48.9104747,2.385008\n",
              "1     MÉDIATHÈQUE GEORGES PÉREC  ...  48.6293899,2.4135832\n",
              "2         MÉDIATHÈQUE LES MUSES  ...  48.6305113,2.2650636\n",
              "3        MÉDIATHÈQUE MUNICIPALE  ...  48.5657217,2.0601725\n",
              "4       BIBLIOTHÈQUE LE GRENIER  ...  48.6891076,2.5297452\n",
              "\n",
              "[5 rows x 21 columns]"
            ]
          },
          "metadata": {
            "tags": []
          },
          "execution_count": 41
        }
      ]
    },
    {
      "cell_type": "code",
      "metadata": {
        "id": "gwqtxAy3u_YU",
        "outputId": "3d7fc10a-be26-4fd1-cedf-356f0cd15540",
        "colab": {
          "base_uri": "https://localhost:8080/",
          "height": 206
        }
      },
      "source": [
        "df = df[['code_postal', 'Ville', 'Département', 'Nom structure']]\n",
        "df.rename(columns={'Ville': 'Ville_bibliotheques'}, inplace=True)\n",
        "df['code_postal'] = df['code_postal'].astype(str)\n",
        "df.head()"
      ],
      "execution_count": 42,
      "outputs": [
        {
          "output_type": "execute_result",
          "data": {
            "text/html": [
              "<div>\n",
              "<style scoped>\n",
              "    .dataframe tbody tr th:only-of-type {\n",
              "        vertical-align: middle;\n",
              "    }\n",
              "\n",
              "    .dataframe tbody tr th {\n",
              "        vertical-align: top;\n",
              "    }\n",
              "\n",
              "    .dataframe thead th {\n",
              "        text-align: right;\n",
              "    }\n",
              "</style>\n",
              "<table border=\"1\" class=\"dataframe\">\n",
              "  <thead>\n",
              "    <tr style=\"text-align: right;\">\n",
              "      <th></th>\n",
              "      <th>code_postal</th>\n",
              "      <th>Ville_bibliotheques</th>\n",
              "      <th>Département</th>\n",
              "      <th>Nom structure</th>\n",
              "    </tr>\n",
              "  </thead>\n",
              "  <tbody>\n",
              "    <tr>\n",
              "      <th>0</th>\n",
              "      <td>93300</td>\n",
              "      <td>AUBERVILLIERS</td>\n",
              "      <td>93</td>\n",
              "      <td>MÉDIATHÈQUE SAINT-JOHN PERSE</td>\n",
              "    </tr>\n",
              "    <tr>\n",
              "      <th>1</th>\n",
              "      <td>91080</td>\n",
              "      <td>COURCOURONNES</td>\n",
              "      <td>91</td>\n",
              "      <td>MÉDIATHÈQUE GEORGES PÉREC</td>\n",
              "    </tr>\n",
              "    <tr>\n",
              "      <th>2</th>\n",
              "      <td>91310</td>\n",
              "      <td>LINAS</td>\n",
              "      <td>91</td>\n",
              "      <td>MÉDIATHÈQUE LES MUSES</td>\n",
              "    </tr>\n",
              "    <tr>\n",
              "      <th>3</th>\n",
              "      <td>91530</td>\n",
              "      <td>LE-VAL-SAINT-GERMAIN</td>\n",
              "      <td>91</td>\n",
              "      <td>MÉDIATHÈQUE MUNICIPALE</td>\n",
              "    </tr>\n",
              "    <tr>\n",
              "      <th>4</th>\n",
              "      <td>91800</td>\n",
              "      <td>BOUSSY-SAINT-ANTOINE</td>\n",
              "      <td>91</td>\n",
              "      <td>BIBLIOTHÈQUE LE GRENIER</td>\n",
              "    </tr>\n",
              "  </tbody>\n",
              "</table>\n",
              "</div>"
            ],
            "text/plain": [
              "  code_postal   Ville_bibliotheques  Département                 Nom structure\n",
              "0       93300         AUBERVILLIERS           93  MÉDIATHÈQUE SAINT-JOHN PERSE\n",
              "1       91080         COURCOURONNES           91     MÉDIATHÈQUE GEORGES PÉREC\n",
              "2       91310                 LINAS           91         MÉDIATHÈQUE LES MUSES\n",
              "3       91530  LE-VAL-SAINT-GERMAIN           91        MÉDIATHÈQUE MUNICIPALE\n",
              "4       91800  BOUSSY-SAINT-ANTOINE           91       BIBLIOTHÈQUE LE GRENIER"
            ]
          },
          "metadata": {
            "tags": []
          },
          "execution_count": 42
        }
      ]
    },
    {
      "cell_type": "code",
      "metadata": {
        "id": "bsXZ--3Yx3hq"
      },
      "source": [
        "# mapping code postal - code INSEE\n",
        "#mapping = pd.read_csv('/content/drive/My Drive/Colab Notebooks/correspondances-code-insee-code-postal.csv', header=0, sep=';')\n",
        "#print(mapping.shape)\n",
        "#mapping.rename(columns={'Code Postal': 'Code postal'}, inplace=True)\n",
        "#mapping.drop_duplicates(inplace=True)\n",
        "#mapping.head()"
      ],
      "execution_count": 19,
      "outputs": []
    },
    {
      "cell_type": "code",
      "metadata": {
        "id": "DpogjcPX7LcK",
        "outputId": "a08bbd78-a596-4c86-c2e0-5f83f2f40fb6",
        "colab": {
          "base_uri": "https://localhost:8080/",
          "height": 424
        }
      },
      "source": [
        "biblio = commune[['Code_commune_INSEE', 'Nom_commune', 'code_postal']].merge(df, on='code_postal', how='outer',).dropna(subset=['Code_commune_INSEE']).reset_index(drop=True)\n",
        "biblio"
      ],
      "execution_count": 53,
      "outputs": [
        {
          "output_type": "execute_result",
          "data": {
            "text/html": [
              "<div>\n",
              "<style scoped>\n",
              "    .dataframe tbody tr th:only-of-type {\n",
              "        vertical-align: middle;\n",
              "    }\n",
              "\n",
              "    .dataframe tbody tr th {\n",
              "        vertical-align: top;\n",
              "    }\n",
              "\n",
              "    .dataframe thead th {\n",
              "        text-align: right;\n",
              "    }\n",
              "</style>\n",
              "<table border=\"1\" class=\"dataframe\">\n",
              "  <thead>\n",
              "    <tr style=\"text-align: right;\">\n",
              "      <th></th>\n",
              "      <th>Code_commune_INSEE</th>\n",
              "      <th>Nom_commune</th>\n",
              "      <th>code_postal</th>\n",
              "      <th>Ville_bibliotheques</th>\n",
              "      <th>Département</th>\n",
              "      <th>Nom structure</th>\n",
              "    </tr>\n",
              "  </thead>\n",
              "  <tbody>\n",
              "    <tr>\n",
              "      <th>0</th>\n",
              "      <td>01004</td>\n",
              "      <td>AMBERIEU EN BUGEY</td>\n",
              "      <td>01500</td>\n",
              "      <td>NaN</td>\n",
              "      <td>NaN</td>\n",
              "      <td>NaN</td>\n",
              "    </tr>\n",
              "    <tr>\n",
              "      <th>1</th>\n",
              "      <td>01008</td>\n",
              "      <td>AMBUTRIX</td>\n",
              "      <td>01500</td>\n",
              "      <td>NaN</td>\n",
              "      <td>NaN</td>\n",
              "      <td>NaN</td>\n",
              "    </tr>\n",
              "    <tr>\n",
              "      <th>2</th>\n",
              "      <td>01007</td>\n",
              "      <td>AMBRONAY</td>\n",
              "      <td>01500</td>\n",
              "      <td>NaN</td>\n",
              "      <td>NaN</td>\n",
              "      <td>NaN</td>\n",
              "    </tr>\n",
              "    <tr>\n",
              "      <th>3</th>\n",
              "      <td>01089</td>\n",
              "      <td>CHATEAU GAILLARD</td>\n",
              "      <td>01500</td>\n",
              "      <td>NaN</td>\n",
              "      <td>NaN</td>\n",
              "      <td>NaN</td>\n",
              "    </tr>\n",
              "    <tr>\n",
              "      <th>4</th>\n",
              "      <td>01379</td>\n",
              "      <td>ST MAURICE DE REMENS</td>\n",
              "      <td>01500</td>\n",
              "      <td>NaN</td>\n",
              "      <td>NaN</td>\n",
              "      <td>NaN</td>\n",
              "    </tr>\n",
              "    <tr>\n",
              "      <th>...</th>\n",
              "      <td>...</td>\n",
              "      <td>...</td>\n",
              "      <td>...</td>\n",
              "      <td>...</td>\n",
              "      <td>...</td>\n",
              "      <td>...</td>\n",
              "    </tr>\n",
              "    <tr>\n",
              "      <th>40892</th>\n",
              "      <td>98824</td>\n",
              "      <td>POUEBO</td>\n",
              "      <td>98824</td>\n",
              "      <td>NaN</td>\n",
              "      <td>NaN</td>\n",
              "      <td>NaN</td>\n",
              "    </tr>\n",
              "    <tr>\n",
              "      <th>40893</th>\n",
              "      <td>98825</td>\n",
              "      <td>POUEMBOUT</td>\n",
              "      <td>98825</td>\n",
              "      <td>NaN</td>\n",
              "      <td>NaN</td>\n",
              "      <td>NaN</td>\n",
              "    </tr>\n",
              "    <tr>\n",
              "      <th>40894</th>\n",
              "      <td>98828</td>\n",
              "      <td>SARRAMEA</td>\n",
              "      <td>98882</td>\n",
              "      <td>NaN</td>\n",
              "      <td>NaN</td>\n",
              "      <td>NaN</td>\n",
              "    </tr>\n",
              "    <tr>\n",
              "      <th>40895</th>\n",
              "      <td>98830</td>\n",
              "      <td>TOUHO</td>\n",
              "      <td>98831</td>\n",
              "      <td>NaN</td>\n",
              "      <td>NaN</td>\n",
              "      <td>NaN</td>\n",
              "    </tr>\n",
              "    <tr>\n",
              "      <th>40896</th>\n",
              "      <td>98901</td>\n",
              "      <td>ILE DE CLIPPERTON</td>\n",
              "      <td>98799</td>\n",
              "      <td>NaN</td>\n",
              "      <td>NaN</td>\n",
              "      <td>NaN</td>\n",
              "    </tr>\n",
              "  </tbody>\n",
              "</table>\n",
              "<p>40897 rows × 6 columns</p>\n",
              "</div>"
            ],
            "text/plain": [
              "      Code_commune_INSEE           Nom_commune  ... Département Nom structure\n",
              "0                  01004     AMBERIEU EN BUGEY  ...         NaN           NaN\n",
              "1                  01008              AMBUTRIX  ...         NaN           NaN\n",
              "2                  01007              AMBRONAY  ...         NaN           NaN\n",
              "3                  01089      CHATEAU GAILLARD  ...         NaN           NaN\n",
              "4                  01379  ST MAURICE DE REMENS  ...         NaN           NaN\n",
              "...                  ...                   ...  ...         ...           ...\n",
              "40892              98824                POUEBO  ...         NaN           NaN\n",
              "40893              98825             POUEMBOUT  ...         NaN           NaN\n",
              "40894              98828              SARRAMEA  ...         NaN           NaN\n",
              "40895              98830                 TOUHO  ...         NaN           NaN\n",
              "40896              98901     ILE DE CLIPPERTON  ...         NaN           NaN\n",
              "\n",
              "[40897 rows x 6 columns]"
            ]
          },
          "metadata": {
            "tags": []
          },
          "execution_count": 53
        }
      ]
    },
    {
      "cell_type": "code",
      "metadata": {
        "id": "373IvqIQeRqn"
      },
      "source": [
        "dir = '/content/drive/My Drive/Colab Notebooks/'\n",
        "biblio.to_csv(f'{dir}data_mediatheques.csv', index=False)"
      ],
      "execution_count": 56,
      "outputs": []
    },
    {
      "cell_type": "code",
      "metadata": {
        "id": "dYf4quYkzGCX"
      },
      "source": [
        ""
      ],
      "execution_count": null,
      "outputs": []
    },
    {
      "cell_type": "markdown",
      "metadata": {
        "id": "qP0mew0WBrJv"
      },
      "source": [
        "## 2. Liste des centres sociaux"
      ]
    },
    {
      "cell_type": "code",
      "metadata": {
        "id": "XD_MDH2YB1LW"
      },
      "source": [
        "import json\n",
        "import pandas as pd\n",
        "import numpy as np\n",
        "from bs4 import BeautifulSoup\n",
        "from urllib import request\n",
        "\n",
        "import time\n",
        "\n",
        "\n",
        "def timeit(method):\n",
        "    def timed(*args, **kw):\n",
        "        ts = time.time()\n",
        "        result = method(*args, **kw)\n",
        "        te = time.time()        \n",
        "        if 'log_time' in kw:\n",
        "            name = kw.get('log_name', method.__name__.upper())\n",
        "            kw['log_time'][name] = int((te - ts) * 1000)\n",
        "        else:\n",
        "            print('%r  %2.2f ms' % \\\n",
        "                  (method.__name__, (te - ts) * 1000))\n",
        "        return result    \n",
        "    return timed"
      ],
      "execution_count": 1,
      "outputs": []
    },
    {
      "cell_type": "code",
      "metadata": {
        "id": "55UsMNkoBtrQ"
      },
      "source": [
        "@timeit\n",
        "def scrap_table_page(url='https://www.senacs.fr/structure/csx?page=', page_number=1):\n",
        "    \"\"\"\n",
        "    Generate a request on senacs page for a given \n",
        "    page number to get the name and location of \n",
        "    each social center.\n",
        "    \"\"\"\n",
        "\n",
        "    url_page = url + str(page_number)\n",
        "    request_text = request.urlopen(url_page).read()\n",
        "    page = BeautifulSoup(request_text, 'html.parser')\n",
        "\n",
        "    table = page.find('table', {'class': 'table table-striped table-hover'}).findAll('td')\n",
        "\n",
        "    # fill the values of id, name and city\n",
        "    ids = [id.getText() for id in table[::4]]\n",
        "    names = [name.getText() for name in table[1::4]]\n",
        "    cities = [city.getText() for city in table[2::4]]\n",
        "\n",
        "    df = pd.DataFrame({'id': ids, \n",
        "                      'nom': names,\n",
        "                      'ville': cities}\n",
        "                      )\n",
        "    df['page'] = page_number\n",
        "\n",
        "    return df\n",
        "\n",
        "\n",
        "def stack_pages(pages=range(91)):\n",
        "    \"\"\"\n",
        "    Concatenate all empruntis scrapped data per region.\n",
        "    \"\"\"\n",
        "\n",
        "    data = pd.DataFrame()    # empty Dataframe to fill\n",
        "    for page_number in pages:\n",
        "        temp = scrap_table_page(page_number=page_number)\n",
        "        data = pd.concat([data, temp], axis=0)\n",
        "\n",
        "    return data"
      ],
      "execution_count": 2,
      "outputs": []
    },
    {
      "cell_type": "code",
      "metadata": {
        "id": "8JjPHFWjHKRF"
      },
      "source": [
        "data = stack_pages()"
      ],
      "execution_count": null,
      "outputs": []
    },
    {
      "cell_type": "code",
      "metadata": {
        "id": "3-9GvgYoIYof"
      },
      "source": [
        "data['code_postal'] = data['ville'].apply(lambda x: x.split('-')[0])\n",
        "data['ville'] = data['ville'].apply(lambda x: x.split('-')[1])"
      ],
      "execution_count": 4,
      "outputs": []
    },
    {
      "cell_type": "code",
      "metadata": {
        "id": "S0Y6lbJ_LEiB",
        "outputId": "811ec5a4-6bac-4a4a-e13d-22b032fa844b",
        "colab": {
          "base_uri": "https://localhost:8080/",
          "height": 424
        }
      },
      "source": [
        "data"
      ],
      "execution_count": 5,
      "outputs": [
        {
          "output_type": "execute_result",
          "data": {
            "text/html": [
              "<div>\n",
              "<style scoped>\n",
              "    .dataframe tbody tr th:only-of-type {\n",
              "        vertical-align: middle;\n",
              "    }\n",
              "\n",
              "    .dataframe tbody tr th {\n",
              "        vertical-align: top;\n",
              "    }\n",
              "\n",
              "    .dataframe thead th {\n",
              "        text-align: right;\n",
              "    }\n",
              "</style>\n",
              "<table border=\"1\" class=\"dataframe\">\n",
              "  <thead>\n",
              "    <tr style=\"text-align: right;\">\n",
              "      <th></th>\n",
              "      <th>id</th>\n",
              "      <th>nom</th>\n",
              "      <th>ville</th>\n",
              "      <th>page</th>\n",
              "      <th>code_postal</th>\n",
              "    </tr>\n",
              "  </thead>\n",
              "  <tbody>\n",
              "    <tr>\n",
              "      <th>0</th>\n",
              "      <td>91</td>\n",
              "      <td>CENTRE SOCIAL DES GRANDES BORNES</td>\n",
              "      <td>Goussainville</td>\n",
              "      <td>0</td>\n",
              "      <td>95190</td>\n",
              "    </tr>\n",
              "    <tr>\n",
              "      <th>1</th>\n",
              "      <td>92</td>\n",
              "      <td>CENTRE SOCIAL ARCHIPELIA</td>\n",
              "      <td>PARIS 20EME ARRONDISSEMENT</td>\n",
              "      <td>0</td>\n",
              "      <td>75020</td>\n",
              "    </tr>\n",
              "    <tr>\n",
              "      <th>2</th>\n",
              "      <td>93</td>\n",
              "      <td>Espace Socioculturel Val de Charente</td>\n",
              "      <td>Ruffec</td>\n",
              "      <td>0</td>\n",
              "      <td>16700</td>\n",
              "    </tr>\n",
              "    <tr>\n",
              "      <th>3</th>\n",
              "      <td>94</td>\n",
              "      <td>CENTRE SOCIAL Maison Des Habitants Champaret</td>\n",
              "      <td>Bourgoin</td>\n",
              "      <td>0</td>\n",
              "      <td>38300</td>\n",
              "    </tr>\n",
              "    <tr>\n",
              "      <th>4</th>\n",
              "      <td>95</td>\n",
              "      <td>CENTRE SOCIAL MAISON DE LA CHALLE</td>\n",
              "      <td>Éragny</td>\n",
              "      <td>0</td>\n",
              "      <td>95610</td>\n",
              "    </tr>\n",
              "    <tr>\n",
              "      <th>...</th>\n",
              "      <td>...</td>\n",
              "      <td>...</td>\n",
              "      <td>...</td>\n",
              "      <td>...</td>\n",
              "      <td>...</td>\n",
              "    </tr>\n",
              "    <tr>\n",
              "      <th>6</th>\n",
              "      <td>16264</td>\n",
              "      <td>CENTRE SOCIOCULTUREL MUNICIPAL DE SAINT-DIZIER</td>\n",
              "      <td>Saint</td>\n",
              "      <td>90</td>\n",
              "      <td>52100</td>\n",
              "    </tr>\n",
              "    <tr>\n",
              "      <th>7</th>\n",
              "      <td>16267</td>\n",
              "      <td>ESPACE DE VIE SOCIALE L.E.P.H.A.R.E</td>\n",
              "      <td>Aniche</td>\n",
              "      <td>90</td>\n",
              "      <td>59580</td>\n",
              "    </tr>\n",
              "    <tr>\n",
              "      <th>8</th>\n",
              "      <td>16351</td>\n",
              "      <td>ASSOCIATION  FERME BEAUREPAIRE</td>\n",
              "      <td>Boulogne</td>\n",
              "      <td>90</td>\n",
              "      <td>62200</td>\n",
              "    </tr>\n",
              "    <tr>\n",
              "      <th>9</th>\n",
              "      <td>16355</td>\n",
              "      <td>OFFICE DE LA JEUNESSE</td>\n",
              "      <td>Bruay</td>\n",
              "      <td>90</td>\n",
              "      <td>62700</td>\n",
              "    </tr>\n",
              "    <tr>\n",
              "      <th>10</th>\n",
              "      <td>16359</td>\n",
              "      <td>CENTRE SOCIAL MUNICIPAL ECLATE MONTIGNY EN GOH...</td>\n",
              "      <td>Montigny</td>\n",
              "      <td>90</td>\n",
              "      <td>62640</td>\n",
              "    </tr>\n",
              "  </tbody>\n",
              "</table>\n",
              "<p>2261 rows × 5 columns</p>\n",
              "</div>"
            ],
            "text/plain": [
              "       id                                                nom  ... page  code_postal\n",
              "0      91                   CENTRE SOCIAL DES GRANDES BORNES  ...    0       95190 \n",
              "1      92                           CENTRE SOCIAL ARCHIPELIA  ...    0       75020 \n",
              "2      93               Espace Socioculturel Val de Charente  ...    0       16700 \n",
              "3      94       CENTRE SOCIAL Maison Des Habitants Champaret  ...    0       38300 \n",
              "4      95                  CENTRE SOCIAL MAISON DE LA CHALLE  ...    0       95610 \n",
              "..    ...                                                ...  ...  ...          ...\n",
              "6   16264     CENTRE SOCIOCULTUREL MUNICIPAL DE SAINT-DIZIER  ...   90       52100 \n",
              "7   16267                ESPACE DE VIE SOCIALE L.E.P.H.A.R.E  ...   90       59580 \n",
              "8   16351                    ASSOCIATION  FERME BEAUREPAIRE   ...   90       62200 \n",
              "9   16355                              OFFICE DE LA JEUNESSE  ...   90       62700 \n",
              "10  16359  CENTRE SOCIAL MUNICIPAL ECLATE MONTIGNY EN GOH...  ...   90       62640 \n",
              "\n",
              "[2261 rows x 5 columns]"
            ]
          },
          "metadata": {
            "tags": []
          },
          "execution_count": 5
        }
      ]
    },
    {
      "cell_type": "code",
      "metadata": {
        "id": "ykPa_n-9izOa"
      },
      "source": [
        "dir = '/content/drive/My Drive/Colab Notebooks/'\n",
        "data.to_csv(f'{dir}data_centre_sociaux.csv', index=False)"
      ],
      "execution_count": 8,
      "outputs": []
    },
    {
      "cell_type": "markdown",
      "metadata": {
        "id": "0nXf4iOgeVUi"
      },
      "source": [
        "## 3. Distance des communes à l'accès le plus proche\n"
      ]
    },
    {
      "cell_type": "code",
      "metadata": {
        "id": "gbrlsP6LKBNk",
        "outputId": "a77c4f26-1720-4c80-e8d3-d6bb19516352",
        "colab": {
          "base_uri": "https://localhost:8080/",
          "height": 139
        }
      },
      "source": [
        "# copy geoson file with every 'Franceservices' locations\n",
        "\n",
        "import os\n",
        "\n",
        "if 'COLAB_GPU' in os.environ:  # this is always set on Colab, the value is 0 or 1 depending on whether a GPU is attached\n",
        "    from google.colab import auth\n",
        "    #auth.authenticate_user()\n",
        "\n",
        "    !rm -rf France-services/ \n",
        "    !git clone https://github.com/cget-carto/France-services.git\n",
        "    !mv France-services/data/france_services.geojson ."
      ],
      "execution_count": 9,
      "outputs": [
        {
          "output_type": "stream",
          "text": [
            "Cloning into 'France-services'...\n",
            "remote: Enumerating objects: 260, done.\u001b[K\n",
            "remote: Counting objects: 100% (260/260), done.\u001b[K\n",
            "remote: Compressing objects: 100% (169/169), done.\u001b[K\n",
            "remote: Total 260 (delta 108), reused 221 (delta 78), pack-reused 0\u001b[K\n",
            "Receiving objects: 100% (260/260), 2.12 MiB | 11.94 MiB/s, done.\n",
            "Resolving deltas: 100% (108/108), done.\n"
          ],
          "name": "stdout"
        }
      ]
    },
    {
      "cell_type": "code",
      "metadata": {
        "id": "Xn4yFI7dflix"
      },
      "source": [
        "import pandas as pd\n",
        "import json\n",
        "\n",
        "with open(\"france_services.geojson\", \"r\") as read_file: \n",
        "    fs = json.load(read_file) "
      ],
      "execution_count": 10,
      "outputs": []
    },
    {
      "cell_type": "code",
      "metadata": {
        "id": "7SftmC0ZgIkl"
      },
      "source": [
        "data_fs = pd.DataFrame()\n",
        "for n, temp in enumerate(fs['features']): \n",
        " \n",
        "    df_temp = pd.DataFrame.from_records([{'latitude': temp['properties']['LATITUDE'], \n",
        "                            'longitude': temp['properties']['LATITUDE'], \n",
        "                            'departement': temp['properties']['DEPARTEMENT'],\n",
        "                            'insee_com': temp['properties']['insee_com'],\n",
        "                            'code_postal': temp['properties']['code_postal'], \n",
        "                            'lib_france_services': temp['properties']['lib_france_services']\n",
        "                            }])\n",
        "    \n",
        "    data_fs = pd.concat([data_fs, df_temp], axis=0)"
      ],
      "execution_count": 11,
      "outputs": []
    },
    {
      "cell_type": "code",
      "metadata": {
        "id": "4AbtbfiVObrp",
        "outputId": "b76aea11-3072-4525-8cb2-97a6389bbe06",
        "colab": {
          "base_uri": "https://localhost:8080/",
          "height": 424
        }
      },
      "source": [
        "data_fs"
      ],
      "execution_count": 12,
      "outputs": [
        {
          "output_type": "execute_result",
          "data": {
            "text/html": [
              "<div>\n",
              "<style scoped>\n",
              "    .dataframe tbody tr th:only-of-type {\n",
              "        vertical-align: middle;\n",
              "    }\n",
              "\n",
              "    .dataframe tbody tr th {\n",
              "        vertical-align: top;\n",
              "    }\n",
              "\n",
              "    .dataframe thead th {\n",
              "        text-align: right;\n",
              "    }\n",
              "</style>\n",
              "<table border=\"1\" class=\"dataframe\">\n",
              "  <thead>\n",
              "    <tr style=\"text-align: right;\">\n",
              "      <th></th>\n",
              "      <th>latitude</th>\n",
              "      <th>longitude</th>\n",
              "      <th>departement</th>\n",
              "      <th>insee_com</th>\n",
              "      <th>code_postal</th>\n",
              "      <th>lib_france_services</th>\n",
              "    </tr>\n",
              "  </thead>\n",
              "  <tbody>\n",
              "    <tr>\n",
              "      <th>0</th>\n",
              "      <td>46.105747</td>\n",
              "      <td>46.105747</td>\n",
              "      <td>1</td>\n",
              "      <td>01033</td>\n",
              "      <td>01200</td>\n",
              "      <td>Valserhône</td>\n",
              "    </tr>\n",
              "    <tr>\n",
              "      <th>0</th>\n",
              "      <td>44.031548</td>\n",
              "      <td>44.031548</td>\n",
              "      <td>12</td>\n",
              "      <td>12197</td>\n",
              "      <td>12170</td>\n",
              "      <td>Réquista « Le Bercail »</td>\n",
              "    </tr>\n",
              "    <tr>\n",
              "      <th>0</th>\n",
              "      <td>44.475185</td>\n",
              "      <td>44.475185</td>\n",
              "      <td>12</td>\n",
              "      <td>12138</td>\n",
              "      <td>12330</td>\n",
              "      <td>Conques-Marcillac</td>\n",
              "    </tr>\n",
              "    <tr>\n",
              "      <th>0</th>\n",
              "      <td>49.291400</td>\n",
              "      <td>49.291400</td>\n",
              "      <td>14</td>\n",
              "      <td>14514</td>\n",
              "      <td>14130</td>\n",
              "      <td>Terre d’Auge</td>\n",
              "    </tr>\n",
              "    <tr>\n",
              "      <th>0</th>\n",
              "      <td>49.126169</td>\n",
              "      <td>49.126169</td>\n",
              "      <td>14</td>\n",
              "      <td>14057</td>\n",
              "      <td>14370</td>\n",
              "      <td>Val ès Dunes</td>\n",
              "    </tr>\n",
              "    <tr>\n",
              "      <th>...</th>\n",
              "      <td>...</td>\n",
              "      <td>...</td>\n",
              "      <td>...</td>\n",
              "      <td>...</td>\n",
              "      <td>...</td>\n",
              "      <td>...</td>\n",
              "    </tr>\n",
              "    <tr>\n",
              "      <th>0</th>\n",
              "      <td>47.617932</td>\n",
              "      <td>47.617932</td>\n",
              "      <td>89</td>\n",
              "      <td>89368</td>\n",
              "      <td>89520</td>\n",
              "      <td>Saint-Sauveur-en-Puisaye</td>\n",
              "    </tr>\n",
              "    <tr>\n",
              "      <th>0</th>\n",
              "      <td>48.980007</td>\n",
              "      <td>48.980007</td>\n",
              "      <td>95</td>\n",
              "      <td>95219</td>\n",
              "      <td>95120</td>\n",
              "      <td>Ermont</td>\n",
              "    </tr>\n",
              "    <tr>\n",
              "      <th>0</th>\n",
              "      <td>47.181000</td>\n",
              "      <td>47.181000</td>\n",
              "      <td>25</td>\n",
              "      <td>25527</td>\n",
              "      <td>25410</td>\n",
              "      <td>Saint Vit</td>\n",
              "    </tr>\n",
              "    <tr>\n",
              "      <th>0</th>\n",
              "      <td>43.208769</td>\n",
              "      <td>43.208769</td>\n",
              "      <td>31</td>\n",
              "      <td>31375</td>\n",
              "      <td>31310</td>\n",
              "      <td>Volvestre – Antenne Montesquieu</td>\n",
              "    </tr>\n",
              "    <tr>\n",
              "      <th>0</th>\n",
              "      <td>43.328157</td>\n",
              "      <td>43.328157</td>\n",
              "      <td>31</td>\n",
              "      <td>31517</td>\n",
              "      <td>31410</td>\n",
              "      <td>Volvestre – Antenne Saint Sulpice</td>\n",
              "    </tr>\n",
              "  </tbody>\n",
              "</table>\n",
              "<p>908 rows × 6 columns</p>\n",
              "</div>"
            ],
            "text/plain": [
              "     latitude  longitude  ... code_postal                lib_france_services\n",
              "0   46.105747  46.105747  ...       01200                         Valserhône\n",
              "0   44.031548  44.031548  ...       12170            Réquista « Le Bercail »\n",
              "0   44.475185  44.475185  ...       12330                  Conques-Marcillac\n",
              "0   49.291400  49.291400  ...       14130                       Terre d’Auge\n",
              "0   49.126169  49.126169  ...       14370                       Val ès Dunes\n",
              "..        ...        ...  ...         ...                                ...\n",
              "0   47.617932  47.617932  ...       89520           Saint-Sauveur-en-Puisaye\n",
              "0   48.980007  48.980007  ...       95120                             Ermont\n",
              "0   47.181000  47.181000  ...       25410                          Saint Vit\n",
              "0   43.208769  43.208769  ...       31310    Volvestre – Antenne Montesquieu\n",
              "0   43.328157  43.328157  ...       31410  Volvestre – Antenne Saint Sulpice\n",
              "\n",
              "[908 rows x 6 columns]"
            ]
          },
          "metadata": {
            "tags": []
          },
          "execution_count": 12
        }
      ]
    },
    {
      "cell_type": "markdown",
      "metadata": {
        "id": "Bn8gHBHFTIsb"
      },
      "source": [
        "### Calculer la distance entre le centre des communes et la prefecture, sous-prefecture ou france-services la plus proche en km. \n",
        "\n",
        "- scrapper prefecture / sous-prefecture https://fr.wikipedia.org/wiki/Liste_des_pr%C3%A9fectures_de_France\n",
        "- obtenir coordonnées des communes: OK via codes postaux + librairie `pgecode`"
      ]
    },
    {
      "cell_type": "code",
      "metadata": {
        "id": "kSuKUHxQP4gw"
      },
      "source": [
        "#data['distance'] = dist.query_postal_code(data[''].values, data[''].values)\n",
        "\n",
        "# calculer le france-service (ou prefecture, sous-prefecture etc.) le plus proche de chaque commune et bueno "
      ],
      "execution_count": 18,
      "outputs": []
    },
    {
      "cell_type": "code",
      "metadata": {
        "id": "FqWmYD2LUo0K",
        "outputId": "1bd1aeeb-debd-4d03-8315-fd24ffdbe5ef",
        "colab": {
          "base_uri": "https://localhost:8080/",
          "height": 719
        }
      },
      "source": [
        "def df_crossjoin(df1, df2, **kwargs):\n",
        "    \"\"\"\n",
        "    Make a cross join (cartesian product) between two dataframes by using a constant temporary key.\n",
        "    Also sets a MultiIndex which is the cartesian product of the indices of the input dataframes.\n",
        "    See: https://github.com/pydata/pandas/issues/5401\n",
        "    :param df1 dataframe 1\n",
        "    :param df1 dataframe 2\n",
        "    :param kwargs keyword arguments that will be passed to pd.merge()\n",
        "    :return cross join of df1 and df2\n",
        "    \"\"\"\n",
        "    df1['_tmpkey'] = 1\n",
        "    df2['_tmpkey'] = 1\n",
        "\n",
        "    res = pd.merge(df1, df2, on='_tmpkey', **kwargs).drop('_tmpkey', axis=1)\n",
        "    res.index = pd.MultiIndex.from_product((df1.index, df2.index))\n",
        "\n",
        "    df1.drop('_tmpkey', axis=1, inplace=True)\n",
        "    df2.drop('_tmpkey', axis=1, inplace=True)\n",
        "\n",
        "    return res\n",
        "\n",
        "df = df_crossjoin(commune[['code_postal']], data_fs[['code_postal']], suffixes=('_communes', '_fs')).reset_index()\n",
        "df"
      ],
      "execution_count": 24,
      "outputs": [
        {
          "output_type": "stream",
          "text": [
            "/usr/local/lib/python3.6/dist-packages/ipykernel_launcher.py:11: SettingWithCopyWarning: \n",
            "A value is trying to be set on a copy of a slice from a DataFrame.\n",
            "Try using .loc[row_indexer,col_indexer] = value instead\n",
            "\n",
            "See the caveats in the documentation: https://pandas.pydata.org/pandas-docs/stable/user_guide/indexing.html#returning-a-view-versus-a-copy\n",
            "  # This is added back by InteractiveShellApp.init_path()\n",
            "/usr/local/lib/python3.6/dist-packages/ipykernel_launcher.py:12: SettingWithCopyWarning: \n",
            "A value is trying to be set on a copy of a slice from a DataFrame.\n",
            "Try using .loc[row_indexer,col_indexer] = value instead\n",
            "\n",
            "See the caveats in the documentation: https://pandas.pydata.org/pandas-docs/stable/user_guide/indexing.html#returning-a-view-versus-a-copy\n",
            "  if sys.path[0] == '':\n",
            "/usr/local/lib/python3.6/dist-packages/pandas/core/frame.py:4170: SettingWithCopyWarning: \n",
            "A value is trying to be set on a copy of a slice from a DataFrame\n",
            "\n",
            "See the caveats in the documentation: https://pandas.pydata.org/pandas-docs/stable/user_guide/indexing.html#returning-a-view-versus-a-copy\n",
            "  errors=errors,\n"
          ],
          "name": "stderr"
        },
        {
          "output_type": "execute_result",
          "data": {
            "text/html": [
              "<div>\n",
              "<style scoped>\n",
              "    .dataframe tbody tr th:only-of-type {\n",
              "        vertical-align: middle;\n",
              "    }\n",
              "\n",
              "    .dataframe tbody tr th {\n",
              "        vertical-align: top;\n",
              "    }\n",
              "\n",
              "    .dataframe thead th {\n",
              "        text-align: right;\n",
              "    }\n",
              "</style>\n",
              "<table border=\"1\" class=\"dataframe\">\n",
              "  <thead>\n",
              "    <tr style=\"text-align: right;\">\n",
              "      <th></th>\n",
              "      <th>level_0</th>\n",
              "      <th>level_1</th>\n",
              "      <th>code_postal_communes</th>\n",
              "      <th>code_postal_fs</th>\n",
              "    </tr>\n",
              "  </thead>\n",
              "  <tbody>\n",
              "    <tr>\n",
              "      <th>0</th>\n",
              "      <td>0</td>\n",
              "      <td>0</td>\n",
              "      <td>01500</td>\n",
              "      <td>01200</td>\n",
              "    </tr>\n",
              "    <tr>\n",
              "      <th>1</th>\n",
              "      <td>0</td>\n",
              "      <td>0</td>\n",
              "      <td>01500</td>\n",
              "      <td>12170</td>\n",
              "    </tr>\n",
              "    <tr>\n",
              "      <th>2</th>\n",
              "      <td>0</td>\n",
              "      <td>0</td>\n",
              "      <td>01500</td>\n",
              "      <td>12330</td>\n",
              "    </tr>\n",
              "    <tr>\n",
              "      <th>3</th>\n",
              "      <td>0</td>\n",
              "      <td>0</td>\n",
              "      <td>01500</td>\n",
              "      <td>14130</td>\n",
              "    </tr>\n",
              "    <tr>\n",
              "      <th>4</th>\n",
              "      <td>0</td>\n",
              "      <td>0</td>\n",
              "      <td>01500</td>\n",
              "      <td>14370</td>\n",
              "    </tr>\n",
              "    <tr>\n",
              "      <th>...</th>\n",
              "      <td>...</td>\n",
              "      <td>...</td>\n",
              "      <td>...</td>\n",
              "      <td>...</td>\n",
              "    </tr>\n",
              "    <tr>\n",
              "      <th>35586331</th>\n",
              "      <td>39191</td>\n",
              "      <td>0</td>\n",
              "      <td>98799</td>\n",
              "      <td>89520</td>\n",
              "    </tr>\n",
              "    <tr>\n",
              "      <th>35586332</th>\n",
              "      <td>39191</td>\n",
              "      <td>0</td>\n",
              "      <td>98799</td>\n",
              "      <td>95120</td>\n",
              "    </tr>\n",
              "    <tr>\n",
              "      <th>35586333</th>\n",
              "      <td>39191</td>\n",
              "      <td>0</td>\n",
              "      <td>98799</td>\n",
              "      <td>25410</td>\n",
              "    </tr>\n",
              "    <tr>\n",
              "      <th>35586334</th>\n",
              "      <td>39191</td>\n",
              "      <td>0</td>\n",
              "      <td>98799</td>\n",
              "      <td>31310</td>\n",
              "    </tr>\n",
              "    <tr>\n",
              "      <th>35586335</th>\n",
              "      <td>39191</td>\n",
              "      <td>0</td>\n",
              "      <td>98799</td>\n",
              "      <td>31410</td>\n",
              "    </tr>\n",
              "  </tbody>\n",
              "</table>\n",
              "<p>35586336 rows × 4 columns</p>\n",
              "</div>"
            ],
            "text/plain": [
              "          level_0  level_1 code_postal_communes code_postal_fs\n",
              "0               0        0                01500          01200\n",
              "1               0        0                01500          12170\n",
              "2               0        0                01500          12330\n",
              "3               0        0                01500          14130\n",
              "4               0        0                01500          14370\n",
              "...           ...      ...                  ...            ...\n",
              "35586331    39191        0                98799          89520\n",
              "35586332    39191        0                98799          95120\n",
              "35586333    39191        0                98799          25410\n",
              "35586334    39191        0                98799          31310\n",
              "35586335    39191        0                98799          31410\n",
              "\n",
              "[35586336 rows x 4 columns]"
            ]
          },
          "metadata": {
            "tags": []
          },
          "execution_count": 24
        }
      ]
    },
    {
      "cell_type": "code",
      "metadata": {
        "id": "oKEUOYEnmPlO",
        "outputId": "ebe0a02c-6b95-454c-fa9c-b3dfc341bb12",
        "colab": {
          "base_uri": "https://localhost:8080/",
          "height": 424
        }
      },
      "source": [
        "df.drop_duplicates()"
      ],
      "execution_count": 27,
      "outputs": [
        {
          "output_type": "execute_result",
          "data": {
            "text/html": [
              "<div>\n",
              "<style scoped>\n",
              "    .dataframe tbody tr th:only-of-type {\n",
              "        vertical-align: middle;\n",
              "    }\n",
              "\n",
              "    .dataframe tbody tr th {\n",
              "        vertical-align: top;\n",
              "    }\n",
              "\n",
              "    .dataframe thead th {\n",
              "        text-align: right;\n",
              "    }\n",
              "</style>\n",
              "<table border=\"1\" class=\"dataframe\">\n",
              "  <thead>\n",
              "    <tr style=\"text-align: right;\">\n",
              "      <th></th>\n",
              "      <th>level_0</th>\n",
              "      <th>level_1</th>\n",
              "      <th>code_postal_communes</th>\n",
              "      <th>code_postal_fs</th>\n",
              "    </tr>\n",
              "  </thead>\n",
              "  <tbody>\n",
              "    <tr>\n",
              "      <th>0</th>\n",
              "      <td>0</td>\n",
              "      <td>0</td>\n",
              "      <td>01500</td>\n",
              "      <td>01200</td>\n",
              "    </tr>\n",
              "    <tr>\n",
              "      <th>1</th>\n",
              "      <td>0</td>\n",
              "      <td>0</td>\n",
              "      <td>01500</td>\n",
              "      <td>12170</td>\n",
              "    </tr>\n",
              "    <tr>\n",
              "      <th>2</th>\n",
              "      <td>0</td>\n",
              "      <td>0</td>\n",
              "      <td>01500</td>\n",
              "      <td>12330</td>\n",
              "    </tr>\n",
              "    <tr>\n",
              "      <th>3</th>\n",
              "      <td>0</td>\n",
              "      <td>0</td>\n",
              "      <td>01500</td>\n",
              "      <td>14130</td>\n",
              "    </tr>\n",
              "    <tr>\n",
              "      <th>4</th>\n",
              "      <td>0</td>\n",
              "      <td>0</td>\n",
              "      <td>01500</td>\n",
              "      <td>14370</td>\n",
              "    </tr>\n",
              "    <tr>\n",
              "      <th>...</th>\n",
              "      <td>...</td>\n",
              "      <td>...</td>\n",
              "      <td>...</td>\n",
              "      <td>...</td>\n",
              "    </tr>\n",
              "    <tr>\n",
              "      <th>35586331</th>\n",
              "      <td>39191</td>\n",
              "      <td>0</td>\n",
              "      <td>98799</td>\n",
              "      <td>89520</td>\n",
              "    </tr>\n",
              "    <tr>\n",
              "      <th>35586332</th>\n",
              "      <td>39191</td>\n",
              "      <td>0</td>\n",
              "      <td>98799</td>\n",
              "      <td>95120</td>\n",
              "    </tr>\n",
              "    <tr>\n",
              "      <th>35586333</th>\n",
              "      <td>39191</td>\n",
              "      <td>0</td>\n",
              "      <td>98799</td>\n",
              "      <td>25410</td>\n",
              "    </tr>\n",
              "    <tr>\n",
              "      <th>35586334</th>\n",
              "      <td>39191</td>\n",
              "      <td>0</td>\n",
              "      <td>98799</td>\n",
              "      <td>31310</td>\n",
              "    </tr>\n",
              "    <tr>\n",
              "      <th>35586335</th>\n",
              "      <td>39191</td>\n",
              "      <td>0</td>\n",
              "      <td>98799</td>\n",
              "      <td>31410</td>\n",
              "    </tr>\n",
              "  </tbody>\n",
              "</table>\n",
              "<p>33665928 rows × 4 columns</p>\n",
              "</div>"
            ],
            "text/plain": [
              "          level_0  level_1 code_postal_communes code_postal_fs\n",
              "0               0        0                01500          01200\n",
              "1               0        0                01500          12170\n",
              "2               0        0                01500          12330\n",
              "3               0        0                01500          14130\n",
              "4               0        0                01500          14370\n",
              "...           ...      ...                  ...            ...\n",
              "35586331    39191        0                98799          89520\n",
              "35586332    39191        0                98799          95120\n",
              "35586333    39191        0                98799          25410\n",
              "35586334    39191        0                98799          31310\n",
              "35586335    39191        0                98799          31410\n",
              "\n",
              "[33665928 rows x 4 columns]"
            ]
          },
          "metadata": {
            "tags": []
          },
          "execution_count": 27
        }
      ]
    },
    {
      "cell_type": "code",
      "metadata": {
        "id": "Zz9ORye5mc9L",
        "outputId": "65769bba-132b-41da-bc29-1f4fb0837703",
        "colab": {
          "base_uri": "https://localhost:8080/",
          "height": 69
        }
      },
      "source": [
        "df[:len(data_fs)].groupby('code_postal_communes').apply(lambda row: dist.query_postal_code(row['code_postal_communes'], row['code_postal_fs']))"
      ],
      "execution_count": 39,
      "outputs": [
        {
          "output_type": "execute_result",
          "data": {
            "text/plain": [
              "code_postal_communes\n",
              "01500    []\n",
              "dtype: object"
            ]
          },
          "metadata": {
            "tags": []
          },
          "execution_count": 39
        }
      ]
    },
    {
      "cell_type": "code",
      "metadata": {
        "id": "tDNfGYoOnRgn",
        "outputId": "017d6f50-4d66-48c2-c8b7-62635cd9e120",
        "colab": {
          "base_uri": "https://localhost:8080/",
          "height": 225
        }
      },
      "source": [
        "df[:len(data_fs)].apply(lambda row: dist.query_postal_code(row['code_postal_communes'], row['code_postal_fs']), axis=1)"
      ],
      "execution_count": 40,
      "outputs": [
        {
          "output_type": "execute_result",
          "data": {
            "text/plain": [
              "0       42.623548\n",
              "1      301.434162\n",
              "2      275.230403\n",
              "3      527.270586\n",
              "4      544.313797\n",
              "          ...    \n",
              "903    238.162672\n",
              "904    409.646169\n",
              "905    143.125315\n",
              "906    446.226215\n",
              "907    431.109707\n",
              "Length: 908, dtype: float64"
            ]
          },
          "metadata": {
            "tags": []
          },
          "execution_count": 40
        }
      ]
    },
    {
      "cell_type": "code",
      "metadata": {
        "id": "2vFNzxVdT3uu",
        "outputId": "1ea1136e-5e97-46de-c980-047c414f3ec8",
        "colab": {
          "base_uri": "https://localhost:8080/",
          "height": 417
        }
      },
      "source": [
        "df['distance_commune_france_service'] = df.apply(lambda row: dist.query_postal_code(row['code_postal_communes'], row['code_postal_fs']), axis=1)"
      ],
      "execution_count": 41,
      "outputs": [
        {
          "output_type": "error",
          "ename": "KeyboardInterrupt",
          "evalue": "ignored",
          "traceback": [
            "\u001b[0;31m---------------------------------------------------------------------------\u001b[0m",
            "\u001b[0;31mKeyboardInterrupt\u001b[0m                         Traceback (most recent call last)",
            "\u001b[0;32m<ipython-input-41-f1aa73bfdb30>\u001b[0m in \u001b[0;36m<module>\u001b[0;34m()\u001b[0m\n\u001b[0;32m----> 1\u001b[0;31m \u001b[0mdf\u001b[0m\u001b[0;34m[\u001b[0m\u001b[0;34m'distance_commune_france_service'\u001b[0m\u001b[0;34m]\u001b[0m \u001b[0;34m=\u001b[0m \u001b[0mdf\u001b[0m\u001b[0;34m.\u001b[0m\u001b[0mapply\u001b[0m\u001b[0;34m(\u001b[0m\u001b[0;32mlambda\u001b[0m \u001b[0mrow\u001b[0m\u001b[0;34m:\u001b[0m \u001b[0mdist\u001b[0m\u001b[0;34m.\u001b[0m\u001b[0mquery_postal_code\u001b[0m\u001b[0;34m(\u001b[0m\u001b[0mrow\u001b[0m\u001b[0;34m[\u001b[0m\u001b[0;34m'code_postal_communes'\u001b[0m\u001b[0;34m]\u001b[0m\u001b[0;34m,\u001b[0m \u001b[0mrow\u001b[0m\u001b[0;34m[\u001b[0m\u001b[0;34m'code_postal_fs'\u001b[0m\u001b[0;34m]\u001b[0m\u001b[0;34m)\u001b[0m\u001b[0;34m,\u001b[0m \u001b[0maxis\u001b[0m\u001b[0;34m=\u001b[0m\u001b[0;36m1\u001b[0m\u001b[0;34m)\u001b[0m\u001b[0;34m\u001b[0m\u001b[0;34m\u001b[0m\u001b[0m\n\u001b[0m",
            "\u001b[0;32m/usr/local/lib/python3.6/dist-packages/pandas/core/frame.py\u001b[0m in \u001b[0;36mapply\u001b[0;34m(self, func, axis, raw, result_type, args, **kwds)\u001b[0m\n\u001b[1;32m   7546\u001b[0m             \u001b[0mkwds\u001b[0m\u001b[0;34m=\u001b[0m\u001b[0mkwds\u001b[0m\u001b[0;34m,\u001b[0m\u001b[0;34m\u001b[0m\u001b[0;34m\u001b[0m\u001b[0m\n\u001b[1;32m   7547\u001b[0m         )\n\u001b[0;32m-> 7548\u001b[0;31m         \u001b[0;32mreturn\u001b[0m \u001b[0mop\u001b[0m\u001b[0;34m.\u001b[0m\u001b[0mget_result\u001b[0m\u001b[0;34m(\u001b[0m\u001b[0;34m)\u001b[0m\u001b[0;34m\u001b[0m\u001b[0;34m\u001b[0m\u001b[0m\n\u001b[0m\u001b[1;32m   7549\u001b[0m \u001b[0;34m\u001b[0m\u001b[0m\n\u001b[1;32m   7550\u001b[0m     \u001b[0;32mdef\u001b[0m \u001b[0mapplymap\u001b[0m\u001b[0;34m(\u001b[0m\u001b[0mself\u001b[0m\u001b[0;34m,\u001b[0m \u001b[0mfunc\u001b[0m\u001b[0;34m)\u001b[0m \u001b[0;34m->\u001b[0m \u001b[0;34m\"DataFrame\"\u001b[0m\u001b[0;34m:\u001b[0m\u001b[0;34m\u001b[0m\u001b[0;34m\u001b[0m\u001b[0m\n",
            "\u001b[0;32m/usr/local/lib/python3.6/dist-packages/pandas/core/apply.py\u001b[0m in \u001b[0;36mget_result\u001b[0;34m(self)\u001b[0m\n\u001b[1;32m    178\u001b[0m             \u001b[0;32mreturn\u001b[0m \u001b[0mself\u001b[0m\u001b[0;34m.\u001b[0m\u001b[0mapply_raw\u001b[0m\u001b[0;34m(\u001b[0m\u001b[0;34m)\u001b[0m\u001b[0;34m\u001b[0m\u001b[0;34m\u001b[0m\u001b[0m\n\u001b[1;32m    179\u001b[0m \u001b[0;34m\u001b[0m\u001b[0m\n\u001b[0;32m--> 180\u001b[0;31m         \u001b[0;32mreturn\u001b[0m \u001b[0mself\u001b[0m\u001b[0;34m.\u001b[0m\u001b[0mapply_standard\u001b[0m\u001b[0;34m(\u001b[0m\u001b[0;34m)\u001b[0m\u001b[0;34m\u001b[0m\u001b[0;34m\u001b[0m\u001b[0m\n\u001b[0m\u001b[1;32m    181\u001b[0m \u001b[0;34m\u001b[0m\u001b[0m\n\u001b[1;32m    182\u001b[0m     \u001b[0;32mdef\u001b[0m \u001b[0mapply_empty_result\u001b[0m\u001b[0;34m(\u001b[0m\u001b[0mself\u001b[0m\u001b[0;34m)\u001b[0m\u001b[0;34m:\u001b[0m\u001b[0;34m\u001b[0m\u001b[0;34m\u001b[0m\u001b[0m\n",
            "\u001b[0;32m/usr/local/lib/python3.6/dist-packages/pandas/core/apply.py\u001b[0m in \u001b[0;36mapply_standard\u001b[0;34m(self)\u001b[0m\n\u001b[1;32m    269\u001b[0m \u001b[0;34m\u001b[0m\u001b[0m\n\u001b[1;32m    270\u001b[0m     \u001b[0;32mdef\u001b[0m \u001b[0mapply_standard\u001b[0m\u001b[0;34m(\u001b[0m\u001b[0mself\u001b[0m\u001b[0;34m)\u001b[0m\u001b[0;34m:\u001b[0m\u001b[0;34m\u001b[0m\u001b[0;34m\u001b[0m\u001b[0m\n\u001b[0;32m--> 271\u001b[0;31m         \u001b[0mresults\u001b[0m\u001b[0;34m,\u001b[0m \u001b[0mres_index\u001b[0m \u001b[0;34m=\u001b[0m \u001b[0mself\u001b[0m\u001b[0;34m.\u001b[0m\u001b[0mapply_series_generator\u001b[0m\u001b[0;34m(\u001b[0m\u001b[0;34m)\u001b[0m\u001b[0;34m\u001b[0m\u001b[0;34m\u001b[0m\u001b[0m\n\u001b[0m\u001b[1;32m    272\u001b[0m \u001b[0;34m\u001b[0m\u001b[0m\n\u001b[1;32m    273\u001b[0m         \u001b[0;31m# wrap results\u001b[0m\u001b[0;34m\u001b[0m\u001b[0;34m\u001b[0m\u001b[0;34m\u001b[0m\u001b[0m\n",
            "\u001b[0;32m/usr/local/lib/python3.6/dist-packages/pandas/core/apply.py\u001b[0m in \u001b[0;36mapply_series_generator\u001b[0;34m(self)\u001b[0m\n\u001b[1;32m    298\u001b[0m                 \u001b[0;32mfor\u001b[0m \u001b[0mi\u001b[0m\u001b[0;34m,\u001b[0m \u001b[0mv\u001b[0m \u001b[0;32min\u001b[0m \u001b[0menumerate\u001b[0m\u001b[0;34m(\u001b[0m\u001b[0mseries_gen\u001b[0m\u001b[0;34m)\u001b[0m\u001b[0;34m:\u001b[0m\u001b[0;34m\u001b[0m\u001b[0;34m\u001b[0m\u001b[0m\n\u001b[1;32m    299\u001b[0m                     \u001b[0;31m# ignore SettingWithCopy here in case the user mutates\u001b[0m\u001b[0;34m\u001b[0m\u001b[0;34m\u001b[0m\u001b[0;34m\u001b[0m\u001b[0m\n\u001b[0;32m--> 300\u001b[0;31m                     \u001b[0mresults\u001b[0m\u001b[0;34m[\u001b[0m\u001b[0mi\u001b[0m\u001b[0;34m]\u001b[0m \u001b[0;34m=\u001b[0m \u001b[0mself\u001b[0m\u001b[0;34m.\u001b[0m\u001b[0mf\u001b[0m\u001b[0;34m(\u001b[0m\u001b[0mv\u001b[0m\u001b[0;34m)\u001b[0m\u001b[0;34m\u001b[0m\u001b[0;34m\u001b[0m\u001b[0m\n\u001b[0m\u001b[1;32m    301\u001b[0m                     \u001b[0;32mif\u001b[0m \u001b[0misinstance\u001b[0m\u001b[0;34m(\u001b[0m\u001b[0mresults\u001b[0m\u001b[0;34m[\u001b[0m\u001b[0mi\u001b[0m\u001b[0;34m]\u001b[0m\u001b[0;34m,\u001b[0m \u001b[0mABCSeries\u001b[0m\u001b[0;34m)\u001b[0m\u001b[0;34m:\u001b[0m\u001b[0;34m\u001b[0m\u001b[0;34m\u001b[0m\u001b[0m\n\u001b[1;32m    302\u001b[0m                         \u001b[0;31m# If we have a view on v, we need to make a copy because\u001b[0m\u001b[0;34m\u001b[0m\u001b[0;34m\u001b[0m\u001b[0;34m\u001b[0m\u001b[0m\n",
            "\u001b[0;32m<ipython-input-41-f1aa73bfdb30>\u001b[0m in \u001b[0;36m<lambda>\u001b[0;34m(row)\u001b[0m\n\u001b[0;32m----> 1\u001b[0;31m \u001b[0mdf\u001b[0m\u001b[0;34m[\u001b[0m\u001b[0;34m'distance_commune_france_service'\u001b[0m\u001b[0;34m]\u001b[0m \u001b[0;34m=\u001b[0m \u001b[0mdf\u001b[0m\u001b[0;34m.\u001b[0m\u001b[0mapply\u001b[0m\u001b[0;34m(\u001b[0m\u001b[0;32mlambda\u001b[0m \u001b[0mrow\u001b[0m\u001b[0;34m:\u001b[0m \u001b[0mdist\u001b[0m\u001b[0;34m.\u001b[0m\u001b[0mquery_postal_code\u001b[0m\u001b[0;34m(\u001b[0m\u001b[0mrow\u001b[0m\u001b[0;34m[\u001b[0m\u001b[0;34m'code_postal_communes'\u001b[0m\u001b[0;34m]\u001b[0m\u001b[0;34m,\u001b[0m \u001b[0mrow\u001b[0m\u001b[0;34m[\u001b[0m\u001b[0;34m'code_postal_fs'\u001b[0m\u001b[0;34m]\u001b[0m\u001b[0;34m)\u001b[0m\u001b[0;34m,\u001b[0m \u001b[0maxis\u001b[0m\u001b[0;34m=\u001b[0m\u001b[0;36m1\u001b[0m\u001b[0;34m)\u001b[0m\u001b[0;34m\u001b[0m\u001b[0;34m\u001b[0m\u001b[0m\n\u001b[0m",
            "\u001b[0;32m/usr/local/lib/python3.6/dist-packages/pgeocode.py\u001b[0m in \u001b[0;36mquery_postal_code\u001b[0;34m(self, x, y)\u001b[0m\n\u001b[1;32m    367\u001b[0m             \u001b[0msingle_y_entry\u001b[0m \u001b[0;34m=\u001b[0m \u001b[0;32mFalse\u001b[0m\u001b[0;34m\u001b[0m\u001b[0;34m\u001b[0m\u001b[0m\n\u001b[1;32m    368\u001b[0m \u001b[0;34m\u001b[0m\u001b[0m\n\u001b[0;32m--> 369\u001b[0;31m         \u001b[0mdf_y\u001b[0m \u001b[0;34m=\u001b[0m \u001b[0msuper\u001b[0m\u001b[0;34m(\u001b[0m\u001b[0;34m)\u001b[0m\u001b[0;34m.\u001b[0m\u001b[0mquery_postal_code\u001b[0m\u001b[0;34m(\u001b[0m\u001b[0my\u001b[0m\u001b[0;34m)\u001b[0m\u001b[0;34m\u001b[0m\u001b[0;34m\u001b[0m\u001b[0m\n\u001b[0m\u001b[1;32m    370\u001b[0m \u001b[0;34m\u001b[0m\u001b[0m\n\u001b[1;32m    371\u001b[0m         \u001b[0mx_coords\u001b[0m \u001b[0;34m=\u001b[0m \u001b[0mdf_x\u001b[0m\u001b[0;34m[\u001b[0m\u001b[0;34m[\u001b[0m\u001b[0;34m\"latitude\"\u001b[0m\u001b[0;34m,\u001b[0m \u001b[0;34m\"longitude\"\u001b[0m\u001b[0;34m]\u001b[0m\u001b[0;34m]\u001b[0m\u001b[0;34m.\u001b[0m\u001b[0mvalues\u001b[0m\u001b[0;34m\u001b[0m\u001b[0;34m\u001b[0m\u001b[0m\n",
            "\u001b[0;32m/usr/local/lib/python3.6/dist-packages/pgeocode.py\u001b[0m in \u001b[0;36mquery_postal_code\u001b[0;34m(self, codes)\u001b[0m\n\u001b[1;32m    306\u001b[0m         \u001b[0mcodes\u001b[0m \u001b[0;34m=\u001b[0m \u001b[0mself\u001b[0m\u001b[0;34m.\u001b[0m\u001b[0m_normalize_postal_code\u001b[0m\u001b[0;34m(\u001b[0m\u001b[0mcodes\u001b[0m\u001b[0;34m)\u001b[0m\u001b[0;34m\u001b[0m\u001b[0;34m\u001b[0m\u001b[0m\n\u001b[1;32m    307\u001b[0m         response = pd.merge(\n\u001b[0;32m--> 308\u001b[0;31m             \u001b[0mcodes\u001b[0m\u001b[0;34m,\u001b[0m \u001b[0mself\u001b[0m\u001b[0;34m.\u001b[0m\u001b[0m_data_frame\u001b[0m\u001b[0;34m,\u001b[0m \u001b[0mon\u001b[0m\u001b[0;34m=\u001b[0m\u001b[0;34m\"postal_code\"\u001b[0m\u001b[0;34m,\u001b[0m \u001b[0mhow\u001b[0m\u001b[0;34m=\u001b[0m\u001b[0;34m\"left\"\u001b[0m\u001b[0;34m\u001b[0m\u001b[0;34m\u001b[0m\u001b[0m\n\u001b[0m\u001b[1;32m    309\u001b[0m         )\n\u001b[1;32m    310\u001b[0m         \u001b[0;32mif\u001b[0m \u001b[0mself\u001b[0m\u001b[0;34m.\u001b[0m\u001b[0munique\u001b[0m \u001b[0;32mand\u001b[0m \u001b[0msingle_entry\u001b[0m\u001b[0;34m:\u001b[0m\u001b[0;34m\u001b[0m\u001b[0;34m\u001b[0m\u001b[0m\n",
            "\u001b[0;32m/usr/local/lib/python3.6/dist-packages/pandas/core/reshape/merge.py\u001b[0m in \u001b[0;36mmerge\u001b[0;34m(left, right, how, on, left_on, right_on, left_index, right_index, sort, suffixes, copy, indicator, validate)\u001b[0m\n\u001b[1;32m     87\u001b[0m         \u001b[0mvalidate\u001b[0m\u001b[0;34m=\u001b[0m\u001b[0mvalidate\u001b[0m\u001b[0;34m,\u001b[0m\u001b[0;34m\u001b[0m\u001b[0;34m\u001b[0m\u001b[0m\n\u001b[1;32m     88\u001b[0m     )\n\u001b[0;32m---> 89\u001b[0;31m     \u001b[0;32mreturn\u001b[0m \u001b[0mop\u001b[0m\u001b[0;34m.\u001b[0m\u001b[0mget_result\u001b[0m\u001b[0;34m(\u001b[0m\u001b[0;34m)\u001b[0m\u001b[0;34m\u001b[0m\u001b[0;34m\u001b[0m\u001b[0m\n\u001b[0m\u001b[1;32m     90\u001b[0m \u001b[0;34m\u001b[0m\u001b[0m\n\u001b[1;32m     91\u001b[0m \u001b[0;34m\u001b[0m\u001b[0m\n",
            "\u001b[0;32m/usr/local/lib/python3.6/dist-packages/pandas/core/reshape/merge.py\u001b[0m in \u001b[0;36mget_result\u001b[0;34m(self)\u001b[0m\n\u001b[1;32m    666\u001b[0m             \u001b[0mself\u001b[0m\u001b[0;34m.\u001b[0m\u001b[0mleft\u001b[0m\u001b[0;34m,\u001b[0m \u001b[0mself\u001b[0m\u001b[0;34m.\u001b[0m\u001b[0mright\u001b[0m \u001b[0;34m=\u001b[0m \u001b[0mself\u001b[0m\u001b[0;34m.\u001b[0m\u001b[0m_indicator_pre_merge\u001b[0m\u001b[0;34m(\u001b[0m\u001b[0mself\u001b[0m\u001b[0;34m.\u001b[0m\u001b[0mleft\u001b[0m\u001b[0;34m,\u001b[0m \u001b[0mself\u001b[0m\u001b[0;34m.\u001b[0m\u001b[0mright\u001b[0m\u001b[0;34m)\u001b[0m\u001b[0;34m\u001b[0m\u001b[0;34m\u001b[0m\u001b[0m\n\u001b[1;32m    667\u001b[0m \u001b[0;34m\u001b[0m\u001b[0m\n\u001b[0;32m--> 668\u001b[0;31m         \u001b[0mjoin_index\u001b[0m\u001b[0;34m,\u001b[0m \u001b[0mleft_indexer\u001b[0m\u001b[0;34m,\u001b[0m \u001b[0mright_indexer\u001b[0m \u001b[0;34m=\u001b[0m \u001b[0mself\u001b[0m\u001b[0;34m.\u001b[0m\u001b[0m_get_join_info\u001b[0m\u001b[0;34m(\u001b[0m\u001b[0;34m)\u001b[0m\u001b[0;34m\u001b[0m\u001b[0;34m\u001b[0m\u001b[0m\n\u001b[0m\u001b[1;32m    669\u001b[0m \u001b[0;34m\u001b[0m\u001b[0m\n\u001b[1;32m    670\u001b[0m         llabels, rlabels = _items_overlap_with_suffix(\n",
            "\u001b[0;32m/usr/local/lib/python3.6/dist-packages/pandas/core/reshape/merge.py\u001b[0m in \u001b[0;36m_get_join_info\u001b[0;34m(self)\u001b[0m\n\u001b[1;32m    882\u001b[0m             )\n\u001b[1;32m    883\u001b[0m         \u001b[0;32melse\u001b[0m\u001b[0;34m:\u001b[0m\u001b[0;34m\u001b[0m\u001b[0;34m\u001b[0m\u001b[0m\n\u001b[0;32m--> 884\u001b[0;31m             \u001b[0;34m(\u001b[0m\u001b[0mleft_indexer\u001b[0m\u001b[0;34m,\u001b[0m \u001b[0mright_indexer\u001b[0m\u001b[0;34m)\u001b[0m \u001b[0;34m=\u001b[0m \u001b[0mself\u001b[0m\u001b[0;34m.\u001b[0m\u001b[0m_get_join_indexers\u001b[0m\u001b[0;34m(\u001b[0m\u001b[0;34m)\u001b[0m\u001b[0;34m\u001b[0m\u001b[0;34m\u001b[0m\u001b[0m\n\u001b[0m\u001b[1;32m    885\u001b[0m \u001b[0;34m\u001b[0m\u001b[0m\n\u001b[1;32m    886\u001b[0m             \u001b[0;32mif\u001b[0m \u001b[0mself\u001b[0m\u001b[0;34m.\u001b[0m\u001b[0mright_index\u001b[0m\u001b[0;34m:\u001b[0m\u001b[0;34m\u001b[0m\u001b[0;34m\u001b[0m\u001b[0m\n",
            "\u001b[0;32m/usr/local/lib/python3.6/dist-packages/pandas/core/reshape/merge.py\u001b[0m in \u001b[0;36m_get_join_indexers\u001b[0;34m(self)\u001b[0m\n\u001b[1;32m    861\u001b[0m         \u001b[0;34m\"\"\" return the join indexers \"\"\"\u001b[0m\u001b[0;34m\u001b[0m\u001b[0;34m\u001b[0m\u001b[0m\n\u001b[1;32m    862\u001b[0m         return _get_join_indexers(\n\u001b[0;32m--> 863\u001b[0;31m             \u001b[0mself\u001b[0m\u001b[0;34m.\u001b[0m\u001b[0mleft_join_keys\u001b[0m\u001b[0;34m,\u001b[0m \u001b[0mself\u001b[0m\u001b[0;34m.\u001b[0m\u001b[0mright_join_keys\u001b[0m\u001b[0;34m,\u001b[0m \u001b[0msort\u001b[0m\u001b[0;34m=\u001b[0m\u001b[0mself\u001b[0m\u001b[0;34m.\u001b[0m\u001b[0msort\u001b[0m\u001b[0;34m,\u001b[0m \u001b[0mhow\u001b[0m\u001b[0;34m=\u001b[0m\u001b[0mself\u001b[0m\u001b[0;34m.\u001b[0m\u001b[0mhow\u001b[0m\u001b[0;34m\u001b[0m\u001b[0;34m\u001b[0m\u001b[0m\n\u001b[0m\u001b[1;32m    864\u001b[0m         )\n\u001b[1;32m    865\u001b[0m \u001b[0;34m\u001b[0m\u001b[0m\n",
            "\u001b[0;32m/usr/local/lib/python3.6/dist-packages/pandas/core/reshape/merge.py\u001b[0m in \u001b[0;36m_get_join_indexers\u001b[0;34m(left_keys, right_keys, sort, how, **kwargs)\u001b[0m\n\u001b[1;32m   1326\u001b[0m         \u001b[0;32mfor\u001b[0m \u001b[0mn\u001b[0m \u001b[0;32min\u001b[0m \u001b[0mrange\u001b[0m\u001b[0;34m(\u001b[0m\u001b[0mlen\u001b[0m\u001b[0;34m(\u001b[0m\u001b[0mleft_keys\u001b[0m\u001b[0;34m)\u001b[0m\u001b[0;34m)\u001b[0m\u001b[0;34m\u001b[0m\u001b[0;34m\u001b[0m\u001b[0m\n\u001b[1;32m   1327\u001b[0m     )\n\u001b[0;32m-> 1328\u001b[0;31m     \u001b[0mzipped\u001b[0m \u001b[0;34m=\u001b[0m \u001b[0mzip\u001b[0m\u001b[0;34m(\u001b[0m\u001b[0;34m*\u001b[0m\u001b[0mmapped\u001b[0m\u001b[0;34m)\u001b[0m\u001b[0;34m\u001b[0m\u001b[0;34m\u001b[0m\u001b[0m\n\u001b[0m\u001b[1;32m   1329\u001b[0m     \u001b[0mllab\u001b[0m\u001b[0;34m,\u001b[0m \u001b[0mrlab\u001b[0m\u001b[0;34m,\u001b[0m \u001b[0mshape\u001b[0m \u001b[0;34m=\u001b[0m \u001b[0;34m[\u001b[0m\u001b[0mlist\u001b[0m\u001b[0;34m(\u001b[0m\u001b[0mx\u001b[0m\u001b[0;34m)\u001b[0m \u001b[0;32mfor\u001b[0m \u001b[0mx\u001b[0m \u001b[0;32min\u001b[0m \u001b[0mzipped\u001b[0m\u001b[0;34m]\u001b[0m\u001b[0;34m\u001b[0m\u001b[0;34m\u001b[0m\u001b[0m\n\u001b[1;32m   1330\u001b[0m \u001b[0;34m\u001b[0m\u001b[0m\n",
            "\u001b[0;32m/usr/local/lib/python3.6/dist-packages/pandas/core/reshape/merge.py\u001b[0m in \u001b[0;36m<genexpr>\u001b[0;34m(.0)\u001b[0m\n\u001b[1;32m   1324\u001b[0m     mapped = (\n\u001b[1;32m   1325\u001b[0m         \u001b[0m_factorize_keys\u001b[0m\u001b[0;34m(\u001b[0m\u001b[0mleft_keys\u001b[0m\u001b[0;34m[\u001b[0m\u001b[0mn\u001b[0m\u001b[0;34m]\u001b[0m\u001b[0;34m,\u001b[0m \u001b[0mright_keys\u001b[0m\u001b[0;34m[\u001b[0m\u001b[0mn\u001b[0m\u001b[0;34m]\u001b[0m\u001b[0;34m,\u001b[0m \u001b[0msort\u001b[0m\u001b[0;34m=\u001b[0m\u001b[0msort\u001b[0m\u001b[0;34m,\u001b[0m \u001b[0mhow\u001b[0m\u001b[0;34m=\u001b[0m\u001b[0mhow\u001b[0m\u001b[0;34m)\u001b[0m\u001b[0;34m\u001b[0m\u001b[0;34m\u001b[0m\u001b[0m\n\u001b[0;32m-> 1326\u001b[0;31m         \u001b[0;32mfor\u001b[0m \u001b[0mn\u001b[0m \u001b[0;32min\u001b[0m \u001b[0mrange\u001b[0m\u001b[0;34m(\u001b[0m\u001b[0mlen\u001b[0m\u001b[0;34m(\u001b[0m\u001b[0mleft_keys\u001b[0m\u001b[0;34m)\u001b[0m\u001b[0;34m)\u001b[0m\u001b[0;34m\u001b[0m\u001b[0;34m\u001b[0m\u001b[0m\n\u001b[0m\u001b[1;32m   1327\u001b[0m     )\n\u001b[1;32m   1328\u001b[0m     \u001b[0mzipped\u001b[0m \u001b[0;34m=\u001b[0m \u001b[0mzip\u001b[0m\u001b[0;34m(\u001b[0m\u001b[0;34m*\u001b[0m\u001b[0mmapped\u001b[0m\u001b[0;34m)\u001b[0m\u001b[0;34m\u001b[0m\u001b[0;34m\u001b[0m\u001b[0m\n",
            "\u001b[0;32m/usr/local/lib/python3.6/dist-packages/pandas/core/reshape/merge.py\u001b[0m in \u001b[0;36m_factorize_keys\u001b[0;34m(lk, rk, sort, how)\u001b[0m\n\u001b[1;32m   1972\u001b[0m \u001b[0;34m\u001b[0m\u001b[0m\n\u001b[1;32m   1973\u001b[0m     \u001b[0mllab\u001b[0m \u001b[0;34m=\u001b[0m \u001b[0mrizer\u001b[0m\u001b[0;34m.\u001b[0m\u001b[0mfactorize\u001b[0m\u001b[0;34m(\u001b[0m\u001b[0mlk\u001b[0m\u001b[0;34m)\u001b[0m\u001b[0;34m\u001b[0m\u001b[0;34m\u001b[0m\u001b[0m\n\u001b[0;32m-> 1974\u001b[0;31m     \u001b[0mrlab\u001b[0m \u001b[0;34m=\u001b[0m \u001b[0mrizer\u001b[0m\u001b[0;34m.\u001b[0m\u001b[0mfactorize\u001b[0m\u001b[0;34m(\u001b[0m\u001b[0mrk\u001b[0m\u001b[0;34m)\u001b[0m\u001b[0;34m\u001b[0m\u001b[0;34m\u001b[0m\u001b[0m\n\u001b[0m\u001b[1;32m   1975\u001b[0m \u001b[0;34m\u001b[0m\u001b[0m\n\u001b[1;32m   1976\u001b[0m     \u001b[0mcount\u001b[0m \u001b[0;34m=\u001b[0m \u001b[0mrizer\u001b[0m\u001b[0;34m.\u001b[0m\u001b[0mget_count\u001b[0m\u001b[0;34m(\u001b[0m\u001b[0;34m)\u001b[0m\u001b[0;34m\u001b[0m\u001b[0;34m\u001b[0m\u001b[0m\n",
            "\u001b[0;32mpandas/_libs/hashtable.pyx\u001b[0m in \u001b[0;36mpandas._libs.hashtable.Factorizer.factorize\u001b[0;34m()\u001b[0m\n",
            "\u001b[0;32mpandas/_libs/hashtable_class_helper.pxi\u001b[0m in \u001b[0;36mpandas._libs.hashtable.PyObjectHashTable.get_labels\u001b[0;34m()\u001b[0m\n",
            "\u001b[0;32mpandas/_libs/hashtable_class_helper.pxi\u001b[0m in \u001b[0;36mpandas._libs.hashtable.PyObjectHashTable._unique\u001b[0;34m()\u001b[0m\n",
            "\u001b[0;32m/usr/local/lib/python3.6/dist-packages/numpy/core/_asarray.py\u001b[0m in \u001b[0;36masarray\u001b[0;34m(a, dtype, order)\u001b[0m\n\u001b[1;32m     14\u001b[0m ]\n\u001b[1;32m     15\u001b[0m \u001b[0;34m\u001b[0m\u001b[0m\n\u001b[0;32m---> 16\u001b[0;31m \u001b[0;34m@\u001b[0m\u001b[0mset_module\u001b[0m\u001b[0;34m(\u001b[0m\u001b[0;34m'numpy'\u001b[0m\u001b[0;34m)\u001b[0m\u001b[0;34m\u001b[0m\u001b[0;34m\u001b[0m\u001b[0m\n\u001b[0m\u001b[1;32m     17\u001b[0m \u001b[0;32mdef\u001b[0m \u001b[0masarray\u001b[0m\u001b[0;34m(\u001b[0m\u001b[0ma\u001b[0m\u001b[0;34m,\u001b[0m \u001b[0mdtype\u001b[0m\u001b[0;34m=\u001b[0m\u001b[0;32mNone\u001b[0m\u001b[0;34m,\u001b[0m \u001b[0morder\u001b[0m\u001b[0;34m=\u001b[0m\u001b[0;32mNone\u001b[0m\u001b[0;34m)\u001b[0m\u001b[0;34m:\u001b[0m\u001b[0;34m\u001b[0m\u001b[0;34m\u001b[0m\u001b[0m\n\u001b[1;32m     18\u001b[0m     \"\"\"Convert the input to an array.\n",
            "\u001b[0;31mKeyboardInterrupt\u001b[0m: "
          ]
        }
      ]
    },
    {
      "cell_type": "code",
      "metadata": {
        "id": "1pqwuDy9T5Z3"
      },
      "source": [
        "# take the minimum per commune and OK\n",
        "# df.groupby('code_postal_communes').agg({'distance_commune_france_service': ['mean', 'min']})"
      ],
      "execution_count": null,
      "outputs": []
    },
    {
      "cell_type": "code",
      "metadata": {
        "id": "0SwMFq3iT19L",
        "outputId": "2e9b5818-6a9e-4ab7-eec5-3237c914b67b",
        "colab": {
          "base_uri": "https://localhost:8080/",
          "height": 424
        }
      },
      "source": [
        "df"
      ],
      "execution_count": 42,
      "outputs": [
        {
          "output_type": "execute_result",
          "data": {
            "text/html": [
              "<div>\n",
              "<style scoped>\n",
              "    .dataframe tbody tr th:only-of-type {\n",
              "        vertical-align: middle;\n",
              "    }\n",
              "\n",
              "    .dataframe tbody tr th {\n",
              "        vertical-align: top;\n",
              "    }\n",
              "\n",
              "    .dataframe thead th {\n",
              "        text-align: right;\n",
              "    }\n",
              "</style>\n",
              "<table border=\"1\" class=\"dataframe\">\n",
              "  <thead>\n",
              "    <tr style=\"text-align: right;\">\n",
              "      <th></th>\n",
              "      <th>level_0</th>\n",
              "      <th>level_1</th>\n",
              "      <th>code_postal_communes</th>\n",
              "      <th>code_postal_fs</th>\n",
              "    </tr>\n",
              "  </thead>\n",
              "  <tbody>\n",
              "    <tr>\n",
              "      <th>0</th>\n",
              "      <td>0</td>\n",
              "      <td>0</td>\n",
              "      <td>01500</td>\n",
              "      <td>01200</td>\n",
              "    </tr>\n",
              "    <tr>\n",
              "      <th>1</th>\n",
              "      <td>0</td>\n",
              "      <td>0</td>\n",
              "      <td>01500</td>\n",
              "      <td>12170</td>\n",
              "    </tr>\n",
              "    <tr>\n",
              "      <th>2</th>\n",
              "      <td>0</td>\n",
              "      <td>0</td>\n",
              "      <td>01500</td>\n",
              "      <td>12330</td>\n",
              "    </tr>\n",
              "    <tr>\n",
              "      <th>3</th>\n",
              "      <td>0</td>\n",
              "      <td>0</td>\n",
              "      <td>01500</td>\n",
              "      <td>14130</td>\n",
              "    </tr>\n",
              "    <tr>\n",
              "      <th>4</th>\n",
              "      <td>0</td>\n",
              "      <td>0</td>\n",
              "      <td>01500</td>\n",
              "      <td>14370</td>\n",
              "    </tr>\n",
              "    <tr>\n",
              "      <th>...</th>\n",
              "      <td>...</td>\n",
              "      <td>...</td>\n",
              "      <td>...</td>\n",
              "      <td>...</td>\n",
              "    </tr>\n",
              "    <tr>\n",
              "      <th>35586331</th>\n",
              "      <td>39191</td>\n",
              "      <td>0</td>\n",
              "      <td>98799</td>\n",
              "      <td>89520</td>\n",
              "    </tr>\n",
              "    <tr>\n",
              "      <th>35586332</th>\n",
              "      <td>39191</td>\n",
              "      <td>0</td>\n",
              "      <td>98799</td>\n",
              "      <td>95120</td>\n",
              "    </tr>\n",
              "    <tr>\n",
              "      <th>35586333</th>\n",
              "      <td>39191</td>\n",
              "      <td>0</td>\n",
              "      <td>98799</td>\n",
              "      <td>25410</td>\n",
              "    </tr>\n",
              "    <tr>\n",
              "      <th>35586334</th>\n",
              "      <td>39191</td>\n",
              "      <td>0</td>\n",
              "      <td>98799</td>\n",
              "      <td>31310</td>\n",
              "    </tr>\n",
              "    <tr>\n",
              "      <th>35586335</th>\n",
              "      <td>39191</td>\n",
              "      <td>0</td>\n",
              "      <td>98799</td>\n",
              "      <td>31410</td>\n",
              "    </tr>\n",
              "  </tbody>\n",
              "</table>\n",
              "<p>35586336 rows × 4 columns</p>\n",
              "</div>"
            ],
            "text/plain": [
              "          level_0  level_1 code_postal_communes code_postal_fs\n",
              "0               0        0                01500          01200\n",
              "1               0        0                01500          12170\n",
              "2               0        0                01500          12330\n",
              "3               0        0                01500          14130\n",
              "4               0        0                01500          14370\n",
              "...           ...      ...                  ...            ...\n",
              "35586331    39191        0                98799          89520\n",
              "35586332    39191        0                98799          95120\n",
              "35586333    39191        0                98799          25410\n",
              "35586334    39191        0                98799          31310\n",
              "35586335    39191        0                98799          31410\n",
              "\n",
              "[35586336 rows x 4 columns]"
            ]
          },
          "metadata": {
            "tags": []
          },
          "execution_count": 42
        }
      ]
    },
    {
      "cell_type": "code",
      "metadata": {
        "id": "-NNkU8oJUm5u"
      },
      "source": [
        ""
      ],
      "execution_count": null,
      "outputs": []
    },
    {
      "cell_type": "markdown",
      "metadata": {
        "id": "ztxNWDqmU1aO"
      },
      "source": [
        "## 4. Part des moins de 25 ans"
      ]
    },
    {
      "cell_type": "code",
      "metadata": {
        "id": "VUPGixvaU8Mi",
        "outputId": "eac79747-ef41-4b89-a725-b726bf5189a6",
        "colab": {
          "base_uri": "https://localhost:8080/",
          "height": 424
        }
      },
      "source": [
        "demo1 = pd.read_csv('/content/drive/My Drive/Colab Notebooks/data_DEMO_2020_V1_COM.csv', sep=';')\n",
        "demo2 = pd.read_csv('/content/drive/My Drive/Colab Notebooks/data_DEMO_2020_V1_ENSQP.csv', sep=';')\n",
        "demo3 = pd.read_csv('/content/drive/My Drive/Colab Notebooks/data_DEMO_2020_V1_EPCI15.csv', sep=';')\n",
        "demo4 = pd.read_csv('/content/drive/My Drive/Colab Notebooks/data_DEMO_2020_V1_EPCI19.csv', sep=';')\n",
        "demo5 = pd.read_csv('/content/drive/My Drive/Colab Notebooks/data_DEMO_2020_V1_QP.csv', sep=';')\n",
        "\n",
        "demo = pd.concat([demo1,demo2,demo3,demo4,demo5], axis=0).reset_index()\n",
        "demo = demo[['CODGEO', 'POP_MUN', 'TX_TOT_0A24']]\n",
        "#demo.rename(columns={'CODGEO': 'code_postal'}, inplace=True)\n",
        "demo.dropna(subset=['TX_TOT_0A24'], inplace=True)\n",
        "demo"
      ],
      "execution_count": 80,
      "outputs": [
        {
          "output_type": "execute_result",
          "data": {
            "text/html": [
              "<div>\n",
              "<style scoped>\n",
              "    .dataframe tbody tr th:only-of-type {\n",
              "        vertical-align: middle;\n",
              "    }\n",
              "\n",
              "    .dataframe tbody tr th {\n",
              "        vertical-align: top;\n",
              "    }\n",
              "\n",
              "    .dataframe thead th {\n",
              "        text-align: right;\n",
              "    }\n",
              "</style>\n",
              "<table border=\"1\" class=\"dataframe\">\n",
              "  <thead>\n",
              "    <tr style=\"text-align: right;\">\n",
              "      <th></th>\n",
              "      <th>CODGEO</th>\n",
              "      <th>POP_MUN</th>\n",
              "      <th>TX_TOT_0A24</th>\n",
              "    </tr>\n",
              "  </thead>\n",
              "  <tbody>\n",
              "    <tr>\n",
              "      <th>0</th>\n",
              "      <td>01004</td>\n",
              "      <td>14359</td>\n",
              "      <td>32,5</td>\n",
              "    </tr>\n",
              "    <tr>\n",
              "      <th>1</th>\n",
              "      <td>01031</td>\n",
              "      <td>3646</td>\n",
              "      <td>32,1</td>\n",
              "    </tr>\n",
              "    <tr>\n",
              "      <th>2</th>\n",
              "      <td>01034</td>\n",
              "      <td>8909</td>\n",
              "      <td>29,5</td>\n",
              "    </tr>\n",
              "    <tr>\n",
              "      <th>3</th>\n",
              "      <td>01053</td>\n",
              "      <td>40490</td>\n",
              "      <td>31,3</td>\n",
              "    </tr>\n",
              "    <tr>\n",
              "      <th>4</th>\n",
              "      <td>01160</td>\n",
              "      <td>9236</td>\n",
              "      <td>29,1</td>\n",
              "    </tr>\n",
              "    <tr>\n",
              "      <th>...</th>\n",
              "      <td>...</td>\n",
              "      <td>...</td>\n",
              "      <td>...</td>\n",
              "    </tr>\n",
              "    <tr>\n",
              "      <th>2899</th>\n",
              "      <td>QP973028</td>\n",
              "      <td>3111</td>\n",
              "      <td>55,1</td>\n",
              "    </tr>\n",
              "    <tr>\n",
              "      <th>2900</th>\n",
              "      <td>QP973029</td>\n",
              "      <td>4711</td>\n",
              "      <td>60,4</td>\n",
              "    </tr>\n",
              "    <tr>\n",
              "      <th>2901</th>\n",
              "      <td>QP973030</td>\n",
              "      <td>9155</td>\n",
              "      <td>69,7</td>\n",
              "    </tr>\n",
              "    <tr>\n",
              "      <th>2902</th>\n",
              "      <td>QP973031</td>\n",
              "      <td>3740</td>\n",
              "      <td>55,6</td>\n",
              "    </tr>\n",
              "    <tr>\n",
              "      <th>2903</th>\n",
              "      <td>QP973032</td>\n",
              "      <td>5815</td>\n",
              "      <td>64,1</td>\n",
              "    </tr>\n",
              "  </tbody>\n",
              "</table>\n",
              "<p>2825 rows × 3 columns</p>\n",
              "</div>"
            ],
            "text/plain": [
              "        CODGEO  POP_MUN TX_TOT_0A24\n",
              "0        01004    14359        32,5\n",
              "1        01031     3646        32,1\n",
              "2        01034     8909        29,5\n",
              "3        01053    40490        31,3\n",
              "4        01160     9236        29,1\n",
              "...        ...      ...         ...\n",
              "2899  QP973028     3111        55,1\n",
              "2900  QP973029     4711        60,4\n",
              "2901  QP973030     9155        69,7\n",
              "2902  QP973031     3740        55,6\n",
              "2903  QP973032     5815        64,1\n",
              "\n",
              "[2825 rows x 3 columns]"
            ]
          },
          "metadata": {
            "tags": []
          },
          "execution_count": 80
        }
      ]
    },
    {
      "cell_type": "code",
      "metadata": {
        "id": "Q-pcRqdel3lZ"
      },
      "source": [
        "dir = '/content/drive/My Drive/Colab Notebooks/'\n",
        "demo.to_csv(f'{dir}data_moins_25ans.csv', index=False)"
      ],
      "execution_count": 81,
      "outputs": []
    },
    {
      "cell_type": "code",
      "metadata": {
        "id": "LLFueYoLWYL6"
      },
      "source": [
        "#pd.merge(commune, demo, how='outer', on='')"
      ],
      "execution_count": null,
      "outputs": []
    },
    {
      "cell_type": "code",
      "metadata": {
        "id": "l5jqp7YriipZ"
      },
      "source": [
        ""
      ],
      "execution_count": null,
      "outputs": []
    },
    {
      "cell_type": "code",
      "metadata": {
        "id": "_6yb3xJRiiru"
      },
      "source": [
        ""
      ],
      "execution_count": null,
      "outputs": []
    },
    {
      "cell_type": "code",
      "metadata": {
        "id": "_wsmCFimHdju"
      },
      "source": [
        ""
      ],
      "execution_count": null,
      "outputs": []
    }
  ]
}