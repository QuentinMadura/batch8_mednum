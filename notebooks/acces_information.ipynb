{
  "nbformat": 4,
  "nbformat_minor": 0,
  "metadata": {
    "colab": {
      "name": "carte_mediatheque.ipynb",
      "provenance": [],
      "collapsed_sections": [],
      "toc_visible": true,
      "include_colab_link": true
    },
    "kernelspec": {
      "name": "python3",
      "display_name": "Python 3"
    }
  },
  "cells": [
    {
      "cell_type": "markdown",
      "metadata": {
        "id": "view-in-github",
        "colab_type": "text"
      },
      "source": [
        "<a href=\"https://colab.research.google.com/github/dataforgoodfr/batch8_mednum/blob/master/notebooks/acces_information.ipynb\" target=\"_parent\"><img src=\"https://colab.research.google.com/assets/colab-badge.svg\" alt=\"Open In Colab\"/></a>"
      ]
    },
    {
      "cell_type": "markdown",
      "metadata": {
        "id": "t_HA6Y74Bj6Y"
      },
      "source": [
        "## 1. Liste des médiathèques\n"
      ]
    },
    {
      "cell_type": "code",
      "metadata": {
        "id": "lTy9Hg7uY623"
      },
      "source": [
        "# get mediatheques map"
      ],
      "execution_count": null,
      "outputs": []
    },
    {
      "cell_type": "code",
      "metadata": {
        "id": "0-xH_tWAtWZj",
        "outputId": "fa7dbce5-d162-46c0-8c46-6ee200f807a4",
        "colab": {
          "base_uri": "https://localhost:8080/",
          "height": 667
        }
      },
      "source": [
        "from google.colab import drive\n",
        "drive.mount(\"/content/drive\", force_remount=True)"
      ],
      "execution_count": 8,
      "outputs": [
        {
          "output_type": "error",
          "ename": "KeyboardInterrupt",
          "evalue": "ignored",
          "traceback": [
            "\u001b[0;31m---------------------------------------------------------------------------\u001b[0m",
            "\u001b[0;31mKeyboardInterrupt\u001b[0m                         Traceback (most recent call last)",
            "\u001b[0;32m/usr/local/lib/python3.6/dist-packages/ipykernel/kernelbase.py\u001b[0m in \u001b[0;36m_input_request\u001b[0;34m(self, prompt, ident, parent, password)\u001b[0m\n\u001b[1;32m    728\u001b[0m             \u001b[0;32mtry\u001b[0m\u001b[0;34m:\u001b[0m\u001b[0;34m\u001b[0m\u001b[0;34m\u001b[0m\u001b[0m\n\u001b[0;32m--> 729\u001b[0;31m                 \u001b[0mident\u001b[0m\u001b[0;34m,\u001b[0m \u001b[0mreply\u001b[0m \u001b[0;34m=\u001b[0m \u001b[0mself\u001b[0m\u001b[0;34m.\u001b[0m\u001b[0msession\u001b[0m\u001b[0;34m.\u001b[0m\u001b[0mrecv\u001b[0m\u001b[0;34m(\u001b[0m\u001b[0mself\u001b[0m\u001b[0;34m.\u001b[0m\u001b[0mstdin_socket\u001b[0m\u001b[0;34m,\u001b[0m \u001b[0;36m0\u001b[0m\u001b[0;34m)\u001b[0m\u001b[0;34m\u001b[0m\u001b[0;34m\u001b[0m\u001b[0m\n\u001b[0m\u001b[1;32m    730\u001b[0m             \u001b[0;32mexcept\u001b[0m \u001b[0mException\u001b[0m\u001b[0;34m:\u001b[0m\u001b[0;34m\u001b[0m\u001b[0;34m\u001b[0m\u001b[0m\n",
            "\u001b[0;32m/usr/local/lib/python3.6/dist-packages/jupyter_client/session.py\u001b[0m in \u001b[0;36mrecv\u001b[0;34m(self, socket, mode, content, copy)\u001b[0m\n\u001b[1;32m    802\u001b[0m         \u001b[0;32mtry\u001b[0m\u001b[0;34m:\u001b[0m\u001b[0;34m\u001b[0m\u001b[0;34m\u001b[0m\u001b[0m\n\u001b[0;32m--> 803\u001b[0;31m             \u001b[0mmsg_list\u001b[0m \u001b[0;34m=\u001b[0m \u001b[0msocket\u001b[0m\u001b[0;34m.\u001b[0m\u001b[0mrecv_multipart\u001b[0m\u001b[0;34m(\u001b[0m\u001b[0mmode\u001b[0m\u001b[0;34m,\u001b[0m \u001b[0mcopy\u001b[0m\u001b[0;34m=\u001b[0m\u001b[0mcopy\u001b[0m\u001b[0;34m)\u001b[0m\u001b[0;34m\u001b[0m\u001b[0;34m\u001b[0m\u001b[0m\n\u001b[0m\u001b[1;32m    804\u001b[0m         \u001b[0;32mexcept\u001b[0m \u001b[0mzmq\u001b[0m\u001b[0;34m.\u001b[0m\u001b[0mZMQError\u001b[0m \u001b[0;32mas\u001b[0m \u001b[0me\u001b[0m\u001b[0;34m:\u001b[0m\u001b[0;34m\u001b[0m\u001b[0;34m\u001b[0m\u001b[0m\n",
            "\u001b[0;32m/usr/local/lib/python3.6/dist-packages/zmq/sugar/socket.py\u001b[0m in \u001b[0;36mrecv_multipart\u001b[0;34m(self, flags, copy, track)\u001b[0m\n\u001b[1;32m    490\u001b[0m         \"\"\"\n\u001b[0;32m--> 491\u001b[0;31m         \u001b[0mparts\u001b[0m \u001b[0;34m=\u001b[0m \u001b[0;34m[\u001b[0m\u001b[0mself\u001b[0m\u001b[0;34m.\u001b[0m\u001b[0mrecv\u001b[0m\u001b[0;34m(\u001b[0m\u001b[0mflags\u001b[0m\u001b[0;34m,\u001b[0m \u001b[0mcopy\u001b[0m\u001b[0;34m=\u001b[0m\u001b[0mcopy\u001b[0m\u001b[0;34m,\u001b[0m \u001b[0mtrack\u001b[0m\u001b[0;34m=\u001b[0m\u001b[0mtrack\u001b[0m\u001b[0;34m)\u001b[0m\u001b[0;34m]\u001b[0m\u001b[0;34m\u001b[0m\u001b[0;34m\u001b[0m\u001b[0m\n\u001b[0m\u001b[1;32m    492\u001b[0m         \u001b[0;31m# have first part already, only loop while more to receive\u001b[0m\u001b[0;34m\u001b[0m\u001b[0;34m\u001b[0m\u001b[0;34m\u001b[0m\u001b[0m\n",
            "\u001b[0;32mzmq/backend/cython/socket.pyx\u001b[0m in \u001b[0;36mzmq.backend.cython.socket.Socket.recv\u001b[0;34m()\u001b[0m\n",
            "\u001b[0;32mzmq/backend/cython/socket.pyx\u001b[0m in \u001b[0;36mzmq.backend.cython.socket.Socket.recv\u001b[0;34m()\u001b[0m\n",
            "\u001b[0;32mzmq/backend/cython/socket.pyx\u001b[0m in \u001b[0;36mzmq.backend.cython.socket._recv_copy\u001b[0;34m()\u001b[0m\n",
            "\u001b[0;32m/usr/local/lib/python3.6/dist-packages/zmq/backend/cython/checkrc.pxd\u001b[0m in \u001b[0;36mzmq.backend.cython.checkrc._check_rc\u001b[0;34m()\u001b[0m\n",
            "\u001b[0;31mKeyboardInterrupt\u001b[0m: ",
            "\nDuring handling of the above exception, another exception occurred:\n",
            "\u001b[0;31mKeyboardInterrupt\u001b[0m                         Traceback (most recent call last)",
            "\u001b[0;32m<ipython-input-8-7a9d054e34e8>\u001b[0m in \u001b[0;36m<module>\u001b[0;34m()\u001b[0m\n\u001b[1;32m      1\u001b[0m \u001b[0;32mfrom\u001b[0m \u001b[0mgoogle\u001b[0m\u001b[0;34m.\u001b[0m\u001b[0mcolab\u001b[0m \u001b[0;32mimport\u001b[0m \u001b[0mdrive\u001b[0m\u001b[0;34m\u001b[0m\u001b[0;34m\u001b[0m\u001b[0m\n\u001b[0;32m----> 2\u001b[0;31m \u001b[0mdrive\u001b[0m\u001b[0;34m.\u001b[0m\u001b[0mmount\u001b[0m\u001b[0;34m(\u001b[0m\u001b[0;34m\"/content/drive\"\u001b[0m\u001b[0;34m,\u001b[0m \u001b[0mforce_remount\u001b[0m\u001b[0;34m=\u001b[0m\u001b[0;32mTrue\u001b[0m\u001b[0;34m)\u001b[0m\u001b[0;34m\u001b[0m\u001b[0;34m\u001b[0m\u001b[0m\n\u001b[0m",
            "\u001b[0;32m/usr/local/lib/python3.6/dist-packages/google/colab/drive.py\u001b[0m in \u001b[0;36mmount\u001b[0;34m(mountpoint, force_remount, timeout_ms, use_metadata_server)\u001b[0m\n\u001b[1;32m    249\u001b[0m       \u001b[0;32mwith\u001b[0m \u001b[0m_output\u001b[0m\u001b[0;34m.\u001b[0m\u001b[0muse_tags\u001b[0m\u001b[0;34m(\u001b[0m\u001b[0;34m'dfs-auth-dance'\u001b[0m\u001b[0;34m)\u001b[0m\u001b[0;34m:\u001b[0m\u001b[0;34m\u001b[0m\u001b[0;34m\u001b[0m\u001b[0m\n\u001b[1;32m    250\u001b[0m         \u001b[0;32mwith\u001b[0m \u001b[0mopen\u001b[0m\u001b[0;34m(\u001b[0m\u001b[0mfifo\u001b[0m\u001b[0;34m,\u001b[0m \u001b[0;34m'w'\u001b[0m\u001b[0;34m)\u001b[0m \u001b[0;32mas\u001b[0m \u001b[0mfifo_file\u001b[0m\u001b[0;34m:\u001b[0m\u001b[0;34m\u001b[0m\u001b[0;34m\u001b[0m\u001b[0m\n\u001b[0;32m--> 251\u001b[0;31m           \u001b[0mfifo_file\u001b[0m\u001b[0;34m.\u001b[0m\u001b[0mwrite\u001b[0m\u001b[0;34m(\u001b[0m\u001b[0mget_code\u001b[0m\u001b[0;34m(\u001b[0m\u001b[0mauth_prompt\u001b[0m\u001b[0;34m)\u001b[0m \u001b[0;34m+\u001b[0m \u001b[0;34m'\\n'\u001b[0m\u001b[0;34m)\u001b[0m\u001b[0;34m\u001b[0m\u001b[0;34m\u001b[0m\u001b[0m\n\u001b[0m\u001b[1;32m    252\u001b[0m       \u001b[0mwrote_to_fifo\u001b[0m \u001b[0;34m=\u001b[0m \u001b[0;32mTrue\u001b[0m\u001b[0;34m\u001b[0m\u001b[0;34m\u001b[0m\u001b[0m\n\u001b[1;32m    253\u001b[0m     \u001b[0;32melif\u001b[0m \u001b[0mcase\u001b[0m \u001b[0;34m==\u001b[0m \u001b[0;36m5\u001b[0m\u001b[0;34m:\u001b[0m\u001b[0;34m\u001b[0m\u001b[0;34m\u001b[0m\u001b[0m\n",
            "\u001b[0;32m/usr/local/lib/python3.6/dist-packages/ipykernel/kernelbase.py\u001b[0m in \u001b[0;36mraw_input\u001b[0;34m(self, prompt)\u001b[0m\n\u001b[1;32m    702\u001b[0m             \u001b[0mself\u001b[0m\u001b[0;34m.\u001b[0m\u001b[0m_parent_ident\u001b[0m\u001b[0;34m,\u001b[0m\u001b[0;34m\u001b[0m\u001b[0;34m\u001b[0m\u001b[0m\n\u001b[1;32m    703\u001b[0m             \u001b[0mself\u001b[0m\u001b[0;34m.\u001b[0m\u001b[0m_parent_header\u001b[0m\u001b[0;34m,\u001b[0m\u001b[0;34m\u001b[0m\u001b[0;34m\u001b[0m\u001b[0m\n\u001b[0;32m--> 704\u001b[0;31m             \u001b[0mpassword\u001b[0m\u001b[0;34m=\u001b[0m\u001b[0;32mFalse\u001b[0m\u001b[0;34m,\u001b[0m\u001b[0;34m\u001b[0m\u001b[0;34m\u001b[0m\u001b[0m\n\u001b[0m\u001b[1;32m    705\u001b[0m         )\n\u001b[1;32m    706\u001b[0m \u001b[0;34m\u001b[0m\u001b[0m\n",
            "\u001b[0;32m/usr/local/lib/python3.6/dist-packages/ipykernel/kernelbase.py\u001b[0m in \u001b[0;36m_input_request\u001b[0;34m(self, prompt, ident, parent, password)\u001b[0m\n\u001b[1;32m    732\u001b[0m             \u001b[0;32mexcept\u001b[0m \u001b[0mKeyboardInterrupt\u001b[0m\u001b[0;34m:\u001b[0m\u001b[0;34m\u001b[0m\u001b[0;34m\u001b[0m\u001b[0m\n\u001b[1;32m    733\u001b[0m                 \u001b[0;31m# re-raise KeyboardInterrupt, to truncate traceback\u001b[0m\u001b[0;34m\u001b[0m\u001b[0;34m\u001b[0m\u001b[0;34m\u001b[0m\u001b[0m\n\u001b[0;32m--> 734\u001b[0;31m                 \u001b[0;32mraise\u001b[0m \u001b[0mKeyboardInterrupt\u001b[0m\u001b[0;34m\u001b[0m\u001b[0;34m\u001b[0m\u001b[0m\n\u001b[0m\u001b[1;32m    735\u001b[0m             \u001b[0;32melse\u001b[0m\u001b[0;34m:\u001b[0m\u001b[0;34m\u001b[0m\u001b[0;34m\u001b[0m\u001b[0m\n\u001b[1;32m    736\u001b[0m                 \u001b[0;32mbreak\u001b[0m\u001b[0;34m\u001b[0m\u001b[0;34m\u001b[0m\u001b[0m\n",
            "\u001b[0;31mKeyboardInterrupt\u001b[0m: "
          ]
        }
      ]
    },
    {
      "cell_type": "code",
      "metadata": {
        "id": "8tBKP6-Ftkw2",
        "outputId": "9c7b9ec4-0d48-499e-ac81-9fe66a2edd8e",
        "colab": {
          "base_uri": "https://localhost:8080/",
          "height": 52
        }
      },
      "source": [
        "ls drive/'My Drive'/'Colab Notebooks'/"
      ],
      "execution_count": null,
      "outputs": [
        {
          "output_type": "stream",
          "text": [
            "carte-des-bibliotheques.csv                 mediatheque.ipynb\n",
            "correspondances-code-insee-code-postal.csv\n"
          ],
          "name": "stdout"
        }
      ]
    },
    {
      "cell_type": "code",
      "metadata": {
        "id": "g05swUDWuyOv",
        "outputId": "c4c9b58f-7200-47bf-f637-9bd3f039b2b3",
        "colab": {
          "base_uri": "https://localhost:8080/",
          "height": 34
        }
      },
      "source": [
        "cd drive/'My Drive'/'Colab Notebooks'/"
      ],
      "execution_count": null,
      "outputs": [
        {
          "output_type": "stream",
          "text": [
            "/content/drive/My Drive/Colab Notebooks\n"
          ],
          "name": "stdout"
        }
      ]
    },
    {
      "cell_type": "code",
      "metadata": {
        "id": "0uiJI65XtwW5",
        "outputId": "f8c085e0-b5cc-4ac8-f7af-3d88f18266f2",
        "colab": {
          "base_uri": "https://localhost:8080/",
          "height": 521
        }
      },
      "source": [
        "import pandas as pd\n",
        "\n",
        "df = pd.read_csv('carte-des-bibliotheques.csv', header=0, sep=';')\n",
        "print(df.shape)\n",
        "df.head()"
      ],
      "execution_count": null,
      "outputs": [
        {
          "output_type": "stream",
          "text": [
            "(844, 21)\n"
          ],
          "name": "stdout"
        },
        {
          "output_type": "execute_result",
          "data": {
            "text/html": [
              "<div>\n",
              "<style scoped>\n",
              "    .dataframe tbody tr th:only-of-type {\n",
              "        vertical-align: middle;\n",
              "    }\n",
              "\n",
              "    .dataframe tbody tr th {\n",
              "        vertical-align: top;\n",
              "    }\n",
              "\n",
              "    .dataframe thead th {\n",
              "        text-align: right;\n",
              "    }\n",
              "</style>\n",
              "<table border=\"1\" class=\"dataframe\">\n",
              "  <thead>\n",
              "    <tr style=\"text-align: right;\">\n",
              "      <th></th>\n",
              "      <th>Nom structure</th>\n",
              "      <th>Adresse</th>\n",
              "      <th>Code postal</th>\n",
              "      <th>Département</th>\n",
              "      <th>Ville</th>\n",
              "      <th>Année(s) subvention Région</th>\n",
              "      <th>Montant subvention 2000</th>\n",
              "      <th>Montant subvention 2001</th>\n",
              "      <th>Montant subvention 2002</th>\n",
              "      <th>Montant subvention 2003</th>\n",
              "      <th>Montant subvention 2004</th>\n",
              "      <th>Montant subvention 2005</th>\n",
              "      <th>Montant subvention 2006</th>\n",
              "      <th>Montant subvention 2007</th>\n",
              "      <th>Montant subvention 2008</th>\n",
              "      <th>Montant subvention 2009</th>\n",
              "      <th>Montant subvention 2010</th>\n",
              "      <th>Montant subvention 2011</th>\n",
              "      <th>Montant subvention 2012</th>\n",
              "      <th>Montant subvention 2013</th>\n",
              "      <th>wgs84</th>\n",
              "    </tr>\n",
              "  </thead>\n",
              "  <tbody>\n",
              "    <tr>\n",
              "      <th>0</th>\n",
              "      <td>MÉDIATHÈQUE SAINT-JOHN PERSE</td>\n",
              "      <td>2 rue Édouard Poisson</td>\n",
              "      <td>93300</td>\n",
              "      <td>93</td>\n",
              "      <td>AUBERVILLIERS</td>\n",
              "      <td>NaN</td>\n",
              "      <td>NaN</td>\n",
              "      <td>NaN</td>\n",
              "      <td>NaN</td>\n",
              "      <td>NaN</td>\n",
              "      <td>NaN</td>\n",
              "      <td>NaN</td>\n",
              "      <td>NaN</td>\n",
              "      <td>NaN</td>\n",
              "      <td>NaN</td>\n",
              "      <td>NaN</td>\n",
              "      <td>NaN</td>\n",
              "      <td>NaN</td>\n",
              "      <td>NaN</td>\n",
              "      <td>NaN</td>\n",
              "      <td>48.9104747,2.385008</td>\n",
              "    </tr>\n",
              "    <tr>\n",
              "      <th>1</th>\n",
              "      <td>MÉDIATHÈQUE GEORGES PÉREC</td>\n",
              "      <td>8-10 rue du Marqis de Raies</td>\n",
              "      <td>91080</td>\n",
              "      <td>91</td>\n",
              "      <td>COURCOURONNES</td>\n",
              "      <td>NaN</td>\n",
              "      <td>NaN</td>\n",
              "      <td>NaN</td>\n",
              "      <td>NaN</td>\n",
              "      <td>NaN</td>\n",
              "      <td>NaN</td>\n",
              "      <td>NaN</td>\n",
              "      <td>NaN</td>\n",
              "      <td>NaN</td>\n",
              "      <td>NaN</td>\n",
              "      <td>NaN</td>\n",
              "      <td>NaN</td>\n",
              "      <td>NaN</td>\n",
              "      <td>NaN</td>\n",
              "      <td>NaN</td>\n",
              "      <td>48.6293899,2.4135832</td>\n",
              "    </tr>\n",
              "    <tr>\n",
              "      <th>2</th>\n",
              "      <td>MÉDIATHÈQUE LES MUSES</td>\n",
              "      <td>101 rue de la Division Leclerc</td>\n",
              "      <td>91310</td>\n",
              "      <td>91</td>\n",
              "      <td>LINAS</td>\n",
              "      <td>NaN</td>\n",
              "      <td>NaN</td>\n",
              "      <td>NaN</td>\n",
              "      <td>NaN</td>\n",
              "      <td>NaN</td>\n",
              "      <td>NaN</td>\n",
              "      <td>NaN</td>\n",
              "      <td>NaN</td>\n",
              "      <td>NaN</td>\n",
              "      <td>NaN</td>\n",
              "      <td>NaN</td>\n",
              "      <td>NaN</td>\n",
              "      <td>NaN</td>\n",
              "      <td>NaN</td>\n",
              "      <td>NaN</td>\n",
              "      <td>48.6305113,2.2650636</td>\n",
              "    </tr>\n",
              "    <tr>\n",
              "      <th>3</th>\n",
              "      <td>MÉDIATHÈQUE MUNICIPALE</td>\n",
              "      <td>2 route de la Creusée</td>\n",
              "      <td>91530</td>\n",
              "      <td>91</td>\n",
              "      <td>LE-VAL-SAINT-GERMAIN</td>\n",
              "      <td>NaN</td>\n",
              "      <td>NaN</td>\n",
              "      <td>NaN</td>\n",
              "      <td>NaN</td>\n",
              "      <td>NaN</td>\n",
              "      <td>NaN</td>\n",
              "      <td>NaN</td>\n",
              "      <td>NaN</td>\n",
              "      <td>NaN</td>\n",
              "      <td>NaN</td>\n",
              "      <td>NaN</td>\n",
              "      <td>NaN</td>\n",
              "      <td>NaN</td>\n",
              "      <td>NaN</td>\n",
              "      <td>NaN</td>\n",
              "      <td>48.5657217,2.0601725</td>\n",
              "    </tr>\n",
              "    <tr>\n",
              "      <th>4</th>\n",
              "      <td>BIBLIOTHÈQUE LE GRENIER</td>\n",
              "      <td>5 place des Droits de l'Homme</td>\n",
              "      <td>91800</td>\n",
              "      <td>91</td>\n",
              "      <td>BOUSSY-SAINT-ANTOINE</td>\n",
              "      <td>NaN</td>\n",
              "      <td>NaN</td>\n",
              "      <td>NaN</td>\n",
              "      <td>NaN</td>\n",
              "      <td>NaN</td>\n",
              "      <td>NaN</td>\n",
              "      <td>NaN</td>\n",
              "      <td>NaN</td>\n",
              "      <td>NaN</td>\n",
              "      <td>NaN</td>\n",
              "      <td>NaN</td>\n",
              "      <td>NaN</td>\n",
              "      <td>NaN</td>\n",
              "      <td>NaN</td>\n",
              "      <td>NaN</td>\n",
              "      <td>48.6891076,2.5297452</td>\n",
              "    </tr>\n",
              "  </tbody>\n",
              "</table>\n",
              "</div>"
            ],
            "text/plain": [
              "                  Nom structure  ...                 wgs84\n",
              "0  MÉDIATHÈQUE SAINT-JOHN PERSE  ...   48.9104747,2.385008\n",
              "1     MÉDIATHÈQUE GEORGES PÉREC  ...  48.6293899,2.4135832\n",
              "2         MÉDIATHÈQUE LES MUSES  ...  48.6305113,2.2650636\n",
              "3        MÉDIATHÈQUE MUNICIPALE  ...  48.5657217,2.0601725\n",
              "4       BIBLIOTHÈQUE LE GRENIER  ...  48.6891076,2.5297452\n",
              "\n",
              "[5 rows x 21 columns]"
            ]
          },
          "metadata": {
            "tags": []
          },
          "execution_count": 5
        }
      ]
    },
    {
      "cell_type": "code",
      "metadata": {
        "id": "gwqtxAy3u_YU",
        "outputId": "f7e1b6d3-f9cf-44e4-f36b-866051675976",
        "colab": {
          "base_uri": "https://localhost:8080/",
          "height": 206
        }
      },
      "source": [
        "df = df[['Code postal', 'Ville', 'Département']]\n",
        "df['Code postal'] = df['Code postal'].astype(str)\n",
        "df.head()"
      ],
      "execution_count": null,
      "outputs": [
        {
          "output_type": "execute_result",
          "data": {
            "text/html": [
              "<div>\n",
              "<style scoped>\n",
              "    .dataframe tbody tr th:only-of-type {\n",
              "        vertical-align: middle;\n",
              "    }\n",
              "\n",
              "    .dataframe tbody tr th {\n",
              "        vertical-align: top;\n",
              "    }\n",
              "\n",
              "    .dataframe thead th {\n",
              "        text-align: right;\n",
              "    }\n",
              "</style>\n",
              "<table border=\"1\" class=\"dataframe\">\n",
              "  <thead>\n",
              "    <tr style=\"text-align: right;\">\n",
              "      <th></th>\n",
              "      <th>Code postal</th>\n",
              "      <th>Ville</th>\n",
              "      <th>Département</th>\n",
              "    </tr>\n",
              "  </thead>\n",
              "  <tbody>\n",
              "    <tr>\n",
              "      <th>0</th>\n",
              "      <td>93300</td>\n",
              "      <td>AUBERVILLIERS</td>\n",
              "      <td>93</td>\n",
              "    </tr>\n",
              "    <tr>\n",
              "      <th>1</th>\n",
              "      <td>91080</td>\n",
              "      <td>COURCOURONNES</td>\n",
              "      <td>91</td>\n",
              "    </tr>\n",
              "    <tr>\n",
              "      <th>2</th>\n",
              "      <td>91310</td>\n",
              "      <td>LINAS</td>\n",
              "      <td>91</td>\n",
              "    </tr>\n",
              "    <tr>\n",
              "      <th>3</th>\n",
              "      <td>91530</td>\n",
              "      <td>LE-VAL-SAINT-GERMAIN</td>\n",
              "      <td>91</td>\n",
              "    </tr>\n",
              "    <tr>\n",
              "      <th>4</th>\n",
              "      <td>91800</td>\n",
              "      <td>BOUSSY-SAINT-ANTOINE</td>\n",
              "      <td>91</td>\n",
              "    </tr>\n",
              "  </tbody>\n",
              "</table>\n",
              "</div>"
            ],
            "text/plain": [
              "  Code postal                 Ville  Département\n",
              "0       93300         AUBERVILLIERS           93\n",
              "1       91080         COURCOURONNES           91\n",
              "2       91310                 LINAS           91\n",
              "3       91530  LE-VAL-SAINT-GERMAIN           91\n",
              "4       91800  BOUSSY-SAINT-ANTOINE           91"
            ]
          },
          "metadata": {
            "tags": []
          },
          "execution_count": 6
        }
      ]
    },
    {
      "cell_type": "code",
      "metadata": {
        "id": "bsXZ--3Yx3hq",
        "outputId": "253f019d-25c6-49fb-d446-5f52662eb6be",
        "colab": {
          "base_uri": "https://localhost:8080/",
          "height": 504
        }
      },
      "source": [
        "# mapping code postal - code INSEE\n",
        "mapping = pd.read_csv('correspondances-code-insee-code-postal.csv', header=0, sep=';')\n",
        "mapping.rename(columns={'Code Postal': 'Code postal'}, inplace=True)\n",
        "mapping.head()"
      ],
      "execution_count": null,
      "outputs": [
        {
          "output_type": "execute_result",
          "data": {
            "text/html": [
              "<div>\n",
              "<style scoped>\n",
              "    .dataframe tbody tr th:only-of-type {\n",
              "        vertical-align: middle;\n",
              "    }\n",
              "\n",
              "    .dataframe tbody tr th {\n",
              "        vertical-align: top;\n",
              "    }\n",
              "\n",
              "    .dataframe thead th {\n",
              "        text-align: right;\n",
              "    }\n",
              "</style>\n",
              "<table border=\"1\" class=\"dataframe\">\n",
              "  <thead>\n",
              "    <tr style=\"text-align: right;\">\n",
              "      <th></th>\n",
              "      <th>Code INSEE</th>\n",
              "      <th>Code postal</th>\n",
              "      <th>Commune</th>\n",
              "      <th>Département</th>\n",
              "      <th>Région</th>\n",
              "      <th>Statut</th>\n",
              "      <th>Altitude Moyenne</th>\n",
              "      <th>Superficie</th>\n",
              "      <th>Population</th>\n",
              "      <th>geo_point_2d</th>\n",
              "      <th>geo_shape</th>\n",
              "      <th>ID Geofla</th>\n",
              "      <th>Code Commune</th>\n",
              "      <th>Code Canton</th>\n",
              "      <th>Code Arrondissement</th>\n",
              "      <th>Code Département</th>\n",
              "      <th>Code Région</th>\n",
              "    </tr>\n",
              "  </thead>\n",
              "  <tbody>\n",
              "    <tr>\n",
              "      <th>0</th>\n",
              "      <td>91645</td>\n",
              "      <td>91370</td>\n",
              "      <td>VERRIERES-LE-BUISSON</td>\n",
              "      <td>ESSONNE</td>\n",
              "      <td>ILE-DE-FRANCE</td>\n",
              "      <td>Commune simple</td>\n",
              "      <td>121.0</td>\n",
              "      <td>999.0</td>\n",
              "      <td>15.5</td>\n",
              "      <td>48.75044312,2.25171297214</td>\n",
              "      <td>{\"type\": \"Polygon\", \"coordinates\": [[[2.238024...</td>\n",
              "      <td>16275</td>\n",
              "      <td>645</td>\n",
              "      <td>3</td>\n",
              "      <td>3</td>\n",
              "      <td>91</td>\n",
              "      <td>11</td>\n",
              "    </tr>\n",
              "    <tr>\n",
              "      <th>1</th>\n",
              "      <td>77133</td>\n",
              "      <td>77126</td>\n",
              "      <td>COURCELLES-EN-BASSEE</td>\n",
              "      <td>SEINE-ET-MARNE</td>\n",
              "      <td>ILE-DE-FRANCE</td>\n",
              "      <td>Commune simple</td>\n",
              "      <td>88.0</td>\n",
              "      <td>1082.0</td>\n",
              "      <td>0.2</td>\n",
              "      <td>48.4125606521,3.05294050556</td>\n",
              "      <td>{\"type\": \"Polygon\", \"coordinates\": [[[3.076046...</td>\n",
              "      <td>31428</td>\n",
              "      <td>133</td>\n",
              "      <td>20</td>\n",
              "      <td>3</td>\n",
              "      <td>77</td>\n",
              "      <td>11</td>\n",
              "    </tr>\n",
              "    <tr>\n",
              "      <th>2</th>\n",
              "      <td>91378</td>\n",
              "      <td>91730</td>\n",
              "      <td>MAUCHAMPS</td>\n",
              "      <td>ESSONNE</td>\n",
              "      <td>ILE-DE-FRANCE</td>\n",
              "      <td>Commune simple</td>\n",
              "      <td>150.0</td>\n",
              "      <td>313.0</td>\n",
              "      <td>0.3</td>\n",
              "      <td>48.5272680908,2.19718165044</td>\n",
              "      <td>{\"type\": \"Polygon\", \"coordinates\": [[[2.203466...</td>\n",
              "      <td>30975</td>\n",
              "      <td>378</td>\n",
              "      <td>9</td>\n",
              "      <td>1</td>\n",
              "      <td>91</td>\n",
              "      <td>11</td>\n",
              "    </tr>\n",
              "    <tr>\n",
              "      <th>3</th>\n",
              "      <td>77243</td>\n",
              "      <td>77400</td>\n",
              "      <td>LAGNY-SUR-MARNE</td>\n",
              "      <td>SEINE-ET-MARNE</td>\n",
              "      <td>ILE-DE-FRANCE</td>\n",
              "      <td>Chef-lieu canton</td>\n",
              "      <td>71.0</td>\n",
              "      <td>579.0</td>\n",
              "      <td>20.2</td>\n",
              "      <td>48.8730701858,2.70978081313</td>\n",
              "      <td>{\"type\": \"Polygon\", \"coordinates\": [[[2.727542...</td>\n",
              "      <td>17000</td>\n",
              "      <td>243</td>\n",
              "      <td>14</td>\n",
              "      <td>5</td>\n",
              "      <td>77</td>\n",
              "      <td>11</td>\n",
              "    </tr>\n",
              "    <tr>\n",
              "      <th>4</th>\n",
              "      <td>94003</td>\n",
              "      <td>94110</td>\n",
              "      <td>ARCUEIL</td>\n",
              "      <td>VAL-DE-MARNE</td>\n",
              "      <td>ILE-DE-FRANCE</td>\n",
              "      <td>Chef-lieu canton</td>\n",
              "      <td>70.0</td>\n",
              "      <td>232.0</td>\n",
              "      <td>19.5</td>\n",
              "      <td>48.8058803597,2.33351024984</td>\n",
              "      <td>{\"type\": \"Polygon\", \"coordinates\": [[[2.343851...</td>\n",
              "      <td>32123</td>\n",
              "      <td>3</td>\n",
              "      <td>34</td>\n",
              "      <td>3</td>\n",
              "      <td>94</td>\n",
              "      <td>11</td>\n",
              "    </tr>\n",
              "  </tbody>\n",
              "</table>\n",
              "</div>"
            ],
            "text/plain": [
              "   Code INSEE Code postal  ... Code Département Code Région\n",
              "0       91645       91370  ...               91          11\n",
              "1       77133       77126  ...               77          11\n",
              "2       91378       91730  ...               91          11\n",
              "3       77243       77400  ...               77          11\n",
              "4       94003       94110  ...               94          11\n",
              "\n",
              "[5 rows x 17 columns]"
            ]
          },
          "metadata": {
            "tags": []
          },
          "execution_count": 7
        }
      ]
    },
    {
      "cell_type": "code",
      "metadata": {
        "id": "DpogjcPX7LcK"
      },
      "source": [
        "mapping.drop_duplicates(inplace=True)"
      ],
      "execution_count": null,
      "outputs": []
    },
    {
      "cell_type": "code",
      "metadata": {
        "id": "cOPPhAtnzFAv",
        "outputId": "9aa4933e-6b52-4648-8d88-b1daf4428103",
        "colab": {
          "base_uri": "https://localhost:8080/",
          "height": 424
        }
      },
      "source": [
        "df.merge(mapping[['Code INSEE', 'Code postal']], how='inner', on='Code postal').drop_duplicates()  "
      ],
      "execution_count": null,
      "outputs": [
        {
          "output_type": "execute_result",
          "data": {
            "text/html": [
              "<div>\n",
              "<style scoped>\n",
              "    .dataframe tbody tr th:only-of-type {\n",
              "        vertical-align: middle;\n",
              "    }\n",
              "\n",
              "    .dataframe tbody tr th {\n",
              "        vertical-align: top;\n",
              "    }\n",
              "\n",
              "    .dataframe thead th {\n",
              "        text-align: right;\n",
              "    }\n",
              "</style>\n",
              "<table border=\"1\" class=\"dataframe\">\n",
              "  <thead>\n",
              "    <tr style=\"text-align: right;\">\n",
              "      <th></th>\n",
              "      <th>Code postal</th>\n",
              "      <th>Ville</th>\n",
              "      <th>Département</th>\n",
              "      <th>Code INSEE</th>\n",
              "    </tr>\n",
              "  </thead>\n",
              "  <tbody>\n",
              "    <tr>\n",
              "      <th>0</th>\n",
              "      <td>93300</td>\n",
              "      <td>AUBERVILLIERS</td>\n",
              "      <td>93</td>\n",
              "      <td>93001</td>\n",
              "    </tr>\n",
              "    <tr>\n",
              "      <th>4</th>\n",
              "      <td>91080</td>\n",
              "      <td>COURCOURONNES</td>\n",
              "      <td>91</td>\n",
              "      <td>91182</td>\n",
              "    </tr>\n",
              "    <tr>\n",
              "      <th>5</th>\n",
              "      <td>91310</td>\n",
              "      <td>LINAS</td>\n",
              "      <td>91</td>\n",
              "      <td>91333</td>\n",
              "    </tr>\n",
              "    <tr>\n",
              "      <th>6</th>\n",
              "      <td>91310</td>\n",
              "      <td>LINAS</td>\n",
              "      <td>91</td>\n",
              "      <td>91425</td>\n",
              "    </tr>\n",
              "    <tr>\n",
              "      <th>7</th>\n",
              "      <td>91310</td>\n",
              "      <td>LINAS</td>\n",
              "      <td>91</td>\n",
              "      <td>91339</td>\n",
              "    </tr>\n",
              "    <tr>\n",
              "      <th>...</th>\n",
              "      <td>...</td>\n",
              "      <td>...</td>\n",
              "      <td>...</td>\n",
              "      <td>...</td>\n",
              "    </tr>\n",
              "    <tr>\n",
              "      <th>2722</th>\n",
              "      <td>77440</td>\n",
              "      <td>ARMENTIÈRES-EN-BRIE</td>\n",
              "      <td>77</td>\n",
              "      <td>77490</td>\n",
              "    </tr>\n",
              "    <tr>\n",
              "      <th>2723</th>\n",
              "      <td>77440</td>\n",
              "      <td>ARMENTIÈRES-EN-BRIE</td>\n",
              "      <td>77</td>\n",
              "      <td>77231</td>\n",
              "    </tr>\n",
              "    <tr>\n",
              "      <th>2724</th>\n",
              "      <td>77440</td>\n",
              "      <td>ARMENTIÈRES-EN-BRIE</td>\n",
              "      <td>77</td>\n",
              "      <td>77235</td>\n",
              "    </tr>\n",
              "    <tr>\n",
              "      <th>2725</th>\n",
              "      <td>77200</td>\n",
              "      <td>TORCY</td>\n",
              "      <td>77</td>\n",
              "      <td>77468</td>\n",
              "    </tr>\n",
              "    <tr>\n",
              "      <th>2726</th>\n",
              "      <td>78970</td>\n",
              "      <td>MÉZIÈRES-SUR-SEINE</td>\n",
              "      <td>78</td>\n",
              "      <td>78402</td>\n",
              "    </tr>\n",
              "  </tbody>\n",
              "</table>\n",
              "<p>2473 rows × 4 columns</p>\n",
              "</div>"
            ],
            "text/plain": [
              "     Code postal                Ville  Département  Code INSEE\n",
              "0          93300        AUBERVILLIERS           93       93001\n",
              "4          91080        COURCOURONNES           91       91182\n",
              "5          91310                LINAS           91       91333\n",
              "6          91310                LINAS           91       91425\n",
              "7          91310                LINAS           91       91339\n",
              "...          ...                  ...          ...         ...\n",
              "2722       77440  ARMENTIÈRES-EN-BRIE           77       77490\n",
              "2723       77440  ARMENTIÈRES-EN-BRIE           77       77231\n",
              "2724       77440  ARMENTIÈRES-EN-BRIE           77       77235\n",
              "2725       77200                TORCY           77       77468\n",
              "2726       78970   MÉZIÈRES-SUR-SEINE           78       78402\n",
              "\n",
              "[2473 rows x 4 columns]"
            ]
          },
          "metadata": {
            "tags": []
          },
          "execution_count": 10
        }
      ]
    },
    {
      "cell_type": "code",
      "metadata": {
        "id": "9WcRoguezFD5"
      },
      "source": [
        ""
      ],
      "execution_count": null,
      "outputs": []
    },
    {
      "cell_type": "code",
      "metadata": {
        "id": "dYf4quYkzGCX"
      },
      "source": [
        ""
      ],
      "execution_count": null,
      "outputs": []
    },
    {
      "cell_type": "code",
      "metadata": {
        "id": "WoaA0JNOwRE7",
        "outputId": "ab6f5b37-2d47-4cf6-fca7-e24a2a78f3f6",
        "colab": {
          "base_uri": "https://localhost:8080/",
          "height": 455
        }
      },
      "source": [
        "df.groupby('Code postal').count().sort_values(by='Ville')[::-1]"
      ],
      "execution_count": null,
      "outputs": [
        {
          "output_type": "execute_result",
          "data": {
            "text/html": [
              "<div>\n",
              "<style scoped>\n",
              "    .dataframe tbody tr th:only-of-type {\n",
              "        vertical-align: middle;\n",
              "    }\n",
              "\n",
              "    .dataframe tbody tr th {\n",
              "        vertical-align: top;\n",
              "    }\n",
              "\n",
              "    .dataframe thead th {\n",
              "        text-align: right;\n",
              "    }\n",
              "</style>\n",
              "<table border=\"1\" class=\"dataframe\">\n",
              "  <thead>\n",
              "    <tr style=\"text-align: right;\">\n",
              "      <th></th>\n",
              "      <th>Ville</th>\n",
              "      <th>Département</th>\n",
              "    </tr>\n",
              "    <tr>\n",
              "      <th>Code postal</th>\n",
              "      <th></th>\n",
              "      <th></th>\n",
              "    </tr>\n",
              "  </thead>\n",
              "  <tbody>\n",
              "    <tr>\n",
              "      <th>78000</th>\n",
              "      <td>9</td>\n",
              "      <td>9</td>\n",
              "    </tr>\n",
              "    <tr>\n",
              "      <th>77400</th>\n",
              "      <td>7</td>\n",
              "      <td>7</td>\n",
              "    </tr>\n",
              "    <tr>\n",
              "      <th>77130</th>\n",
              "      <td>7</td>\n",
              "      <td>7</td>\n",
              "    </tr>\n",
              "    <tr>\n",
              "      <th>78490</th>\n",
              "      <td>6</td>\n",
              "      <td>6</td>\n",
              "    </tr>\n",
              "    <tr>\n",
              "      <th>95000</th>\n",
              "      <td>6</td>\n",
              "      <td>6</td>\n",
              "    </tr>\n",
              "    <tr>\n",
              "      <th>...</th>\n",
              "      <td>...</td>\n",
              "      <td>...</td>\n",
              "    </tr>\n",
              "    <tr>\n",
              "      <th>92104</th>\n",
              "      <td>1</td>\n",
              "      <td>1</td>\n",
              "    </tr>\n",
              "    <tr>\n",
              "      <th>92110</th>\n",
              "      <td>1</td>\n",
              "      <td>1</td>\n",
              "    </tr>\n",
              "    <tr>\n",
              "      <th>92120</th>\n",
              "      <td>1</td>\n",
              "      <td>1</td>\n",
              "    </tr>\n",
              "    <tr>\n",
              "      <th>92130</th>\n",
              "      <td>1</td>\n",
              "      <td>1</td>\n",
              "    </tr>\n",
              "    <tr>\n",
              "      <th>91320</th>\n",
              "      <td>1</td>\n",
              "      <td>1</td>\n",
              "    </tr>\n",
              "  </tbody>\n",
              "</table>\n",
              "<p>461 rows × 2 columns</p>\n",
              "</div>"
            ],
            "text/plain": [
              "             Ville  Département\n",
              "Code postal                    \n",
              "78000            9            9\n",
              "77400            7            7\n",
              "77130            7            7\n",
              "78490            6            6\n",
              "95000            6            6\n",
              "...            ...          ...\n",
              "92104            1            1\n",
              "92110            1            1\n",
              "92120            1            1\n",
              "92130            1            1\n",
              "91320            1            1\n",
              "\n",
              "[461 rows x 2 columns]"
            ]
          },
          "metadata": {
            "tags": []
          },
          "execution_count": 11
        }
      ]
    },
    {
      "cell_type": "markdown",
      "metadata": {
        "id": "qP0mew0WBrJv"
      },
      "source": [
        "## 2. Liste des centres sociaux"
      ]
    },
    {
      "cell_type": "code",
      "metadata": {
        "id": "XD_MDH2YB1LW"
      },
      "source": [
        "import json\n",
        "import pandas as pd\n",
        "import numpy as np\n",
        "from bs4 import BeautifulSoup\n",
        "from urllib import request\n",
        "\n",
        "import time\n",
        "\n",
        "\n",
        "def timeit(method):\n",
        "    def timed(*args, **kw):\n",
        "        ts = time.time()\n",
        "        result = method(*args, **kw)\n",
        "        te = time.time()        \n",
        "        if 'log_time' in kw:\n",
        "            name = kw.get('log_name', method.__name__.upper())\n",
        "            kw['log_time'][name] = int((te - ts) * 1000)\n",
        "        else:\n",
        "            print('%r  %2.2f ms' % \\\n",
        "                  (method.__name__, (te - ts) * 1000))\n",
        "        return result    \n",
        "    return timed"
      ],
      "execution_count": null,
      "outputs": []
    },
    {
      "cell_type": "code",
      "metadata": {
        "id": "55UsMNkoBtrQ"
      },
      "source": [
        "@timeit\n",
        "def scrap_table_page(url='https://www.senacs.fr/structure/csx?page=', page_number=1):\n",
        "    \"\"\"\n",
        "    Generate a request on senacs page for a given \n",
        "    page number to get the name and location of \n",
        "    each social center.\n",
        "    \"\"\"\n",
        "\n",
        "    url_page = url + str(page_number)\n",
        "    request_text = request.urlopen(url_page).read()\n",
        "    page = BeautifulSoup(request_text, 'html.parser')\n",
        "\n",
        "    table = page.find('table', {'class': 'table table-striped table-hover'}).findAll('td')\n",
        "\n",
        "    # fill the values of id, name and city\n",
        "    ids = [id.getText() for id in table[::4]]\n",
        "    names = [name.getText() for name in table[1::4]]\n",
        "    cities = [city.getText() for city in table[2::4]]\n",
        "\n",
        "    df = pd.DataFrame({'id': ids, \n",
        "                      'nom': names,\n",
        "                      'ville': cities}\n",
        "                      )\n",
        "    df['page'] = page_number\n",
        "\n",
        "    return df\n",
        "\n",
        "\n",
        "def stack_pages(pages=range(91)):\n",
        "    \"\"\"\n",
        "    Concatenate all empruntis scrapped data per region.\n",
        "    \"\"\"\n",
        "\n",
        "    data = pd.DataFrame()    # empty Dataframe to fill\n",
        "    for page_number in pages:\n",
        "        temp = scrap_table_page(page_number=page_number)\n",
        "        data = pd.concat([data, temp], axis=0)\n",
        "\n",
        "    return data"
      ],
      "execution_count": null,
      "outputs": []
    },
    {
      "cell_type": "code",
      "metadata": {
        "id": "8JjPHFWjHKRF",
        "outputId": "806e3a73-5a90-44d3-c8af-f98243725e4c",
        "colab": {
          "base_uri": "https://localhost:8080/",
          "height": 1000
        }
      },
      "source": [
        "data = stack_pages()"
      ],
      "execution_count": null,
      "outputs": [
        {
          "output_type": "stream",
          "text": [
            "'scrap_table_page'  1572.90 ms\n",
            "'scrap_table_page'  1535.71 ms\n",
            "'scrap_table_page'  1524.97 ms\n",
            "'scrap_table_page'  1316.28 ms\n",
            "'scrap_table_page'  1637.86 ms\n",
            "'scrap_table_page'  1533.04 ms\n",
            "'scrap_table_page'  1658.94 ms\n",
            "'scrap_table_page'  1418.34 ms\n",
            "'scrap_table_page'  1532.59 ms\n",
            "'scrap_table_page'  1648.83 ms\n",
            "'scrap_table_page'  1521.68 ms\n",
            "'scrap_table_page'  1509.88 ms\n",
            "'scrap_table_page'  1520.30 ms\n",
            "'scrap_table_page'  1522.77 ms\n",
            "'scrap_table_page'  1635.41 ms\n",
            "'scrap_table_page'  1741.23 ms\n",
            "'scrap_table_page'  1526.60 ms\n",
            "'scrap_table_page'  1534.42 ms\n",
            "'scrap_table_page'  1582.13 ms\n",
            "'scrap_table_page'  1580.35 ms\n",
            "'scrap_table_page'  1549.89 ms\n",
            "'scrap_table_page'  1549.43 ms\n",
            "'scrap_table_page'  2056.45 ms\n",
            "'scrap_table_page'  1560.31 ms\n",
            "'scrap_table_page'  1546.62 ms\n",
            "'scrap_table_page'  1431.70 ms\n",
            "'scrap_table_page'  1444.02 ms\n",
            "'scrap_table_page'  2984.81 ms\n",
            "'scrap_table_page'  1552.47 ms\n",
            "'scrap_table_page'  1640.76 ms\n",
            "'scrap_table_page'  1431.88 ms\n",
            "'scrap_table_page'  1445.58 ms\n",
            "'scrap_table_page'  1446.47 ms\n",
            "'scrap_table_page'  1436.86 ms\n",
            "'scrap_table_page'  1779.96 ms\n",
            "'scrap_table_page'  1417.68 ms\n",
            "'scrap_table_page'  1446.74 ms\n",
            "'scrap_table_page'  1642.50 ms\n",
            "'scrap_table_page'  1432.27 ms\n",
            "'scrap_table_page'  1538.18 ms\n",
            "'scrap_table_page'  1622.83 ms\n",
            "'scrap_table_page'  1429.12 ms\n",
            "'scrap_table_page'  1554.65 ms\n",
            "'scrap_table_page'  1548.38 ms\n",
            "'scrap_table_page'  1463.71 ms\n",
            "'scrap_table_page'  1648.17 ms\n",
            "'scrap_table_page'  1535.85 ms\n",
            "'scrap_table_page'  1530.16 ms\n",
            "'scrap_table_page'  1659.53 ms\n",
            "'scrap_table_page'  1656.78 ms\n",
            "'scrap_table_page'  1446.95 ms\n",
            "'scrap_table_page'  1429.14 ms\n",
            "'scrap_table_page'  1540.13 ms\n",
            "'scrap_table_page'  1475.07 ms\n",
            "'scrap_table_page'  1592.69 ms\n",
            "'scrap_table_page'  1532.17 ms\n",
            "'scrap_table_page'  1446.11 ms\n",
            "'scrap_table_page'  1532.82 ms\n",
            "'scrap_table_page'  1328.61 ms\n",
            "'scrap_table_page'  1673.66 ms\n",
            "'scrap_table_page'  1547.26 ms\n",
            "'scrap_table_page'  1534.76 ms\n",
            "'scrap_table_page'  1437.11 ms\n",
            "'scrap_table_page'  1426.14 ms\n",
            "'scrap_table_page'  1535.46 ms\n",
            "'scrap_table_page'  1649.53 ms\n",
            "'scrap_table_page'  1534.89 ms\n",
            "'scrap_table_page'  1645.72 ms\n",
            "'scrap_table_page'  1645.41 ms\n",
            "'scrap_table_page'  1765.92 ms\n",
            "'scrap_table_page'  1572.73 ms\n",
            "'scrap_table_page'  1527.22 ms\n",
            "'scrap_table_page'  1431.37 ms\n",
            "'scrap_table_page'  1565.17 ms\n",
            "'scrap_table_page'  1455.76 ms\n",
            "'scrap_table_page'  1537.89 ms\n",
            "'scrap_table_page'  1555.59 ms\n",
            "'scrap_table_page'  1542.41 ms\n",
            "'scrap_table_page'  1670.42 ms\n",
            "'scrap_table_page'  1446.31 ms\n",
            "'scrap_table_page'  1542.12 ms\n",
            "'scrap_table_page'  1528.05 ms\n",
            "'scrap_table_page'  1440.81 ms\n",
            "'scrap_table_page'  1650.39 ms\n",
            "'scrap_table_page'  1570.39 ms\n",
            "'scrap_table_page'  1544.41 ms\n",
            "'scrap_table_page'  1432.19 ms\n",
            "'scrap_table_page'  1525.93 ms\n",
            "'scrap_table_page'  1423.25 ms\n",
            "'scrap_table_page'  1411.31 ms\n",
            "'scrap_table_page'  1037.12 ms\n"
          ],
          "name": "stdout"
        }
      ]
    },
    {
      "cell_type": "code",
      "metadata": {
        "id": "3-9GvgYoIYof"
      },
      "source": [
        "data['code_postal'] = data['ville'].apply(lambda x: x.split('-')[0])\n",
        "data['ville'] = data['ville'].apply(lambda x: x.split('-')[1])"
      ],
      "execution_count": null,
      "outputs": []
    },
    {
      "cell_type": "code",
      "metadata": {
        "id": "S0Y6lbJ_LEiB",
        "outputId": "99f2117b-7dd0-4b37-a3c4-31bcef0891c2",
        "colab": {
          "base_uri": "https://localhost:8080/",
          "height": 493
        }
      },
      "source": [
        "data"
      ],
      "execution_count": null,
      "outputs": [
        {
          "output_type": "execute_result",
          "data": {
            "text/html": [
              "<div>\n",
              "<style scoped>\n",
              "    .dataframe tbody tr th:only-of-type {\n",
              "        vertical-align: middle;\n",
              "    }\n",
              "\n",
              "    .dataframe tbody tr th {\n",
              "        vertical-align: top;\n",
              "    }\n",
              "\n",
              "    .dataframe thead th {\n",
              "        text-align: right;\n",
              "    }\n",
              "</style>\n",
              "<table border=\"1\" class=\"dataframe\">\n",
              "  <thead>\n",
              "    <tr style=\"text-align: right;\">\n",
              "      <th></th>\n",
              "      <th>id</th>\n",
              "      <th>nom</th>\n",
              "      <th>ville</th>\n",
              "      <th>page</th>\n",
              "      <th>code_postal</th>\n",
              "    </tr>\n",
              "  </thead>\n",
              "  <tbody>\n",
              "    <tr>\n",
              "      <th>0</th>\n",
              "      <td>91</td>\n",
              "      <td>CENTRE SOCIAL DES GRANDES BORNES</td>\n",
              "      <td>Goussainville</td>\n",
              "      <td>0</td>\n",
              "      <td>95190</td>\n",
              "    </tr>\n",
              "    <tr>\n",
              "      <th>1</th>\n",
              "      <td>92</td>\n",
              "      <td>CENTRE SOCIAL ARCHIPELIA</td>\n",
              "      <td>PARIS 20EME ARRONDISSEMENT</td>\n",
              "      <td>0</td>\n",
              "      <td>75020</td>\n",
              "    </tr>\n",
              "    <tr>\n",
              "      <th>2</th>\n",
              "      <td>93</td>\n",
              "      <td>Espace Socioculturel Val de Charente</td>\n",
              "      <td>Ruffec</td>\n",
              "      <td>0</td>\n",
              "      <td>16700</td>\n",
              "    </tr>\n",
              "    <tr>\n",
              "      <th>3</th>\n",
              "      <td>94</td>\n",
              "      <td>CENTRE SOCIAL Maison Des Habitants Champaret</td>\n",
              "      <td>Bourgoin</td>\n",
              "      <td>0</td>\n",
              "      <td>38300</td>\n",
              "    </tr>\n",
              "    <tr>\n",
              "      <th>4</th>\n",
              "      <td>95</td>\n",
              "      <td>CENTRE SOCIAL MAISON DE LA CHALLE</td>\n",
              "      <td>Éragny</td>\n",
              "      <td>0</td>\n",
              "      <td>95610</td>\n",
              "    </tr>\n",
              "    <tr>\n",
              "      <th>...</th>\n",
              "      <td>...</td>\n",
              "      <td>...</td>\n",
              "      <td>...</td>\n",
              "      <td>...</td>\n",
              "      <td>...</td>\n",
              "    </tr>\n",
              "    <tr>\n",
              "      <th>6</th>\n",
              "      <td>16264</td>\n",
              "      <td>CENTRE SOCIOCULTUREL MUNICIPAL DE SAINT-DIZIER</td>\n",
              "      <td>Saint</td>\n",
              "      <td>90</td>\n",
              "      <td>52100</td>\n",
              "    </tr>\n",
              "    <tr>\n",
              "      <th>7</th>\n",
              "      <td>16267</td>\n",
              "      <td>ESPACE DE VIE SOCIALE L.E.P.H.A.R.E</td>\n",
              "      <td>Aniche</td>\n",
              "      <td>90</td>\n",
              "      <td>59580</td>\n",
              "    </tr>\n",
              "    <tr>\n",
              "      <th>8</th>\n",
              "      <td>16351</td>\n",
              "      <td>ASSOCIATION  FERME BEAUREPAIRE</td>\n",
              "      <td>Boulogne</td>\n",
              "      <td>90</td>\n",
              "      <td>62200</td>\n",
              "    </tr>\n",
              "    <tr>\n",
              "      <th>9</th>\n",
              "      <td>16355</td>\n",
              "      <td>OFFICE DE LA JEUNESSE</td>\n",
              "      <td>Bruay</td>\n",
              "      <td>90</td>\n",
              "      <td>62700</td>\n",
              "    </tr>\n",
              "    <tr>\n",
              "      <th>10</th>\n",
              "      <td>16359</td>\n",
              "      <td>CENTRE SOCIAL MUNICIPAL ECLATE MONTIGNY EN GOH...</td>\n",
              "      <td>Montigny</td>\n",
              "      <td>90</td>\n",
              "      <td>62640</td>\n",
              "    </tr>\n",
              "  </tbody>\n",
              "</table>\n",
              "<p>2261 rows × 5 columns</p>\n",
              "</div>"
            ],
            "text/plain": [
              "       id                                                nom  ... page  code_postal\n",
              "0      91                   CENTRE SOCIAL DES GRANDES BORNES  ...    0       95190 \n",
              "1      92                           CENTRE SOCIAL ARCHIPELIA  ...    0       75020 \n",
              "2      93               Espace Socioculturel Val de Charente  ...    0       16700 \n",
              "3      94       CENTRE SOCIAL Maison Des Habitants Champaret  ...    0       38300 \n",
              "4      95                  CENTRE SOCIAL MAISON DE LA CHALLE  ...    0       95610 \n",
              "..    ...                                                ...  ...  ...          ...\n",
              "6   16264     CENTRE SOCIOCULTUREL MUNICIPAL DE SAINT-DIZIER  ...   90       52100 \n",
              "7   16267                ESPACE DE VIE SOCIALE L.E.P.H.A.R.E  ...   90       59580 \n",
              "8   16351                    ASSOCIATION  FERME BEAUREPAIRE   ...   90       62200 \n",
              "9   16355                              OFFICE DE LA JEUNESSE  ...   90       62700 \n",
              "10  16359  CENTRE SOCIAL MUNICIPAL ECLATE MONTIGNY EN GOH...  ...   90       62640 \n",
              "\n",
              "[2261 rows x 5 columns]"
            ]
          },
          "metadata": {
            "tags": []
          },
          "execution_count": 70
        }
      ]
    },
    {
      "cell_type": "markdown",
      "metadata": {
        "id": "0nXf4iOgeVUi"
      },
      "source": [
        "## 3. Distance des communes à l'accès le plus proche\n"
      ]
    },
    {
      "cell_type": "code",
      "metadata": {
        "id": "gbrlsP6LKBNk",
        "outputId": "f1310e8d-811f-4400-bb47-19f39300eaa4",
        "colab": {
          "base_uri": "https://localhost:8080/",
          "height": 139
        }
      },
      "source": [
        "# copy geoson file with every 'Franceservices' locations\n",
        "\n",
        "import os\n",
        "\n",
        "if 'COLAB_GPU' in os.environ:  # this is always set on Colab, the value is 0 or 1 depending on whether a GPU is attached\n",
        "    from google.colab import auth\n",
        "    auth.authenticate_user()\n",
        "\n",
        "    !git clone https://github.com/cget-carto/France-services.git\n",
        "    !mv France-services/data/france_services.geojson ."
      ],
      "execution_count": 3,
      "outputs": [
        {
          "output_type": "stream",
          "text": [
            "Cloning into 'France-services'...\n",
            "remote: Enumerating objects: 260, done.\u001b[K\n",
            "remote: Counting objects: 100% (260/260), done.\u001b[K\n",
            "remote: Compressing objects: 100% (169/169), done.\u001b[K\n",
            "remote: Total 260 (delta 108), reused 221 (delta 78), pack-reused 0\u001b[K\n",
            "Receiving objects: 100% (260/260), 2.12 MiB | 16.46 MiB/s, done.\n",
            "Resolving deltas: 100% (108/108), done.\n"
          ],
          "name": "stdout"
        }
      ]
    },
    {
      "cell_type": "code",
      "metadata": {
        "id": "y0a0vF4ZfWsb",
        "outputId": "7310c7a5-7c6c-48a8-cfa0-e6c58c2a14c1",
        "colab": {
          "base_uri": "https://localhost:8080/",
          "height": 34
        }
      },
      "source": [
        "ls"
      ],
      "execution_count": 6,
      "outputs": [
        {
          "output_type": "stream",
          "text": [
            "adc.json  \u001b[0m\u001b[01;34mFrance-services\u001b[0m/  france_services.geojson  \u001b[01;34msample_data\u001b[0m/\n"
          ],
          "name": "stdout"
        }
      ]
    },
    {
      "cell_type": "code",
      "metadata": {
        "id": "Xn4yFI7dflix"
      },
      "source": [
        "import pandas as pd\n",
        "\n",
        "fs = pd.read_json('france_services.geojson')"
      ],
      "execution_count": null,
      "outputs": []
    },
    {
      "cell_type": "code",
      "metadata": {
        "id": "Ii7y318MgTtO"
      },
      "source": [
        "pd.read_json?"
      ],
      "execution_count": 15,
      "outputs": []
    },
    {
      "cell_type": "code",
      "metadata": {
        "id": "r5v7yhoqf0yI",
        "outputId": "cbe14d9b-4efe-4f3d-b1bf-fa2c5c1c0b48",
        "colab": {
          "base_uri": "https://localhost:8080/",
          "height": 771
        }
      },
      "source": [
        "fs"
      ],
      "execution_count": 14,
      "outputs": [
        {
          "output_type": "execute_result",
          "data": {
            "text/html": [
              "<div>\n",
              "<style scoped>\n",
              "    .dataframe tbody tr th:only-of-type {\n",
              "        vertical-align: middle;\n",
              "    }\n",
              "\n",
              "    .dataframe tbody tr th {\n",
              "        vertical-align: top;\n",
              "    }\n",
              "\n",
              "    .dataframe thead th {\n",
              "        text-align: right;\n",
              "    }\n",
              "</style>\n",
              "<table border=\"1\" class=\"dataframe\">\n",
              "  <thead>\n",
              "    <tr style=\"text-align: right;\">\n",
              "      <th></th>\n",
              "      <th>0</th>\n",
              "    </tr>\n",
              "  </thead>\n",
              "  <tbody>\n",
              "    <tr>\n",
              "      <th>0</th>\n",
              "      <td>f</td>\n",
              "    </tr>\n",
              "    <tr>\n",
              "      <th>1</th>\n",
              "      <td>r</td>\n",
              "    </tr>\n",
              "    <tr>\n",
              "      <th>2</th>\n",
              "      <td>a</td>\n",
              "    </tr>\n",
              "    <tr>\n",
              "      <th>3</th>\n",
              "      <td>n</td>\n",
              "    </tr>\n",
              "    <tr>\n",
              "      <th>4</th>\n",
              "      <td>c</td>\n",
              "    </tr>\n",
              "    <tr>\n",
              "      <th>5</th>\n",
              "      <td>e</td>\n",
              "    </tr>\n",
              "    <tr>\n",
              "      <th>6</th>\n",
              "      <td>_</td>\n",
              "    </tr>\n",
              "    <tr>\n",
              "      <th>7</th>\n",
              "      <td>s</td>\n",
              "    </tr>\n",
              "    <tr>\n",
              "      <th>8</th>\n",
              "      <td>e</td>\n",
              "    </tr>\n",
              "    <tr>\n",
              "      <th>9</th>\n",
              "      <td>r</td>\n",
              "    </tr>\n",
              "    <tr>\n",
              "      <th>10</th>\n",
              "      <td>v</td>\n",
              "    </tr>\n",
              "    <tr>\n",
              "      <th>11</th>\n",
              "      <td>i</td>\n",
              "    </tr>\n",
              "    <tr>\n",
              "      <th>12</th>\n",
              "      <td>c</td>\n",
              "    </tr>\n",
              "    <tr>\n",
              "      <th>13</th>\n",
              "      <td>e</td>\n",
              "    </tr>\n",
              "    <tr>\n",
              "      <th>14</th>\n",
              "      <td>s</td>\n",
              "    </tr>\n",
              "    <tr>\n",
              "      <th>15</th>\n",
              "      <td>.</td>\n",
              "    </tr>\n",
              "    <tr>\n",
              "      <th>16</th>\n",
              "      <td>g</td>\n",
              "    </tr>\n",
              "    <tr>\n",
              "      <th>17</th>\n",
              "      <td>e</td>\n",
              "    </tr>\n",
              "    <tr>\n",
              "      <th>18</th>\n",
              "      <td>o</td>\n",
              "    </tr>\n",
              "    <tr>\n",
              "      <th>19</th>\n",
              "      <td>j</td>\n",
              "    </tr>\n",
              "    <tr>\n",
              "      <th>20</th>\n",
              "      <td>s</td>\n",
              "    </tr>\n",
              "    <tr>\n",
              "      <th>21</th>\n",
              "      <td>o</td>\n",
              "    </tr>\n",
              "    <tr>\n",
              "      <th>22</th>\n",
              "      <td>n</td>\n",
              "    </tr>\n",
              "  </tbody>\n",
              "</table>\n",
              "</div>"
            ],
            "text/plain": [
              "    0\n",
              "0   f\n",
              "1   r\n",
              "2   a\n",
              "3   n\n",
              "4   c\n",
              "5   e\n",
              "6   _\n",
              "7   s\n",
              "8   e\n",
              "9   r\n",
              "10  v\n",
              "11  i\n",
              "12  c\n",
              "13  e\n",
              "14  s\n",
              "15  .\n",
              "16  g\n",
              "17  e\n",
              "18  o\n",
              "19  j\n",
              "20  s\n",
              "21  o\n",
              "22  n"
            ]
          },
          "metadata": {
            "tags": []
          },
          "execution_count": 14
        }
      ]
    },
    {
      "cell_type": "code",
      "metadata": {
        "id": "7SftmC0ZgIkl"
      },
      "source": [
        ""
      ],
      "execution_count": null,
      "outputs": []
    }
  ]
}