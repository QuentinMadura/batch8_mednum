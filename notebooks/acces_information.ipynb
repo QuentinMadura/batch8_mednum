{
  "nbformat": 4,
  "nbformat_minor": 0,
  "metadata": {
    "colab": {
      "name": "carte_mediatheque.ipynb",
      "provenance": [],
      "collapsed_sections": [],
      "toc_visible": true,
      "include_colab_link": true
    },
    "kernelspec": {
      "name": "python3",
      "display_name": "Python 3"
    }
  },
  "cells": [
    {
      "cell_type": "markdown",
      "metadata": {
        "id": "view-in-github",
        "colab_type": "text"
      },
      "source": [
        "<a href=\"https://colab.research.google.com/github/dataforgoodfr/batch8_mednum/blob/master/notebooks/acces_information.ipynb\" target=\"_parent\"><img src=\"https://colab.research.google.com/assets/colab-badge.svg\" alt=\"Open In Colab\"/></a>"
      ]
    },
    {
      "cell_type": "markdown",
      "metadata": {
        "id": "t_HA6Y74Bj6Y"
      },
      "source": [
        "## 1. Liste des médiathèques\n"
      ]
    },
    {
      "cell_type": "code",
      "metadata": {
        "id": "lTy9Hg7uY623"
      },
      "source": [
        "# get mediatheques map"
      ],
      "execution_count": null,
      "outputs": []
    },
    {
      "cell_type": "code",
      "metadata": {
        "id": "0-xH_tWAtWZj",
        "outputId": "3c2223ff-8f2b-403f-fc4e-f020c56a12d4",
        "colab": {
          "base_uri": "https://localhost:8080/",
          "height": 34
        }
      },
      "source": [
        "from google.colab import drive\n",
        "drive.mount(\"/content/drive\", force_remount=True)"
      ],
      "execution_count": null,
      "outputs": [
        {
          "output_type": "stream",
          "text": [
            "Mounted at /content/drive\n"
          ],
          "name": "stdout"
        }
      ]
    },
    {
      "cell_type": "code",
      "metadata": {
        "id": "8tBKP6-Ftkw2",
        "outputId": "35770b82-ea0e-481e-87c2-9ad5e88cf098",
        "colab": {
          "base_uri": "https://localhost:8080/",
          "height": 52
        }
      },
      "source": [
        "ls drive/'My Drive'/'Colab Notebooks'/"
      ],
      "execution_count": null,
      "outputs": [
        {
          "output_type": "stream",
          "text": [
            "carte-des-bibliotheques.csv  correspondances-code-insee-code-postal.csv\n",
            "carte_mediatheque.ipynb\n"
          ],
          "name": "stdout"
        }
      ]
    },
    {
      "cell_type": "code",
      "metadata": {
        "id": "g05swUDWuyOv",
        "outputId": "b7f8d03a-e89b-46aa-9076-a619f25314f1",
        "colab": {
          "base_uri": "https://localhost:8080/",
          "height": 34
        }
      },
      "source": [
        "cd drive/'My Drive'/'Colab Notebooks'/"
      ],
      "execution_count": null,
      "outputs": [
        {
          "output_type": "stream",
          "text": [
            "/content/drive/My Drive/Colab Notebooks\n"
          ],
          "name": "stdout"
        }
      ]
    },
    {
      "cell_type": "code",
      "metadata": {
        "id": "0uiJI65XtwW5",
        "outputId": "6928aae7-21b6-4483-a641-dee818dbde3b",
        "colab": {
          "base_uri": "https://localhost:8080/",
          "height": 521
        }
      },
      "source": [
        "import pandas as pd\n",
        "\n",
        "df = pd.read_csv('carte-des-bibliotheques.csv', header=0, sep=';')\n",
        "print(df.shape)\n",
        "df.head()"
      ],
      "execution_count": null,
      "outputs": [
        {
          "output_type": "stream",
          "text": [
            "(844, 21)\n"
          ],
          "name": "stdout"
        },
        {
          "output_type": "execute_result",
          "data": {
            "text/html": [
              "<div>\n",
              "<style scoped>\n",
              "    .dataframe tbody tr th:only-of-type {\n",
              "        vertical-align: middle;\n",
              "    }\n",
              "\n",
              "    .dataframe tbody tr th {\n",
              "        vertical-align: top;\n",
              "    }\n",
              "\n",
              "    .dataframe thead th {\n",
              "        text-align: right;\n",
              "    }\n",
              "</style>\n",
              "<table border=\"1\" class=\"dataframe\">\n",
              "  <thead>\n",
              "    <tr style=\"text-align: right;\">\n",
              "      <th></th>\n",
              "      <th>Nom structure</th>\n",
              "      <th>Adresse</th>\n",
              "      <th>Code postal</th>\n",
              "      <th>Département</th>\n",
              "      <th>Ville</th>\n",
              "      <th>Année(s) subvention Région</th>\n",
              "      <th>Montant subvention 2000</th>\n",
              "      <th>Montant subvention 2001</th>\n",
              "      <th>Montant subvention 2002</th>\n",
              "      <th>Montant subvention 2003</th>\n",
              "      <th>Montant subvention 2004</th>\n",
              "      <th>Montant subvention 2005</th>\n",
              "      <th>Montant subvention 2006</th>\n",
              "      <th>Montant subvention 2007</th>\n",
              "      <th>Montant subvention 2008</th>\n",
              "      <th>Montant subvention 2009</th>\n",
              "      <th>Montant subvention 2010</th>\n",
              "      <th>Montant subvention 2011</th>\n",
              "      <th>Montant subvention 2012</th>\n",
              "      <th>Montant subvention 2013</th>\n",
              "      <th>wgs84</th>\n",
              "    </tr>\n",
              "  </thead>\n",
              "  <tbody>\n",
              "    <tr>\n",
              "      <th>0</th>\n",
              "      <td>MÉDIATHÈQUE SAINT-JOHN PERSE</td>\n",
              "      <td>2 rue Édouard Poisson</td>\n",
              "      <td>93300</td>\n",
              "      <td>93</td>\n",
              "      <td>AUBERVILLIERS</td>\n",
              "      <td>NaN</td>\n",
              "      <td>NaN</td>\n",
              "      <td>NaN</td>\n",
              "      <td>NaN</td>\n",
              "      <td>NaN</td>\n",
              "      <td>NaN</td>\n",
              "      <td>NaN</td>\n",
              "      <td>NaN</td>\n",
              "      <td>NaN</td>\n",
              "      <td>NaN</td>\n",
              "      <td>NaN</td>\n",
              "      <td>NaN</td>\n",
              "      <td>NaN</td>\n",
              "      <td>NaN</td>\n",
              "      <td>NaN</td>\n",
              "      <td>48.9104747,2.385008</td>\n",
              "    </tr>\n",
              "    <tr>\n",
              "      <th>1</th>\n",
              "      <td>MÉDIATHÈQUE GEORGES PÉREC</td>\n",
              "      <td>8-10 rue du Marqis de Raies</td>\n",
              "      <td>91080</td>\n",
              "      <td>91</td>\n",
              "      <td>COURCOURONNES</td>\n",
              "      <td>NaN</td>\n",
              "      <td>NaN</td>\n",
              "      <td>NaN</td>\n",
              "      <td>NaN</td>\n",
              "      <td>NaN</td>\n",
              "      <td>NaN</td>\n",
              "      <td>NaN</td>\n",
              "      <td>NaN</td>\n",
              "      <td>NaN</td>\n",
              "      <td>NaN</td>\n",
              "      <td>NaN</td>\n",
              "      <td>NaN</td>\n",
              "      <td>NaN</td>\n",
              "      <td>NaN</td>\n",
              "      <td>NaN</td>\n",
              "      <td>48.6293899,2.4135832</td>\n",
              "    </tr>\n",
              "    <tr>\n",
              "      <th>2</th>\n",
              "      <td>MÉDIATHÈQUE LES MUSES</td>\n",
              "      <td>101 rue de la Division Leclerc</td>\n",
              "      <td>91310</td>\n",
              "      <td>91</td>\n",
              "      <td>LINAS</td>\n",
              "      <td>NaN</td>\n",
              "      <td>NaN</td>\n",
              "      <td>NaN</td>\n",
              "      <td>NaN</td>\n",
              "      <td>NaN</td>\n",
              "      <td>NaN</td>\n",
              "      <td>NaN</td>\n",
              "      <td>NaN</td>\n",
              "      <td>NaN</td>\n",
              "      <td>NaN</td>\n",
              "      <td>NaN</td>\n",
              "      <td>NaN</td>\n",
              "      <td>NaN</td>\n",
              "      <td>NaN</td>\n",
              "      <td>NaN</td>\n",
              "      <td>48.6305113,2.2650636</td>\n",
              "    </tr>\n",
              "    <tr>\n",
              "      <th>3</th>\n",
              "      <td>MÉDIATHÈQUE MUNICIPALE</td>\n",
              "      <td>2 route de la Creusée</td>\n",
              "      <td>91530</td>\n",
              "      <td>91</td>\n",
              "      <td>LE-VAL-SAINT-GERMAIN</td>\n",
              "      <td>NaN</td>\n",
              "      <td>NaN</td>\n",
              "      <td>NaN</td>\n",
              "      <td>NaN</td>\n",
              "      <td>NaN</td>\n",
              "      <td>NaN</td>\n",
              "      <td>NaN</td>\n",
              "      <td>NaN</td>\n",
              "      <td>NaN</td>\n",
              "      <td>NaN</td>\n",
              "      <td>NaN</td>\n",
              "      <td>NaN</td>\n",
              "      <td>NaN</td>\n",
              "      <td>NaN</td>\n",
              "      <td>NaN</td>\n",
              "      <td>48.5657217,2.0601725</td>\n",
              "    </tr>\n",
              "    <tr>\n",
              "      <th>4</th>\n",
              "      <td>BIBLIOTHÈQUE LE GRENIER</td>\n",
              "      <td>5 place des Droits de l'Homme</td>\n",
              "      <td>91800</td>\n",
              "      <td>91</td>\n",
              "      <td>BOUSSY-SAINT-ANTOINE</td>\n",
              "      <td>NaN</td>\n",
              "      <td>NaN</td>\n",
              "      <td>NaN</td>\n",
              "      <td>NaN</td>\n",
              "      <td>NaN</td>\n",
              "      <td>NaN</td>\n",
              "      <td>NaN</td>\n",
              "      <td>NaN</td>\n",
              "      <td>NaN</td>\n",
              "      <td>NaN</td>\n",
              "      <td>NaN</td>\n",
              "      <td>NaN</td>\n",
              "      <td>NaN</td>\n",
              "      <td>NaN</td>\n",
              "      <td>NaN</td>\n",
              "      <td>48.6891076,2.5297452</td>\n",
              "    </tr>\n",
              "  </tbody>\n",
              "</table>\n",
              "</div>"
            ],
            "text/plain": [
              "                  Nom structure  ...                 wgs84\n",
              "0  MÉDIATHÈQUE SAINT-JOHN PERSE  ...   48.9104747,2.385008\n",
              "1     MÉDIATHÈQUE GEORGES PÉREC  ...  48.6293899,2.4135832\n",
              "2         MÉDIATHÈQUE LES MUSES  ...  48.6305113,2.2650636\n",
              "3        MÉDIATHÈQUE MUNICIPALE  ...  48.5657217,2.0601725\n",
              "4       BIBLIOTHÈQUE LE GRENIER  ...  48.6891076,2.5297452\n",
              "\n",
              "[5 rows x 21 columns]"
            ]
          },
          "metadata": {
            "tags": []
          },
          "execution_count": 4
        }
      ]
    },
    {
      "cell_type": "code",
      "metadata": {
        "id": "gwqtxAy3u_YU",
        "outputId": "5b2cd5f4-cfea-48c3-a6d0-0bd9e95724dc",
        "colab": {
          "base_uri": "https://localhost:8080/",
          "height": 206
        }
      },
      "source": [
        "df = df[['Code postal', 'Ville', 'Département']]\n",
        "df['Code postal'] = df['Code postal'].astype(str)\n",
        "df.head()"
      ],
      "execution_count": null,
      "outputs": [
        {
          "output_type": "execute_result",
          "data": {
            "text/html": [
              "<div>\n",
              "<style scoped>\n",
              "    .dataframe tbody tr th:only-of-type {\n",
              "        vertical-align: middle;\n",
              "    }\n",
              "\n",
              "    .dataframe tbody tr th {\n",
              "        vertical-align: top;\n",
              "    }\n",
              "\n",
              "    .dataframe thead th {\n",
              "        text-align: right;\n",
              "    }\n",
              "</style>\n",
              "<table border=\"1\" class=\"dataframe\">\n",
              "  <thead>\n",
              "    <tr style=\"text-align: right;\">\n",
              "      <th></th>\n",
              "      <th>Code postal</th>\n",
              "      <th>Ville</th>\n",
              "      <th>Département</th>\n",
              "    </tr>\n",
              "  </thead>\n",
              "  <tbody>\n",
              "    <tr>\n",
              "      <th>0</th>\n",
              "      <td>93300</td>\n",
              "      <td>AUBERVILLIERS</td>\n",
              "      <td>93</td>\n",
              "    </tr>\n",
              "    <tr>\n",
              "      <th>1</th>\n",
              "      <td>91080</td>\n",
              "      <td>COURCOURONNES</td>\n",
              "      <td>91</td>\n",
              "    </tr>\n",
              "    <tr>\n",
              "      <th>2</th>\n",
              "      <td>91310</td>\n",
              "      <td>LINAS</td>\n",
              "      <td>91</td>\n",
              "    </tr>\n",
              "    <tr>\n",
              "      <th>3</th>\n",
              "      <td>91530</td>\n",
              "      <td>LE-VAL-SAINT-GERMAIN</td>\n",
              "      <td>91</td>\n",
              "    </tr>\n",
              "    <tr>\n",
              "      <th>4</th>\n",
              "      <td>91800</td>\n",
              "      <td>BOUSSY-SAINT-ANTOINE</td>\n",
              "      <td>91</td>\n",
              "    </tr>\n",
              "  </tbody>\n",
              "</table>\n",
              "</div>"
            ],
            "text/plain": [
              "  Code postal                 Ville  Département\n",
              "0       93300         AUBERVILLIERS           93\n",
              "1       91080         COURCOURONNES           91\n",
              "2       91310                 LINAS           91\n",
              "3       91530  LE-VAL-SAINT-GERMAIN           91\n",
              "4       91800  BOUSSY-SAINT-ANTOINE           91"
            ]
          },
          "metadata": {
            "tags": []
          },
          "execution_count": 5
        }
      ]
    },
    {
      "cell_type": "code",
      "metadata": {
        "id": "bsXZ--3Yx3hq",
        "outputId": "93e4b80d-0e5e-48a0-fca2-3f0188dec18b",
        "colab": {
          "base_uri": "https://localhost:8080/",
          "height": 504
        }
      },
      "source": [
        "# mapping code postal - code INSEE\n",
        "mapping = pd.read_csv('correspondances-code-insee-code-postal.csv', header=0, sep=';')\n",
        "mapping.rename(columns={'Code Postal': 'Code postal'}, inplace=True)\n",
        "mapping.head()"
      ],
      "execution_count": null,
      "outputs": [
        {
          "output_type": "execute_result",
          "data": {
            "text/html": [
              "<div>\n",
              "<style scoped>\n",
              "    .dataframe tbody tr th:only-of-type {\n",
              "        vertical-align: middle;\n",
              "    }\n",
              "\n",
              "    .dataframe tbody tr th {\n",
              "        vertical-align: top;\n",
              "    }\n",
              "\n",
              "    .dataframe thead th {\n",
              "        text-align: right;\n",
              "    }\n",
              "</style>\n",
              "<table border=\"1\" class=\"dataframe\">\n",
              "  <thead>\n",
              "    <tr style=\"text-align: right;\">\n",
              "      <th></th>\n",
              "      <th>Code INSEE</th>\n",
              "      <th>Code postal</th>\n",
              "      <th>Commune</th>\n",
              "      <th>Département</th>\n",
              "      <th>Région</th>\n",
              "      <th>Statut</th>\n",
              "      <th>Altitude Moyenne</th>\n",
              "      <th>Superficie</th>\n",
              "      <th>Population</th>\n",
              "      <th>geo_point_2d</th>\n",
              "      <th>geo_shape</th>\n",
              "      <th>ID Geofla</th>\n",
              "      <th>Code Commune</th>\n",
              "      <th>Code Canton</th>\n",
              "      <th>Code Arrondissement</th>\n",
              "      <th>Code Département</th>\n",
              "      <th>Code Région</th>\n",
              "    </tr>\n",
              "  </thead>\n",
              "  <tbody>\n",
              "    <tr>\n",
              "      <th>0</th>\n",
              "      <td>91645</td>\n",
              "      <td>91370</td>\n",
              "      <td>VERRIERES-LE-BUISSON</td>\n",
              "      <td>ESSONNE</td>\n",
              "      <td>ILE-DE-FRANCE</td>\n",
              "      <td>Commune simple</td>\n",
              "      <td>121.0</td>\n",
              "      <td>999.0</td>\n",
              "      <td>15.5</td>\n",
              "      <td>48.75044312,2.25171297214</td>\n",
              "      <td>{\"type\": \"Polygon\", \"coordinates\": [[[2.238024...</td>\n",
              "      <td>16275</td>\n",
              "      <td>645</td>\n",
              "      <td>3</td>\n",
              "      <td>3</td>\n",
              "      <td>91</td>\n",
              "      <td>11</td>\n",
              "    </tr>\n",
              "    <tr>\n",
              "      <th>1</th>\n",
              "      <td>77133</td>\n",
              "      <td>77126</td>\n",
              "      <td>COURCELLES-EN-BASSEE</td>\n",
              "      <td>SEINE-ET-MARNE</td>\n",
              "      <td>ILE-DE-FRANCE</td>\n",
              "      <td>Commune simple</td>\n",
              "      <td>88.0</td>\n",
              "      <td>1082.0</td>\n",
              "      <td>0.2</td>\n",
              "      <td>48.4125606521,3.05294050556</td>\n",
              "      <td>{\"type\": \"Polygon\", \"coordinates\": [[[3.076046...</td>\n",
              "      <td>31428</td>\n",
              "      <td>133</td>\n",
              "      <td>20</td>\n",
              "      <td>3</td>\n",
              "      <td>77</td>\n",
              "      <td>11</td>\n",
              "    </tr>\n",
              "    <tr>\n",
              "      <th>2</th>\n",
              "      <td>91378</td>\n",
              "      <td>91730</td>\n",
              "      <td>MAUCHAMPS</td>\n",
              "      <td>ESSONNE</td>\n",
              "      <td>ILE-DE-FRANCE</td>\n",
              "      <td>Commune simple</td>\n",
              "      <td>150.0</td>\n",
              "      <td>313.0</td>\n",
              "      <td>0.3</td>\n",
              "      <td>48.5272680908,2.19718165044</td>\n",
              "      <td>{\"type\": \"Polygon\", \"coordinates\": [[[2.203466...</td>\n",
              "      <td>30975</td>\n",
              "      <td>378</td>\n",
              "      <td>9</td>\n",
              "      <td>1</td>\n",
              "      <td>91</td>\n",
              "      <td>11</td>\n",
              "    </tr>\n",
              "    <tr>\n",
              "      <th>3</th>\n",
              "      <td>77243</td>\n",
              "      <td>77400</td>\n",
              "      <td>LAGNY-SUR-MARNE</td>\n",
              "      <td>SEINE-ET-MARNE</td>\n",
              "      <td>ILE-DE-FRANCE</td>\n",
              "      <td>Chef-lieu canton</td>\n",
              "      <td>71.0</td>\n",
              "      <td>579.0</td>\n",
              "      <td>20.2</td>\n",
              "      <td>48.8730701858,2.70978081313</td>\n",
              "      <td>{\"type\": \"Polygon\", \"coordinates\": [[[2.727542...</td>\n",
              "      <td>17000</td>\n",
              "      <td>243</td>\n",
              "      <td>14</td>\n",
              "      <td>5</td>\n",
              "      <td>77</td>\n",
              "      <td>11</td>\n",
              "    </tr>\n",
              "    <tr>\n",
              "      <th>4</th>\n",
              "      <td>94003</td>\n",
              "      <td>94110</td>\n",
              "      <td>ARCUEIL</td>\n",
              "      <td>VAL-DE-MARNE</td>\n",
              "      <td>ILE-DE-FRANCE</td>\n",
              "      <td>Chef-lieu canton</td>\n",
              "      <td>70.0</td>\n",
              "      <td>232.0</td>\n",
              "      <td>19.5</td>\n",
              "      <td>48.8058803597,2.33351024984</td>\n",
              "      <td>{\"type\": \"Polygon\", \"coordinates\": [[[2.343851...</td>\n",
              "      <td>32123</td>\n",
              "      <td>3</td>\n",
              "      <td>34</td>\n",
              "      <td>3</td>\n",
              "      <td>94</td>\n",
              "      <td>11</td>\n",
              "    </tr>\n",
              "  </tbody>\n",
              "</table>\n",
              "</div>"
            ],
            "text/plain": [
              "   Code INSEE Code postal  ... Code Département Code Région\n",
              "0       91645       91370  ...               91          11\n",
              "1       77133       77126  ...               77          11\n",
              "2       91378       91730  ...               91          11\n",
              "3       77243       77400  ...               77          11\n",
              "4       94003       94110  ...               94          11\n",
              "\n",
              "[5 rows x 17 columns]"
            ]
          },
          "metadata": {
            "tags": []
          },
          "execution_count": 6
        }
      ]
    },
    {
      "cell_type": "code",
      "metadata": {
        "id": "DpogjcPX7LcK"
      },
      "source": [
        "mapping.drop_duplicates(inplace=True)"
      ],
      "execution_count": null,
      "outputs": []
    },
    {
      "cell_type": "code",
      "metadata": {
        "id": "cOPPhAtnzFAv",
        "outputId": "2c612ff6-ee98-4c99-84a5-e32be6212d31",
        "colab": {
          "base_uri": "https://localhost:8080/",
          "height": 424
        }
      },
      "source": [
        "df.merge(mapping[['Code INSEE', 'Code postal']], how='inner', on='Code postal').drop_duplicates()  "
      ],
      "execution_count": null,
      "outputs": [
        {
          "output_type": "execute_result",
          "data": {
            "text/html": [
              "<div>\n",
              "<style scoped>\n",
              "    .dataframe tbody tr th:only-of-type {\n",
              "        vertical-align: middle;\n",
              "    }\n",
              "\n",
              "    .dataframe tbody tr th {\n",
              "        vertical-align: top;\n",
              "    }\n",
              "\n",
              "    .dataframe thead th {\n",
              "        text-align: right;\n",
              "    }\n",
              "</style>\n",
              "<table border=\"1\" class=\"dataframe\">\n",
              "  <thead>\n",
              "    <tr style=\"text-align: right;\">\n",
              "      <th></th>\n",
              "      <th>Code postal</th>\n",
              "      <th>Ville</th>\n",
              "      <th>Département</th>\n",
              "      <th>Code INSEE</th>\n",
              "    </tr>\n",
              "  </thead>\n",
              "  <tbody>\n",
              "    <tr>\n",
              "      <th>0</th>\n",
              "      <td>93300</td>\n",
              "      <td>AUBERVILLIERS</td>\n",
              "      <td>93</td>\n",
              "      <td>93001</td>\n",
              "    </tr>\n",
              "    <tr>\n",
              "      <th>4</th>\n",
              "      <td>91080</td>\n",
              "      <td>COURCOURONNES</td>\n",
              "      <td>91</td>\n",
              "      <td>91182</td>\n",
              "    </tr>\n",
              "    <tr>\n",
              "      <th>5</th>\n",
              "      <td>91310</td>\n",
              "      <td>LINAS</td>\n",
              "      <td>91</td>\n",
              "      <td>91333</td>\n",
              "    </tr>\n",
              "    <tr>\n",
              "      <th>6</th>\n",
              "      <td>91310</td>\n",
              "      <td>LINAS</td>\n",
              "      <td>91</td>\n",
              "      <td>91425</td>\n",
              "    </tr>\n",
              "    <tr>\n",
              "      <th>7</th>\n",
              "      <td>91310</td>\n",
              "      <td>LINAS</td>\n",
              "      <td>91</td>\n",
              "      <td>91339</td>\n",
              "    </tr>\n",
              "    <tr>\n",
              "      <th>...</th>\n",
              "      <td>...</td>\n",
              "      <td>...</td>\n",
              "      <td>...</td>\n",
              "      <td>...</td>\n",
              "    </tr>\n",
              "    <tr>\n",
              "      <th>2722</th>\n",
              "      <td>77440</td>\n",
              "      <td>ARMENTIÈRES-EN-BRIE</td>\n",
              "      <td>77</td>\n",
              "      <td>77490</td>\n",
              "    </tr>\n",
              "    <tr>\n",
              "      <th>2723</th>\n",
              "      <td>77440</td>\n",
              "      <td>ARMENTIÈRES-EN-BRIE</td>\n",
              "      <td>77</td>\n",
              "      <td>77231</td>\n",
              "    </tr>\n",
              "    <tr>\n",
              "      <th>2724</th>\n",
              "      <td>77440</td>\n",
              "      <td>ARMENTIÈRES-EN-BRIE</td>\n",
              "      <td>77</td>\n",
              "      <td>77235</td>\n",
              "    </tr>\n",
              "    <tr>\n",
              "      <th>2725</th>\n",
              "      <td>77200</td>\n",
              "      <td>TORCY</td>\n",
              "      <td>77</td>\n",
              "      <td>77468</td>\n",
              "    </tr>\n",
              "    <tr>\n",
              "      <th>2726</th>\n",
              "      <td>78970</td>\n",
              "      <td>MÉZIÈRES-SUR-SEINE</td>\n",
              "      <td>78</td>\n",
              "      <td>78402</td>\n",
              "    </tr>\n",
              "  </tbody>\n",
              "</table>\n",
              "<p>2473 rows × 4 columns</p>\n",
              "</div>"
            ],
            "text/plain": [
              "     Code postal                Ville  Département  Code INSEE\n",
              "0          93300        AUBERVILLIERS           93       93001\n",
              "4          91080        COURCOURONNES           91       91182\n",
              "5          91310                LINAS           91       91333\n",
              "6          91310                LINAS           91       91425\n",
              "7          91310                LINAS           91       91339\n",
              "...          ...                  ...          ...         ...\n",
              "2722       77440  ARMENTIÈRES-EN-BRIE           77       77490\n",
              "2723       77440  ARMENTIÈRES-EN-BRIE           77       77231\n",
              "2724       77440  ARMENTIÈRES-EN-BRIE           77       77235\n",
              "2725       77200                TORCY           77       77468\n",
              "2726       78970   MÉZIÈRES-SUR-SEINE           78       78402\n",
              "\n",
              "[2473 rows x 4 columns]"
            ]
          },
          "metadata": {
            "tags": []
          },
          "execution_count": 8
        }
      ]
    },
    {
      "cell_type": "code",
      "metadata": {
        "id": "9WcRoguezFD5"
      },
      "source": [
        ""
      ],
      "execution_count": null,
      "outputs": []
    },
    {
      "cell_type": "code",
      "metadata": {
        "id": "dYf4quYkzGCX"
      },
      "source": [
        ""
      ],
      "execution_count": null,
      "outputs": []
    },
    {
      "cell_type": "code",
      "metadata": {
        "id": "WoaA0JNOwRE7",
        "outputId": "eeddea5e-2a73-48d5-d448-538d1c97d2c8",
        "colab": {
          "base_uri": "https://localhost:8080/",
          "height": 455
        }
      },
      "source": [
        "df.groupby('Code postal').count().sort_values(by='Ville')[::-1]"
      ],
      "execution_count": null,
      "outputs": [
        {
          "output_type": "execute_result",
          "data": {
            "text/html": [
              "<div>\n",
              "<style scoped>\n",
              "    .dataframe tbody tr th:only-of-type {\n",
              "        vertical-align: middle;\n",
              "    }\n",
              "\n",
              "    .dataframe tbody tr th {\n",
              "        vertical-align: top;\n",
              "    }\n",
              "\n",
              "    .dataframe thead th {\n",
              "        text-align: right;\n",
              "    }\n",
              "</style>\n",
              "<table border=\"1\" class=\"dataframe\">\n",
              "  <thead>\n",
              "    <tr style=\"text-align: right;\">\n",
              "      <th></th>\n",
              "      <th>Ville</th>\n",
              "      <th>Département</th>\n",
              "    </tr>\n",
              "    <tr>\n",
              "      <th>Code postal</th>\n",
              "      <th></th>\n",
              "      <th></th>\n",
              "    </tr>\n",
              "  </thead>\n",
              "  <tbody>\n",
              "    <tr>\n",
              "      <th>78000</th>\n",
              "      <td>9</td>\n",
              "      <td>9</td>\n",
              "    </tr>\n",
              "    <tr>\n",
              "      <th>77400</th>\n",
              "      <td>7</td>\n",
              "      <td>7</td>\n",
              "    </tr>\n",
              "    <tr>\n",
              "      <th>77130</th>\n",
              "      <td>7</td>\n",
              "      <td>7</td>\n",
              "    </tr>\n",
              "    <tr>\n",
              "      <th>78490</th>\n",
              "      <td>6</td>\n",
              "      <td>6</td>\n",
              "    </tr>\n",
              "    <tr>\n",
              "      <th>95000</th>\n",
              "      <td>6</td>\n",
              "      <td>6</td>\n",
              "    </tr>\n",
              "    <tr>\n",
              "      <th>...</th>\n",
              "      <td>...</td>\n",
              "      <td>...</td>\n",
              "    </tr>\n",
              "    <tr>\n",
              "      <th>92104</th>\n",
              "      <td>1</td>\n",
              "      <td>1</td>\n",
              "    </tr>\n",
              "    <tr>\n",
              "      <th>92110</th>\n",
              "      <td>1</td>\n",
              "      <td>1</td>\n",
              "    </tr>\n",
              "    <tr>\n",
              "      <th>92120</th>\n",
              "      <td>1</td>\n",
              "      <td>1</td>\n",
              "    </tr>\n",
              "    <tr>\n",
              "      <th>92130</th>\n",
              "      <td>1</td>\n",
              "      <td>1</td>\n",
              "    </tr>\n",
              "    <tr>\n",
              "      <th>91320</th>\n",
              "      <td>1</td>\n",
              "      <td>1</td>\n",
              "    </tr>\n",
              "  </tbody>\n",
              "</table>\n",
              "<p>461 rows × 2 columns</p>\n",
              "</div>"
            ],
            "text/plain": [
              "             Ville  Département\n",
              "Code postal                    \n",
              "78000            9            9\n",
              "77400            7            7\n",
              "77130            7            7\n",
              "78490            6            6\n",
              "95000            6            6\n",
              "...            ...          ...\n",
              "92104            1            1\n",
              "92110            1            1\n",
              "92120            1            1\n",
              "92130            1            1\n",
              "91320            1            1\n",
              "\n",
              "[461 rows x 2 columns]"
            ]
          },
          "metadata": {
            "tags": []
          },
          "execution_count": 9
        }
      ]
    },
    {
      "cell_type": "markdown",
      "metadata": {
        "id": "qP0mew0WBrJv"
      },
      "source": [
        "## 2. Liste des centres sociaux"
      ]
    },
    {
      "cell_type": "code",
      "metadata": {
        "id": "XD_MDH2YB1LW"
      },
      "source": [
        "import json\n",
        "import pandas as pd\n",
        "import numpy as np\n",
        "from bs4 import BeautifulSoup\n",
        "from urllib import request\n",
        "\n",
        "import time\n",
        "\n",
        "\n",
        "def timeit(method):\n",
        "    def timed(*args, **kw):\n",
        "        ts = time.time()\n",
        "        result = method(*args, **kw)\n",
        "        te = time.time()        \n",
        "        if 'log_time' in kw:\n",
        "            name = kw.get('log_name', method.__name__.upper())\n",
        "            kw['log_time'][name] = int((te - ts) * 1000)\n",
        "        else:\n",
        "            print('%r  %2.2f ms' % \\\n",
        "                  (method.__name__, (te - ts) * 1000))\n",
        "        return result    \n",
        "    return timed"
      ],
      "execution_count": null,
      "outputs": []
    },
    {
      "cell_type": "code",
      "metadata": {
        "id": "55UsMNkoBtrQ"
      },
      "source": [
        "@timeit\n",
        "def scrap_table_page(url='https://www.senacs.fr/structure/csx?page=', page_number=1):\n",
        "    \"\"\"\n",
        "    Generate a request on senacs page for a given \n",
        "    page number to get the name and location of \n",
        "    each social center.\n",
        "    \"\"\"\n",
        "\n",
        "    url_page = url + str(page_number)\n",
        "    request_text = request.urlopen(url_page).read()\n",
        "    page = BeautifulSoup(request_text, 'html.parser')\n",
        "\n",
        "    table = page.find('table', {'class': 'table table-striped table-hover'}).findAll('td')\n",
        "\n",
        "    # fill the values of id, name and city\n",
        "    ids = [id.getText() for id in table[::4]]\n",
        "    names = [name.getText() for name in table[1::4]]\n",
        "    cities = [city.getText() for city in table[2::4]]\n",
        "\n",
        "    df = pd.DataFrame({'id': ids, \n",
        "                      'nom': names,\n",
        "                      'ville': cities}\n",
        "                      )\n",
        "    df['page'] = page_number\n",
        "\n",
        "    return df\n",
        "\n",
        "\n",
        "def stack_pages(pages=range(91)):\n",
        "    \"\"\"\n",
        "    Concatenate all empruntis scrapped data per region.\n",
        "    \"\"\"\n",
        "\n",
        "    data = pd.DataFrame()    # empty Dataframe to fill\n",
        "    for page_number in pages:\n",
        "        temp = scrap_table_page(page_number=page_number)\n",
        "        data = pd.concat([data, temp], axis=0)\n",
        "\n",
        "    return data"
      ],
      "execution_count": null,
      "outputs": []
    },
    {
      "cell_type": "code",
      "metadata": {
        "id": "8JjPHFWjHKRF"
      },
      "source": [
        "data = stack_pages()"
      ],
      "execution_count": null,
      "outputs": []
    },
    {
      "cell_type": "code",
      "metadata": {
        "id": "3-9GvgYoIYof"
      },
      "source": [
        "data['code_postal'] = data['ville'].apply(lambda x: x.split('-')[0])\n",
        "data['ville'] = data['ville'].apply(lambda x: x.split('-')[1])"
      ],
      "execution_count": null,
      "outputs": []
    },
    {
      "cell_type": "code",
      "metadata": {
        "id": "S0Y6lbJ_LEiB",
        "outputId": "99f2117b-7dd0-4b37-a3c4-31bcef0891c2",
        "colab": {
          "base_uri": "https://localhost:8080/",
          "height": 493
        }
      },
      "source": [
        "data"
      ],
      "execution_count": null,
      "outputs": [
        {
          "output_type": "execute_result",
          "data": {
            "text/html": [
              "<div>\n",
              "<style scoped>\n",
              "    .dataframe tbody tr th:only-of-type {\n",
              "        vertical-align: middle;\n",
              "    }\n",
              "\n",
              "    .dataframe tbody tr th {\n",
              "        vertical-align: top;\n",
              "    }\n",
              "\n",
              "    .dataframe thead th {\n",
              "        text-align: right;\n",
              "    }\n",
              "</style>\n",
              "<table border=\"1\" class=\"dataframe\">\n",
              "  <thead>\n",
              "    <tr style=\"text-align: right;\">\n",
              "      <th></th>\n",
              "      <th>id</th>\n",
              "      <th>nom</th>\n",
              "      <th>ville</th>\n",
              "      <th>page</th>\n",
              "      <th>code_postal</th>\n",
              "    </tr>\n",
              "  </thead>\n",
              "  <tbody>\n",
              "    <tr>\n",
              "      <th>0</th>\n",
              "      <td>91</td>\n",
              "      <td>CENTRE SOCIAL DES GRANDES BORNES</td>\n",
              "      <td>Goussainville</td>\n",
              "      <td>0</td>\n",
              "      <td>95190</td>\n",
              "    </tr>\n",
              "    <tr>\n",
              "      <th>1</th>\n",
              "      <td>92</td>\n",
              "      <td>CENTRE SOCIAL ARCHIPELIA</td>\n",
              "      <td>PARIS 20EME ARRONDISSEMENT</td>\n",
              "      <td>0</td>\n",
              "      <td>75020</td>\n",
              "    </tr>\n",
              "    <tr>\n",
              "      <th>2</th>\n",
              "      <td>93</td>\n",
              "      <td>Espace Socioculturel Val de Charente</td>\n",
              "      <td>Ruffec</td>\n",
              "      <td>0</td>\n",
              "      <td>16700</td>\n",
              "    </tr>\n",
              "    <tr>\n",
              "      <th>3</th>\n",
              "      <td>94</td>\n",
              "      <td>CENTRE SOCIAL Maison Des Habitants Champaret</td>\n",
              "      <td>Bourgoin</td>\n",
              "      <td>0</td>\n",
              "      <td>38300</td>\n",
              "    </tr>\n",
              "    <tr>\n",
              "      <th>4</th>\n",
              "      <td>95</td>\n",
              "      <td>CENTRE SOCIAL MAISON DE LA CHALLE</td>\n",
              "      <td>Éragny</td>\n",
              "      <td>0</td>\n",
              "      <td>95610</td>\n",
              "    </tr>\n",
              "    <tr>\n",
              "      <th>...</th>\n",
              "      <td>...</td>\n",
              "      <td>...</td>\n",
              "      <td>...</td>\n",
              "      <td>...</td>\n",
              "      <td>...</td>\n",
              "    </tr>\n",
              "    <tr>\n",
              "      <th>6</th>\n",
              "      <td>16264</td>\n",
              "      <td>CENTRE SOCIOCULTUREL MUNICIPAL DE SAINT-DIZIER</td>\n",
              "      <td>Saint</td>\n",
              "      <td>90</td>\n",
              "      <td>52100</td>\n",
              "    </tr>\n",
              "    <tr>\n",
              "      <th>7</th>\n",
              "      <td>16267</td>\n",
              "      <td>ESPACE DE VIE SOCIALE L.E.P.H.A.R.E</td>\n",
              "      <td>Aniche</td>\n",
              "      <td>90</td>\n",
              "      <td>59580</td>\n",
              "    </tr>\n",
              "    <tr>\n",
              "      <th>8</th>\n",
              "      <td>16351</td>\n",
              "      <td>ASSOCIATION  FERME BEAUREPAIRE</td>\n",
              "      <td>Boulogne</td>\n",
              "      <td>90</td>\n",
              "      <td>62200</td>\n",
              "    </tr>\n",
              "    <tr>\n",
              "      <th>9</th>\n",
              "      <td>16355</td>\n",
              "      <td>OFFICE DE LA JEUNESSE</td>\n",
              "      <td>Bruay</td>\n",
              "      <td>90</td>\n",
              "      <td>62700</td>\n",
              "    </tr>\n",
              "    <tr>\n",
              "      <th>10</th>\n",
              "      <td>16359</td>\n",
              "      <td>CENTRE SOCIAL MUNICIPAL ECLATE MONTIGNY EN GOH...</td>\n",
              "      <td>Montigny</td>\n",
              "      <td>90</td>\n",
              "      <td>62640</td>\n",
              "    </tr>\n",
              "  </tbody>\n",
              "</table>\n",
              "<p>2261 rows × 5 columns</p>\n",
              "</div>"
            ],
            "text/plain": [
              "       id                                                nom  ... page  code_postal\n",
              "0      91                   CENTRE SOCIAL DES GRANDES BORNES  ...    0       95190 \n",
              "1      92                           CENTRE SOCIAL ARCHIPELIA  ...    0       75020 \n",
              "2      93               Espace Socioculturel Val de Charente  ...    0       16700 \n",
              "3      94       CENTRE SOCIAL Maison Des Habitants Champaret  ...    0       38300 \n",
              "4      95                  CENTRE SOCIAL MAISON DE LA CHALLE  ...    0       95610 \n",
              "..    ...                                                ...  ...  ...          ...\n",
              "6   16264     CENTRE SOCIOCULTUREL MUNICIPAL DE SAINT-DIZIER  ...   90       52100 \n",
              "7   16267                ESPACE DE VIE SOCIALE L.E.P.H.A.R.E  ...   90       59580 \n",
              "8   16351                    ASSOCIATION  FERME BEAUREPAIRE   ...   90       62200 \n",
              "9   16355                              OFFICE DE LA JEUNESSE  ...   90       62700 \n",
              "10  16359  CENTRE SOCIAL MUNICIPAL ECLATE MONTIGNY EN GOH...  ...   90       62640 \n",
              "\n",
              "[2261 rows x 5 columns]"
            ]
          },
          "metadata": {
            "tags": []
          },
          "execution_count": 70
        }
      ]
    },
    {
      "cell_type": "markdown",
      "metadata": {
        "id": "0nXf4iOgeVUi"
      },
      "source": [
        "## 3. Distance des communes à l'accès le plus proche\n"
      ]
    },
    {
      "cell_type": "code",
      "metadata": {
        "id": "gbrlsP6LKBNk",
        "outputId": "b83c98fb-9e71-4b91-f7b1-31d2bef70eb3",
        "colab": {
          "base_uri": "https://localhost:8080/",
          "height": 139
        }
      },
      "source": [
        "# copy geoson file with every 'Franceservices' locations\n",
        "\n",
        "import os\n",
        "\n",
        "if 'COLAB_GPU' in os.environ:  # this is always set on Colab, the value is 0 or 1 depending on whether a GPU is attached\n",
        "    from google.colab import auth\n",
        "    auth.authenticate_user()\n",
        "\n",
        "    !git clone https://github.com/cget-carto/France-services.git\n",
        "    !mv France-services/data/france_services.geojson ."
      ],
      "execution_count": null,
      "outputs": [
        {
          "output_type": "stream",
          "text": [
            "Cloning into 'France-services'...\n",
            "remote: Enumerating objects: 260, done.\u001b[K\n",
            "remote: Counting objects: 100% (260/260), done.\u001b[K\n",
            "remote: Compressing objects: 100% (169/169), done.\u001b[K\n",
            "remote: Total 260 (delta 108), reused 221 (delta 78), pack-reused 0\u001b[K\n",
            "Receiving objects: 100% (260/260), 2.12 MiB | 14.58 MiB/s, done.\n",
            "Resolving deltas: 100% (108/108), done.\n"
          ],
          "name": "stdout"
        }
      ]
    },
    {
      "cell_type": "code",
      "metadata": {
        "id": "y0a0vF4ZfWsb",
        "outputId": "424a42d3-ff9d-4332-fdf9-084b0703e7e9",
        "colab": {
          "base_uri": "https://localhost:8080/",
          "height": 34
        }
      },
      "source": [
        "ls"
      ],
      "execution_count": null,
      "outputs": [
        {
          "output_type": "stream",
          "text": [
            "adc.json  \u001b[0m\u001b[01;34mFrance-services\u001b[0m/  france_services.geojson  \u001b[01;34msample_data\u001b[0m/\n"
          ],
          "name": "stdout"
        }
      ]
    },
    {
      "cell_type": "code",
      "metadata": {
        "id": "Xn4yFI7dflix"
      },
      "source": [
        "import pandas as pd\n",
        "import json\n",
        "\n",
        "with open(\"france_services.geojson\", \"r\") as read_file: \n",
        "    fs = json.load(read_file) "
      ],
      "execution_count": null,
      "outputs": []
    },
    {
      "cell_type": "code",
      "metadata": {
        "id": "7SftmC0ZgIkl"
      },
      "source": [
        "data = pd.DataFrame()\n",
        "for n, temp in enumerate(fs['features']): \n",
        " \n",
        "    df_temp = pd.DataFrame.from_records([{'latitude': temp['properties']['LATITUDE'], \n",
        "                            'longitude': temp['properties']['LATITUDE'], \n",
        "                            'departement': temp['properties']['DEPARTEMENT'],\n",
        "                            'insee_com': temp['properties']['insee_com'],\n",
        "                            'code_postal': temp['properties']['code_postal'], \n",
        "                            'lib_france_services': temp['properties']['lib_france_services']\n",
        "                            }])\n",
        "    \n",
        "    data = pd.concat([data, df_temp], axis=0)"
      ],
      "execution_count": null,
      "outputs": []
    },
    {
      "cell_type": "code",
      "metadata": {
        "id": "4AbtbfiVObrp",
        "outputId": "e3665861-9d39-4dbe-ad5c-4e7e4c795ce0",
        "colab": {
          "base_uri": "https://localhost:8080/",
          "height": 424
        }
      },
      "source": [
        "data"
      ],
      "execution_count": null,
      "outputs": [
        {
          "output_type": "execute_result",
          "data": {
            "text/html": [
              "<div>\n",
              "<style scoped>\n",
              "    .dataframe tbody tr th:only-of-type {\n",
              "        vertical-align: middle;\n",
              "    }\n",
              "\n",
              "    .dataframe tbody tr th {\n",
              "        vertical-align: top;\n",
              "    }\n",
              "\n",
              "    .dataframe thead th {\n",
              "        text-align: right;\n",
              "    }\n",
              "</style>\n",
              "<table border=\"1\" class=\"dataframe\">\n",
              "  <thead>\n",
              "    <tr style=\"text-align: right;\">\n",
              "      <th></th>\n",
              "      <th>latitude</th>\n",
              "      <th>longitude</th>\n",
              "      <th>departement</th>\n",
              "      <th>insee_com</th>\n",
              "      <th>code_postal</th>\n",
              "      <th>lib_france_services</th>\n",
              "    </tr>\n",
              "  </thead>\n",
              "  <tbody>\n",
              "    <tr>\n",
              "      <th>0</th>\n",
              "      <td>46.105747</td>\n",
              "      <td>46.105747</td>\n",
              "      <td>1</td>\n",
              "      <td>01033</td>\n",
              "      <td>01200</td>\n",
              "      <td>Valserhône</td>\n",
              "    </tr>\n",
              "    <tr>\n",
              "      <th>0</th>\n",
              "      <td>44.031548</td>\n",
              "      <td>44.031548</td>\n",
              "      <td>12</td>\n",
              "      <td>12197</td>\n",
              "      <td>12170</td>\n",
              "      <td>Réquista « Le Bercail »</td>\n",
              "    </tr>\n",
              "    <tr>\n",
              "      <th>0</th>\n",
              "      <td>44.475185</td>\n",
              "      <td>44.475185</td>\n",
              "      <td>12</td>\n",
              "      <td>12138</td>\n",
              "      <td>12330</td>\n",
              "      <td>Conques-Marcillac</td>\n",
              "    </tr>\n",
              "    <tr>\n",
              "      <th>0</th>\n",
              "      <td>49.291400</td>\n",
              "      <td>49.291400</td>\n",
              "      <td>14</td>\n",
              "      <td>14514</td>\n",
              "      <td>14130</td>\n",
              "      <td>Terre d’Auge</td>\n",
              "    </tr>\n",
              "    <tr>\n",
              "      <th>0</th>\n",
              "      <td>49.126169</td>\n",
              "      <td>49.126169</td>\n",
              "      <td>14</td>\n",
              "      <td>14057</td>\n",
              "      <td>14370</td>\n",
              "      <td>Val ès Dunes</td>\n",
              "    </tr>\n",
              "    <tr>\n",
              "      <th>...</th>\n",
              "      <td>...</td>\n",
              "      <td>...</td>\n",
              "      <td>...</td>\n",
              "      <td>...</td>\n",
              "      <td>...</td>\n",
              "      <td>...</td>\n",
              "    </tr>\n",
              "    <tr>\n",
              "      <th>0</th>\n",
              "      <td>47.617932</td>\n",
              "      <td>47.617932</td>\n",
              "      <td>89</td>\n",
              "      <td>89368</td>\n",
              "      <td>89520</td>\n",
              "      <td>Saint-Sauveur-en-Puisaye</td>\n",
              "    </tr>\n",
              "    <tr>\n",
              "      <th>0</th>\n",
              "      <td>48.980007</td>\n",
              "      <td>48.980007</td>\n",
              "      <td>95</td>\n",
              "      <td>95219</td>\n",
              "      <td>95120</td>\n",
              "      <td>Ermont</td>\n",
              "    </tr>\n",
              "    <tr>\n",
              "      <th>0</th>\n",
              "      <td>47.181000</td>\n",
              "      <td>47.181000</td>\n",
              "      <td>25</td>\n",
              "      <td>25527</td>\n",
              "      <td>25410</td>\n",
              "      <td>Saint Vit</td>\n",
              "    </tr>\n",
              "    <tr>\n",
              "      <th>0</th>\n",
              "      <td>43.208769</td>\n",
              "      <td>43.208769</td>\n",
              "      <td>31</td>\n",
              "      <td>31375</td>\n",
              "      <td>31310</td>\n",
              "      <td>Volvestre – Antenne Montesquieu</td>\n",
              "    </tr>\n",
              "    <tr>\n",
              "      <th>0</th>\n",
              "      <td>43.328157</td>\n",
              "      <td>43.328157</td>\n",
              "      <td>31</td>\n",
              "      <td>31517</td>\n",
              "      <td>31410</td>\n",
              "      <td>Volvestre – Antenne Saint Sulpice</td>\n",
              "    </tr>\n",
              "  </tbody>\n",
              "</table>\n",
              "<p>908 rows × 6 columns</p>\n",
              "</div>"
            ],
            "text/plain": [
              "     latitude  longitude  ... code_postal                lib_france_services\n",
              "0   46.105747  46.105747  ...       01200                         Valserhône\n",
              "0   44.031548  44.031548  ...       12170            Réquista « Le Bercail »\n",
              "0   44.475185  44.475185  ...       12330                  Conques-Marcillac\n",
              "0   49.291400  49.291400  ...       14130                       Terre d’Auge\n",
              "0   49.126169  49.126169  ...       14370                       Val ès Dunes\n",
              "..        ...        ...  ...         ...                                ...\n",
              "0   47.617932  47.617932  ...       89520           Saint-Sauveur-en-Puisaye\n",
              "0   48.980007  48.980007  ...       95120                             Ermont\n",
              "0   47.181000  47.181000  ...       25410                          Saint Vit\n",
              "0   43.208769  43.208769  ...       31310    Volvestre – Antenne Montesquieu\n",
              "0   43.328157  43.328157  ...       31410  Volvestre – Antenne Saint Sulpice\n",
              "\n",
              "[908 rows x 6 columns]"
            ]
          },
          "metadata": {
            "tags": []
          },
          "execution_count": 5
        }
      ]
    },
    {
      "cell_type": "code",
      "metadata": {
        "id": "mNUz0FYtPIHq",
        "outputId": "2920ceda-a98c-4b5d-82af-4517bea36285",
        "colab": {
          "base_uri": "https://localhost:8080/",
          "height": 260
        }
      },
      "source": [
        "!pip install pgeocode"
      ],
      "execution_count": null,
      "outputs": [
        {
          "output_type": "stream",
          "text": [
            "Collecting pgeocode\n",
            "  Downloading https://files.pythonhosted.org/packages/86/44/519e3db3db84acdeb29e24f2e65991960f13464279b61bde5e9e96909c9d/pgeocode-0.2.1-py2.py3-none-any.whl\n",
            "Requirement already satisfied: requests in /usr/local/lib/python3.6/dist-packages (from pgeocode) (2.23.0)\n",
            "Requirement already satisfied: numpy in /usr/local/lib/python3.6/dist-packages (from pgeocode) (1.18.5)\n",
            "Requirement already satisfied: pandas in /usr/local/lib/python3.6/dist-packages (from pgeocode) (1.1.2)\n",
            "Requirement already satisfied: urllib3!=1.25.0,!=1.25.1,<1.26,>=1.21.1 in /usr/local/lib/python3.6/dist-packages (from requests->pgeocode) (1.24.3)\n",
            "Requirement already satisfied: chardet<4,>=3.0.2 in /usr/local/lib/python3.6/dist-packages (from requests->pgeocode) (3.0.4)\n",
            "Requirement already satisfied: idna<3,>=2.5 in /usr/local/lib/python3.6/dist-packages (from requests->pgeocode) (2.10)\n",
            "Requirement already satisfied: certifi>=2017.4.17 in /usr/local/lib/python3.6/dist-packages (from requests->pgeocode) (2020.6.20)\n",
            "Requirement already satisfied: pytz>=2017.2 in /usr/local/lib/python3.6/dist-packages (from pandas->pgeocode) (2018.9)\n",
            "Requirement already satisfied: python-dateutil>=2.7.3 in /usr/local/lib/python3.6/dist-packages (from pandas->pgeocode) (2.8.1)\n",
            "Requirement already satisfied: six>=1.5 in /usr/local/lib/python3.6/dist-packages (from python-dateutil>=2.7.3->pandas->pgeocode) (1.15.0)\n",
            "Installing collected packages: pgeocode\n",
            "Successfully installed pgeocode-0.2.1\n"
          ],
          "name": "stdout"
        }
      ]
    },
    {
      "cell_type": "markdown",
      "metadata": {
        "id": "Bn8gHBHFTIsb"
      },
      "source": [
        "### Calculer la distance entre le centre des communes et la prefecture, sous-prefecture ou france-services la plus proche en km. \n",
        "\n",
        "- scrapper prefecture / sous-prefecture https://fr.wikipedia.org/wiki/Liste_des_pr%C3%A9fectures_de_France\n",
        "- obtenir coordonnées des communes: OK via codes postaux + librairie `pgecode`"
      ]
    },
    {
      "cell_type": "code",
      "metadata": {
        "id": "kSuKUHxQP4gw",
        "outputId": "0885fbdb-9860-4dd7-fe6c-d8268667f9fb",
        "colab": {
          "base_uri": "https://localhost:8080/",
          "height": 156
        }
      },
      "source": [
        "import pgeocode\n",
        "dist = pgeocode.GeoDistance('fr')\n",
        "\n",
        "!git clone https://github.com/dataforgoodfr/batch8_mednum.git\n",
        "!mv batch8_mednum/data/table_iris_insee_epci.csv .\n",
        "!ls"
      ],
      "execution_count": null,
      "outputs": [
        {
          "output_type": "stream",
          "text": [
            "Cloning into 'batch8_mednum'...\n",
            "remote: Enumerating objects: 53, done.\u001b[K\n",
            "remote: Counting objects: 100% (53/53), done.\u001b[K\n",
            "remote: Compressing objects: 100% (49/49), done.\u001b[K\n",
            "remote: Total 53 (delta 19), reused 8 (delta 0), pack-reused 0\u001b[K\n",
            "Unpacking objects: 100% (53/53), done.\n",
            "adc.json       France-services\t\tsample_data\n",
            "batch8_mednum  france_services.geojson\ttable_iris_insee_epci.csv\n"
          ],
          "name": "stdout"
        }
      ]
    },
    {
      "cell_type": "code",
      "metadata": {
        "id": "SqxbsB-tQEmn"
      },
      "source": [
        "#data['distance'] = dist.query_postal_code(data[''].values, data[''].values)"
      ],
      "execution_count": null,
      "outputs": []
    },
    {
      "cell_type": "code",
      "metadata": {
        "id": "ajj_2ZvPRnl-",
        "outputId": "a10eed36-06cc-4615-bd28-658e5ff9c6ea",
        "colab": {
          "base_uri": "https://localhost:8080/",
          "height": 424
        }
      },
      "source": [
        "commune = pd.read_csv('table_iris_insee_epci.csv')\n",
        "commune"
      ],
      "execution_count": null,
      "outputs": [
        {
          "output_type": "execute_result",
          "data": {
            "text/html": [
              "<div>\n",
              "<style scoped>\n",
              "    .dataframe tbody tr th:only-of-type {\n",
              "        vertical-align: middle;\n",
              "    }\n",
              "\n",
              "    .dataframe tbody tr th {\n",
              "        vertical-align: top;\n",
              "    }\n",
              "\n",
              "    .dataframe thead th {\n",
              "        text-align: right;\n",
              "    }\n",
              "</style>\n",
              "<table border=\"1\" class=\"dataframe\">\n",
              "  <thead>\n",
              "    <tr style=\"text-align: right;\">\n",
              "      <th></th>\n",
              "      <th>Unnamed: 0</th>\n",
              "      <th>CODE_IRIS</th>\n",
              "      <th>TYP_IRIS</th>\n",
              "      <th>CODE_INSEE</th>\n",
              "      <th>LIBCOM</th>\n",
              "      <th>EPCI</th>\n",
              "      <th>NATURE_EPCI</th>\n",
              "      <th>MODIF_IRIS</th>\n",
              "      <th>GRD_QUART</th>\n",
              "      <th>UU2010</th>\n",
              "      <th>REG</th>\n",
              "      <th>DEP</th>\n",
              "    </tr>\n",
              "  </thead>\n",
              "  <tbody>\n",
              "    <tr>\n",
              "      <th>0</th>\n",
              "      <td>0</td>\n",
              "      <td>010010000</td>\n",
              "      <td>Z</td>\n",
              "      <td>01001</td>\n",
              "      <td>L'Abergement-Clémenciat</td>\n",
              "      <td>200069193</td>\n",
              "      <td>CC</td>\n",
              "      <td>0</td>\n",
              "      <td>0100100</td>\n",
              "      <td>01000</td>\n",
              "      <td>84</td>\n",
              "      <td>01</td>\n",
              "    </tr>\n",
              "    <tr>\n",
              "      <th>1</th>\n",
              "      <td>1</td>\n",
              "      <td>010020000</td>\n",
              "      <td>Z</td>\n",
              "      <td>01002</td>\n",
              "      <td>L'Abergement-de-Varey</td>\n",
              "      <td>240100883</td>\n",
              "      <td>CC</td>\n",
              "      <td>0</td>\n",
              "      <td>0100200</td>\n",
              "      <td>01000</td>\n",
              "      <td>84</td>\n",
              "      <td>01</td>\n",
              "    </tr>\n",
              "    <tr>\n",
              "      <th>2</th>\n",
              "      <td>2</td>\n",
              "      <td>010040101</td>\n",
              "      <td>H</td>\n",
              "      <td>01004</td>\n",
              "      <td>Ambérieu-en-Bugey</td>\n",
              "      <td>240100883</td>\n",
              "      <td>CC</td>\n",
              "      <td>0</td>\n",
              "      <td>0100401</td>\n",
              "      <td>01302</td>\n",
              "      <td>84</td>\n",
              "      <td>01</td>\n",
              "    </tr>\n",
              "    <tr>\n",
              "      <th>3</th>\n",
              "      <td>3</td>\n",
              "      <td>010040102</td>\n",
              "      <td>H</td>\n",
              "      <td>01004</td>\n",
              "      <td>Ambérieu-en-Bugey</td>\n",
              "      <td>240100883</td>\n",
              "      <td>CC</td>\n",
              "      <td>0</td>\n",
              "      <td>0100401</td>\n",
              "      <td>01302</td>\n",
              "      <td>84</td>\n",
              "      <td>01</td>\n",
              "    </tr>\n",
              "    <tr>\n",
              "      <th>4</th>\n",
              "      <td>4</td>\n",
              "      <td>010040201</td>\n",
              "      <td>H</td>\n",
              "      <td>01004</td>\n",
              "      <td>Ambérieu-en-Bugey</td>\n",
              "      <td>240100883</td>\n",
              "      <td>CC</td>\n",
              "      <td>0</td>\n",
              "      <td>0100402</td>\n",
              "      <td>01302</td>\n",
              "      <td>84</td>\n",
              "      <td>01</td>\n",
              "    </tr>\n",
              "    <tr>\n",
              "      <th>...</th>\n",
              "      <td>...</td>\n",
              "      <td>...</td>\n",
              "      <td>...</td>\n",
              "      <td>...</td>\n",
              "      <td>...</td>\n",
              "      <td>...</td>\n",
              "      <td>...</td>\n",
              "      <td>...</td>\n",
              "      <td>...</td>\n",
              "      <td>...</td>\n",
              "      <td>...</td>\n",
              "      <td>...</td>\n",
              "    </tr>\n",
              "    <tr>\n",
              "      <th>49418</th>\n",
              "      <td>49418</td>\n",
              "      <td>976170301</td>\n",
              "      <td>H</td>\n",
              "      <td>97617</td>\n",
              "      <td>Tsingoni</td>\n",
              "      <td>200059871</td>\n",
              "      <td>CC</td>\n",
              "      <td>0</td>\n",
              "      <td>9761703</td>\n",
              "      <td>9F209</td>\n",
              "      <td>6</td>\n",
              "      <td>976</td>\n",
              "    </tr>\n",
              "    <tr>\n",
              "      <th>49419</th>\n",
              "      <td>49419</td>\n",
              "      <td>976170302</td>\n",
              "      <td>H</td>\n",
              "      <td>97617</td>\n",
              "      <td>Tsingoni</td>\n",
              "      <td>200059871</td>\n",
              "      <td>CC</td>\n",
              "      <td>0</td>\n",
              "      <td>9761703</td>\n",
              "      <td>9F209</td>\n",
              "      <td>6</td>\n",
              "      <td>976</td>\n",
              "    </tr>\n",
              "    <tr>\n",
              "      <th>49420</th>\n",
              "      <td>49420</td>\n",
              "      <td>976170303</td>\n",
              "      <td>D</td>\n",
              "      <td>97617</td>\n",
              "      <td>Tsingoni</td>\n",
              "      <td>200059871</td>\n",
              "      <td>CC</td>\n",
              "      <td>0</td>\n",
              "      <td>9761703</td>\n",
              "      <td>9F209</td>\n",
              "      <td>6</td>\n",
              "      <td>976</td>\n",
              "    </tr>\n",
              "    <tr>\n",
              "      <th>49421</th>\n",
              "      <td>49421</td>\n",
              "      <td>976170304</td>\n",
              "      <td>D</td>\n",
              "      <td>97617</td>\n",
              "      <td>Tsingoni</td>\n",
              "      <td>200059871</td>\n",
              "      <td>CC</td>\n",
              "      <td>0</td>\n",
              "      <td>9761703</td>\n",
              "      <td>9F209</td>\n",
              "      <td>6</td>\n",
              "      <td>976</td>\n",
              "    </tr>\n",
              "    <tr>\n",
              "      <th>49422</th>\n",
              "      <td>49422</td>\n",
              "      <td>976170400</td>\n",
              "      <td>H</td>\n",
              "      <td>97617</td>\n",
              "      <td>Tsingoni</td>\n",
              "      <td>200059871</td>\n",
              "      <td>CC</td>\n",
              "      <td>0</td>\n",
              "      <td>9761704</td>\n",
              "      <td>9F209</td>\n",
              "      <td>6</td>\n",
              "      <td>976</td>\n",
              "    </tr>\n",
              "  </tbody>\n",
              "</table>\n",
              "<p>49423 rows × 12 columns</p>\n",
              "</div>"
            ],
            "text/plain": [
              "       Unnamed: 0  CODE_IRIS TYP_IRIS CODE_INSEE  ... GRD_QUART UU2010 REG  DEP\n",
              "0               0  010010000        Z      01001  ...   0100100  01000  84   01\n",
              "1               1  010020000        Z      01002  ...   0100200  01000  84   01\n",
              "2               2  010040101        H      01004  ...   0100401  01302  84   01\n",
              "3               3  010040102        H      01004  ...   0100401  01302  84   01\n",
              "4               4  010040201        H      01004  ...   0100402  01302  84   01\n",
              "...           ...        ...      ...        ...  ...       ...    ...  ..  ...\n",
              "49418       49418  976170301        H      97617  ...   9761703  9F209   6  976\n",
              "49419       49419  976170302        H      97617  ...   9761703  9F209   6  976\n",
              "49420       49420  976170303        D      97617  ...   9761703  9F209   6  976\n",
              "49421       49421  976170304        D      97617  ...   9761703  9F209   6  976\n",
              "49422       49422  976170400        H      97617  ...   9761704  9F209   6  976\n",
              "\n",
              "[49423 rows x 12 columns]"
            ]
          },
          "metadata": {
            "tags": []
          },
          "execution_count": 8
        }
      ]
    },
    {
      "cell_type": "code",
      "metadata": {
        "id": "KYiLHw_eUQ7p"
      },
      "source": [
        "# calculer le france-service (ou prefecture, sous-prefecture etc.) le plus proche de chaque commune et bueno "
      ],
      "execution_count": null,
      "outputs": []
    },
    {
      "cell_type": "code",
      "metadata": {
        "id": "FqWmYD2LUo0K"
      },
      "source": [
        ""
      ],
      "execution_count": null,
      "outputs": []
    },
    {
      "cell_type": "code",
      "metadata": {
        "id": "a7nqH884Uo2l"
      },
      "source": [
        ""
      ],
      "execution_count": null,
      "outputs": []
    },
    {
      "cell_type": "code",
      "metadata": {
        "id": "-NNkU8oJUm5u"
      },
      "source": [
        ""
      ],
      "execution_count": null,
      "outputs": []
    },
    {
      "cell_type": "markdown",
      "metadata": {
        "id": "ztxNWDqmU1aO"
      },
      "source": [
        "## 4. Part des moins de 25 ans"
      ]
    },
    {
      "cell_type": "code",
      "metadata": {
        "id": "uGD9lO82U8LD",
        "outputId": "82c272e6-f35b-40a2-8c83-fa1f51bdf65c",
        "colab": {
          "base_uri": "https://localhost:8080/",
          "height": 34
        }
      },
      "source": [
        "from google.colab import drive\n",
        "drive.mount(\"/content/drive\", force_remount=True)"
      ],
      "execution_count": null,
      "outputs": [
        {
          "output_type": "stream",
          "text": [
            "Mounted at /content/drive\n"
          ],
          "name": "stdout"
        }
      ]
    },
    {
      "cell_type": "code",
      "metadata": {
        "id": "VUPGixvaU8Mi",
        "outputId": "2cdba602-aebc-4dbf-848e-d29ecef6178c",
        "colab": {
          "base_uri": "https://localhost:8080/",
          "height": 424
        }
      },
      "source": [
        "demo = pd.read_csv('/content/drive/My Drive/Colab Notebooks/data_DEMO_2020_V1_COM.csv', sep=';')\n",
        "demo[['CODGEO', 'POP_MUN', 'TX_TOT_0A24']]"
      ],
      "execution_count": null,
      "outputs": [
        {
          "output_type": "execute_result",
          "data": {
            "text/html": [
              "<div>\n",
              "<style scoped>\n",
              "    .dataframe tbody tr th:only-of-type {\n",
              "        vertical-align: middle;\n",
              "    }\n",
              "\n",
              "    .dataframe tbody tr th {\n",
              "        vertical-align: top;\n",
              "    }\n",
              "\n",
              "    .dataframe thead th {\n",
              "        text-align: right;\n",
              "    }\n",
              "</style>\n",
              "<table border=\"1\" class=\"dataframe\">\n",
              "  <thead>\n",
              "    <tr style=\"text-align: right;\">\n",
              "      <th></th>\n",
              "      <th>CODGEO</th>\n",
              "      <th>POP_MUN</th>\n",
              "      <th>TX_TOT_0A24</th>\n",
              "    </tr>\n",
              "  </thead>\n",
              "  <tbody>\n",
              "    <tr>\n",
              "      <th>0</th>\n",
              "      <td>01004</td>\n",
              "      <td>14359</td>\n",
              "      <td>32,5</td>\n",
              "    </tr>\n",
              "    <tr>\n",
              "      <th>1</th>\n",
              "      <td>01031</td>\n",
              "      <td>3646</td>\n",
              "      <td>32,1</td>\n",
              "    </tr>\n",
              "    <tr>\n",
              "      <th>2</th>\n",
              "      <td>01034</td>\n",
              "      <td>8909</td>\n",
              "      <td>29,5</td>\n",
              "    </tr>\n",
              "    <tr>\n",
              "      <th>3</th>\n",
              "      <td>01053</td>\n",
              "      <td>40490</td>\n",
              "      <td>31,3</td>\n",
              "    </tr>\n",
              "    <tr>\n",
              "      <th>4</th>\n",
              "      <td>01160</td>\n",
              "      <td>9236</td>\n",
              "      <td>29,1</td>\n",
              "    </tr>\n",
              "    <tr>\n",
              "      <th>...</th>\n",
              "      <td>...</td>\n",
              "      <td>...</td>\n",
              "      <td>...</td>\n",
              "    </tr>\n",
              "    <tr>\n",
              "      <th>786</th>\n",
              "      <td>97415</td>\n",
              "      <td>104332</td>\n",
              "      <td>35,4</td>\n",
              "    </tr>\n",
              "    <tr>\n",
              "      <th>787</th>\n",
              "      <td>97416</td>\n",
              "      <td>81415</td>\n",
              "      <td>37,3</td>\n",
              "    </tr>\n",
              "    <tr>\n",
              "      <th>788</th>\n",
              "      <td>97418</td>\n",
              "      <td>32605</td>\n",
              "      <td>37,5</td>\n",
              "    </tr>\n",
              "    <tr>\n",
              "      <th>789</th>\n",
              "      <td>97420</td>\n",
              "      <td>22209</td>\n",
              "      <td>39,7</td>\n",
              "    </tr>\n",
              "    <tr>\n",
              "      <th>790</th>\n",
              "      <td>97422</td>\n",
              "      <td>76090</td>\n",
              "      <td>37,7</td>\n",
              "    </tr>\n",
              "  </tbody>\n",
              "</table>\n",
              "<p>791 rows × 3 columns</p>\n",
              "</div>"
            ],
            "text/plain": [
              "    CODGEO  POP_MUN TX_TOT_0A24\n",
              "0    01004    14359        32,5\n",
              "1    01031     3646        32,1\n",
              "2    01034     8909        29,5\n",
              "3    01053    40490        31,3\n",
              "4    01160     9236        29,1\n",
              "..     ...      ...         ...\n",
              "786  97415   104332        35,4\n",
              "787  97416    81415        37,3\n",
              "788  97418    32605        37,5\n",
              "789  97420    22209        39,7\n",
              "790  97422    76090        37,7\n",
              "\n",
              "[791 rows x 3 columns]"
            ]
          },
          "metadata": {
            "tags": []
          },
          "execution_count": 14
        }
      ]
    },
    {
      "cell_type": "code",
      "metadata": {
        "id": "LLFueYoLWYL6"
      },
      "source": [
        ""
      ],
      "execution_count": null,
      "outputs": []
    }
  ]
}