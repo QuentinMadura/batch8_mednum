{
 "cells": [
  {
   "cell_type": "markdown",
   "metadata": {
    "id": "RwF7q3_y4dOR"
   },
   "source": [
    "# Indice de fragilité numérique : construction des différentes variables (TX_60+, TX_MENSEUL, TX_FAMMONO, TX_DEMANDEURS_EMPLOI et TX_NSCOL15+)"
   ]
  },
  {
   "cell_type": "markdown",
   "metadata": {
    "id": "UNGXGXs443q1"
   },
   "source": [
    "L'indice de fragilité numérique se compose de quatre piliers qui sont eux-mêmes composés de différentes variables. Ici, nous allons détailler les étapes de constructions de différentes variables à partir de différents datasets récupérés sur le site de l'INSEE (https://www.insee.fr/fr/accueil)."
   ]
  },
  {
   "cell_type": "code",
   "execution_count": 1,
   "metadata": {
    "id": "e_ljAocbK7TB"
   },
   "outputs": [],
   "source": [
    "# importation des librairies nécessaires à la création de nos variables\n",
    "\n",
    "import pandas as pd\n",
    "import numpy as np"
   ]
  },
  {
   "cell_type": "markdown",
   "metadata": {
    "id": "EniNJ0KwDGnn"
   },
   "source": [
    "## 1. Taux de plus de 60 ans, taux de ménages d'une personne et taux de familles monoparentales"
   ]
  },
  {
   "cell_type": "code",
   "execution_count": 2,
   "metadata": {},
   "outputs": [],
   "source": [
    "# Création de pathfile à modifier en fonction de l'organisation de notre dossier\n",
    "\n",
    "pathfile_raw = '/Users/cecil/Documents/IFN_Mednum/raw'\n",
    "pathfile_interim = '/Users/cecil/Documents/IFN_Mednum/interim'"
   ]
  },
  {
   "cell_type": "code",
   "execution_count": 3,
   "metadata": {
    "colab": {
     "base_uri": "https://localhost:8080/",
     "height": 292
    },
    "id": "lNc3QrxbK7TN",
    "outputId": "733922c3-4b70-45f2-c7e9-89a65b0a0b05"
   },
   "outputs": [
    {
     "name": "stderr",
     "output_type": "stream",
     "text": [
      "C:\\Users\\cecil\\AppData\\Roaming\\Python\\Python38\\site-packages\\IPython\\core\\interactiveshell.py:3062: DtypeWarning: Columns (0) have mixed types.Specify dtype option on import or set low_memory=False.\n",
      "  has_raised = await self.run_ast_nodes(code_ast.body, cell_name,\n"
     ]
    },
    {
     "data": {
      "text/html": [
       "<div>\n",
       "<style scoped>\n",
       "    .dataframe tbody tr th:only-of-type {\n",
       "        vertical-align: middle;\n",
       "    }\n",
       "\n",
       "    .dataframe tbody tr th {\n",
       "        vertical-align: top;\n",
       "    }\n",
       "\n",
       "    .dataframe thead th {\n",
       "        text-align: right;\n",
       "    }\n",
       "</style>\n",
       "<table border=\"1\" class=\"dataframe\">\n",
       "  <thead>\n",
       "    <tr style=\"text-align: right;\">\n",
       "      <th></th>\n",
       "      <th>index</th>\n",
       "      <th>CODGEO</th>\n",
       "      <th>C17_MEN</th>\n",
       "      <th>C17_MENPSEUL</th>\n",
       "      <th>C17_MENHSEUL</th>\n",
       "      <th>C17_MENFSEUL</th>\n",
       "      <th>C17_MENSFAM</th>\n",
       "      <th>C17_MENFAM</th>\n",
       "      <th>C17_MENCOUPSENF</th>\n",
       "      <th>C17_MENCOUPAENF</th>\n",
       "      <th>...</th>\n",
       "      <th>C07_COUPAENF</th>\n",
       "      <th>C07_FAMMONO</th>\n",
       "      <th>C07_HMONO</th>\n",
       "      <th>C07_FMONO</th>\n",
       "      <th>C07_COUPSENF</th>\n",
       "      <th>C07_NE24F0</th>\n",
       "      <th>C07_NE24F1</th>\n",
       "      <th>C07_NE24F2</th>\n",
       "      <th>C07_NE24F3</th>\n",
       "      <th>C07_NE24F4P</th>\n",
       "    </tr>\n",
       "  </thead>\n",
       "  <tbody>\n",
       "    <tr>\n",
       "      <th>0</th>\n",
       "      <td>0</td>\n",
       "      <td>1001</td>\n",
       "      <td>315.154412</td>\n",
       "      <td>71.929625</td>\n",
       "      <td>35.964813</td>\n",
       "      <td>35.964813</td>\n",
       "      <td>5.100362</td>\n",
       "      <td>238.124424</td>\n",
       "      <td>112.207972</td>\n",
       "      <td>110.689754</td>\n",
       "      <td>...</td>\n",
       "      <td>119.009904</td>\n",
       "      <td>27.768978</td>\n",
       "      <td>19.834984</td>\n",
       "      <td>7.933994</td>\n",
       "      <td>91.240927</td>\n",
       "      <td>99.174920</td>\n",
       "      <td>55.537955</td>\n",
       "      <td>63.471949</td>\n",
       "      <td>15.867987</td>\n",
       "      <td>3.966997</td>\n",
       "    </tr>\n",
       "    <tr>\n",
       "      <th>1</th>\n",
       "      <td>1</td>\n",
       "      <td>1002</td>\n",
       "      <td>107.160494</td>\n",
       "      <td>30.617284</td>\n",
       "      <td>25.514403</td>\n",
       "      <td>5.102881</td>\n",
       "      <td>0.000000</td>\n",
       "      <td>76.543210</td>\n",
       "      <td>35.720165</td>\n",
       "      <td>35.720165</td>\n",
       "      <td>...</td>\n",
       "      <td>31.462073</td>\n",
       "      <td>3.932759</td>\n",
       "      <td>3.932759</td>\n",
       "      <td>0.000000</td>\n",
       "      <td>23.596555</td>\n",
       "      <td>31.462073</td>\n",
       "      <td>11.798277</td>\n",
       "      <td>15.731036</td>\n",
       "      <td>0.000000</td>\n",
       "      <td>0.000000</td>\n",
       "    </tr>\n",
       "    <tr>\n",
       "      <th>2</th>\n",
       "      <td>2</td>\n",
       "      <td>1004</td>\n",
       "      <td>6405.910326</td>\n",
       "      <td>2659.428492</td>\n",
       "      <td>1207.832644</td>\n",
       "      <td>1451.595848</td>\n",
       "      <td>92.821886</td>\n",
       "      <td>3653.659948</td>\n",
       "      <td>1490.158562</td>\n",
       "      <td>1509.068222</td>\n",
       "      <td>...</td>\n",
       "      <td>1431.949014</td>\n",
       "      <td>512.331482</td>\n",
       "      <td>69.374672</td>\n",
       "      <td>442.956810</td>\n",
       "      <td>1489.617182</td>\n",
       "      <td>1632.483842</td>\n",
       "      <td>776.942502</td>\n",
       "      <td>630.333691</td>\n",
       "      <td>295.807389</td>\n",
       "      <td>98.330254</td>\n",
       "    </tr>\n",
       "    <tr>\n",
       "      <th>3</th>\n",
       "      <td>3</td>\n",
       "      <td>1005</td>\n",
       "      <td>636.197591</td>\n",
       "      <td>134.086315</td>\n",
       "      <td>80.451789</td>\n",
       "      <td>53.634526</td>\n",
       "      <td>5.298234</td>\n",
       "      <td>496.813042</td>\n",
       "      <td>201.268460</td>\n",
       "      <td>253.542925</td>\n",
       "      <td>...</td>\n",
       "      <td>252.711560</td>\n",
       "      <td>42.832468</td>\n",
       "      <td>17.132987</td>\n",
       "      <td>25.699481</td>\n",
       "      <td>145.630391</td>\n",
       "      <td>179.896365</td>\n",
       "      <td>77.098442</td>\n",
       "      <td>119.930910</td>\n",
       "      <td>55.682208</td>\n",
       "      <td>8.566494</td>\n",
       "    </tr>\n",
       "    <tr>\n",
       "      <th>4</th>\n",
       "      <td>4</td>\n",
       "      <td>1006</td>\n",
       "      <td>55.500000</td>\n",
       "      <td>20.181818</td>\n",
       "      <td>5.045455</td>\n",
       "      <td>15.136364</td>\n",
       "      <td>0.000000</td>\n",
       "      <td>35.318182</td>\n",
       "      <td>20.181818</td>\n",
       "      <td>10.090909</td>\n",
       "      <td>...</td>\n",
       "      <td>16.718787</td>\n",
       "      <td>0.000000</td>\n",
       "      <td>0.000000</td>\n",
       "      <td>0.000000</td>\n",
       "      <td>16.718787</td>\n",
       "      <td>16.718787</td>\n",
       "      <td>8.359393</td>\n",
       "      <td>4.179697</td>\n",
       "      <td>4.179697</td>\n",
       "      <td>0.000000</td>\n",
       "    </tr>\n",
       "  </tbody>\n",
       "</table>\n",
       "<p>5 rows × 238 columns</p>\n",
       "</div>"
      ],
      "text/plain": [
       "   index CODGEO      C17_MEN  C17_MENPSEUL  C17_MENHSEUL  C17_MENFSEUL  \\\n",
       "0      0   1001   315.154412     71.929625     35.964813     35.964813   \n",
       "1      1   1002   107.160494     30.617284     25.514403      5.102881   \n",
       "2      2   1004  6405.910326   2659.428492   1207.832644   1451.595848   \n",
       "3      3   1005   636.197591    134.086315     80.451789     53.634526   \n",
       "4      4   1006    55.500000     20.181818      5.045455     15.136364   \n",
       "\n",
       "   C17_MENSFAM   C17_MENFAM  C17_MENCOUPSENF  C17_MENCOUPAENF  ...  \\\n",
       "0     5.100362   238.124424       112.207972       110.689754  ...   \n",
       "1     0.000000    76.543210        35.720165        35.720165  ...   \n",
       "2    92.821886  3653.659948      1490.158562      1509.068222  ...   \n",
       "3     5.298234   496.813042       201.268460       253.542925  ...   \n",
       "4     0.000000    35.318182        20.181818        10.090909  ...   \n",
       "\n",
       "   C07_COUPAENF  C07_FAMMONO  C07_HMONO   C07_FMONO  C07_COUPSENF  \\\n",
       "0    119.009904    27.768978  19.834984    7.933994     91.240927   \n",
       "1     31.462073     3.932759   3.932759    0.000000     23.596555   \n",
       "2   1431.949014   512.331482  69.374672  442.956810   1489.617182   \n",
       "3    252.711560    42.832468  17.132987   25.699481    145.630391   \n",
       "4     16.718787     0.000000   0.000000    0.000000     16.718787   \n",
       "\n",
       "    C07_NE24F0  C07_NE24F1  C07_NE24F2  C07_NE24F3  C07_NE24F4P  \n",
       "0    99.174920   55.537955   63.471949   15.867987     3.966997  \n",
       "1    31.462073   11.798277   15.731036    0.000000     0.000000  \n",
       "2  1632.483842  776.942502  630.333691  295.807389    98.330254  \n",
       "3   179.896365   77.098442  119.930910   55.682208     8.566494  \n",
       "4    16.718787    8.359393    4.179697    4.179697     0.000000  \n",
       "\n",
       "[5 rows x 238 columns]"
      ]
     },
     "execution_count": 3,
     "metadata": {},
     "output_type": "execute_result"
    }
   ],
   "source": [
    "# Chargement des données démographiques issus du site de l'INSEE\n",
    "\n",
    "compo_menage = pd.read_csv(f'{pathfile_raw}/base-cc-coupl-fam-men-2017.CSV', sep=';')\n",
    "compo_menage_2 = pd.read_csv(f'{pathfile_raw}/base-cc-coupl-fam-men-2017-COM.CSV', sep=\";\")\n",
    "compo_menage = compo_menage.append(compo_menage_2).reset_index()\n",
    "compo_menage.head()"
   ]
  },
  {
   "cell_type": "code",
   "execution_count": 4,
   "metadata": {
    "colab": {
     "base_uri": "https://localhost:8080/",
     "height": 35
    },
    "id": "ncc19-tC2P7T",
    "outputId": "76b5c29e-4973-47d8-fd9f-6575f6bd9857"
   },
   "outputs": [
    {
     "data": {
      "text/plain": [
       "(35000, 238)"
      ]
     },
     "execution_count": 4,
     "metadata": {},
     "output_type": "execute_result"
    }
   ],
   "source": [
    "compo_menage.shape"
   ]
  },
  {
   "cell_type": "code",
   "execution_count": 5,
   "metadata": {
    "id": "tpENRMoBgZE3"
   },
   "outputs": [],
   "source": [
    "# On sélectionne les colonnes nécessaires à la construction des variables en lien avec notre indice\n",
    "\n",
    "compo_menage = compo_menage[['CODGEO','C17_MEN', 'C17_MENPSEUL', 'C17_MENFAMMONO', 'P17_POP15P','P17_POP6579', 'P17_POP80P', 'P17_POP1519', 'P17_POP2024']]"
   ]
  },
  {
   "cell_type": "code",
   "execution_count": 6,
   "metadata": {},
   "outputs": [],
   "source": [
    "# On crée la variable 'TX_MENSEUL' correspondant aux pourcentages de ménages de une personne\n",
    "# Pour cela, on divise le nombre de ménages composés d'une personne par le nombre de ménage totale\n",
    "\n",
    "compo_menage['TX_MENSEUL'] = (compo_menage['C17_MENPSEUL'] / compo_menage['C17_MEN']) * 100"
   ]
  },
  {
   "cell_type": "code",
   "execution_count": 7,
   "metadata": {},
   "outputs": [],
   "source": [
    "# On crée la variable 'TX_FAMMONO' correspondant aux pourcentages de familles monoparentales\n",
    "# Pour cela, on divise le nombre de familles monoparentales par le nombre de ménage totale\n",
    "\n",
    "compo_menage['TX_FAMMONO'] = (compo_menage['C17_MENFAMMONO'] / compo_menage['C17_MEN']) * 100"
   ]
  },
  {
   "cell_type": "code",
   "execution_count": 8,
   "metadata": {},
   "outputs": [],
   "source": [
    "# On crée la variable 'TX_65ETPLUS' correspondant aux pourcentages de personnes de plus de 65 ans\n",
    "# On additionne les populations de la tranche d'âge '65-79' et '80 et +' que l'on divise par le nombre d'individus de plus de 15 ans\n",
    "\n",
    "compo_menage['TX_65ETPLUS'] = ((compo_menage['P17_POP6579'] + compo_menage['P17_POP80P']) / compo_menage['P17_POP15P']) * 100"
   ]
  },
  {
   "cell_type": "code",
   "execution_count": 9,
   "metadata": {},
   "outputs": [],
   "source": [
    "# On crée la variable 'TX_25ETMOINS' correspondant aux pourcentages de personnes de moins de 25 ans\n",
    "# On additionne les populations de la tranche d'âge '15-19' et '20-24' que l'on divise par le nombre d'individus de plus de 15 ans\n",
    "\n",
    "compo_menage['TX_25ETMOINS']= ((compo_menage['P17_POP1519'] + compo_menage['P17_POP2024']) / compo_menage['P17_POP15P']) * 100"
   ]
  },
  {
   "cell_type": "code",
   "execution_count": 10,
   "metadata": {
    "colab": {
     "base_uri": "https://localhost:8080/",
     "height": 206
    },
    "id": "7UZbOJvqhPEG",
    "outputId": "2002ba50-6a57-475e-8360-c773dd0120fe"
   },
   "outputs": [
    {
     "data": {
      "text/html": [
       "<div>\n",
       "<style scoped>\n",
       "    .dataframe tbody tr th:only-of-type {\n",
       "        vertical-align: middle;\n",
       "    }\n",
       "\n",
       "    .dataframe tbody tr th {\n",
       "        vertical-align: top;\n",
       "    }\n",
       "\n",
       "    .dataframe thead th {\n",
       "        text-align: right;\n",
       "    }\n",
       "</style>\n",
       "<table border=\"1\" class=\"dataframe\">\n",
       "  <thead>\n",
       "    <tr style=\"text-align: right;\">\n",
       "      <th></th>\n",
       "      <th>CODGEO</th>\n",
       "      <th>C17_MEN</th>\n",
       "      <th>C17_MENPSEUL</th>\n",
       "      <th>C17_MENFAMMONO</th>\n",
       "      <th>P17_POP15P</th>\n",
       "      <th>P17_POP6579</th>\n",
       "      <th>P17_POP80P</th>\n",
       "      <th>P17_POP1519</th>\n",
       "      <th>P17_POP2024</th>\n",
       "      <th>TX_MENSEUL</th>\n",
       "      <th>TX_FAMMONO</th>\n",
       "      <th>TX_65ETPLUS</th>\n",
       "      <th>TX_25ETMOINS</th>\n",
       "    </tr>\n",
       "  </thead>\n",
       "  <tbody>\n",
       "    <tr>\n",
       "      <th>0</th>\n",
       "      <td>1001</td>\n",
       "      <td>315.154412</td>\n",
       "      <td>71.929625</td>\n",
       "      <td>15.226698</td>\n",
       "      <td>614.445217</td>\n",
       "      <td>113.392959</td>\n",
       "      <td>32.717419</td>\n",
       "      <td>51.313236</td>\n",
       "      <td>18.176249</td>\n",
       "      <td>22.823614</td>\n",
       "      <td>4.831504</td>\n",
       "      <td>23.779236</td>\n",
       "      <td>11.309305</td>\n",
       "    </tr>\n",
       "    <tr>\n",
       "      <th>1</th>\n",
       "      <td>1002</td>\n",
       "      <td>107.160494</td>\n",
       "      <td>30.617284</td>\n",
       "      <td>5.102881</td>\n",
       "      <td>191.868313</td>\n",
       "      <td>33.679012</td>\n",
       "      <td>11.226337</td>\n",
       "      <td>11.226337</td>\n",
       "      <td>4.082305</td>\n",
       "      <td>28.571429</td>\n",
       "      <td>4.761905</td>\n",
       "      <td>23.404255</td>\n",
       "      <td>7.978723</td>\n",
       "    </tr>\n",
       "    <tr>\n",
       "      <th>2</th>\n",
       "      <td>1004</td>\n",
       "      <td>6405.910326</td>\n",
       "      <td>2659.428492</td>\n",
       "      <td>654.433164</td>\n",
       "      <td>11309.467304</td>\n",
       "      <td>1586.176459</td>\n",
       "      <td>758.718840</td>\n",
       "      <td>1036.882405</td>\n",
       "      <td>842.752556</td>\n",
       "      <td>41.515231</td>\n",
       "      <td>10.216084</td>\n",
       "      <td>20.733915</td>\n",
       "      <td>16.620013</td>\n",
       "    </tr>\n",
       "    <tr>\n",
       "      <th>3</th>\n",
       "      <td>1005</td>\n",
       "      <td>636.197591</td>\n",
       "      <td>134.086315</td>\n",
       "      <td>42.001657</td>\n",
       "      <td>1344.987086</td>\n",
       "      <td>200.447239</td>\n",
       "      <td>61.669791</td>\n",
       "      <td>99.149469</td>\n",
       "      <td>87.186728</td>\n",
       "      <td>21.076206</td>\n",
       "      <td>6.601983</td>\n",
       "      <td>19.488442</td>\n",
       "      <td>13.854125</td>\n",
       "    </tr>\n",
       "    <tr>\n",
       "      <th>4</th>\n",
       "      <td>1006</td>\n",
       "      <td>55.500000</td>\n",
       "      <td>20.181818</td>\n",
       "      <td>5.045455</td>\n",
       "      <td>98.890909</td>\n",
       "      <td>18.163636</td>\n",
       "      <td>8.072727</td>\n",
       "      <td>3.027273</td>\n",
       "      <td>7.063636</td>\n",
       "      <td>36.363636</td>\n",
       "      <td>9.090909</td>\n",
       "      <td>26.530612</td>\n",
       "      <td>10.204082</td>\n",
       "    </tr>\n",
       "  </tbody>\n",
       "</table>\n",
       "</div>"
      ],
      "text/plain": [
       "  CODGEO      C17_MEN  C17_MENPSEUL  C17_MENFAMMONO    P17_POP15P  \\\n",
       "0   1001   315.154412     71.929625       15.226698    614.445217   \n",
       "1   1002   107.160494     30.617284        5.102881    191.868313   \n",
       "2   1004  6405.910326   2659.428492      654.433164  11309.467304   \n",
       "3   1005   636.197591    134.086315       42.001657   1344.987086   \n",
       "4   1006    55.500000     20.181818        5.045455     98.890909   \n",
       "\n",
       "   P17_POP6579  P17_POP80P  P17_POP1519  P17_POP2024  TX_MENSEUL  TX_FAMMONO  \\\n",
       "0   113.392959   32.717419    51.313236    18.176249   22.823614    4.831504   \n",
       "1    33.679012   11.226337    11.226337     4.082305   28.571429    4.761905   \n",
       "2  1586.176459  758.718840  1036.882405   842.752556   41.515231   10.216084   \n",
       "3   200.447239   61.669791    99.149469    87.186728   21.076206    6.601983   \n",
       "4    18.163636    8.072727     3.027273     7.063636   36.363636    9.090909   \n",
       "\n",
       "   TX_65ETPLUS  TX_25ETMOINS  \n",
       "0    23.779236     11.309305  \n",
       "1    23.404255      7.978723  \n",
       "2    20.733915     16.620013  \n",
       "3    19.488442     13.854125  \n",
       "4    26.530612     10.204082  "
      ]
     },
     "execution_count": 10,
     "metadata": {},
     "output_type": "execute_result"
    }
   ],
   "source": [
    "# On observe que nos colonnes se sont bien créées\n",
    "\n",
    "compo_menage.head()"
   ]
  },
  {
   "cell_type": "markdown",
   "metadata": {
    "id": "C8Jb9EUwDotI"
   },
   "source": [
    "## 2. Demandeurs d'emplois"
   ]
  },
  {
   "cell_type": "markdown",
   "metadata": {
    "id": "FJ26QNT-D_4n"
   },
   "source": [
    "Les fichiers utilisés ici proviennent du site de l'INSEE. Le nombre de demandeurs d'emplois est celui que l'on avait au 31 décembre 2019. Pour calculer le taux de demandeur d'emplois, on utilise le nombre de personnes comptabilisé dans la population active. Le nombre de personnes actives (entre 15 et 64 ans) provient du site de l'INSEE (chiffres de 2016)."
   ]
  },
  {
   "cell_type": "code",
   "execution_count": 11,
   "metadata": {
    "colab": {
     "base_uri": "https://localhost:8080/",
     "height": 73
    },
    "id": "gkXT8eVIU3gT",
    "outputId": "8ec7bd75-703d-4985-8674-8b61e2d00afe"
   },
   "outputs": [
    {
     "name": "stderr",
     "output_type": "stream",
     "text": [
      "C:\\Users\\cecil\\AppData\\Roaming\\Python\\Python38\\site-packages\\IPython\\core\\interactiveshell.py:3062: DtypeWarning: Columns (0) have mixed types.Specify dtype option on import or set low_memory=False.\n",
      "  has_raised = await self.run_ast_nodes(code_ast.body, cell_name,\n"
     ]
    }
   ],
   "source": [
    "# Chargement des données sur les demandeurs d'emplois et la population active\n",
    "\n",
    "demandeur_emplois = pd.read_csv(f'{pathfile_raw}/data_DEFM2019_com.csv', sep=\";\")\n",
    "pop_active = pd.read_csv(f'{pathfile_raw}/base-cc-emploi-pop-active-2016.CSV', sep=\";\")\n",
    "pop_active2 = pd.read_csv(f'{pathfile_raw}/base-cc-emploi-pop-active-2016-COM.CSV', sep=\";\")"
   ]
  },
  {
   "cell_type": "code",
   "execution_count": 12,
   "metadata": {
    "id": "KYTdbHrJJ9-i"
   },
   "outputs": [],
   "source": [
    "# Création d'un df unique avec la population active de toutes les communes (Mayotte inclus)\n",
    "\n",
    "pop_active = pop_active.append(pop_active2).reset_index()"
   ]
  },
  {
   "cell_type": "markdown",
   "metadata": {
    "id": "YxhJ2gVjE4sH"
   },
   "source": [
    "La population active est composée de deux fichiers : un fichier avec les chiffres de la France (sans Mayotte) et un fichier contenant les informations de Mayotte."
   ]
  },
  {
   "cell_type": "code",
   "execution_count": 13,
   "metadata": {
    "colab": {
     "base_uri": "https://localhost:8080/",
     "height": 206
    },
    "id": "N7-BEZ56aYvz",
    "outputId": "3c28e1df-c5b7-414c-b9f0-7a5226ed8c26"
   },
   "outputs": [
    {
     "data": {
      "text/html": [
       "<div>\n",
       "<style scoped>\n",
       "    .dataframe tbody tr th:only-of-type {\n",
       "        vertical-align: middle;\n",
       "    }\n",
       "\n",
       "    .dataframe tbody tr th {\n",
       "        vertical-align: top;\n",
       "    }\n",
       "\n",
       "    .dataframe thead th {\n",
       "        text-align: right;\n",
       "    }\n",
       "</style>\n",
       "<table border=\"1\" class=\"dataframe\">\n",
       "  <thead>\n",
       "    <tr style=\"text-align: right;\">\n",
       "      <th></th>\n",
       "      <th>CODGEO</th>\n",
       "      <th>P16_ACT1564</th>\n",
       "    </tr>\n",
       "  </thead>\n",
       "  <tbody>\n",
       "    <tr>\n",
       "      <th>0</th>\n",
       "      <td>1001</td>\n",
       "      <td>376.000000</td>\n",
       "    </tr>\n",
       "    <tr>\n",
       "      <th>1</th>\n",
       "      <td>1002</td>\n",
       "      <td>123.000000</td>\n",
       "    </tr>\n",
       "    <tr>\n",
       "      <th>2</th>\n",
       "      <td>1004</td>\n",
       "      <td>6697.333122</td>\n",
       "    </tr>\n",
       "    <tr>\n",
       "      <th>3</th>\n",
       "      <td>1005</td>\n",
       "      <td>864.845592</td>\n",
       "    </tr>\n",
       "    <tr>\n",
       "      <th>4</th>\n",
       "      <td>1006</td>\n",
       "      <td>58.000000</td>\n",
       "    </tr>\n",
       "  </tbody>\n",
       "</table>\n",
       "</div>"
      ],
      "text/plain": [
       "  CODGEO  P16_ACT1564\n",
       "0   1001   376.000000\n",
       "1   1002   123.000000\n",
       "2   1004  6697.333122\n",
       "3   1005   864.845592\n",
       "4   1006    58.000000"
      ]
     },
     "execution_count": 13,
     "metadata": {},
     "output_type": "execute_result"
    }
   ],
   "source": [
    "# Conservation des données de population active entre 15 et 64 ans pour l'année 2016\n",
    "\n",
    "pop_active = pop_active[['CODGEO', 'P16_ACT1564']]\n",
    "pop_active.head()"
   ]
  },
  {
   "cell_type": "markdown",
   "metadata": {
    "id": "T_HhG7pAKwwS"
   },
   "source": [
    "On conserve donc le CODGEO (code INSEE de chaque commune) et le nombre de personnes actives âgés de 15 à 64 ans. "
   ]
  },
  {
   "cell_type": "markdown",
   "metadata": {
    "id": "XjKma-u_K5he"
   },
   "source": [
    "Concernant le total de demandeurs d'emplois, on conserve les valeurs associées au CODGEO (code INSEE de la commune), des demandeurs d'emplois de catégorie A, B et C dans les tranches d'âge suivants : moins de 25 ans, entre 26 et 49 ans et les plus de 50 ans. Pour le calcul du taux de demandeurs d'emplois, on additionne ces valeurs que l'on divisera par le nombre de personnes dans la population active. "
   ]
  },
  {
   "cell_type": "code",
   "execution_count": 14,
   "metadata": {
    "colab": {
     "base_uri": "https://localhost:8080/",
     "height": 206
    },
    "id": "TSUVdAhpK7Tf",
    "outputId": "bef345cf-9601-47d9-ca68-fcf666ddf0fa"
   },
   "outputs": [],
   "source": [
    "# Conservation des données sur les demandeurs d'emplois de catégorie A, B et C. \n",
    "\n",
    "demandeur_emplois = demandeur_emplois[['CODGEO', 'ABC_25', 'ABC_2649', 'ABC_50']]"
   ]
  },
  {
   "cell_type": "code",
   "execution_count": 15,
   "metadata": {
    "id": "BWEIi154UBPw"
   },
   "outputs": [
    {
     "data": {
      "text/html": [
       "<div>\n",
       "<style scoped>\n",
       "    .dataframe tbody tr th:only-of-type {\n",
       "        vertical-align: middle;\n",
       "    }\n",
       "\n",
       "    .dataframe tbody tr th {\n",
       "        vertical-align: top;\n",
       "    }\n",
       "\n",
       "    .dataframe thead th {\n",
       "        text-align: right;\n",
       "    }\n",
       "</style>\n",
       "<table border=\"1\" class=\"dataframe\">\n",
       "  <thead>\n",
       "    <tr style=\"text-align: right;\">\n",
       "      <th></th>\n",
       "      <th>CODGEO</th>\n",
       "      <th>ABC_25</th>\n",
       "      <th>ABC_2649</th>\n",
       "      <th>ABC_50</th>\n",
       "      <th>ABC_TOT</th>\n",
       "    </tr>\n",
       "  </thead>\n",
       "  <tbody>\n",
       "    <tr>\n",
       "      <th>0</th>\n",
       "      <td>01004</td>\n",
       "      <td>256.0</td>\n",
       "      <td>869.0</td>\n",
       "      <td>332.0</td>\n",
       "      <td>1457.0</td>\n",
       "    </tr>\n",
       "    <tr>\n",
       "      <th>1</th>\n",
       "      <td>01031</td>\n",
       "      <td>68.0</td>\n",
       "      <td>234.0</td>\n",
       "      <td>73.0</td>\n",
       "      <td>375.0</td>\n",
       "    </tr>\n",
       "    <tr>\n",
       "      <th>2</th>\n",
       "      <td>01033</td>\n",
       "      <td>210.0</td>\n",
       "      <td>903.0</td>\n",
       "      <td>357.0</td>\n",
       "      <td>1470.0</td>\n",
       "    </tr>\n",
       "    <tr>\n",
       "      <th>3</th>\n",
       "      <td>01034</td>\n",
       "      <td>147.0</td>\n",
       "      <td>444.0</td>\n",
       "      <td>193.0</td>\n",
       "      <td>784.0</td>\n",
       "    </tr>\n",
       "    <tr>\n",
       "      <th>4</th>\n",
       "      <td>01053</td>\n",
       "      <td>678.0</td>\n",
       "      <td>2441.0</td>\n",
       "      <td>1029.0</td>\n",
       "      <td>4148.0</td>\n",
       "    </tr>\n",
       "  </tbody>\n",
       "</table>\n",
       "</div>"
      ],
      "text/plain": [
       "  CODGEO  ABC_25  ABC_2649  ABC_50  ABC_TOT\n",
       "0  01004   256.0     869.0   332.0   1457.0\n",
       "1  01031    68.0     234.0    73.0    375.0\n",
       "2  01033   210.0     903.0   357.0   1470.0\n",
       "3  01034   147.0     444.0   193.0    784.0\n",
       "4  01053   678.0    2441.0  1029.0   4148.0"
      ]
     },
     "execution_count": 15,
     "metadata": {},
     "output_type": "execute_result"
    }
   ],
   "source": [
    "# On calcule le nombre total de demandeurs d'emplois en additionnant les valeurs des tranches '25 et -', '26-49' et '50 et +'\n",
    "\n",
    "demandeur_emplois['ABC_TOT'] = demandeur_emplois['ABC_25'] + demandeur_emplois['ABC_2649'] + demandeur_emplois['ABC_50']\n",
    "demandeur_emplois = demandeur_emplois.sort_values('CODGEO')\n",
    "demandeur_emplois.head()"
   ]
  },
  {
   "cell_type": "markdown",
   "metadata": {
    "id": "_BMBCcX9Ldq3"
   },
   "source": [
    "## 3. Personnes peu ou pas diplômés"
   ]
  },
  {
   "cell_type": "markdown",
   "metadata": {
    "id": "yNi8KuW3LsEJ"
   },
   "source": [
    "Les données utilisées proviennent du site de l'INSEE (https://www.insee.fr/fr/statistiques/4516086?sommaire=4516089). Les données proviennent de 2017 avec le découpage en vigueur au 1er janvier 2020."
   ]
  },
  {
   "cell_type": "code",
   "execution_count": 16,
   "metadata": {
    "colab": {
     "base_uri": "https://localhost:8080/",
     "height": 73
    },
    "id": "Z2GiVutWU-PW",
    "outputId": "7faea6fa-df48-42c3-c749-acdb9b5d1cbc"
   },
   "outputs": [
    {
     "name": "stderr",
     "output_type": "stream",
     "text": [
      "C:\\Users\\cecil\\AppData\\Roaming\\Python\\Python38\\site-packages\\IPython\\core\\interactiveshell.py:3062: DtypeWarning: Columns (0) have mixed types.Specify dtype option on import or set low_memory=False.\n",
      "  has_raised = await self.run_ast_nodes(code_ast.body, cell_name,\n"
     ]
    }
   ],
   "source": [
    "# Chargement des données en lien avec la scolarité dans toutes les communes\n",
    "scol = pd.read_csv(f'{pathfile_raw}/base-cc-diplomes-formation-2017.CSV', sep=\";\")\n",
    "scol2 = pd.read_csv(f'{pathfile_raw}/base-cc-diplomes-formation-2017-COM.CSV', sep=\";\")"
   ]
  },
  {
   "cell_type": "code",
   "execution_count": 17,
   "metadata": {
    "id": "48AjKD1eKL2t"
   },
   "outputs": [],
   "source": [
    "# Création d'un df unique avec les données de Mayotte incluses\n",
    "scol = scol.append(scol2).reset_index()"
   ]
  },
  {
   "cell_type": "markdown",
   "metadata": {
    "id": "6nhk-Uv_MpK0"
   },
   "source": [
    "Le taux de personnes non scolarisés peu ou pas diplômés est calculé sur le nombre de personnes de plus de 15 ans non scolarisés avec un diplôme minimum divisé par la population totale de plus de 15 ans. "
   ]
  },
  {
   "cell_type": "code",
   "execution_count": 18,
   "metadata": {
    "colab": {
     "base_uri": "https://localhost:8080/",
     "height": 226
    },
    "id": "xNa4b2KNK7Tm",
    "outputId": "2b39cf77-5ece-4147-bef0-39a56d02ff1f"
   },
   "outputs": [],
   "source": [
    "# On sélectionne les colonnes nécessaires à la suite de notre calcul\n",
    "scol = scol[['CODGEO', 'P17_POP1517', 'P17_POP1824', 'P17_POP2529', 'P17_POP30P', 'P17_NSCOL15P', 'P17_NSCOL15P_DIPLMIN','P17_NSCOL15P_BEPC','P17_NSCOL15P_CAPBEP' ,'P17_NSCOL15P_BAC']]"
   ]
  },
  {
   "cell_type": "code",
   "execution_count": 19,
   "metadata": {
    "id": "Q0dwm0OjUMft"
   },
   "outputs": [],
   "source": [
    "# On calcule la population totale des individus de 15 ans et plus\n",
    "# On additionne les tranches d'âges '15-17', '18-24', '25-29' et '30 et +'\n",
    "\n",
    "scol['TOT_POP15P'] = scol['P17_POP1517'] + scol['P17_POP1824'] + scol['P17_POP2529'] + scol['P17_POP30P']"
   ]
  },
  {
   "cell_type": "code",
   "execution_count": 20,
   "metadata": {},
   "outputs": [],
   "source": [
    "# On calcule ensuite la population totale d'individus de plus de 15 ans non-scolarisés\n",
    "# On additionne les individus de plus de 15 ans et + non-scolarisés avec un diplôme minimum ou un BEPC ou un CAP/BEP\n",
    "\n",
    "scol['TOT_NSCOL15P'] = scol['P17_NSCOL15P_DIPLMIN'] + scol['P17_NSCOL15P_BEPC'] + scol['P17_NSCOL15P_CAPBEP']"
   ]
  },
  {
   "cell_type": "code",
   "execution_count": 21,
   "metadata": {},
   "outputs": [],
   "source": [
    "# On calcule le taux de personnes non-scolarisés peu ou pas diplômés\n",
    "# On divise le nombre total de non-scolarisés par le nombre total de personnes de plus de 15 ans\n",
    "\n",
    "scol['TX_NSCOL15P'] = (scol['TOT_NSCOL15P']/scol['TOT_POP15P']) * 100"
   ]
  },
  {
   "cell_type": "code",
   "execution_count": 22,
   "metadata": {},
   "outputs": [
    {
     "data": {
      "text/html": [
       "<div>\n",
       "<style scoped>\n",
       "    .dataframe tbody tr th:only-of-type {\n",
       "        vertical-align: middle;\n",
       "    }\n",
       "\n",
       "    .dataframe tbody tr th {\n",
       "        vertical-align: top;\n",
       "    }\n",
       "\n",
       "    .dataframe thead th {\n",
       "        text-align: right;\n",
       "    }\n",
       "</style>\n",
       "<table border=\"1\" class=\"dataframe\">\n",
       "  <thead>\n",
       "    <tr style=\"text-align: right;\">\n",
       "      <th></th>\n",
       "      <th>CODGEO</th>\n",
       "      <th>P17_POP1517</th>\n",
       "      <th>P17_POP1824</th>\n",
       "      <th>P17_POP2529</th>\n",
       "      <th>P17_POP30P</th>\n",
       "      <th>P17_NSCOL15P</th>\n",
       "      <th>P17_NSCOL15P_DIPLMIN</th>\n",
       "      <th>P17_NSCOL15P_BEPC</th>\n",
       "      <th>P17_NSCOL15P_CAPBEP</th>\n",
       "      <th>P17_NSCOL15P_BAC</th>\n",
       "      <th>TOT_POP15P</th>\n",
       "      <th>TOT_NSCOL15P</th>\n",
       "      <th>TX_NSCOL15P</th>\n",
       "    </tr>\n",
       "  </thead>\n",
       "  <tbody>\n",
       "    <tr>\n",
       "      <th>0</th>\n",
       "      <td>1001</td>\n",
       "      <td>33.181349</td>\n",
       "      <td>36.308136</td>\n",
       "      <td>33.410552</td>\n",
       "      <td>511.545180</td>\n",
       "      <td>558.105307</td>\n",
       "      <td>107.168650</td>\n",
       "      <td>26.381412</td>\n",
       "      <td>186.909421</td>\n",
       "      <td>95.095609</td>\n",
       "      <td>614.445217</td>\n",
       "      <td>320.459483</td>\n",
       "      <td>52.154281</td>\n",
       "    </tr>\n",
       "    <tr>\n",
       "      <th>1</th>\n",
       "      <td>1002</td>\n",
       "      <td>7.144033</td>\n",
       "      <td>8.164609</td>\n",
       "      <td>13.267490</td>\n",
       "      <td>163.292181</td>\n",
       "      <td>178.600823</td>\n",
       "      <td>22.452675</td>\n",
       "      <td>7.144033</td>\n",
       "      <td>47.967078</td>\n",
       "      <td>38.781893</td>\n",
       "      <td>191.868313</td>\n",
       "      <td>77.563786</td>\n",
       "      <td>40.425532</td>\n",
       "    </tr>\n",
       "    <tr>\n",
       "      <th>2</th>\n",
       "      <td>1004</td>\n",
       "      <td>593.927796</td>\n",
       "      <td>1285.707165</td>\n",
       "      <td>1108.451063</td>\n",
       "      <td>8321.381280</td>\n",
       "      <td>10149.026196</td>\n",
       "      <td>2207.010696</td>\n",
       "      <td>588.550154</td>\n",
       "      <td>2799.751384</td>\n",
       "      <td>1938.190106</td>\n",
       "      <td>11309.467304</td>\n",
       "      <td>5595.312233</td>\n",
       "      <td>49.474587</td>\n",
       "    </tr>\n",
       "    <tr>\n",
       "      <th>3</th>\n",
       "      <td>1005</td>\n",
       "      <td>59.940064</td>\n",
       "      <td>126.396133</td>\n",
       "      <td>73.152717</td>\n",
       "      <td>1085.498171</td>\n",
       "      <td>1234.359736</td>\n",
       "      <td>294.111609</td>\n",
       "      <td>55.410401</td>\n",
       "      <td>371.050484</td>\n",
       "      <td>221.492025</td>\n",
       "      <td>1344.987086</td>\n",
       "      <td>720.572494</td>\n",
       "      <td>53.574678</td>\n",
       "    </tr>\n",
       "    <tr>\n",
       "      <th>4</th>\n",
       "      <td>1006</td>\n",
       "      <td>3.027273</td>\n",
       "      <td>7.063636</td>\n",
       "      <td>6.054545</td>\n",
       "      <td>82.745455</td>\n",
       "      <td>95.863636</td>\n",
       "      <td>17.154545</td>\n",
       "      <td>4.036364</td>\n",
       "      <td>31.281818</td>\n",
       "      <td>30.272727</td>\n",
       "      <td>98.890909</td>\n",
       "      <td>52.472727</td>\n",
       "      <td>53.061224</td>\n",
       "    </tr>\n",
       "  </tbody>\n",
       "</table>\n",
       "</div>"
      ],
      "text/plain": [
       "  CODGEO  P17_POP1517  P17_POP1824  P17_POP2529   P17_POP30P  P17_NSCOL15P  \\\n",
       "0   1001    33.181349    36.308136    33.410552   511.545180    558.105307   \n",
       "1   1002     7.144033     8.164609    13.267490   163.292181    178.600823   \n",
       "2   1004   593.927796  1285.707165  1108.451063  8321.381280  10149.026196   \n",
       "3   1005    59.940064   126.396133    73.152717  1085.498171   1234.359736   \n",
       "4   1006     3.027273     7.063636     6.054545    82.745455     95.863636   \n",
       "\n",
       "   P17_NSCOL15P_DIPLMIN  P17_NSCOL15P_BEPC  P17_NSCOL15P_CAPBEP  \\\n",
       "0            107.168650          26.381412           186.909421   \n",
       "1             22.452675           7.144033            47.967078   \n",
       "2           2207.010696         588.550154          2799.751384   \n",
       "3            294.111609          55.410401           371.050484   \n",
       "4             17.154545           4.036364            31.281818   \n",
       "\n",
       "   P17_NSCOL15P_BAC    TOT_POP15P  TOT_NSCOL15P  TX_NSCOL15P  \n",
       "0         95.095609    614.445217    320.459483    52.154281  \n",
       "1         38.781893    191.868313     77.563786    40.425532  \n",
       "2       1938.190106  11309.467304   5595.312233    49.474587  \n",
       "3        221.492025   1344.987086    720.572494    53.574678  \n",
       "4         30.272727     98.890909     52.472727    53.061224  "
      ]
     },
     "execution_count": 22,
     "metadata": {},
     "output_type": "execute_result"
    }
   ],
   "source": [
    "scol.head()"
   ]
  },
  {
   "cell_type": "markdown",
   "metadata": {
    "id": "0cp1srFoM7WB"
   },
   "source": [
    "## 4. Assemblage des fichiers"
   ]
  },
  {
   "cell_type": "markdown",
   "metadata": {
    "id": "r4P6ZzXXM-9f"
   },
   "source": [
    "On effectue une jointure entre le fichier contenant les informations démographiques et celles des demandeurs d'emplois en utilisant le \"CODGEO\" de chacune de nos tables. "
   ]
  },
  {
   "cell_type": "code",
   "execution_count": 23,
   "metadata": {
    "colab": {
     "base_uri": "https://localhost:8080/",
     "height": 226
    },
    "id": "OR69L1p9KP6g",
    "outputId": "658af3ed-24c3-4766-97db-e8179f870b8b"
   },
   "outputs": [
    {
     "data": {
      "text/html": [
       "<div>\n",
       "<style scoped>\n",
       "    .dataframe tbody tr th:only-of-type {\n",
       "        vertical-align: middle;\n",
       "    }\n",
       "\n",
       "    .dataframe tbody tr th {\n",
       "        vertical-align: top;\n",
       "    }\n",
       "\n",
       "    .dataframe thead th {\n",
       "        text-align: right;\n",
       "    }\n",
       "</style>\n",
       "<table border=\"1\" class=\"dataframe\">\n",
       "  <thead>\n",
       "    <tr style=\"text-align: right;\">\n",
       "      <th></th>\n",
       "      <th>CODGEO</th>\n",
       "      <th>C17_MEN</th>\n",
       "      <th>C17_MENPSEUL</th>\n",
       "      <th>C17_MENFAMMONO</th>\n",
       "      <th>P17_POP15P</th>\n",
       "      <th>P17_POP6579</th>\n",
       "      <th>P17_POP80P</th>\n",
       "      <th>P17_POP1519</th>\n",
       "      <th>P17_POP2024</th>\n",
       "      <th>TX_MENSEUL</th>\n",
       "      <th>TX_FAMMONO</th>\n",
       "      <th>TX_65ETPLUS</th>\n",
       "      <th>TX_25ETMOINS</th>\n",
       "      <th>ABC_25</th>\n",
       "      <th>ABC_2649</th>\n",
       "      <th>ABC_50</th>\n",
       "      <th>ABC_TOT</th>\n",
       "    </tr>\n",
       "  </thead>\n",
       "  <tbody>\n",
       "    <tr>\n",
       "      <th>0</th>\n",
       "      <td>1001</td>\n",
       "      <td>315.154412</td>\n",
       "      <td>71.929625</td>\n",
       "      <td>15.226698</td>\n",
       "      <td>614.445217</td>\n",
       "      <td>113.392959</td>\n",
       "      <td>32.717419</td>\n",
       "      <td>51.313236</td>\n",
       "      <td>18.176249</td>\n",
       "      <td>22.823614</td>\n",
       "      <td>4.831504</td>\n",
       "      <td>23.779236</td>\n",
       "      <td>11.309305</td>\n",
       "      <td>NaN</td>\n",
       "      <td>NaN</td>\n",
       "      <td>NaN</td>\n",
       "      <td>NaN</td>\n",
       "    </tr>\n",
       "    <tr>\n",
       "      <th>1</th>\n",
       "      <td>1002</td>\n",
       "      <td>107.160494</td>\n",
       "      <td>30.617284</td>\n",
       "      <td>5.102881</td>\n",
       "      <td>191.868313</td>\n",
       "      <td>33.679012</td>\n",
       "      <td>11.226337</td>\n",
       "      <td>11.226337</td>\n",
       "      <td>4.082305</td>\n",
       "      <td>28.571429</td>\n",
       "      <td>4.761905</td>\n",
       "      <td>23.404255</td>\n",
       "      <td>7.978723</td>\n",
       "      <td>NaN</td>\n",
       "      <td>NaN</td>\n",
       "      <td>NaN</td>\n",
       "      <td>NaN</td>\n",
       "    </tr>\n",
       "    <tr>\n",
       "      <th>2</th>\n",
       "      <td>1004</td>\n",
       "      <td>6405.910326</td>\n",
       "      <td>2659.428492</td>\n",
       "      <td>654.433164</td>\n",
       "      <td>11309.467304</td>\n",
       "      <td>1586.176459</td>\n",
       "      <td>758.718840</td>\n",
       "      <td>1036.882405</td>\n",
       "      <td>842.752556</td>\n",
       "      <td>41.515231</td>\n",
       "      <td>10.216084</td>\n",
       "      <td>20.733915</td>\n",
       "      <td>16.620013</td>\n",
       "      <td>NaN</td>\n",
       "      <td>NaN</td>\n",
       "      <td>NaN</td>\n",
       "      <td>NaN</td>\n",
       "    </tr>\n",
       "    <tr>\n",
       "      <th>3</th>\n",
       "      <td>1005</td>\n",
       "      <td>636.197591</td>\n",
       "      <td>134.086315</td>\n",
       "      <td>42.001657</td>\n",
       "      <td>1344.987086</td>\n",
       "      <td>200.447239</td>\n",
       "      <td>61.669791</td>\n",
       "      <td>99.149469</td>\n",
       "      <td>87.186728</td>\n",
       "      <td>21.076206</td>\n",
       "      <td>6.601983</td>\n",
       "      <td>19.488442</td>\n",
       "      <td>13.854125</td>\n",
       "      <td>NaN</td>\n",
       "      <td>NaN</td>\n",
       "      <td>NaN</td>\n",
       "      <td>NaN</td>\n",
       "    </tr>\n",
       "    <tr>\n",
       "      <th>4</th>\n",
       "      <td>1006</td>\n",
       "      <td>55.500000</td>\n",
       "      <td>20.181818</td>\n",
       "      <td>5.045455</td>\n",
       "      <td>98.890909</td>\n",
       "      <td>18.163636</td>\n",
       "      <td>8.072727</td>\n",
       "      <td>3.027273</td>\n",
       "      <td>7.063636</td>\n",
       "      <td>36.363636</td>\n",
       "      <td>9.090909</td>\n",
       "      <td>26.530612</td>\n",
       "      <td>10.204082</td>\n",
       "      <td>NaN</td>\n",
       "      <td>NaN</td>\n",
       "      <td>NaN</td>\n",
       "      <td>NaN</td>\n",
       "    </tr>\n",
       "  </tbody>\n",
       "</table>\n",
       "</div>"
      ],
      "text/plain": [
       "  CODGEO      C17_MEN  C17_MENPSEUL  C17_MENFAMMONO    P17_POP15P  \\\n",
       "0   1001   315.154412     71.929625       15.226698    614.445217   \n",
       "1   1002   107.160494     30.617284        5.102881    191.868313   \n",
       "2   1004  6405.910326   2659.428492      654.433164  11309.467304   \n",
       "3   1005   636.197591    134.086315       42.001657   1344.987086   \n",
       "4   1006    55.500000     20.181818        5.045455     98.890909   \n",
       "\n",
       "   P17_POP6579  P17_POP80P  P17_POP1519  P17_POP2024  TX_MENSEUL  TX_FAMMONO  \\\n",
       "0   113.392959   32.717419    51.313236    18.176249   22.823614    4.831504   \n",
       "1    33.679012   11.226337    11.226337     4.082305   28.571429    4.761905   \n",
       "2  1586.176459  758.718840  1036.882405   842.752556   41.515231   10.216084   \n",
       "3   200.447239   61.669791    99.149469    87.186728   21.076206    6.601983   \n",
       "4    18.163636    8.072727     3.027273     7.063636   36.363636    9.090909   \n",
       "\n",
       "   TX_65ETPLUS  TX_25ETMOINS  ABC_25  ABC_2649  ABC_50  ABC_TOT  \n",
       "0    23.779236     11.309305     NaN       NaN     NaN      NaN  \n",
       "1    23.404255      7.978723     NaN       NaN     NaN      NaN  \n",
       "2    20.733915     16.620013     NaN       NaN     NaN      NaN  \n",
       "3    19.488442     13.854125     NaN       NaN     NaN      NaN  \n",
       "4    26.530612     10.204082     NaN       NaN     NaN      NaN  "
      ]
     },
     "execution_count": 23,
     "metadata": {},
     "output_type": "execute_result"
    }
   ],
   "source": [
    "# On effectue une jointure entre deux de nos dataframes\n",
    "\n",
    "df1 = pd.merge(compo_menage, demandeur_emplois, on = ['CODGEO'], how='outer')\n",
    "df1.head()"
   ]
  },
  {
   "cell_type": "code",
   "execution_count": 24,
   "metadata": {
    "colab": {
     "base_uri": "https://localhost:8080/",
     "height": 206
    },
    "id": "fzEsrO2vKjij",
    "outputId": "50281948-351c-40f6-a40f-e49745d25113"
   },
   "outputs": [
    {
     "data": {
      "text/html": [
       "<div>\n",
       "<style scoped>\n",
       "    .dataframe tbody tr th:only-of-type {\n",
       "        vertical-align: middle;\n",
       "    }\n",
       "\n",
       "    .dataframe tbody tr th {\n",
       "        vertical-align: top;\n",
       "    }\n",
       "\n",
       "    .dataframe thead th {\n",
       "        text-align: right;\n",
       "    }\n",
       "</style>\n",
       "<table border=\"1\" class=\"dataframe\">\n",
       "  <thead>\n",
       "    <tr style=\"text-align: right;\">\n",
       "      <th></th>\n",
       "      <th>CODGEO</th>\n",
       "      <th>TX_MENSEUL</th>\n",
       "      <th>TX_FAMMONO</th>\n",
       "      <th>TX_65ETPLUS</th>\n",
       "      <th>TX_25ETMOINS</th>\n",
       "      <th>ABC_TOT</th>\n",
       "    </tr>\n",
       "  </thead>\n",
       "  <tbody>\n",
       "    <tr>\n",
       "      <th>0</th>\n",
       "      <td>1001</td>\n",
       "      <td>22.823614</td>\n",
       "      <td>4.831504</td>\n",
       "      <td>23.779236</td>\n",
       "      <td>11.309305</td>\n",
       "      <td>NaN</td>\n",
       "    </tr>\n",
       "    <tr>\n",
       "      <th>1</th>\n",
       "      <td>1002</td>\n",
       "      <td>28.571429</td>\n",
       "      <td>4.761905</td>\n",
       "      <td>23.404255</td>\n",
       "      <td>7.978723</td>\n",
       "      <td>NaN</td>\n",
       "    </tr>\n",
       "    <tr>\n",
       "      <th>2</th>\n",
       "      <td>1004</td>\n",
       "      <td>41.515231</td>\n",
       "      <td>10.216084</td>\n",
       "      <td>20.733915</td>\n",
       "      <td>16.620013</td>\n",
       "      <td>NaN</td>\n",
       "    </tr>\n",
       "    <tr>\n",
       "      <th>3</th>\n",
       "      <td>1005</td>\n",
       "      <td>21.076206</td>\n",
       "      <td>6.601983</td>\n",
       "      <td>19.488442</td>\n",
       "      <td>13.854125</td>\n",
       "      <td>NaN</td>\n",
       "    </tr>\n",
       "    <tr>\n",
       "      <th>4</th>\n",
       "      <td>1006</td>\n",
       "      <td>36.363636</td>\n",
       "      <td>9.090909</td>\n",
       "      <td>26.530612</td>\n",
       "      <td>10.204082</td>\n",
       "      <td>NaN</td>\n",
       "    </tr>\n",
       "  </tbody>\n",
       "</table>\n",
       "</div>"
      ],
      "text/plain": [
       "  CODGEO  TX_MENSEUL  TX_FAMMONO  TX_65ETPLUS  TX_25ETMOINS  ABC_TOT\n",
       "0   1001   22.823614    4.831504    23.779236     11.309305      NaN\n",
       "1   1002   28.571429    4.761905    23.404255      7.978723      NaN\n",
       "2   1004   41.515231   10.216084    20.733915     16.620013      NaN\n",
       "3   1005   21.076206    6.601983    19.488442     13.854125      NaN\n",
       "4   1006   36.363636    9.090909    26.530612     10.204082      NaN"
      ]
     },
     "execution_count": 24,
     "metadata": {},
     "output_type": "execute_result"
    }
   ],
   "source": [
    "# On supprime les colonnes qui ont servi à construire les variables\n",
    "\n",
    "df1 = df1.drop(columns=['C17_MEN', 'C17_MENPSEUL', 'C17_MENFAMMONO', 'P17_POP15P','P17_POP6579', 'P17_POP80P','ABC_25', 'ABC_2649', 'ABC_50', 'P17_POP1519', 'P17_POP2024'])\n",
    "df1.head()"
   ]
  },
  {
   "cell_type": "code",
   "execution_count": 25,
   "metadata": {
    "id": "GCIN0rAs10AX"
   },
   "outputs": [],
   "source": [
    "# On supprime les dataframes que l'on a joint\n",
    "\n",
    "del compo_menage\n",
    "del demandeur_emplois"
   ]
  },
  {
   "cell_type": "markdown",
   "metadata": {
    "id": "sXU6lobRNRY5"
   },
   "source": [
    "On effectue une jointure entre le fichier contenant les informations sur la population non scolarisés et celles de la population active en utilisant le \"CODGEO\" de chacune de nos tables. "
   ]
  },
  {
   "cell_type": "code",
   "execution_count": 26,
   "metadata": {
    "colab": {
     "base_uri": "https://localhost:8080/",
     "height": 226
    },
    "id": "Q83rVIdRKXVx",
    "outputId": "3777395d-d4e1-47a6-9e9c-df3004fe2116"
   },
   "outputs": [
    {
     "data": {
      "text/html": [
       "<div>\n",
       "<style scoped>\n",
       "    .dataframe tbody tr th:only-of-type {\n",
       "        vertical-align: middle;\n",
       "    }\n",
       "\n",
       "    .dataframe tbody tr th {\n",
       "        vertical-align: top;\n",
       "    }\n",
       "\n",
       "    .dataframe thead th {\n",
       "        text-align: right;\n",
       "    }\n",
       "</style>\n",
       "<table border=\"1\" class=\"dataframe\">\n",
       "  <thead>\n",
       "    <tr style=\"text-align: right;\">\n",
       "      <th></th>\n",
       "      <th>CODGEO</th>\n",
       "      <th>P17_POP1517</th>\n",
       "      <th>P17_POP1824</th>\n",
       "      <th>P17_POP2529</th>\n",
       "      <th>P17_POP30P</th>\n",
       "      <th>P17_NSCOL15P</th>\n",
       "      <th>P17_NSCOL15P_DIPLMIN</th>\n",
       "      <th>P17_NSCOL15P_BEPC</th>\n",
       "      <th>P17_NSCOL15P_CAPBEP</th>\n",
       "      <th>P17_NSCOL15P_BAC</th>\n",
       "      <th>TOT_POP15P</th>\n",
       "      <th>TOT_NSCOL15P</th>\n",
       "      <th>TX_NSCOL15P</th>\n",
       "      <th>P16_ACT1564</th>\n",
       "    </tr>\n",
       "  </thead>\n",
       "  <tbody>\n",
       "    <tr>\n",
       "      <th>0</th>\n",
       "      <td>1001</td>\n",
       "      <td>33.181349</td>\n",
       "      <td>36.308136</td>\n",
       "      <td>33.410552</td>\n",
       "      <td>511.545180</td>\n",
       "      <td>558.105307</td>\n",
       "      <td>107.168650</td>\n",
       "      <td>26.381412</td>\n",
       "      <td>186.909421</td>\n",
       "      <td>95.095609</td>\n",
       "      <td>614.445217</td>\n",
       "      <td>320.459483</td>\n",
       "      <td>52.154281</td>\n",
       "      <td>376.000000</td>\n",
       "    </tr>\n",
       "    <tr>\n",
       "      <th>1</th>\n",
       "      <td>1002</td>\n",
       "      <td>7.144033</td>\n",
       "      <td>8.164609</td>\n",
       "      <td>13.267490</td>\n",
       "      <td>163.292181</td>\n",
       "      <td>178.600823</td>\n",
       "      <td>22.452675</td>\n",
       "      <td>7.144033</td>\n",
       "      <td>47.967078</td>\n",
       "      <td>38.781893</td>\n",
       "      <td>191.868313</td>\n",
       "      <td>77.563786</td>\n",
       "      <td>40.425532</td>\n",
       "      <td>123.000000</td>\n",
       "    </tr>\n",
       "    <tr>\n",
       "      <th>2</th>\n",
       "      <td>1004</td>\n",
       "      <td>593.927796</td>\n",
       "      <td>1285.707165</td>\n",
       "      <td>1108.451063</td>\n",
       "      <td>8321.381280</td>\n",
       "      <td>10149.026196</td>\n",
       "      <td>2207.010696</td>\n",
       "      <td>588.550154</td>\n",
       "      <td>2799.751384</td>\n",
       "      <td>1938.190106</td>\n",
       "      <td>11309.467304</td>\n",
       "      <td>5595.312233</td>\n",
       "      <td>49.474587</td>\n",
       "      <td>6697.333122</td>\n",
       "    </tr>\n",
       "    <tr>\n",
       "      <th>3</th>\n",
       "      <td>1005</td>\n",
       "      <td>59.940064</td>\n",
       "      <td>126.396133</td>\n",
       "      <td>73.152717</td>\n",
       "      <td>1085.498171</td>\n",
       "      <td>1234.359736</td>\n",
       "      <td>294.111609</td>\n",
       "      <td>55.410401</td>\n",
       "      <td>371.050484</td>\n",
       "      <td>221.492025</td>\n",
       "      <td>1344.987086</td>\n",
       "      <td>720.572494</td>\n",
       "      <td>53.574678</td>\n",
       "      <td>864.845592</td>\n",
       "    </tr>\n",
       "    <tr>\n",
       "      <th>4</th>\n",
       "      <td>1006</td>\n",
       "      <td>3.027273</td>\n",
       "      <td>7.063636</td>\n",
       "      <td>6.054545</td>\n",
       "      <td>82.745455</td>\n",
       "      <td>95.863636</td>\n",
       "      <td>17.154545</td>\n",
       "      <td>4.036364</td>\n",
       "      <td>31.281818</td>\n",
       "      <td>30.272727</td>\n",
       "      <td>98.890909</td>\n",
       "      <td>52.472727</td>\n",
       "      <td>53.061224</td>\n",
       "      <td>58.000000</td>\n",
       "    </tr>\n",
       "  </tbody>\n",
       "</table>\n",
       "</div>"
      ],
      "text/plain": [
       "  CODGEO  P17_POP1517  P17_POP1824  P17_POP2529   P17_POP30P  P17_NSCOL15P  \\\n",
       "0   1001    33.181349    36.308136    33.410552   511.545180    558.105307   \n",
       "1   1002     7.144033     8.164609    13.267490   163.292181    178.600823   \n",
       "2   1004   593.927796  1285.707165  1108.451063  8321.381280  10149.026196   \n",
       "3   1005    59.940064   126.396133    73.152717  1085.498171   1234.359736   \n",
       "4   1006     3.027273     7.063636     6.054545    82.745455     95.863636   \n",
       "\n",
       "   P17_NSCOL15P_DIPLMIN  P17_NSCOL15P_BEPC  P17_NSCOL15P_CAPBEP  \\\n",
       "0            107.168650          26.381412           186.909421   \n",
       "1             22.452675           7.144033            47.967078   \n",
       "2           2207.010696         588.550154          2799.751384   \n",
       "3            294.111609          55.410401           371.050484   \n",
       "4             17.154545           4.036364            31.281818   \n",
       "\n",
       "   P17_NSCOL15P_BAC    TOT_POP15P  TOT_NSCOL15P  TX_NSCOL15P  P16_ACT1564  \n",
       "0         95.095609    614.445217    320.459483    52.154281   376.000000  \n",
       "1         38.781893    191.868313     77.563786    40.425532   123.000000  \n",
       "2       1938.190106  11309.467304   5595.312233    49.474587  6697.333122  \n",
       "3        221.492025   1344.987086    720.572494    53.574678   864.845592  \n",
       "4         30.272727     98.890909     52.472727    53.061224    58.000000  "
      ]
     },
     "execution_count": 26,
     "metadata": {},
     "output_type": "execute_result"
    }
   ],
   "source": [
    "# On effectue une deuxième jointure avec les deux dataframes restants\n",
    "\n",
    "df2 = pd.merge(scol, pop_active, on = 'CODGEO', how='outer')\n",
    "df2.head()"
   ]
  },
  {
   "cell_type": "code",
   "execution_count": 27,
   "metadata": {
    "colab": {
     "base_uri": "https://localhost:8080/",
     "height": 206
    },
    "id": "QVmb5Eo2KwvL",
    "outputId": "07b551b7-d821-4835-938c-49250d7bfeaa"
   },
   "outputs": [
    {
     "data": {
      "text/html": [
       "<div>\n",
       "<style scoped>\n",
       "    .dataframe tbody tr th:only-of-type {\n",
       "        vertical-align: middle;\n",
       "    }\n",
       "\n",
       "    .dataframe tbody tr th {\n",
       "        vertical-align: top;\n",
       "    }\n",
       "\n",
       "    .dataframe thead th {\n",
       "        text-align: right;\n",
       "    }\n",
       "</style>\n",
       "<table border=\"1\" class=\"dataframe\">\n",
       "  <thead>\n",
       "    <tr style=\"text-align: right;\">\n",
       "      <th></th>\n",
       "      <th>CODGEO</th>\n",
       "      <th>P17_NSCOL15P</th>\n",
       "      <th>P17_NSCOL15P_DIPLMIN</th>\n",
       "      <th>TOT_POP15P</th>\n",
       "      <th>TOT_NSCOL15P</th>\n",
       "      <th>TX_NSCOL15P</th>\n",
       "      <th>P16_ACT1564</th>\n",
       "    </tr>\n",
       "  </thead>\n",
       "  <tbody>\n",
       "    <tr>\n",
       "      <th>0</th>\n",
       "      <td>1001</td>\n",
       "      <td>558.105307</td>\n",
       "      <td>107.168650</td>\n",
       "      <td>614.445217</td>\n",
       "      <td>320.459483</td>\n",
       "      <td>52.154281</td>\n",
       "      <td>376.000000</td>\n",
       "    </tr>\n",
       "    <tr>\n",
       "      <th>1</th>\n",
       "      <td>1002</td>\n",
       "      <td>178.600823</td>\n",
       "      <td>22.452675</td>\n",
       "      <td>191.868313</td>\n",
       "      <td>77.563786</td>\n",
       "      <td>40.425532</td>\n",
       "      <td>123.000000</td>\n",
       "    </tr>\n",
       "    <tr>\n",
       "      <th>2</th>\n",
       "      <td>1004</td>\n",
       "      <td>10149.026196</td>\n",
       "      <td>2207.010696</td>\n",
       "      <td>11309.467304</td>\n",
       "      <td>5595.312233</td>\n",
       "      <td>49.474587</td>\n",
       "      <td>6697.333122</td>\n",
       "    </tr>\n",
       "    <tr>\n",
       "      <th>3</th>\n",
       "      <td>1005</td>\n",
       "      <td>1234.359736</td>\n",
       "      <td>294.111609</td>\n",
       "      <td>1344.987086</td>\n",
       "      <td>720.572494</td>\n",
       "      <td>53.574678</td>\n",
       "      <td>864.845592</td>\n",
       "    </tr>\n",
       "    <tr>\n",
       "      <th>4</th>\n",
       "      <td>1006</td>\n",
       "      <td>95.863636</td>\n",
       "      <td>17.154545</td>\n",
       "      <td>98.890909</td>\n",
       "      <td>52.472727</td>\n",
       "      <td>53.061224</td>\n",
       "      <td>58.000000</td>\n",
       "    </tr>\n",
       "  </tbody>\n",
       "</table>\n",
       "</div>"
      ],
      "text/plain": [
       "  CODGEO  P17_NSCOL15P  P17_NSCOL15P_DIPLMIN    TOT_POP15P  TOT_NSCOL15P  \\\n",
       "0   1001    558.105307            107.168650    614.445217    320.459483   \n",
       "1   1002    178.600823             22.452675    191.868313     77.563786   \n",
       "2   1004  10149.026196           2207.010696  11309.467304   5595.312233   \n",
       "3   1005   1234.359736            294.111609   1344.987086    720.572494   \n",
       "4   1006     95.863636             17.154545     98.890909     52.472727   \n",
       "\n",
       "   TX_NSCOL15P  P16_ACT1564  \n",
       "0    52.154281   376.000000  \n",
       "1    40.425532   123.000000  \n",
       "2    49.474587  6697.333122  \n",
       "3    53.574678   864.845592  \n",
       "4    53.061224    58.000000  "
      ]
     },
     "execution_count": 27,
     "metadata": {},
     "output_type": "execute_result"
    }
   ],
   "source": [
    "# On supprime les colonnes qui ont servi à construire les différentes variables\n",
    "\n",
    "df2 = df2.drop(columns=['P17_POP1517', 'P17_POP1824', 'P17_POP2529','P17_POP30P', 'P17_NSCOL15P_BEPC', 'P17_NSCOL15P_CAPBEP', 'P17_NSCOL15P_BAC'])\n",
    "df2.head()"
   ]
  },
  {
   "cell_type": "code",
   "execution_count": 28,
   "metadata": {
    "colab": {
     "base_uri": "https://localhost:8080/",
     "height": 206
    },
    "id": "W5Ej2gb9hVBl",
    "outputId": "13a545f5-ba5a-4b65-c060-ec9f65e74543"
   },
   "outputs": [
    {
     "data": {
      "text/html": [
       "<div>\n",
       "<style scoped>\n",
       "    .dataframe tbody tr th:only-of-type {\n",
       "        vertical-align: middle;\n",
       "    }\n",
       "\n",
       "    .dataframe tbody tr th {\n",
       "        vertical-align: top;\n",
       "    }\n",
       "\n",
       "    .dataframe thead th {\n",
       "        text-align: right;\n",
       "    }\n",
       "</style>\n",
       "<table border=\"1\" class=\"dataframe\">\n",
       "  <thead>\n",
       "    <tr style=\"text-align: right;\">\n",
       "      <th></th>\n",
       "      <th>CODGEO</th>\n",
       "      <th>P17_NSCOL15P</th>\n",
       "      <th>P17_NSCOL15P_DIPLMIN</th>\n",
       "      <th>TOT_POP15P</th>\n",
       "      <th>TOT_NSCOL15P</th>\n",
       "      <th>TX_NSCOL15P</th>\n",
       "      <th>P16_ACT1564</th>\n",
       "      <th>TX_MENSEUL</th>\n",
       "      <th>TX_FAMMONO</th>\n",
       "      <th>TX_65ETPLUS</th>\n",
       "      <th>TX_25ETMOINS</th>\n",
       "      <th>ABC_TOT</th>\n",
       "    </tr>\n",
       "  </thead>\n",
       "  <tbody>\n",
       "    <tr>\n",
       "      <th>0</th>\n",
       "      <td>1001</td>\n",
       "      <td>558.105307</td>\n",
       "      <td>107.168650</td>\n",
       "      <td>614.445217</td>\n",
       "      <td>320.459483</td>\n",
       "      <td>52.154281</td>\n",
       "      <td>376.000000</td>\n",
       "      <td>22.823614</td>\n",
       "      <td>4.831504</td>\n",
       "      <td>23.779236</td>\n",
       "      <td>11.309305</td>\n",
       "      <td>NaN</td>\n",
       "    </tr>\n",
       "    <tr>\n",
       "      <th>1</th>\n",
       "      <td>1002</td>\n",
       "      <td>178.600823</td>\n",
       "      <td>22.452675</td>\n",
       "      <td>191.868313</td>\n",
       "      <td>77.563786</td>\n",
       "      <td>40.425532</td>\n",
       "      <td>123.000000</td>\n",
       "      <td>28.571429</td>\n",
       "      <td>4.761905</td>\n",
       "      <td>23.404255</td>\n",
       "      <td>7.978723</td>\n",
       "      <td>NaN</td>\n",
       "    </tr>\n",
       "    <tr>\n",
       "      <th>2</th>\n",
       "      <td>1004</td>\n",
       "      <td>10149.026196</td>\n",
       "      <td>2207.010696</td>\n",
       "      <td>11309.467304</td>\n",
       "      <td>5595.312233</td>\n",
       "      <td>49.474587</td>\n",
       "      <td>6697.333122</td>\n",
       "      <td>41.515231</td>\n",
       "      <td>10.216084</td>\n",
       "      <td>20.733915</td>\n",
       "      <td>16.620013</td>\n",
       "      <td>NaN</td>\n",
       "    </tr>\n",
       "    <tr>\n",
       "      <th>3</th>\n",
       "      <td>1005</td>\n",
       "      <td>1234.359736</td>\n",
       "      <td>294.111609</td>\n",
       "      <td>1344.987086</td>\n",
       "      <td>720.572494</td>\n",
       "      <td>53.574678</td>\n",
       "      <td>864.845592</td>\n",
       "      <td>21.076206</td>\n",
       "      <td>6.601983</td>\n",
       "      <td>19.488442</td>\n",
       "      <td>13.854125</td>\n",
       "      <td>NaN</td>\n",
       "    </tr>\n",
       "    <tr>\n",
       "      <th>4</th>\n",
       "      <td>1006</td>\n",
       "      <td>95.863636</td>\n",
       "      <td>17.154545</td>\n",
       "      <td>98.890909</td>\n",
       "      <td>52.472727</td>\n",
       "      <td>53.061224</td>\n",
       "      <td>58.000000</td>\n",
       "      <td>36.363636</td>\n",
       "      <td>9.090909</td>\n",
       "      <td>26.530612</td>\n",
       "      <td>10.204082</td>\n",
       "      <td>NaN</td>\n",
       "    </tr>\n",
       "  </tbody>\n",
       "</table>\n",
       "</div>"
      ],
      "text/plain": [
       "  CODGEO  P17_NSCOL15P  P17_NSCOL15P_DIPLMIN    TOT_POP15P  TOT_NSCOL15P  \\\n",
       "0   1001    558.105307            107.168650    614.445217    320.459483   \n",
       "1   1002    178.600823             22.452675    191.868313     77.563786   \n",
       "2   1004  10149.026196           2207.010696  11309.467304   5595.312233   \n",
       "3   1005   1234.359736            294.111609   1344.987086    720.572494   \n",
       "4   1006     95.863636             17.154545     98.890909     52.472727   \n",
       "\n",
       "   TX_NSCOL15P  P16_ACT1564  TX_MENSEUL  TX_FAMMONO  TX_65ETPLUS  \\\n",
       "0    52.154281   376.000000   22.823614    4.831504    23.779236   \n",
       "1    40.425532   123.000000   28.571429    4.761905    23.404255   \n",
       "2    49.474587  6697.333122   41.515231   10.216084    20.733915   \n",
       "3    53.574678   864.845592   21.076206    6.601983    19.488442   \n",
       "4    53.061224    58.000000   36.363636    9.090909    26.530612   \n",
       "\n",
       "   TX_25ETMOINS  ABC_TOT  \n",
       "0     11.309305      NaN  \n",
       "1      7.978723      NaN  \n",
       "2     16.620013      NaN  \n",
       "3     13.854125      NaN  \n",
       "4     10.204082      NaN  "
      ]
     },
     "execution_count": 28,
     "metadata": {},
     "output_type": "execute_result"
    }
   ],
   "source": [
    "# On effectue une jointure entre les deux dataframes crées précédemment\n",
    "\n",
    "df2 = df2.merge(df1, on='CODGEO', how='outer')\n",
    "df2.head()"
   ]
  },
  {
   "cell_type": "code",
   "execution_count": 29,
   "metadata": {
    "colab": {
     "base_uri": "https://localhost:8080/",
     "height": 206
    },
    "id": "wt1D1jLKh4Yp",
    "outputId": "f29fd1d0-e9b1-46dd-ca5d-213c0e01e04d"
   },
   "outputs": [
    {
     "data": {
      "text/html": [
       "<div>\n",
       "<style scoped>\n",
       "    .dataframe tbody tr th:only-of-type {\n",
       "        vertical-align: middle;\n",
       "    }\n",
       "\n",
       "    .dataframe tbody tr th {\n",
       "        vertical-align: top;\n",
       "    }\n",
       "\n",
       "    .dataframe thead th {\n",
       "        text-align: right;\n",
       "    }\n",
       "</style>\n",
       "<table border=\"1\" class=\"dataframe\">\n",
       "  <thead>\n",
       "    <tr style=\"text-align: right;\">\n",
       "      <th></th>\n",
       "      <th>CODGEO</th>\n",
       "      <th>TX_NSCOL15P</th>\n",
       "      <th>P16_ACT1564</th>\n",
       "      <th>TX_MENSEUL</th>\n",
       "      <th>TX_FAMMONO</th>\n",
       "      <th>TX_65ETPLUS</th>\n",
       "      <th>TX_25ETMOINS</th>\n",
       "      <th>ABC_TOT</th>\n",
       "    </tr>\n",
       "  </thead>\n",
       "  <tbody>\n",
       "    <tr>\n",
       "      <th>0</th>\n",
       "      <td>1001</td>\n",
       "      <td>52.154281</td>\n",
       "      <td>376.000000</td>\n",
       "      <td>22.823614</td>\n",
       "      <td>4.831504</td>\n",
       "      <td>23.779236</td>\n",
       "      <td>11.309305</td>\n",
       "      <td>NaN</td>\n",
       "    </tr>\n",
       "    <tr>\n",
       "      <th>1</th>\n",
       "      <td>1002</td>\n",
       "      <td>40.425532</td>\n",
       "      <td>123.000000</td>\n",
       "      <td>28.571429</td>\n",
       "      <td>4.761905</td>\n",
       "      <td>23.404255</td>\n",
       "      <td>7.978723</td>\n",
       "      <td>NaN</td>\n",
       "    </tr>\n",
       "    <tr>\n",
       "      <th>2</th>\n",
       "      <td>1004</td>\n",
       "      <td>49.474587</td>\n",
       "      <td>6697.333122</td>\n",
       "      <td>41.515231</td>\n",
       "      <td>10.216084</td>\n",
       "      <td>20.733915</td>\n",
       "      <td>16.620013</td>\n",
       "      <td>NaN</td>\n",
       "    </tr>\n",
       "    <tr>\n",
       "      <th>3</th>\n",
       "      <td>1005</td>\n",
       "      <td>53.574678</td>\n",
       "      <td>864.845592</td>\n",
       "      <td>21.076206</td>\n",
       "      <td>6.601983</td>\n",
       "      <td>19.488442</td>\n",
       "      <td>13.854125</td>\n",
       "      <td>NaN</td>\n",
       "    </tr>\n",
       "    <tr>\n",
       "      <th>4</th>\n",
       "      <td>1006</td>\n",
       "      <td>53.061224</td>\n",
       "      <td>58.000000</td>\n",
       "      <td>36.363636</td>\n",
       "      <td>9.090909</td>\n",
       "      <td>26.530612</td>\n",
       "      <td>10.204082</td>\n",
       "      <td>NaN</td>\n",
       "    </tr>\n",
       "  </tbody>\n",
       "</table>\n",
       "</div>"
      ],
      "text/plain": [
       "  CODGEO  TX_NSCOL15P  P16_ACT1564  TX_MENSEUL  TX_FAMMONO  TX_65ETPLUS  \\\n",
       "0   1001    52.154281   376.000000   22.823614    4.831504    23.779236   \n",
       "1   1002    40.425532   123.000000   28.571429    4.761905    23.404255   \n",
       "2   1004    49.474587  6697.333122   41.515231   10.216084    20.733915   \n",
       "3   1005    53.574678   864.845592   21.076206    6.601983    19.488442   \n",
       "4   1006    53.061224    58.000000   36.363636    9.090909    26.530612   \n",
       "\n",
       "   TX_25ETMOINS  ABC_TOT  \n",
       "0     11.309305      NaN  \n",
       "1      7.978723      NaN  \n",
       "2     16.620013      NaN  \n",
       "3     13.854125      NaN  \n",
       "4     10.204082      NaN  "
      ]
     },
     "execution_count": 29,
     "metadata": {},
     "output_type": "execute_result"
    }
   ],
   "source": [
    "# On supprime les colonnes restantes qui ont servis à la construction des variables de notre indice\n",
    "\n",
    "df2 = df2.drop(columns = ['P17_NSCOL15P','P17_NSCOL15P_DIPLMIN', 'TOT_POP15P', 'TOT_NSCOL15P'])\n",
    "df2.head()"
   ]
  },
  {
   "cell_type": "code",
   "execution_count": 30,
   "metadata": {
    "id": "PJEOKpFy1vjX"
   },
   "outputs": [],
   "source": [
    "# On supprime les dataframes crée au début\n",
    "\n",
    "del scol\n",
    "del pop_active"
   ]
  },
  {
   "cell_type": "markdown",
   "metadata": {
    "id": "HClIw-WMkyg_"
   },
   "source": [
    "## Dataset final"
   ]
  },
  {
   "cell_type": "code",
   "execution_count": 31,
   "metadata": {
    "colab": {
     "base_uri": "https://localhost:8080/",
     "height": 206
    },
    "id": "si4gmevIk1yO",
    "outputId": "a078a305-556c-4c2a-dca1-7631c7441030"
   },
   "outputs": [],
   "source": [
    "# On effectue une copie du dataframe de la précédente étape\n",
    "\n",
    "data = df2.copy()\n"
   ]
  },
  {
   "cell_type": "code",
   "execution_count": 32,
   "metadata": {},
   "outputs": [],
   "source": [
    "# On crée la variable 'TX_DEMANDEURS_EMPLOI' \n",
    "# A l'aide du nombre total de demandeurs d'emplois divisié par le nombre total de personnes actives\n",
    "\n",
    "data['TX_DEMANDEURS_EMPLOI'] = (data['ABC_TOT']/data['P16_ACT1564'])*100"
   ]
  },
  {
   "cell_type": "code",
   "execution_count": 33,
   "metadata": {},
   "outputs": [
    {
     "data": {
      "text/html": [
       "<div>\n",
       "<style scoped>\n",
       "    .dataframe tbody tr th:only-of-type {\n",
       "        vertical-align: middle;\n",
       "    }\n",
       "\n",
       "    .dataframe tbody tr th {\n",
       "        vertical-align: top;\n",
       "    }\n",
       "\n",
       "    .dataframe thead th {\n",
       "        text-align: right;\n",
       "    }\n",
       "</style>\n",
       "<table border=\"1\" class=\"dataframe\">\n",
       "  <thead>\n",
       "    <tr style=\"text-align: right;\">\n",
       "      <th></th>\n",
       "      <th>CODGEO</th>\n",
       "      <th>TX_NSCOL15P</th>\n",
       "      <th>TX_MENSEUL</th>\n",
       "      <th>TX_FAMMONO</th>\n",
       "      <th>TX_65ETPLUS</th>\n",
       "      <th>TX_25ETMOINS</th>\n",
       "      <th>TX_DEMANDEURS_EMPLOI</th>\n",
       "    </tr>\n",
       "  </thead>\n",
       "  <tbody>\n",
       "    <tr>\n",
       "      <th>0</th>\n",
       "      <td>1001</td>\n",
       "      <td>52.154281</td>\n",
       "      <td>22.823614</td>\n",
       "      <td>4.831504</td>\n",
       "      <td>23.779236</td>\n",
       "      <td>11.309305</td>\n",
       "      <td>NaN</td>\n",
       "    </tr>\n",
       "    <tr>\n",
       "      <th>1</th>\n",
       "      <td>1002</td>\n",
       "      <td>40.425532</td>\n",
       "      <td>28.571429</td>\n",
       "      <td>4.761905</td>\n",
       "      <td>23.404255</td>\n",
       "      <td>7.978723</td>\n",
       "      <td>NaN</td>\n",
       "    </tr>\n",
       "    <tr>\n",
       "      <th>2</th>\n",
       "      <td>1004</td>\n",
       "      <td>49.474587</td>\n",
       "      <td>41.515231</td>\n",
       "      <td>10.216084</td>\n",
       "      <td>20.733915</td>\n",
       "      <td>16.620013</td>\n",
       "      <td>NaN</td>\n",
       "    </tr>\n",
       "    <tr>\n",
       "      <th>3</th>\n",
       "      <td>1005</td>\n",
       "      <td>53.574678</td>\n",
       "      <td>21.076206</td>\n",
       "      <td>6.601983</td>\n",
       "      <td>19.488442</td>\n",
       "      <td>13.854125</td>\n",
       "      <td>NaN</td>\n",
       "    </tr>\n",
       "    <tr>\n",
       "      <th>4</th>\n",
       "      <td>1006</td>\n",
       "      <td>53.061224</td>\n",
       "      <td>36.363636</td>\n",
       "      <td>9.090909</td>\n",
       "      <td>26.530612</td>\n",
       "      <td>10.204082</td>\n",
       "      <td>NaN</td>\n",
       "    </tr>\n",
       "  </tbody>\n",
       "</table>\n",
       "</div>"
      ],
      "text/plain": [
       "  CODGEO  TX_NSCOL15P  TX_MENSEUL  TX_FAMMONO  TX_65ETPLUS  TX_25ETMOINS  \\\n",
       "0   1001    52.154281   22.823614    4.831504    23.779236     11.309305   \n",
       "1   1002    40.425532   28.571429    4.761905    23.404255      7.978723   \n",
       "2   1004    49.474587   41.515231   10.216084    20.733915     16.620013   \n",
       "3   1005    53.574678   21.076206    6.601983    19.488442     13.854125   \n",
       "4   1006    53.061224   36.363636    9.090909    26.530612     10.204082   \n",
       "\n",
       "   TX_DEMANDEURS_EMPLOI  \n",
       "0                   NaN  \n",
       "1                   NaN  \n",
       "2                   NaN  \n",
       "3                   NaN  \n",
       "4                   NaN  "
      ]
     },
     "execution_count": 33,
     "metadata": {},
     "output_type": "execute_result"
    }
   ],
   "source": [
    "# On supprimme les colonnes qui nous ont servi à construire notre dernière variable\n",
    "\n",
    "data = data.drop(columns=['ABC_TOT', 'P16_ACT1564'])\n",
    "data.head()"
   ]
  },
  {
   "cell_type": "code",
   "execution_count": 34,
   "metadata": {
    "id": "Xg1U6i6vA060"
   },
   "outputs": [],
   "source": [
    "# On crée une boucle pour ajouter un 0 au début des codes insee de 4 chiffres\n",
    "# On renomme la colonne obtenue en CODE_INSEE\n",
    "\n",
    "codgeo = []\n",
    "for value in data[\"CODGEO\"]:\n",
    "    value = str(value)\n",
    "    codgeo.append(value.zfill(5))\n",
    "len(codgeo)\n",
    "data[\"CODE_INSEE\"] = codgeo"
   ]
  },
  {
   "cell_type": "code",
   "execution_count": 35,
   "metadata": {
    "id": "RGGtwn5lBcgo"
   },
   "outputs": [],
   "source": [
    "data.drop(\"CODGEO\", axis = 1, inplace = True)"
   ]
  },
  {
   "cell_type": "code",
   "execution_count": 36,
   "metadata": {
    "colab": {
     "base_uri": "https://localhost:8080/",
     "height": 206
    },
    "id": "DMTcgGScBY3M",
    "outputId": "a9b14de7-a21f-4cdd-ea76-b59215dd6ef2"
   },
   "outputs": [
    {
     "data": {
      "text/html": [
       "<div>\n",
       "<style scoped>\n",
       "    .dataframe tbody tr th:only-of-type {\n",
       "        vertical-align: middle;\n",
       "    }\n",
       "\n",
       "    .dataframe tbody tr th {\n",
       "        vertical-align: top;\n",
       "    }\n",
       "\n",
       "    .dataframe thead th {\n",
       "        text-align: right;\n",
       "    }\n",
       "</style>\n",
       "<table border=\"1\" class=\"dataframe\">\n",
       "  <thead>\n",
       "    <tr style=\"text-align: right;\">\n",
       "      <th></th>\n",
       "      <th>CODE_INSEE</th>\n",
       "      <th>TX_NSCOL15P</th>\n",
       "      <th>TX_MENSEUL</th>\n",
       "      <th>TX_FAMMONO</th>\n",
       "      <th>TX_65ETPLUS</th>\n",
       "      <th>TX_25ETMOINS</th>\n",
       "      <th>TX_DEMANDEURS_EMPLOI</th>\n",
       "    </tr>\n",
       "  </thead>\n",
       "  <tbody>\n",
       "    <tr>\n",
       "      <th>0</th>\n",
       "      <td>01001</td>\n",
       "      <td>52.154281</td>\n",
       "      <td>22.823614</td>\n",
       "      <td>4.831504</td>\n",
       "      <td>23.779236</td>\n",
       "      <td>11.309305</td>\n",
       "      <td>NaN</td>\n",
       "    </tr>\n",
       "    <tr>\n",
       "      <th>1</th>\n",
       "      <td>01002</td>\n",
       "      <td>40.425532</td>\n",
       "      <td>28.571429</td>\n",
       "      <td>4.761905</td>\n",
       "      <td>23.404255</td>\n",
       "      <td>7.978723</td>\n",
       "      <td>NaN</td>\n",
       "    </tr>\n",
       "    <tr>\n",
       "      <th>2</th>\n",
       "      <td>01004</td>\n",
       "      <td>49.474587</td>\n",
       "      <td>41.515231</td>\n",
       "      <td>10.216084</td>\n",
       "      <td>20.733915</td>\n",
       "      <td>16.620013</td>\n",
       "      <td>NaN</td>\n",
       "    </tr>\n",
       "    <tr>\n",
       "      <th>3</th>\n",
       "      <td>01005</td>\n",
       "      <td>53.574678</td>\n",
       "      <td>21.076206</td>\n",
       "      <td>6.601983</td>\n",
       "      <td>19.488442</td>\n",
       "      <td>13.854125</td>\n",
       "      <td>NaN</td>\n",
       "    </tr>\n",
       "    <tr>\n",
       "      <th>4</th>\n",
       "      <td>01006</td>\n",
       "      <td>53.061224</td>\n",
       "      <td>36.363636</td>\n",
       "      <td>9.090909</td>\n",
       "      <td>26.530612</td>\n",
       "      <td>10.204082</td>\n",
       "      <td>NaN</td>\n",
       "    </tr>\n",
       "  </tbody>\n",
       "</table>\n",
       "</div>"
      ],
      "text/plain": [
       "  CODE_INSEE  TX_NSCOL15P  TX_MENSEUL  TX_FAMMONO  TX_65ETPLUS  TX_25ETMOINS  \\\n",
       "0      01001    52.154281   22.823614    4.831504    23.779236     11.309305   \n",
       "1      01002    40.425532   28.571429    4.761905    23.404255      7.978723   \n",
       "2      01004    49.474587   41.515231   10.216084    20.733915     16.620013   \n",
       "3      01005    53.574678   21.076206    6.601983    19.488442     13.854125   \n",
       "4      01006    53.061224   36.363636    9.090909    26.530612     10.204082   \n",
       "\n",
       "   TX_DEMANDEURS_EMPLOI  \n",
       "0                   NaN  \n",
       "1                   NaN  \n",
       "2                   NaN  \n",
       "3                   NaN  \n",
       "4                   NaN  "
      ]
     },
     "execution_count": 36,
     "metadata": {},
     "output_type": "execute_result"
    }
   ],
   "source": [
    "# On réorganise les variables\n",
    "\n",
    "data = data[['CODE_INSEE', 'TX_NSCOL15P', 'TX_MENSEUL', 'TX_FAMMONO', 'TX_65ETPLUS', 'TX_25ETMOINS','TX_DEMANDEURS_EMPLOI']]\n",
    "data.head()"
   ]
  },
  {
   "cell_type": "code",
   "execution_count": 37,
   "metadata": {},
   "outputs": [],
   "source": [
    "code_insee = pd.read_csv(f'{pathfile_interim}/table_insee_libcom_dep.csv', sep=',')"
   ]
  },
  {
   "cell_type": "code",
   "execution_count": 38,
   "metadata": {},
   "outputs": [
    {
     "data": {
      "text/html": [
       "<div>\n",
       "<style scoped>\n",
       "    .dataframe tbody tr th:only-of-type {\n",
       "        vertical-align: middle;\n",
       "    }\n",
       "\n",
       "    .dataframe tbody tr th {\n",
       "        vertical-align: top;\n",
       "    }\n",
       "\n",
       "    .dataframe thead th {\n",
       "        text-align: right;\n",
       "    }\n",
       "</style>\n",
       "<table border=\"1\" class=\"dataframe\">\n",
       "  <thead>\n",
       "    <tr style=\"text-align: right;\">\n",
       "      <th></th>\n",
       "      <th>Unnamed: 0</th>\n",
       "      <th>CODE_INSEE</th>\n",
       "      <th>LIBCOM</th>\n",
       "      <th>DEP</th>\n",
       "    </tr>\n",
       "  </thead>\n",
       "  <tbody>\n",
       "    <tr>\n",
       "      <th>0</th>\n",
       "      <td>0</td>\n",
       "      <td>01001</td>\n",
       "      <td>L'Abergement-Clémenciat</td>\n",
       "      <td>01</td>\n",
       "    </tr>\n",
       "    <tr>\n",
       "      <th>1</th>\n",
       "      <td>1</td>\n",
       "      <td>01002</td>\n",
       "      <td>L'Abergement-de-Varey</td>\n",
       "      <td>01</td>\n",
       "    </tr>\n",
       "    <tr>\n",
       "      <th>2</th>\n",
       "      <td>2</td>\n",
       "      <td>01004</td>\n",
       "      <td>Ambérieu-en-Bugey</td>\n",
       "      <td>01</td>\n",
       "    </tr>\n",
       "    <tr>\n",
       "      <th>3</th>\n",
       "      <td>6</td>\n",
       "      <td>01005</td>\n",
       "      <td>Ambérieux-en-Dombes</td>\n",
       "      <td>01</td>\n",
       "    </tr>\n",
       "    <tr>\n",
       "      <th>4</th>\n",
       "      <td>7</td>\n",
       "      <td>01006</td>\n",
       "      <td>Ambléon</td>\n",
       "      <td>01</td>\n",
       "    </tr>\n",
       "  </tbody>\n",
       "</table>\n",
       "</div>"
      ],
      "text/plain": [
       "   Unnamed: 0 CODE_INSEE                   LIBCOM DEP\n",
       "0           0      01001  L'Abergement-Clémenciat  01\n",
       "1           1      01002    L'Abergement-de-Varey  01\n",
       "2           2      01004        Ambérieu-en-Bugey  01\n",
       "3           6      01005      Ambérieux-en-Dombes  01\n",
       "4           7      01006                  Ambléon  01"
      ]
     },
     "execution_count": 38,
     "metadata": {},
     "output_type": "execute_result"
    }
   ],
   "source": [
    "code_insee.head()"
   ]
  },
  {
   "cell_type": "code",
   "execution_count": 39,
   "metadata": {},
   "outputs": [],
   "source": [
    "code_insee = code_insee.drop(columns=['Unnamed: 0'], axis=1)"
   ]
  },
  {
   "cell_type": "code",
   "execution_count": 40,
   "metadata": {},
   "outputs": [],
   "source": [
    "data = pd.merge(data, code_insee, on='CODE_INSEE')\n",
    "data = data[['CODE_INSEE', 'LIBCOM', 'DEP', 'TX_NSCOL15P', 'TX_MENSEUL', 'TX_FAMMONO', 'TX_65ETPLUS', 'TX_25ETMOINS', 'TX_DEMANDEURS_EMPLOI']]"
   ]
  },
  {
   "cell_type": "code",
   "execution_count": 41,
   "metadata": {},
   "outputs": [
    {
     "data": {
      "text/html": [
       "<div>\n",
       "<style scoped>\n",
       "    .dataframe tbody tr th:only-of-type {\n",
       "        vertical-align: middle;\n",
       "    }\n",
       "\n",
       "    .dataframe tbody tr th {\n",
       "        vertical-align: top;\n",
       "    }\n",
       "\n",
       "    .dataframe thead th {\n",
       "        text-align: right;\n",
       "    }\n",
       "</style>\n",
       "<table border=\"1\" class=\"dataframe\">\n",
       "  <thead>\n",
       "    <tr style=\"text-align: right;\">\n",
       "      <th></th>\n",
       "      <th>CODE_INSEE</th>\n",
       "      <th>LIBCOM</th>\n",
       "      <th>DEP</th>\n",
       "      <th>TX_NSCOL15P</th>\n",
       "      <th>TX_MENSEUL</th>\n",
       "      <th>TX_FAMMONO</th>\n",
       "      <th>TX_65ETPLUS</th>\n",
       "      <th>TX_25ETMOINS</th>\n",
       "      <th>TX_DEMANDEURS_EMPLOI</th>\n",
       "    </tr>\n",
       "  </thead>\n",
       "  <tbody>\n",
       "    <tr>\n",
       "      <th>0</th>\n",
       "      <td>01001</td>\n",
       "      <td>L'Abergement-Clémenciat</td>\n",
       "      <td>01</td>\n",
       "      <td>52.154281</td>\n",
       "      <td>22.823614</td>\n",
       "      <td>4.831504</td>\n",
       "      <td>23.779236</td>\n",
       "      <td>11.309305</td>\n",
       "      <td>NaN</td>\n",
       "    </tr>\n",
       "    <tr>\n",
       "      <th>1</th>\n",
       "      <td>01002</td>\n",
       "      <td>L'Abergement-de-Varey</td>\n",
       "      <td>01</td>\n",
       "      <td>40.425532</td>\n",
       "      <td>28.571429</td>\n",
       "      <td>4.761905</td>\n",
       "      <td>23.404255</td>\n",
       "      <td>7.978723</td>\n",
       "      <td>NaN</td>\n",
       "    </tr>\n",
       "    <tr>\n",
       "      <th>2</th>\n",
       "      <td>01004</td>\n",
       "      <td>Ambérieu-en-Bugey</td>\n",
       "      <td>01</td>\n",
       "      <td>49.474587</td>\n",
       "      <td>41.515231</td>\n",
       "      <td>10.216084</td>\n",
       "      <td>20.733915</td>\n",
       "      <td>16.620013</td>\n",
       "      <td>NaN</td>\n",
       "    </tr>\n",
       "    <tr>\n",
       "      <th>3</th>\n",
       "      <td>01004</td>\n",
       "      <td>Ambérieu-en-Bugey</td>\n",
       "      <td>01</td>\n",
       "      <td>NaN</td>\n",
       "      <td>NaN</td>\n",
       "      <td>NaN</td>\n",
       "      <td>NaN</td>\n",
       "      <td>NaN</td>\n",
       "      <td>NaN</td>\n",
       "    </tr>\n",
       "    <tr>\n",
       "      <th>4</th>\n",
       "      <td>01005</td>\n",
       "      <td>Ambérieux-en-Dombes</td>\n",
       "      <td>01</td>\n",
       "      <td>53.574678</td>\n",
       "      <td>21.076206</td>\n",
       "      <td>6.601983</td>\n",
       "      <td>19.488442</td>\n",
       "      <td>13.854125</td>\n",
       "      <td>NaN</td>\n",
       "    </tr>\n",
       "  </tbody>\n",
       "</table>\n",
       "</div>"
      ],
      "text/plain": [
       "  CODE_INSEE                   LIBCOM DEP  TX_NSCOL15P  TX_MENSEUL  \\\n",
       "0      01001  L'Abergement-Clémenciat  01    52.154281   22.823614   \n",
       "1      01002    L'Abergement-de-Varey  01    40.425532   28.571429   \n",
       "2      01004        Ambérieu-en-Bugey  01    49.474587   41.515231   \n",
       "3      01004        Ambérieu-en-Bugey  01          NaN         NaN   \n",
       "4      01005      Ambérieux-en-Dombes  01    53.574678   21.076206   \n",
       "\n",
       "   TX_FAMMONO  TX_65ETPLUS  TX_25ETMOINS  TX_DEMANDEURS_EMPLOI  \n",
       "0    4.831504    23.779236     11.309305                   NaN  \n",
       "1    4.761905    23.404255      7.978723                   NaN  \n",
       "2   10.216084    20.733915     16.620013                   NaN  \n",
       "3         NaN          NaN           NaN                   NaN  \n",
       "4    6.601983    19.488442     13.854125                   NaN  "
      ]
     },
     "execution_count": 41,
     "metadata": {},
     "output_type": "execute_result"
    }
   ],
   "source": [
    "data.head()"
   ]
  },
  {
   "cell_type": "code",
   "execution_count": 42,
   "metadata": {
    "id": "OTvqcE4r7anR"
   },
   "outputs": [],
   "source": [
    "# On crée un fichier csv qui servira à être mergé avec les autres variables de notre indice\n",
    "\n",
    "data.to_csv(f'{pathfile_interim}/data_scol_menage_demandeurEmplois.csv')"
   ]
  }
 ],
 "metadata": {
  "colab": {
   "collapsed_sections": [],
   "name": "Pre-processing - Cécile.ipynb",
   "provenance": []
  },
  "kernelspec": {
   "display_name": "Python 3",
   "language": "python",
   "name": "python3"
  },
  "language_info": {
   "codemirror_mode": {
    "name": "ipython",
    "version": 3
   },
   "file_extension": ".py",
   "mimetype": "text/x-python",
   "name": "python",
   "nbconvert_exporter": "python",
   "pygments_lexer": "ipython3",
   "version": "3.8.6"
  }
 },
 "nbformat": 4,
 "nbformat_minor": 1
}
