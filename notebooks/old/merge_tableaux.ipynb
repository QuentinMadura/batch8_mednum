{
 "cells": [
  {
   "cell_type": "markdown",
   "metadata": {},
   "source": [
    "# merge des tableaux et des variables calculées\n",
    "\n"
   ]
  },
  {
   "cell_type": "code",
   "execution_count": 46,
   "metadata": {},
   "outputs": [],
   "source": [
    "import os \n",
    "from glob import glob\n",
    "import pandas as pd\n",
    "import numpy as np"
   ]
  },
  {
   "cell_type": "code",
   "execution_count": 17,
   "metadata": {},
   "outputs": [
    {
     "name": "stdout",
     "output_type": "stream",
     "text": [
      "Requirement already satisfied: xlrd in c:\\users\\pc\\anaconda3\\lib\\site-packages (1.2.0)\n"
     ]
    }
   ],
   "source": [
    "!pip install xlrd"
   ]
  },
  {
   "cell_type": "code",
   "execution_count": 47,
   "metadata": {},
   "outputs": [],
   "source": [
    "import xlrd"
   ]
  },
  {
   "cell_type": "markdown",
   "metadata": {},
   "source": [
    "## Importation des données"
   ]
  },
  {
   "cell_type": "code",
   "execution_count": 48,
   "metadata": {},
   "outputs": [
    {
     "data": {
      "text/plain": [
       "['C:/Users/PC/Desktop/Variables_mednum\\\\data_mediatheques.csv',\n",
       " 'C:/Users/PC/Desktop/Variables_mednum\\\\data_merge.csv',\n",
       " 'C:/Users/PC/Desktop/Variables_mednum\\\\data_moins_25ans.csv',\n",
       " 'C:/Users/PC/Desktop/Variables_mednum\\\\data_scol_menage_demandeurEmplois.csv',\n",
       " 'C:/Users/PC/Desktop/Variables_mednum\\\\IFN_variable_ARSAS.csv',\n",
       " 'C:/Users/PC/Desktop/Variables_mednum\\\\table_iris_insee_epci.csv',\n",
       " 'C:/Users/PC/Desktop/Variables_mednum\\\\taux_pauvrete.csv']"
      ]
     },
     "execution_count": 48,
     "metadata": {},
     "output_type": "execute_result"
    }
   ],
   "source": [
    "# lister tous les fichiers présent dans le dossier\n",
    "path = \"C:/Users/PC/Desktop/Variables_mednum\"\n",
    "list_files= glob(os.path.join(path,\"*.csv\"))\n",
    "list_files"
   ]
  },
  {
   "cell_type": "code",
   "execution_count": 49,
   "metadata": {},
   "outputs": [
    {
     "data": {
      "text/html": [
       "<div>\n",
       "<style scoped>\n",
       "    .dataframe tbody tr th:only-of-type {\n",
       "        vertical-align: middle;\n",
       "    }\n",
       "\n",
       "    .dataframe tbody tr th {\n",
       "        vertical-align: top;\n",
       "    }\n",
       "\n",
       "    .dataframe thead th {\n",
       "        text-align: right;\n",
       "    }\n",
       "</style>\n",
       "<table border=\"1\" class=\"dataframe\">\n",
       "  <thead>\n",
       "    <tr style=\"text-align: right;\">\n",
       "      <th></th>\n",
       "      <th>Unnamed: 0</th>\n",
       "      <th>CODE_INSEE</th>\n",
       "      <th>TX_NSCOL15P</th>\n",
       "      <th>TX_MENSEUL</th>\n",
       "      <th>TX_FAMMONO</th>\n",
       "      <th>TX_65ETPLUS</th>\n",
       "      <th>TX_25ETMOINS</th>\n",
       "      <th>TX_DEMANDEUR_EMPLOIS</th>\n",
       "    </tr>\n",
       "  </thead>\n",
       "  <tbody>\n",
       "    <tr>\n",
       "      <td>0</td>\n",
       "      <td>0</td>\n",
       "      <td>01001</td>\n",
       "      <td>52.154281</td>\n",
       "      <td>22.823614</td>\n",
       "      <td>4.831504</td>\n",
       "      <td>23.779236</td>\n",
       "      <td>11.309305</td>\n",
       "      <td>NaN</td>\n",
       "    </tr>\n",
       "    <tr>\n",
       "      <td>1</td>\n",
       "      <td>1</td>\n",
       "      <td>01002</td>\n",
       "      <td>40.425532</td>\n",
       "      <td>28.571429</td>\n",
       "      <td>4.761905</td>\n",
       "      <td>23.404255</td>\n",
       "      <td>7.978723</td>\n",
       "      <td>NaN</td>\n",
       "    </tr>\n",
       "    <tr>\n",
       "      <td>2</td>\n",
       "      <td>2</td>\n",
       "      <td>01004</td>\n",
       "      <td>49.474587</td>\n",
       "      <td>41.515231</td>\n",
       "      <td>10.216084</td>\n",
       "      <td>20.733915</td>\n",
       "      <td>16.620013</td>\n",
       "      <td>NaN</td>\n",
       "    </tr>\n",
       "    <tr>\n",
       "      <td>3</td>\n",
       "      <td>3</td>\n",
       "      <td>01005</td>\n",
       "      <td>53.574678</td>\n",
       "      <td>21.076206</td>\n",
       "      <td>6.601983</td>\n",
       "      <td>19.488442</td>\n",
       "      <td>13.854125</td>\n",
       "      <td>NaN</td>\n",
       "    </tr>\n",
       "    <tr>\n",
       "      <td>4</td>\n",
       "      <td>4</td>\n",
       "      <td>01006</td>\n",
       "      <td>53.061224</td>\n",
       "      <td>36.363636</td>\n",
       "      <td>9.090909</td>\n",
       "      <td>26.530612</td>\n",
       "      <td>10.204082</td>\n",
       "      <td>NaN</td>\n",
       "    </tr>\n",
       "  </tbody>\n",
       "</table>\n",
       "</div>"
      ],
      "text/plain": [
       "   Unnamed: 0 CODE_INSEE  TX_NSCOL15P  TX_MENSEUL  TX_FAMMONO  TX_65ETPLUS  \\\n",
       "0           0      01001    52.154281   22.823614    4.831504    23.779236   \n",
       "1           1      01002    40.425532   28.571429    4.761905    23.404255   \n",
       "2           2      01004    49.474587   41.515231   10.216084    20.733915   \n",
       "3           3      01005    53.574678   21.076206    6.601983    19.488442   \n",
       "4           4      01006    53.061224   36.363636    9.090909    26.530612   \n",
       "\n",
       "   TX_25ETMOINS  TX_DEMANDEUR_EMPLOIS  \n",
       "0     11.309305                   NaN  \n",
       "1      7.978723                   NaN  \n",
       "2     16.620013                   NaN  \n",
       "3     13.854125                   NaN  \n",
       "4     10.204082                   NaN  "
      ]
     },
     "execution_count": 49,
     "metadata": {},
     "output_type": "execute_result"
    }
   ],
   "source": [
    "demandeur_emploi = pd.read_csv('C:/Users/PC/Desktop/Variables_mednum\\\\data_scol_menage_demandeurEmplois.csv', sep=\",\")\n",
    "demandeur_emploi.head()"
   ]
  },
  {
   "cell_type": "code",
   "execution_count": 50,
   "metadata": {},
   "outputs": [
    {
     "data": {
      "text/plain": [
       "36114"
      ]
     },
     "execution_count": 50,
     "metadata": {},
     "output_type": "execute_result"
    }
   ],
   "source": [
    "len(demandeur_emploi)"
   ]
  },
  {
   "cell_type": "code",
   "execution_count": 51,
   "metadata": {},
   "outputs": [
    {
     "data": {
      "text/html": [
       "<div>\n",
       "<style scoped>\n",
       "    .dataframe tbody tr th:only-of-type {\n",
       "        vertical-align: middle;\n",
       "    }\n",
       "\n",
       "    .dataframe tbody tr th {\n",
       "        vertical-align: top;\n",
       "    }\n",
       "\n",
       "    .dataframe thead th {\n",
       "        text-align: right;\n",
       "    }\n",
       "</style>\n",
       "<table border=\"1\" class=\"dataframe\">\n",
       "  <thead>\n",
       "    <tr style=\"text-align: right;\">\n",
       "      <th></th>\n",
       "      <th>code_INSEE</th>\n",
       "      <th>TX_POVERTY</th>\n",
       "    </tr>\n",
       "  </thead>\n",
       "  <tbody>\n",
       "    <tr>\n",
       "      <td>0</td>\n",
       "      <td>2A001</td>\n",
       "      <td>NaN</td>\n",
       "    </tr>\n",
       "    <tr>\n",
       "      <td>1</td>\n",
       "      <td>2A004</td>\n",
       "      <td>27.441333</td>\n",
       "    </tr>\n",
       "    <tr>\n",
       "      <td>2</td>\n",
       "      <td>2A006</td>\n",
       "      <td>17.826087</td>\n",
       "    </tr>\n",
       "    <tr>\n",
       "      <td>3</td>\n",
       "      <td>2A008</td>\n",
       "      <td>NaN</td>\n",
       "    </tr>\n",
       "    <tr>\n",
       "      <td>4</td>\n",
       "      <td>2A011</td>\n",
       "      <td>NaN</td>\n",
       "    </tr>\n",
       "  </tbody>\n",
       "</table>\n",
       "</div>"
      ],
      "text/plain": [
       "  code_INSEE  TX_POVERTY\n",
       "0      2A001         NaN\n",
       "1      2A004   27.441333\n",
       "2      2A006   17.826087\n",
       "3      2A008         NaN\n",
       "4      2A011         NaN"
      ]
     },
     "execution_count": 51,
     "metadata": {},
     "output_type": "execute_result"
    }
   ],
   "source": [
    "taux_pauvrete = pd.read_csv('C:/Users/PC/Desktop/Variables_mednum\\\\taux_pauvrete.csv', sep=\",\")\n",
    "taux_pauvrete.head()"
   ]
  },
  {
   "cell_type": "code",
   "execution_count": 52,
   "metadata": {},
   "outputs": [
    {
     "data": {
      "text/plain": [
       "35196"
      ]
     },
     "execution_count": 52,
     "metadata": {},
     "output_type": "execute_result"
    }
   ],
   "source": [
    "len(taux_pauvrete)"
   ]
  },
  {
   "cell_type": "code",
   "execution_count": 53,
   "metadata": {},
   "outputs": [],
   "source": [
    "taux_pauvrete= taux_pauvrete.rename(columns={'code_INSEE': 'CODE_INSEE'})"
   ]
  },
  {
   "cell_type": "code",
   "execution_count": 13,
   "metadata": {},
   "outputs": [],
   "source": [
    "# merge avec les données de distance aux accès numériques. Mise de côtés, pas utilisé pour le moment\n",
    "# distance_mediation = pd.read_csv('C:/Users/PC/Desktop/Variables_mednum\\\\data_mediatheques.csv', sep=\",\")\n",
    "# distance_mediation.head()"
   ]
  },
  {
   "cell_type": "code",
   "execution_count": 14,
   "metadata": {},
   "outputs": [],
   "source": [
    "# merge avec les données de distance aux accès numériques. Mise de côtés, pas utilisé pour le moment\n",
    "#distance_mediation= distance_mediation.rename(columns={'Code_commune_INSEE': 'CODE_INSEE'})\n",
    "#len(distance_mediation)"
   ]
  },
  {
   "cell_type": "markdown",
   "metadata": {},
   "source": [
    "## Merge des données"
   ]
  },
  {
   "cell_type": "markdown",
   "metadata": {},
   "source": [
    "### comparaison des clés"
   ]
  },
  {
   "cell_type": "code",
   "execution_count": 54,
   "metadata": {},
   "outputs": [],
   "source": [
    "# \n",
    "insee_emploi =demandeur_emploi.CODE_INSEE\n",
    "insee_emploi = insee_emploi.tolist()\n",
    "\n",
    "insee_pauvrete = taux_pauvrete.CODE_INSEE\n",
    "insee_pauvrete = insee_pauvrete.tolist()\n",
    "        "
   ]
  },
  {
   "cell_type": "code",
   "execution_count": 26,
   "metadata": {},
   "outputs": [
    {
     "ename": "KeyboardInterrupt",
     "evalue": "",
     "output_type": "error",
     "traceback": [
      "\u001b[1;31m---------------------------------------------------------------------------\u001b[0m",
      "\u001b[1;31mKeyboardInterrupt\u001b[0m                         Traceback (most recent call last)",
      "\u001b[1;32m<ipython-input-26-ab14e71b662a>\u001b[0m in \u001b[0;36m<module>\u001b[1;34m\u001b[0m\n\u001b[0;32m      4\u001b[0m \u001b[1;32mfor\u001b[0m \u001b[0mi\u001b[0m \u001b[1;32min\u001b[0m \u001b[0mrange\u001b[0m\u001b[1;33m(\u001b[0m\u001b[0mlen\u001b[0m\u001b[1;33m(\u001b[0m\u001b[0mtaux_pauvrete\u001b[0m\u001b[1;33m)\u001b[0m\u001b[1;33m)\u001b[0m\u001b[1;33m:\u001b[0m\u001b[1;33m\u001b[0m\u001b[1;33m\u001b[0m\u001b[0m\n\u001b[0;32m      5\u001b[0m     \u001b[1;32mfor\u001b[0m \u001b[0mj\u001b[0m \u001b[1;32min\u001b[0m \u001b[0mrange\u001b[0m\u001b[1;33m(\u001b[0m\u001b[0mlen\u001b[0m\u001b[1;33m(\u001b[0m\u001b[0mdemandeur_emploi\u001b[0m\u001b[1;33m)\u001b[0m\u001b[1;33m)\u001b[0m\u001b[1;33m:\u001b[0m\u001b[1;33m\u001b[0m\u001b[1;33m\u001b[0m\u001b[0m\n\u001b[1;32m----> 6\u001b[1;33m         \u001b[1;32mif\u001b[0m \u001b[0mdemandeur_emploi\u001b[0m\u001b[1;33m.\u001b[0m\u001b[0mCODE_INSEE\u001b[0m\u001b[1;33m[\u001b[0m\u001b[0mj\u001b[0m\u001b[1;33m]\u001b[0m \u001b[1;33m!=\u001b[0m \u001b[0mtaux_pauvrete\u001b[0m\u001b[1;33m.\u001b[0m\u001b[0mCODE_INSEE\u001b[0m\u001b[1;33m[\u001b[0m\u001b[0mi\u001b[0m\u001b[1;33m]\u001b[0m\u001b[1;33m:\u001b[0m\u001b[1;33m\u001b[0m\u001b[1;33m\u001b[0m\u001b[0m\n\u001b[0m\u001b[0;32m      7\u001b[0m             \u001b[0mecart_1\u001b[0m\u001b[1;33m.\u001b[0m\u001b[0mappend\u001b[0m\u001b[1;33m(\u001b[0m\u001b[0mdemandeur_emploi\u001b[0m\u001b[1;33m.\u001b[0m\u001b[0mCODE_INSEE\u001b[0m\u001b[1;33m)\u001b[0m\u001b[1;33m;\u001b[0m\u001b[1;33m\u001b[0m\u001b[1;33m\u001b[0m\u001b[0m\n\u001b[0;32m      8\u001b[0m             \u001b[0mk\u001b[0m\u001b[1;33m=\u001b[0m\u001b[0mk\u001b[0m\u001b[1;33m+\u001b[0m\u001b[1;36m1\u001b[0m\u001b[1;33m\u001b[0m\u001b[1;33m\u001b[0m\u001b[0m\n",
      "\u001b[1;32m~\\Anaconda3\\lib\\site-packages\\pandas\\core\\series.py\u001b[0m in \u001b[0;36m__getitem__\u001b[1;34m(self, key)\u001b[0m\n\u001b[0;32m   1066\u001b[0m         \u001b[0mkey\u001b[0m \u001b[1;33m=\u001b[0m \u001b[0mcom\u001b[0m\u001b[1;33m.\u001b[0m\u001b[0mapply_if_callable\u001b[0m\u001b[1;33m(\u001b[0m\u001b[0mkey\u001b[0m\u001b[1;33m,\u001b[0m \u001b[0mself\u001b[0m\u001b[1;33m)\u001b[0m\u001b[1;33m\u001b[0m\u001b[1;33m\u001b[0m\u001b[0m\n\u001b[0;32m   1067\u001b[0m         \u001b[1;32mtry\u001b[0m\u001b[1;33m:\u001b[0m\u001b[1;33m\u001b[0m\u001b[1;33m\u001b[0m\u001b[0m\n\u001b[1;32m-> 1068\u001b[1;33m             \u001b[0mresult\u001b[0m \u001b[1;33m=\u001b[0m \u001b[0mself\u001b[0m\u001b[1;33m.\u001b[0m\u001b[0mindex\u001b[0m\u001b[1;33m.\u001b[0m\u001b[0mget_value\u001b[0m\u001b[1;33m(\u001b[0m\u001b[0mself\u001b[0m\u001b[1;33m,\u001b[0m \u001b[0mkey\u001b[0m\u001b[1;33m)\u001b[0m\u001b[1;33m\u001b[0m\u001b[1;33m\u001b[0m\u001b[0m\n\u001b[0m\u001b[0;32m   1069\u001b[0m \u001b[1;33m\u001b[0m\u001b[0m\n\u001b[0;32m   1070\u001b[0m             \u001b[1;32mif\u001b[0m \u001b[1;32mnot\u001b[0m \u001b[0mis_scalar\u001b[0m\u001b[1;33m(\u001b[0m\u001b[0mresult\u001b[0m\u001b[1;33m)\u001b[0m\u001b[1;33m:\u001b[0m\u001b[1;33m\u001b[0m\u001b[1;33m\u001b[0m\u001b[0m\n",
      "\u001b[1;31mKeyboardInterrupt\u001b[0m: "
     ]
    }
   ],
   "source": [
    "## éviter de faire tourner, trés long à l'ilmplémentation\n",
    "k=1\n",
    "ecart_1 = []\n",
    "for i in range(len(taux_pauvrete)):\n",
    "    for j in range(len(demandeur_emploi)):\n",
    "        if demandeur_emploi.CODE_INSEE[j] != taux_pauvrete.CODE_INSEE[i]:\n",
    "            ecart_1.append(demandeur_emploi.CODE_INSEE); \n",
    "            k=k+1"
   ]
  },
  {
   "cell_type": "code",
   "execution_count": 55,
   "metadata": {},
   "outputs": [
    {
     "ename": "AttributeError",
     "evalue": "'list' object has no attribute 'head'",
     "output_type": "error",
     "traceback": [
      "\u001b[1;31m---------------------------------------------------------------------------\u001b[0m",
      "\u001b[1;31mAttributeError\u001b[0m                            Traceback (most recent call last)",
      "\u001b[1;32m<ipython-input-55-0526f53d5140>\u001b[0m in \u001b[0;36m<module>\u001b[1;34m\u001b[0m\n\u001b[1;32m----> 1\u001b[1;33m \u001b[0mlen\u001b[0m\u001b[1;33m(\u001b[0m\u001b[0mecart_1\u001b[0m\u001b[1;33m.\u001b[0m\u001b[0mhead\u001b[0m\u001b[1;33m)\u001b[0m\u001b[1;33m\u001b[0m\u001b[1;33m\u001b[0m\u001b[0m\n\u001b[0m",
      "\u001b[1;31mAttributeError\u001b[0m: 'list' object has no attribute 'head'"
     ]
    }
   ],
   "source": [
    "len(ecart_1.head)"
   ]
  },
  {
   "cell_type": "markdown",
   "metadata": {},
   "source": [
    "### merge du taux de pauvreté et demandeur d'emploi"
   ]
  },
  {
   "cell_type": "code",
   "execution_count": 56,
   "metadata": {},
   "outputs": [
    {
     "data": {
      "text/html": [
       "<div>\n",
       "<style scoped>\n",
       "    .dataframe tbody tr th:only-of-type {\n",
       "        vertical-align: middle;\n",
       "    }\n",
       "\n",
       "    .dataframe tbody tr th {\n",
       "        vertical-align: top;\n",
       "    }\n",
       "\n",
       "    .dataframe thead th {\n",
       "        text-align: right;\n",
       "    }\n",
       "</style>\n",
       "<table border=\"1\" class=\"dataframe\">\n",
       "  <thead>\n",
       "    <tr style=\"text-align: right;\">\n",
       "      <th></th>\n",
       "      <th>CODE_INSEE</th>\n",
       "      <th>TX_POVERTY</th>\n",
       "      <th>Unnamed: 0</th>\n",
       "      <th>TX_NSCOL15P</th>\n",
       "      <th>TX_MENSEUL</th>\n",
       "      <th>TX_FAMMONO</th>\n",
       "      <th>TX_65ETPLUS</th>\n",
       "      <th>TX_25ETMOINS</th>\n",
       "      <th>TX_DEMANDEUR_EMPLOIS</th>\n",
       "    </tr>\n",
       "  </thead>\n",
       "  <tbody>\n",
       "    <tr>\n",
       "      <td>0</td>\n",
       "      <td>2A001</td>\n",
       "      <td>NaN</td>\n",
       "      <td>10569.0</td>\n",
       "      <td>47.724584</td>\n",
       "      <td>22.350501</td>\n",
       "      <td>9.322385</td>\n",
       "      <td>21.662567</td>\n",
       "      <td>10.902031</td>\n",
       "      <td>NaN</td>\n",
       "    </tr>\n",
       "    <tr>\n",
       "      <td>1</td>\n",
       "      <td>2A004</td>\n",
       "      <td>27.441333</td>\n",
       "      <td>10570.0</td>\n",
       "      <td>47.006382</td>\n",
       "      <td>26.648289</td>\n",
       "      <td>14.049949</td>\n",
       "      <td>26.619498</td>\n",
       "      <td>11.425760</td>\n",
       "      <td>13.062663</td>\n",
       "    </tr>\n",
       "    <tr>\n",
       "      <td>2</td>\n",
       "      <td>2A006</td>\n",
       "      <td>17.826087</td>\n",
       "      <td>10571.0</td>\n",
       "      <td>45.656990</td>\n",
       "      <td>20.245461</td>\n",
       "      <td>9.324807</td>\n",
       "      <td>21.224153</td>\n",
       "      <td>10.888846</td>\n",
       "      <td>NaN</td>\n",
       "    </tr>\n",
       "    <tr>\n",
       "      <td>3</td>\n",
       "      <td>2A008</td>\n",
       "      <td>NaN</td>\n",
       "      <td>10572.0</td>\n",
       "      <td>41.227734</td>\n",
       "      <td>33.376123</td>\n",
       "      <td>9.627728</td>\n",
       "      <td>36.385084</td>\n",
       "      <td>6.076146</td>\n",
       "      <td>NaN</td>\n",
       "    </tr>\n",
       "    <tr>\n",
       "      <td>4</td>\n",
       "      <td>2A011</td>\n",
       "      <td>NaN</td>\n",
       "      <td>10573.0</td>\n",
       "      <td>47.727273</td>\n",
       "      <td>48.148148</td>\n",
       "      <td>3.703704</td>\n",
       "      <td>40.909091</td>\n",
       "      <td>11.363636</td>\n",
       "      <td>NaN</td>\n",
       "    </tr>\n",
       "    <tr>\n",
       "      <td>...</td>\n",
       "      <td>...</td>\n",
       "      <td>...</td>\n",
       "      <td>...</td>\n",
       "      <td>...</td>\n",
       "      <td>...</td>\n",
       "      <td>...</td>\n",
       "      <td>...</td>\n",
       "      <td>...</td>\n",
       "      <td>...</td>\n",
       "    </tr>\n",
       "    <tr>\n",
       "      <td>36388</td>\n",
       "      <td>97301</td>\n",
       "      <td>NaN</td>\n",
       "      <td>34950.0</td>\n",
       "      <td>68.131868</td>\n",
       "      <td>28.301887</td>\n",
       "      <td>15.094340</td>\n",
       "      <td>12.244898</td>\n",
       "      <td>25.431711</td>\n",
       "      <td>NaN</td>\n",
       "    </tr>\n",
       "    <tr>\n",
       "      <td>36389</td>\n",
       "      <td>97501</td>\n",
       "      <td>NaN</td>\n",
       "      <td>34996.0</td>\n",
       "      <td>74.949900</td>\n",
       "      <td>26.691729</td>\n",
       "      <td>7.518797</td>\n",
       "      <td>21.643287</td>\n",
       "      <td>11.022044</td>\n",
       "      <td>NaN</td>\n",
       "    </tr>\n",
       "    <tr>\n",
       "      <td>36390</td>\n",
       "      <td>97502</td>\n",
       "      <td>NaN</td>\n",
       "      <td>34997.0</td>\n",
       "      <td>56.968700</td>\n",
       "      <td>31.435887</td>\n",
       "      <td>8.538654</td>\n",
       "      <td>19.330339</td>\n",
       "      <td>10.967384</td>\n",
       "      <td>NaN</td>\n",
       "    </tr>\n",
       "    <tr>\n",
       "      <td>36391</td>\n",
       "      <td>97701</td>\n",
       "      <td>NaN</td>\n",
       "      <td>34998.0</td>\n",
       "      <td>47.562130</td>\n",
       "      <td>23.433584</td>\n",
       "      <td>5.889724</td>\n",
       "      <td>11.195266</td>\n",
       "      <td>11.869822</td>\n",
       "      <td>NaN</td>\n",
       "    </tr>\n",
       "    <tr>\n",
       "      <td>36392</td>\n",
       "      <td>97801</td>\n",
       "      <td>NaN</td>\n",
       "      <td>34999.0</td>\n",
       "      <td>61.207808</td>\n",
       "      <td>29.705424</td>\n",
       "      <td>25.399097</td>\n",
       "      <td>11.003942</td>\n",
       "      <td>16.691814</td>\n",
       "      <td>NaN</td>\n",
       "    </tr>\n",
       "  </tbody>\n",
       "</table>\n",
       "<p>36393 rows × 9 columns</p>\n",
       "</div>"
      ],
      "text/plain": [
       "      CODE_INSEE  TX_POVERTY  Unnamed: 0  TX_NSCOL15P  TX_MENSEUL  TX_FAMMONO  \\\n",
       "0          2A001         NaN     10569.0    47.724584   22.350501    9.322385   \n",
       "1          2A004   27.441333     10570.0    47.006382   26.648289   14.049949   \n",
       "2          2A006   17.826087     10571.0    45.656990   20.245461    9.324807   \n",
       "3          2A008         NaN     10572.0    41.227734   33.376123    9.627728   \n",
       "4          2A011         NaN     10573.0    47.727273   48.148148    3.703704   \n",
       "...          ...         ...         ...          ...         ...         ...   \n",
       "36388      97301         NaN     34950.0    68.131868   28.301887   15.094340   \n",
       "36389      97501         NaN     34996.0    74.949900   26.691729    7.518797   \n",
       "36390      97502         NaN     34997.0    56.968700   31.435887    8.538654   \n",
       "36391      97701         NaN     34998.0    47.562130   23.433584    5.889724   \n",
       "36392      97801         NaN     34999.0    61.207808   29.705424   25.399097   \n",
       "\n",
       "       TX_65ETPLUS  TX_25ETMOINS  TX_DEMANDEUR_EMPLOIS  \n",
       "0        21.662567     10.902031                   NaN  \n",
       "1        26.619498     11.425760             13.062663  \n",
       "2        21.224153     10.888846                   NaN  \n",
       "3        36.385084      6.076146                   NaN  \n",
       "4        40.909091     11.363636                   NaN  \n",
       "...            ...           ...                   ...  \n",
       "36388    12.244898     25.431711                   NaN  \n",
       "36389    21.643287     11.022044                   NaN  \n",
       "36390    19.330339     10.967384                   NaN  \n",
       "36391    11.195266     11.869822                   NaN  \n",
       "36392    11.003942     16.691814                   NaN  \n",
       "\n",
       "[36393 rows x 9 columns]"
      ]
     },
     "execution_count": 56,
     "metadata": {},
     "output_type": "execute_result"
    }
   ],
   "source": [
    "data_fin = taux_pauvrete\n",
    "data_fin  =data_fin.merge(demandeur_emploi, left_on='CODE_INSEE', right_on='CODE_INSEE', how = 'outer')\n",
    "data_fin.drop_duplicates()"
   ]
  },
  {
   "cell_type": "code",
   "execution_count": 57,
   "metadata": {},
   "outputs": [],
   "source": [
    "#suppression des colonnes inutiles\n",
    "del data_fin['Unnamed: 0']"
   ]
  },
  {
   "cell_type": "code",
   "execution_count": 59,
   "metadata": {},
   "outputs": [
    {
     "data": {
      "text/plain": [
       "36393"
      ]
     },
     "execution_count": 59,
     "metadata": {},
     "output_type": "execute_result"
    }
   ],
   "source": [
    "long= len(data_fin)\n",
    "long"
   ]
  },
  {
   "cell_type": "markdown",
   "metadata": {},
   "source": [
    "#### On obtient un nouveau tableau contenant les données de taux de pauvreté et les données de demandeur d'emploi"
   ]
  },
  {
   "cell_type": "code",
   "execution_count": 12,
   "metadata": {},
   "outputs": [],
   "source": [
    "# merge avec les données de distance aux accès numériques. Mise de côtés, pas utilisé pour le moment\n",
    "# data_fin  =data_fin.merge(distance_mediation, left_on='CODE_INSEE', right_on='CODE_INSEE', how = 'outer')\n",
    "# data_fin.drop_duplicates()"
   ]
  },
  {
   "cell_type": "markdown",
   "metadata": {},
   "source": [
    "## exportation du nouveau tableau"
   ]
  },
  {
   "cell_type": "code",
   "execution_count": 66,
   "metadata": {},
   "outputs": [],
   "source": [
    "## Temporaire !!! Ajout de la colonne de couverture, en attente d'avoir les données, valeur mise à 1 par défaut\n",
    "type(data_fin)\n",
    "One = np.ones((long,1))\n",
    "data_fin.insert(8, 'COUVERTURE_HD_THD', One)\n"
   ]
  },
  {
   "cell_type": "code",
   "execution_count": 67,
   "metadata": {},
   "outputs": [
    {
     "data": {
      "text/html": [
       "<div>\n",
       "<style scoped>\n",
       "    .dataframe tbody tr th:only-of-type {\n",
       "        vertical-align: middle;\n",
       "    }\n",
       "\n",
       "    .dataframe tbody tr th {\n",
       "        vertical-align: top;\n",
       "    }\n",
       "\n",
       "    .dataframe thead th {\n",
       "        text-align: right;\n",
       "    }\n",
       "</style>\n",
       "<table border=\"1\" class=\"dataframe\">\n",
       "  <thead>\n",
       "    <tr style=\"text-align: right;\">\n",
       "      <th></th>\n",
       "      <th>CODE_INSEE</th>\n",
       "      <th>TX_POVERTY</th>\n",
       "      <th>TX_NSCOL15P</th>\n",
       "      <th>TX_MENSEUL</th>\n",
       "      <th>TX_FAMMONO</th>\n",
       "      <th>TX_65ETPLUS</th>\n",
       "      <th>TX_25ETMOINS</th>\n",
       "      <th>TX_DEMANDEUR_EMPLOIS</th>\n",
       "      <th>COUVERTURE_HD_THD</th>\n",
       "    </tr>\n",
       "  </thead>\n",
       "  <tbody>\n",
       "    <tr>\n",
       "      <td>0</td>\n",
       "      <td>2A001</td>\n",
       "      <td>NaN</td>\n",
       "      <td>47.724584</td>\n",
       "      <td>22.350501</td>\n",
       "      <td>9.322385</td>\n",
       "      <td>21.662567</td>\n",
       "      <td>10.902031</td>\n",
       "      <td>NaN</td>\n",
       "      <td>1.0</td>\n",
       "    </tr>\n",
       "    <tr>\n",
       "      <td>1</td>\n",
       "      <td>2A004</td>\n",
       "      <td>27.441333</td>\n",
       "      <td>47.006382</td>\n",
       "      <td>26.648289</td>\n",
       "      <td>14.049949</td>\n",
       "      <td>26.619498</td>\n",
       "      <td>11.425760</td>\n",
       "      <td>13.062663</td>\n",
       "      <td>1.0</td>\n",
       "    </tr>\n",
       "    <tr>\n",
       "      <td>2</td>\n",
       "      <td>2A006</td>\n",
       "      <td>17.826087</td>\n",
       "      <td>45.656990</td>\n",
       "      <td>20.245461</td>\n",
       "      <td>9.324807</td>\n",
       "      <td>21.224153</td>\n",
       "      <td>10.888846</td>\n",
       "      <td>NaN</td>\n",
       "      <td>1.0</td>\n",
       "    </tr>\n",
       "    <tr>\n",
       "      <td>3</td>\n",
       "      <td>2A008</td>\n",
       "      <td>NaN</td>\n",
       "      <td>41.227734</td>\n",
       "      <td>33.376123</td>\n",
       "      <td>9.627728</td>\n",
       "      <td>36.385084</td>\n",
       "      <td>6.076146</td>\n",
       "      <td>NaN</td>\n",
       "      <td>1.0</td>\n",
       "    </tr>\n",
       "    <tr>\n",
       "      <td>4</td>\n",
       "      <td>2A011</td>\n",
       "      <td>NaN</td>\n",
       "      <td>47.727273</td>\n",
       "      <td>48.148148</td>\n",
       "      <td>3.703704</td>\n",
       "      <td>40.909091</td>\n",
       "      <td>11.363636</td>\n",
       "      <td>NaN</td>\n",
       "      <td>1.0</td>\n",
       "    </tr>\n",
       "  </tbody>\n",
       "</table>\n",
       "</div>"
      ],
      "text/plain": [
       "  CODE_INSEE  TX_POVERTY  TX_NSCOL15P  TX_MENSEUL  TX_FAMMONO  TX_65ETPLUS  \\\n",
       "0      2A001         NaN    47.724584   22.350501    9.322385    21.662567   \n",
       "1      2A004   27.441333    47.006382   26.648289   14.049949    26.619498   \n",
       "2      2A006   17.826087    45.656990   20.245461    9.324807    21.224153   \n",
       "3      2A008         NaN    41.227734   33.376123    9.627728    36.385084   \n",
       "4      2A011         NaN    47.727273   48.148148    3.703704    40.909091   \n",
       "\n",
       "   TX_25ETMOINS  TX_DEMANDEUR_EMPLOIS  COUVERTURE_HD_THD  \n",
       "0     10.902031                   NaN                1.0  \n",
       "1     11.425760             13.062663                1.0  \n",
       "2     10.888846                   NaN                1.0  \n",
       "3      6.076146                   NaN                1.0  \n",
       "4     11.363636                   NaN                1.0  "
      ]
     },
     "execution_count": 67,
     "metadata": {},
     "output_type": "execute_result"
    }
   ],
   "source": [
    "data_fin.head()"
   ]
  },
  {
   "cell_type": "code",
   "execution_count": 68,
   "metadata": {},
   "outputs": [],
   "source": [
    "data_fin.to_csv('C:/Users/PC/Desktop/Variables_mednum/data_merge.csv')"
   ]
  },
  {
   "cell_type": "code",
   "execution_count": null,
   "metadata": {},
   "outputs": [],
   "source": []
  }
 ],
 "metadata": {
  "kernelspec": {
   "display_name": "Python 3",
   "language": "python",
   "name": "python3"
  },
  "language_info": {
   "codemirror_mode": {
    "name": "ipython",
    "version": 3
   },
   "file_extension": ".py",
   "mimetype": "text/x-python",
   "name": "python",
   "nbconvert_exporter": "python",
   "pygments_lexer": "ipython3",
   "version": "3.7.4"
  }
 },
 "nbformat": 4,
 "nbformat_minor": 2
}
