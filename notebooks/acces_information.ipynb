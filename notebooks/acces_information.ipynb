{
  "nbformat": 4,
  "nbformat_minor": 0,
  "metadata": {
    "colab": {
      "name": "carte_mediatheque.ipynb",
      "provenance": [],
      "collapsed_sections": [],
      "toc_visible": true,
      "include_colab_link": true
    },
    "kernelspec": {
      "name": "python3",
      "display_name": "Python 3"
    }
  },
  "cells": [
    {
      "cell_type": "markdown",
      "metadata": {
        "id": "view-in-github",
        "colab_type": "text"
      },
      "source": [
        "<a href=\"https://colab.research.google.com/github/dataforgoodfr/batch8_mednum/blob/master/notebooks/acces_information.ipynb\" target=\"_parent\"><img src=\"https://colab.research.google.com/assets/colab-badge.svg\" alt=\"Open In Colab\"/></a>"
      ]
    },
    {
      "cell_type": "markdown",
      "metadata": {
        "id": "t_HA6Y74Bj6Y"
      },
      "source": [
        "## 1. Liste des médiathèques\n"
      ]
    },
    {
      "cell_type": "code",
      "metadata": {
        "id": "lTy9Hg7uY623"
      },
      "source": [
        "# get mediatheques map\n",
        "import pandas as pd\n",
        "import numpy as np"
      ],
      "execution_count": 19,
      "outputs": []
    },
    {
      "cell_type": "code",
      "metadata": {
        "id": "0-xH_tWAtWZj",
        "outputId": "c2d07881-d75b-4636-9137-c96633d74895",
        "colab": {
          "base_uri": "https://localhost:8080/",
          "height": 34
        }
      },
      "source": [
        "from google.colab import drive\n",
        "drive.mount(\"/content/drive\")"
      ],
      "execution_count": 11,
      "outputs": [
        {
          "output_type": "stream",
          "text": [
            "Mounted at /content/drive\n"
          ],
          "name": "stdout"
        }
      ]
    },
    {
      "cell_type": "code",
      "metadata": {
        "id": "8tBKP6-Ftkw2",
        "outputId": "4ef897ae-aa95-4f73-8af3-2ff263a72dff",
        "colab": {
          "base_uri": "https://localhost:8080/",
          "height": 34
        }
      },
      "source": [
        "ls"
      ],
      "execution_count": 2,
      "outputs": [
        {
          "output_type": "stream",
          "text": [
            "\u001b[0m\u001b[01;34mdrive\u001b[0m/  \u001b[01;34msample_data\u001b[0m/\n"
          ],
          "name": "stdout"
        }
      ]
    },
    {
      "cell_type": "code",
      "metadata": {
        "id": "0uiJI65XtwW5",
        "outputId": "46094a44-4924-46aa-b50b-aa4cb4a94614",
        "colab": {
          "base_uri": "https://localhost:8080/",
          "height": 521
        }
      },
      "source": [
        "df = pd.read_csv('/content/drive/My Drive/Colab Notebooks/carte-des-bibliotheques.csv', header=0, sep=';')\n",
        "print(df.shape)\n",
        "df.head()"
      ],
      "execution_count": 3,
      "outputs": [
        {
          "output_type": "stream",
          "text": [
            "(844, 21)\n"
          ],
          "name": "stdout"
        },
        {
          "output_type": "execute_result",
          "data": {
            "text/html": [
              "<div>\n",
              "<style scoped>\n",
              "    .dataframe tbody tr th:only-of-type {\n",
              "        vertical-align: middle;\n",
              "    }\n",
              "\n",
              "    .dataframe tbody tr th {\n",
              "        vertical-align: top;\n",
              "    }\n",
              "\n",
              "    .dataframe thead th {\n",
              "        text-align: right;\n",
              "    }\n",
              "</style>\n",
              "<table border=\"1\" class=\"dataframe\">\n",
              "  <thead>\n",
              "    <tr style=\"text-align: right;\">\n",
              "      <th></th>\n",
              "      <th>Nom structure</th>\n",
              "      <th>Adresse</th>\n",
              "      <th>Code postal</th>\n",
              "      <th>Département</th>\n",
              "      <th>Ville</th>\n",
              "      <th>Année(s) subvention Région</th>\n",
              "      <th>Montant subvention 2000</th>\n",
              "      <th>Montant subvention 2001</th>\n",
              "      <th>Montant subvention 2002</th>\n",
              "      <th>Montant subvention 2003</th>\n",
              "      <th>Montant subvention 2004</th>\n",
              "      <th>Montant subvention 2005</th>\n",
              "      <th>Montant subvention 2006</th>\n",
              "      <th>Montant subvention 2007</th>\n",
              "      <th>Montant subvention 2008</th>\n",
              "      <th>Montant subvention 2009</th>\n",
              "      <th>Montant subvention 2010</th>\n",
              "      <th>Montant subvention 2011</th>\n",
              "      <th>Montant subvention 2012</th>\n",
              "      <th>Montant subvention 2013</th>\n",
              "      <th>wgs84</th>\n",
              "    </tr>\n",
              "  </thead>\n",
              "  <tbody>\n",
              "    <tr>\n",
              "      <th>0</th>\n",
              "      <td>MÉDIATHÈQUE SAINT-JOHN PERSE</td>\n",
              "      <td>2 rue Édouard Poisson</td>\n",
              "      <td>93300</td>\n",
              "      <td>93</td>\n",
              "      <td>AUBERVILLIERS</td>\n",
              "      <td>NaN</td>\n",
              "      <td>NaN</td>\n",
              "      <td>NaN</td>\n",
              "      <td>NaN</td>\n",
              "      <td>NaN</td>\n",
              "      <td>NaN</td>\n",
              "      <td>NaN</td>\n",
              "      <td>NaN</td>\n",
              "      <td>NaN</td>\n",
              "      <td>NaN</td>\n",
              "      <td>NaN</td>\n",
              "      <td>NaN</td>\n",
              "      <td>NaN</td>\n",
              "      <td>NaN</td>\n",
              "      <td>NaN</td>\n",
              "      <td>48.9104747,2.385008</td>\n",
              "    </tr>\n",
              "    <tr>\n",
              "      <th>1</th>\n",
              "      <td>MÉDIATHÈQUE GEORGES PÉREC</td>\n",
              "      <td>8-10 rue du Marqis de Raies</td>\n",
              "      <td>91080</td>\n",
              "      <td>91</td>\n",
              "      <td>COURCOURONNES</td>\n",
              "      <td>NaN</td>\n",
              "      <td>NaN</td>\n",
              "      <td>NaN</td>\n",
              "      <td>NaN</td>\n",
              "      <td>NaN</td>\n",
              "      <td>NaN</td>\n",
              "      <td>NaN</td>\n",
              "      <td>NaN</td>\n",
              "      <td>NaN</td>\n",
              "      <td>NaN</td>\n",
              "      <td>NaN</td>\n",
              "      <td>NaN</td>\n",
              "      <td>NaN</td>\n",
              "      <td>NaN</td>\n",
              "      <td>NaN</td>\n",
              "      <td>48.6293899,2.4135832</td>\n",
              "    </tr>\n",
              "    <tr>\n",
              "      <th>2</th>\n",
              "      <td>MÉDIATHÈQUE LES MUSES</td>\n",
              "      <td>101 rue de la Division Leclerc</td>\n",
              "      <td>91310</td>\n",
              "      <td>91</td>\n",
              "      <td>LINAS</td>\n",
              "      <td>NaN</td>\n",
              "      <td>NaN</td>\n",
              "      <td>NaN</td>\n",
              "      <td>NaN</td>\n",
              "      <td>NaN</td>\n",
              "      <td>NaN</td>\n",
              "      <td>NaN</td>\n",
              "      <td>NaN</td>\n",
              "      <td>NaN</td>\n",
              "      <td>NaN</td>\n",
              "      <td>NaN</td>\n",
              "      <td>NaN</td>\n",
              "      <td>NaN</td>\n",
              "      <td>NaN</td>\n",
              "      <td>NaN</td>\n",
              "      <td>48.6305113,2.2650636</td>\n",
              "    </tr>\n",
              "    <tr>\n",
              "      <th>3</th>\n",
              "      <td>MÉDIATHÈQUE MUNICIPALE</td>\n",
              "      <td>2 route de la Creusée</td>\n",
              "      <td>91530</td>\n",
              "      <td>91</td>\n",
              "      <td>LE-VAL-SAINT-GERMAIN</td>\n",
              "      <td>NaN</td>\n",
              "      <td>NaN</td>\n",
              "      <td>NaN</td>\n",
              "      <td>NaN</td>\n",
              "      <td>NaN</td>\n",
              "      <td>NaN</td>\n",
              "      <td>NaN</td>\n",
              "      <td>NaN</td>\n",
              "      <td>NaN</td>\n",
              "      <td>NaN</td>\n",
              "      <td>NaN</td>\n",
              "      <td>NaN</td>\n",
              "      <td>NaN</td>\n",
              "      <td>NaN</td>\n",
              "      <td>NaN</td>\n",
              "      <td>48.5657217,2.0601725</td>\n",
              "    </tr>\n",
              "    <tr>\n",
              "      <th>4</th>\n",
              "      <td>BIBLIOTHÈQUE LE GRENIER</td>\n",
              "      <td>5 place des Droits de l'Homme</td>\n",
              "      <td>91800</td>\n",
              "      <td>91</td>\n",
              "      <td>BOUSSY-SAINT-ANTOINE</td>\n",
              "      <td>NaN</td>\n",
              "      <td>NaN</td>\n",
              "      <td>NaN</td>\n",
              "      <td>NaN</td>\n",
              "      <td>NaN</td>\n",
              "      <td>NaN</td>\n",
              "      <td>NaN</td>\n",
              "      <td>NaN</td>\n",
              "      <td>NaN</td>\n",
              "      <td>NaN</td>\n",
              "      <td>NaN</td>\n",
              "      <td>NaN</td>\n",
              "      <td>NaN</td>\n",
              "      <td>NaN</td>\n",
              "      <td>NaN</td>\n",
              "      <td>48.6891076,2.5297452</td>\n",
              "    </tr>\n",
              "  </tbody>\n",
              "</table>\n",
              "</div>"
            ],
            "text/plain": [
              "                  Nom structure  ...                 wgs84\n",
              "0  MÉDIATHÈQUE SAINT-JOHN PERSE  ...   48.9104747,2.385008\n",
              "1     MÉDIATHÈQUE GEORGES PÉREC  ...  48.6293899,2.4135832\n",
              "2         MÉDIATHÈQUE LES MUSES  ...  48.6305113,2.2650636\n",
              "3        MÉDIATHÈQUE MUNICIPALE  ...  48.5657217,2.0601725\n",
              "4       BIBLIOTHÈQUE LE GRENIER  ...  48.6891076,2.5297452\n",
              "\n",
              "[5 rows x 21 columns]"
            ]
          },
          "metadata": {
            "tags": []
          },
          "execution_count": 3
        }
      ]
    },
    {
      "cell_type": "code",
      "metadata": {
        "id": "gwqtxAy3u_YU",
        "outputId": "80ae2fe5-a293-4799-e146-c91337354da2",
        "colab": {
          "base_uri": "https://localhost:8080/",
          "height": 206
        }
      },
      "source": [
        "df = df[['Code postal', 'Ville', 'Département']]\n",
        "df['Code postal'] = df['Code postal'].astype(str)\n",
        "df.head()"
      ],
      "execution_count": 5,
      "outputs": [
        {
          "output_type": "execute_result",
          "data": {
            "text/html": [
              "<div>\n",
              "<style scoped>\n",
              "    .dataframe tbody tr th:only-of-type {\n",
              "        vertical-align: middle;\n",
              "    }\n",
              "\n",
              "    .dataframe tbody tr th {\n",
              "        vertical-align: top;\n",
              "    }\n",
              "\n",
              "    .dataframe thead th {\n",
              "        text-align: right;\n",
              "    }\n",
              "</style>\n",
              "<table border=\"1\" class=\"dataframe\">\n",
              "  <thead>\n",
              "    <tr style=\"text-align: right;\">\n",
              "      <th></th>\n",
              "      <th>Code postal</th>\n",
              "      <th>Ville</th>\n",
              "      <th>Département</th>\n",
              "    </tr>\n",
              "  </thead>\n",
              "  <tbody>\n",
              "    <tr>\n",
              "      <th>0</th>\n",
              "      <td>93300</td>\n",
              "      <td>AUBERVILLIERS</td>\n",
              "      <td>93</td>\n",
              "    </tr>\n",
              "    <tr>\n",
              "      <th>1</th>\n",
              "      <td>91080</td>\n",
              "      <td>COURCOURONNES</td>\n",
              "      <td>91</td>\n",
              "    </tr>\n",
              "    <tr>\n",
              "      <th>2</th>\n",
              "      <td>91310</td>\n",
              "      <td>LINAS</td>\n",
              "      <td>91</td>\n",
              "    </tr>\n",
              "    <tr>\n",
              "      <th>3</th>\n",
              "      <td>91530</td>\n",
              "      <td>LE-VAL-SAINT-GERMAIN</td>\n",
              "      <td>91</td>\n",
              "    </tr>\n",
              "    <tr>\n",
              "      <th>4</th>\n",
              "      <td>91800</td>\n",
              "      <td>BOUSSY-SAINT-ANTOINE</td>\n",
              "      <td>91</td>\n",
              "    </tr>\n",
              "  </tbody>\n",
              "</table>\n",
              "</div>"
            ],
            "text/plain": [
              "  Code postal                 Ville  Département\n",
              "0       93300         AUBERVILLIERS           93\n",
              "1       91080         COURCOURONNES           91\n",
              "2       91310                 LINAS           91\n",
              "3       91530  LE-VAL-SAINT-GERMAIN           91\n",
              "4       91800  BOUSSY-SAINT-ANTOINE           91"
            ]
          },
          "metadata": {
            "tags": []
          },
          "execution_count": 5
        }
      ]
    },
    {
      "cell_type": "code",
      "metadata": {
        "id": "bsXZ--3Yx3hq",
        "outputId": "0718d0ad-1a1c-4d2a-c400-06354a8d1c64",
        "colab": {
          "base_uri": "https://localhost:8080/",
          "height": 521
        }
      },
      "source": [
        "# mapping code postal - code INSEE\n",
        "mapping = pd.read_csv('/content/drive/My Drive/Colab Notebooks/correspondances-code-insee-code-postal.csv', header=0, sep=';')\n",
        "print(mapping.shape)\n",
        "mapping.rename(columns={'Code Postal': 'Code postal'}, inplace=True)\n",
        "mapping.head()"
      ],
      "execution_count": 6,
      "outputs": [
        {
          "output_type": "stream",
          "text": [
            "(1300, 17)\n"
          ],
          "name": "stdout"
        },
        {
          "output_type": "execute_result",
          "data": {
            "text/html": [
              "<div>\n",
              "<style scoped>\n",
              "    .dataframe tbody tr th:only-of-type {\n",
              "        vertical-align: middle;\n",
              "    }\n",
              "\n",
              "    .dataframe tbody tr th {\n",
              "        vertical-align: top;\n",
              "    }\n",
              "\n",
              "    .dataframe thead th {\n",
              "        text-align: right;\n",
              "    }\n",
              "</style>\n",
              "<table border=\"1\" class=\"dataframe\">\n",
              "  <thead>\n",
              "    <tr style=\"text-align: right;\">\n",
              "      <th></th>\n",
              "      <th>Code INSEE</th>\n",
              "      <th>Code postal</th>\n",
              "      <th>Commune</th>\n",
              "      <th>Département</th>\n",
              "      <th>Région</th>\n",
              "      <th>Statut</th>\n",
              "      <th>Altitude Moyenne</th>\n",
              "      <th>Superficie</th>\n",
              "      <th>Population</th>\n",
              "      <th>geo_point_2d</th>\n",
              "      <th>geo_shape</th>\n",
              "      <th>ID Geofla</th>\n",
              "      <th>Code Commune</th>\n",
              "      <th>Code Canton</th>\n",
              "      <th>Code Arrondissement</th>\n",
              "      <th>Code Département</th>\n",
              "      <th>Code Région</th>\n",
              "    </tr>\n",
              "  </thead>\n",
              "  <tbody>\n",
              "    <tr>\n",
              "      <th>0</th>\n",
              "      <td>91645</td>\n",
              "      <td>91370</td>\n",
              "      <td>VERRIERES-LE-BUISSON</td>\n",
              "      <td>ESSONNE</td>\n",
              "      <td>ILE-DE-FRANCE</td>\n",
              "      <td>Commune simple</td>\n",
              "      <td>121.0</td>\n",
              "      <td>999.0</td>\n",
              "      <td>15.5</td>\n",
              "      <td>48.75044312,2.25171297214</td>\n",
              "      <td>{\"type\": \"Polygon\", \"coordinates\": [[[2.238024...</td>\n",
              "      <td>16275</td>\n",
              "      <td>645</td>\n",
              "      <td>3</td>\n",
              "      <td>3</td>\n",
              "      <td>91</td>\n",
              "      <td>11</td>\n",
              "    </tr>\n",
              "    <tr>\n",
              "      <th>1</th>\n",
              "      <td>77133</td>\n",
              "      <td>77126</td>\n",
              "      <td>COURCELLES-EN-BASSEE</td>\n",
              "      <td>SEINE-ET-MARNE</td>\n",
              "      <td>ILE-DE-FRANCE</td>\n",
              "      <td>Commune simple</td>\n",
              "      <td>88.0</td>\n",
              "      <td>1082.0</td>\n",
              "      <td>0.2</td>\n",
              "      <td>48.4125606521,3.05294050556</td>\n",
              "      <td>{\"type\": \"Polygon\", \"coordinates\": [[[3.076046...</td>\n",
              "      <td>31428</td>\n",
              "      <td>133</td>\n",
              "      <td>20</td>\n",
              "      <td>3</td>\n",
              "      <td>77</td>\n",
              "      <td>11</td>\n",
              "    </tr>\n",
              "    <tr>\n",
              "      <th>2</th>\n",
              "      <td>91378</td>\n",
              "      <td>91730</td>\n",
              "      <td>MAUCHAMPS</td>\n",
              "      <td>ESSONNE</td>\n",
              "      <td>ILE-DE-FRANCE</td>\n",
              "      <td>Commune simple</td>\n",
              "      <td>150.0</td>\n",
              "      <td>313.0</td>\n",
              "      <td>0.3</td>\n",
              "      <td>48.5272680908,2.19718165044</td>\n",
              "      <td>{\"type\": \"Polygon\", \"coordinates\": [[[2.203466...</td>\n",
              "      <td>30975</td>\n",
              "      <td>378</td>\n",
              "      <td>9</td>\n",
              "      <td>1</td>\n",
              "      <td>91</td>\n",
              "      <td>11</td>\n",
              "    </tr>\n",
              "    <tr>\n",
              "      <th>3</th>\n",
              "      <td>77243</td>\n",
              "      <td>77400</td>\n",
              "      <td>LAGNY-SUR-MARNE</td>\n",
              "      <td>SEINE-ET-MARNE</td>\n",
              "      <td>ILE-DE-FRANCE</td>\n",
              "      <td>Chef-lieu canton</td>\n",
              "      <td>71.0</td>\n",
              "      <td>579.0</td>\n",
              "      <td>20.2</td>\n",
              "      <td>48.8730701858,2.70978081313</td>\n",
              "      <td>{\"type\": \"Polygon\", \"coordinates\": [[[2.727542...</td>\n",
              "      <td>17000</td>\n",
              "      <td>243</td>\n",
              "      <td>14</td>\n",
              "      <td>5</td>\n",
              "      <td>77</td>\n",
              "      <td>11</td>\n",
              "    </tr>\n",
              "    <tr>\n",
              "      <th>4</th>\n",
              "      <td>94003</td>\n",
              "      <td>94110</td>\n",
              "      <td>ARCUEIL</td>\n",
              "      <td>VAL-DE-MARNE</td>\n",
              "      <td>ILE-DE-FRANCE</td>\n",
              "      <td>Chef-lieu canton</td>\n",
              "      <td>70.0</td>\n",
              "      <td>232.0</td>\n",
              "      <td>19.5</td>\n",
              "      <td>48.8058803597,2.33351024984</td>\n",
              "      <td>{\"type\": \"Polygon\", \"coordinates\": [[[2.343851...</td>\n",
              "      <td>32123</td>\n",
              "      <td>3</td>\n",
              "      <td>34</td>\n",
              "      <td>3</td>\n",
              "      <td>94</td>\n",
              "      <td>11</td>\n",
              "    </tr>\n",
              "  </tbody>\n",
              "</table>\n",
              "</div>"
            ],
            "text/plain": [
              "   Code INSEE Code postal  ... Code Département Code Région\n",
              "0       91645       91370  ...               91          11\n",
              "1       77133       77126  ...               77          11\n",
              "2       91378       91730  ...               91          11\n",
              "3       77243       77400  ...               77          11\n",
              "4       94003       94110  ...               94          11\n",
              "\n",
              "[5 rows x 17 columns]"
            ]
          },
          "metadata": {
            "tags": []
          },
          "execution_count": 6
        }
      ]
    },
    {
      "cell_type": "code",
      "metadata": {
        "id": "DpogjcPX7LcK"
      },
      "source": [
        "mapping.drop_duplicates(inplace=True)"
      ],
      "execution_count": null,
      "outputs": []
    },
    {
      "cell_type": "code",
      "metadata": {
        "id": "cOPPhAtnzFAv",
        "outputId": "2c612ff6-ee98-4c99-84a5-e32be6212d31",
        "colab": {
          "base_uri": "https://localhost:8080/",
          "height": 424
        }
      },
      "source": [
        "df.merge(mapping[['Code INSEE', 'Code postal']], how='inner', on='Code postal').drop_duplicates()  "
      ],
      "execution_count": null,
      "outputs": [
        {
          "output_type": "execute_result",
          "data": {
            "text/html": [
              "<div>\n",
              "<style scoped>\n",
              "    .dataframe tbody tr th:only-of-type {\n",
              "        vertical-align: middle;\n",
              "    }\n",
              "\n",
              "    .dataframe tbody tr th {\n",
              "        vertical-align: top;\n",
              "    }\n",
              "\n",
              "    .dataframe thead th {\n",
              "        text-align: right;\n",
              "    }\n",
              "</style>\n",
              "<table border=\"1\" class=\"dataframe\">\n",
              "  <thead>\n",
              "    <tr style=\"text-align: right;\">\n",
              "      <th></th>\n",
              "      <th>Code postal</th>\n",
              "      <th>Ville</th>\n",
              "      <th>Département</th>\n",
              "      <th>Code INSEE</th>\n",
              "    </tr>\n",
              "  </thead>\n",
              "  <tbody>\n",
              "    <tr>\n",
              "      <th>0</th>\n",
              "      <td>93300</td>\n",
              "      <td>AUBERVILLIERS</td>\n",
              "      <td>93</td>\n",
              "      <td>93001</td>\n",
              "    </tr>\n",
              "    <tr>\n",
              "      <th>4</th>\n",
              "      <td>91080</td>\n",
              "      <td>COURCOURONNES</td>\n",
              "      <td>91</td>\n",
              "      <td>91182</td>\n",
              "    </tr>\n",
              "    <tr>\n",
              "      <th>5</th>\n",
              "      <td>91310</td>\n",
              "      <td>LINAS</td>\n",
              "      <td>91</td>\n",
              "      <td>91333</td>\n",
              "    </tr>\n",
              "    <tr>\n",
              "      <th>6</th>\n",
              "      <td>91310</td>\n",
              "      <td>LINAS</td>\n",
              "      <td>91</td>\n",
              "      <td>91425</td>\n",
              "    </tr>\n",
              "    <tr>\n",
              "      <th>7</th>\n",
              "      <td>91310</td>\n",
              "      <td>LINAS</td>\n",
              "      <td>91</td>\n",
              "      <td>91339</td>\n",
              "    </tr>\n",
              "    <tr>\n",
              "      <th>...</th>\n",
              "      <td>...</td>\n",
              "      <td>...</td>\n",
              "      <td>...</td>\n",
              "      <td>...</td>\n",
              "    </tr>\n",
              "    <tr>\n",
              "      <th>2722</th>\n",
              "      <td>77440</td>\n",
              "      <td>ARMENTIÈRES-EN-BRIE</td>\n",
              "      <td>77</td>\n",
              "      <td>77490</td>\n",
              "    </tr>\n",
              "    <tr>\n",
              "      <th>2723</th>\n",
              "      <td>77440</td>\n",
              "      <td>ARMENTIÈRES-EN-BRIE</td>\n",
              "      <td>77</td>\n",
              "      <td>77231</td>\n",
              "    </tr>\n",
              "    <tr>\n",
              "      <th>2724</th>\n",
              "      <td>77440</td>\n",
              "      <td>ARMENTIÈRES-EN-BRIE</td>\n",
              "      <td>77</td>\n",
              "      <td>77235</td>\n",
              "    </tr>\n",
              "    <tr>\n",
              "      <th>2725</th>\n",
              "      <td>77200</td>\n",
              "      <td>TORCY</td>\n",
              "      <td>77</td>\n",
              "      <td>77468</td>\n",
              "    </tr>\n",
              "    <tr>\n",
              "      <th>2726</th>\n",
              "      <td>78970</td>\n",
              "      <td>MÉZIÈRES-SUR-SEINE</td>\n",
              "      <td>78</td>\n",
              "      <td>78402</td>\n",
              "    </tr>\n",
              "  </tbody>\n",
              "</table>\n",
              "<p>2473 rows × 4 columns</p>\n",
              "</div>"
            ],
            "text/plain": [
              "     Code postal                Ville  Département  Code INSEE\n",
              "0          93300        AUBERVILLIERS           93       93001\n",
              "4          91080        COURCOURONNES           91       91182\n",
              "5          91310                LINAS           91       91333\n",
              "6          91310                LINAS           91       91425\n",
              "7          91310                LINAS           91       91339\n",
              "...          ...                  ...          ...         ...\n",
              "2722       77440  ARMENTIÈRES-EN-BRIE           77       77490\n",
              "2723       77440  ARMENTIÈRES-EN-BRIE           77       77231\n",
              "2724       77440  ARMENTIÈRES-EN-BRIE           77       77235\n",
              "2725       77200                TORCY           77       77468\n",
              "2726       78970   MÉZIÈRES-SUR-SEINE           78       78402\n",
              "\n",
              "[2473 rows x 4 columns]"
            ]
          },
          "metadata": {
            "tags": []
          },
          "execution_count": 8
        }
      ]
    },
    {
      "cell_type": "code",
      "metadata": {
        "id": "9WcRoguezFD5"
      },
      "source": [
        ""
      ],
      "execution_count": null,
      "outputs": []
    },
    {
      "cell_type": "code",
      "metadata": {
        "id": "dYf4quYkzGCX"
      },
      "source": [
        ""
      ],
      "execution_count": null,
      "outputs": []
    },
    {
      "cell_type": "markdown",
      "metadata": {
        "id": "qP0mew0WBrJv"
      },
      "source": [
        "## 2. Liste des centres sociaux"
      ]
    },
    {
      "cell_type": "code",
      "metadata": {
        "id": "XD_MDH2YB1LW"
      },
      "source": [
        "import json\n",
        "import pandas as pd\n",
        "import numpy as np\n",
        "from bs4 import BeautifulSoup\n",
        "from urllib import request\n",
        "\n",
        "import time\n",
        "\n",
        "\n",
        "def timeit(method):\n",
        "    def timed(*args, **kw):\n",
        "        ts = time.time()\n",
        "        result = method(*args, **kw)\n",
        "        te = time.time()        \n",
        "        if 'log_time' in kw:\n",
        "            name = kw.get('log_name', method.__name__.upper())\n",
        "            kw['log_time'][name] = int((te - ts) * 1000)\n",
        "        else:\n",
        "            print('%r  %2.2f ms' % \\\n",
        "                  (method.__name__, (te - ts) * 1000))\n",
        "        return result    \n",
        "    return timed"
      ],
      "execution_count": null,
      "outputs": []
    },
    {
      "cell_type": "code",
      "metadata": {
        "id": "55UsMNkoBtrQ"
      },
      "source": [
        "@timeit\n",
        "def scrap_table_page(url='https://www.senacs.fr/structure/csx?page=', page_number=1):\n",
        "    \"\"\"\n",
        "    Generate a request on senacs page for a given \n",
        "    page number to get the name and location of \n",
        "    each social center.\n",
        "    \"\"\"\n",
        "\n",
        "    url_page = url + str(page_number)\n",
        "    request_text = request.urlopen(url_page).read()\n",
        "    page = BeautifulSoup(request_text, 'html.parser')\n",
        "\n",
        "    table = page.find('table', {'class': 'table table-striped table-hover'}).findAll('td')\n",
        "\n",
        "    # fill the values of id, name and city\n",
        "    ids = [id.getText() for id in table[::4]]\n",
        "    names = [name.getText() for name in table[1::4]]\n",
        "    cities = [city.getText() for city in table[2::4]]\n",
        "\n",
        "    df = pd.DataFrame({'id': ids, \n",
        "                      'nom': names,\n",
        "                      'ville': cities}\n",
        "                      )\n",
        "    df['page'] = page_number\n",
        "\n",
        "    return df\n",
        "\n",
        "\n",
        "def stack_pages(pages=range(91)):\n",
        "    \"\"\"\n",
        "    Concatenate all empruntis scrapped data per region.\n",
        "    \"\"\"\n",
        "\n",
        "    data = pd.DataFrame()    # empty Dataframe to fill\n",
        "    for page_number in pages:\n",
        "        temp = scrap_table_page(page_number=page_number)\n",
        "        data = pd.concat([data, temp], axis=0)\n",
        "\n",
        "    return data"
      ],
      "execution_count": null,
      "outputs": []
    },
    {
      "cell_type": "code",
      "metadata": {
        "id": "8JjPHFWjHKRF"
      },
      "source": [
        "data = stack_pages()"
      ],
      "execution_count": null,
      "outputs": []
    },
    {
      "cell_type": "code",
      "metadata": {
        "id": "3-9GvgYoIYof"
      },
      "source": [
        "data['code_postal'] = data['ville'].apply(lambda x: x.split('-')[0])\n",
        "data['ville'] = data['ville'].apply(lambda x: x.split('-')[1])"
      ],
      "execution_count": null,
      "outputs": []
    },
    {
      "cell_type": "code",
      "metadata": {
        "id": "S0Y6lbJ_LEiB",
        "outputId": "99f2117b-7dd0-4b37-a3c4-31bcef0891c2",
        "colab": {
          "base_uri": "https://localhost:8080/",
          "height": 493
        }
      },
      "source": [
        "data"
      ],
      "execution_count": null,
      "outputs": [
        {
          "output_type": "execute_result",
          "data": {
            "text/html": [
              "<div>\n",
              "<style scoped>\n",
              "    .dataframe tbody tr th:only-of-type {\n",
              "        vertical-align: middle;\n",
              "    }\n",
              "\n",
              "    .dataframe tbody tr th {\n",
              "        vertical-align: top;\n",
              "    }\n",
              "\n",
              "    .dataframe thead th {\n",
              "        text-align: right;\n",
              "    }\n",
              "</style>\n",
              "<table border=\"1\" class=\"dataframe\">\n",
              "  <thead>\n",
              "    <tr style=\"text-align: right;\">\n",
              "      <th></th>\n",
              "      <th>id</th>\n",
              "      <th>nom</th>\n",
              "      <th>ville</th>\n",
              "      <th>page</th>\n",
              "      <th>code_postal</th>\n",
              "    </tr>\n",
              "  </thead>\n",
              "  <tbody>\n",
              "    <tr>\n",
              "      <th>0</th>\n",
              "      <td>91</td>\n",
              "      <td>CENTRE SOCIAL DES GRANDES BORNES</td>\n",
              "      <td>Goussainville</td>\n",
              "      <td>0</td>\n",
              "      <td>95190</td>\n",
              "    </tr>\n",
              "    <tr>\n",
              "      <th>1</th>\n",
              "      <td>92</td>\n",
              "      <td>CENTRE SOCIAL ARCHIPELIA</td>\n",
              "      <td>PARIS 20EME ARRONDISSEMENT</td>\n",
              "      <td>0</td>\n",
              "      <td>75020</td>\n",
              "    </tr>\n",
              "    <tr>\n",
              "      <th>2</th>\n",
              "      <td>93</td>\n",
              "      <td>Espace Socioculturel Val de Charente</td>\n",
              "      <td>Ruffec</td>\n",
              "      <td>0</td>\n",
              "      <td>16700</td>\n",
              "    </tr>\n",
              "    <tr>\n",
              "      <th>3</th>\n",
              "      <td>94</td>\n",
              "      <td>CENTRE SOCIAL Maison Des Habitants Champaret</td>\n",
              "      <td>Bourgoin</td>\n",
              "      <td>0</td>\n",
              "      <td>38300</td>\n",
              "    </tr>\n",
              "    <tr>\n",
              "      <th>4</th>\n",
              "      <td>95</td>\n",
              "      <td>CENTRE SOCIAL MAISON DE LA CHALLE</td>\n",
              "      <td>Éragny</td>\n",
              "      <td>0</td>\n",
              "      <td>95610</td>\n",
              "    </tr>\n",
              "    <tr>\n",
              "      <th>...</th>\n",
              "      <td>...</td>\n",
              "      <td>...</td>\n",
              "      <td>...</td>\n",
              "      <td>...</td>\n",
              "      <td>...</td>\n",
              "    </tr>\n",
              "    <tr>\n",
              "      <th>6</th>\n",
              "      <td>16264</td>\n",
              "      <td>CENTRE SOCIOCULTUREL MUNICIPAL DE SAINT-DIZIER</td>\n",
              "      <td>Saint</td>\n",
              "      <td>90</td>\n",
              "      <td>52100</td>\n",
              "    </tr>\n",
              "    <tr>\n",
              "      <th>7</th>\n",
              "      <td>16267</td>\n",
              "      <td>ESPACE DE VIE SOCIALE L.E.P.H.A.R.E</td>\n",
              "      <td>Aniche</td>\n",
              "      <td>90</td>\n",
              "      <td>59580</td>\n",
              "    </tr>\n",
              "    <tr>\n",
              "      <th>8</th>\n",
              "      <td>16351</td>\n",
              "      <td>ASSOCIATION  FERME BEAUREPAIRE</td>\n",
              "      <td>Boulogne</td>\n",
              "      <td>90</td>\n",
              "      <td>62200</td>\n",
              "    </tr>\n",
              "    <tr>\n",
              "      <th>9</th>\n",
              "      <td>16355</td>\n",
              "      <td>OFFICE DE LA JEUNESSE</td>\n",
              "      <td>Bruay</td>\n",
              "      <td>90</td>\n",
              "      <td>62700</td>\n",
              "    </tr>\n",
              "    <tr>\n",
              "      <th>10</th>\n",
              "      <td>16359</td>\n",
              "      <td>CENTRE SOCIAL MUNICIPAL ECLATE MONTIGNY EN GOH...</td>\n",
              "      <td>Montigny</td>\n",
              "      <td>90</td>\n",
              "      <td>62640</td>\n",
              "    </tr>\n",
              "  </tbody>\n",
              "</table>\n",
              "<p>2261 rows × 5 columns</p>\n",
              "</div>"
            ],
            "text/plain": [
              "       id                                                nom  ... page  code_postal\n",
              "0      91                   CENTRE SOCIAL DES GRANDES BORNES  ...    0       95190 \n",
              "1      92                           CENTRE SOCIAL ARCHIPELIA  ...    0       75020 \n",
              "2      93               Espace Socioculturel Val de Charente  ...    0       16700 \n",
              "3      94       CENTRE SOCIAL Maison Des Habitants Champaret  ...    0       38300 \n",
              "4      95                  CENTRE SOCIAL MAISON DE LA CHALLE  ...    0       95610 \n",
              "..    ...                                                ...  ...  ...          ...\n",
              "6   16264     CENTRE SOCIOCULTUREL MUNICIPAL DE SAINT-DIZIER  ...   90       52100 \n",
              "7   16267                ESPACE DE VIE SOCIALE L.E.P.H.A.R.E  ...   90       59580 \n",
              "8   16351                    ASSOCIATION  FERME BEAUREPAIRE   ...   90       62200 \n",
              "9   16355                              OFFICE DE LA JEUNESSE  ...   90       62700 \n",
              "10  16359  CENTRE SOCIAL MUNICIPAL ECLATE MONTIGNY EN GOH...  ...   90       62640 \n",
              "\n",
              "[2261 rows x 5 columns]"
            ]
          },
          "metadata": {
            "tags": []
          },
          "execution_count": 70
        }
      ]
    },
    {
      "cell_type": "markdown",
      "metadata": {
        "id": "0nXf4iOgeVUi"
      },
      "source": [
        "## 3. Distance des communes à l'accès le plus proche\n"
      ]
    },
    {
      "cell_type": "code",
      "metadata": {
        "id": "gbrlsP6LKBNk",
        "outputId": "28e8aa49-7c8f-4d64-c1c6-84435565ec46",
        "colab": {
          "base_uri": "https://localhost:8080/",
          "height": 139
        }
      },
      "source": [
        "# copy geoson file with every 'Franceservices' locations\n",
        "\n",
        "import os\n",
        "\n",
        "if 'COLAB_GPU' in os.environ:  # this is always set on Colab, the value is 0 or 1 depending on whether a GPU is attached\n",
        "    from google.colab import auth\n",
        "    #auth.authenticate_user()\n",
        "\n",
        "    !rm -rf France-services/ \n",
        "    !git clone https://github.com/cget-carto/France-services.git\n",
        "    !mv France-services/data/france_services.geojson ."
      ],
      "execution_count": 2,
      "outputs": [
        {
          "output_type": "stream",
          "text": [
            "Cloning into 'France-services'...\n",
            "remote: Enumerating objects: 260, done.\u001b[K\n",
            "remote: Counting objects: 100% (260/260), done.\u001b[K\n",
            "remote: Compressing objects: 100% (169/169), done.\u001b[K\n",
            "remote: Total 260 (delta 108), reused 221 (delta 78), pack-reused 0\u001b[K\n",
            "Receiving objects: 100% (260/260), 2.12 MiB | 14.29 MiB/s, done.\n",
            "Resolving deltas: 100% (108/108), done.\n"
          ],
          "name": "stdout"
        }
      ]
    },
    {
      "cell_type": "code",
      "metadata": {
        "id": "Xn4yFI7dflix"
      },
      "source": [
        "import pandas as pd\n",
        "import json\n",
        "\n",
        "with open(\"france_services.geojson\", \"r\") as read_file: \n",
        "    fs = json.load(read_file) "
      ],
      "execution_count": 3,
      "outputs": []
    },
    {
      "cell_type": "code",
      "metadata": {
        "id": "7SftmC0ZgIkl"
      },
      "source": [
        "data_fs = pd.DataFrame()\n",
        "for n, temp in enumerate(fs['features']): \n",
        " \n",
        "    df_temp = pd.DataFrame.from_records([{'latitude': temp['properties']['LATITUDE'], \n",
        "                            'longitude': temp['properties']['LATITUDE'], \n",
        "                            'departement': temp['properties']['DEPARTEMENT'],\n",
        "                            'insee_com': temp['properties']['insee_com'],\n",
        "                            'code_postal': temp['properties']['code_postal'], \n",
        "                            'lib_france_services': temp['properties']['lib_france_services']\n",
        "                            }])\n",
        "    \n",
        "    data_fs = pd.concat([data_fs, df_temp], axis=0)"
      ],
      "execution_count": 4,
      "outputs": []
    },
    {
      "cell_type": "code",
      "metadata": {
        "id": "4AbtbfiVObrp",
        "outputId": "bf359e33-22d2-42e5-dd53-5d708d3984d3",
        "colab": {
          "base_uri": "https://localhost:8080/",
          "height": 424
        }
      },
      "source": [
        "data_fs"
      ],
      "execution_count": 5,
      "outputs": [
        {
          "output_type": "execute_result",
          "data": {
            "text/html": [
              "<div>\n",
              "<style scoped>\n",
              "    .dataframe tbody tr th:only-of-type {\n",
              "        vertical-align: middle;\n",
              "    }\n",
              "\n",
              "    .dataframe tbody tr th {\n",
              "        vertical-align: top;\n",
              "    }\n",
              "\n",
              "    .dataframe thead th {\n",
              "        text-align: right;\n",
              "    }\n",
              "</style>\n",
              "<table border=\"1\" class=\"dataframe\">\n",
              "  <thead>\n",
              "    <tr style=\"text-align: right;\">\n",
              "      <th></th>\n",
              "      <th>latitude</th>\n",
              "      <th>longitude</th>\n",
              "      <th>departement</th>\n",
              "      <th>insee_com</th>\n",
              "      <th>code_postal</th>\n",
              "      <th>lib_france_services</th>\n",
              "    </tr>\n",
              "  </thead>\n",
              "  <tbody>\n",
              "    <tr>\n",
              "      <th>0</th>\n",
              "      <td>46.105747</td>\n",
              "      <td>46.105747</td>\n",
              "      <td>1</td>\n",
              "      <td>01033</td>\n",
              "      <td>01200</td>\n",
              "      <td>Valserhône</td>\n",
              "    </tr>\n",
              "    <tr>\n",
              "      <th>0</th>\n",
              "      <td>44.031548</td>\n",
              "      <td>44.031548</td>\n",
              "      <td>12</td>\n",
              "      <td>12197</td>\n",
              "      <td>12170</td>\n",
              "      <td>Réquista « Le Bercail »</td>\n",
              "    </tr>\n",
              "    <tr>\n",
              "      <th>0</th>\n",
              "      <td>44.475185</td>\n",
              "      <td>44.475185</td>\n",
              "      <td>12</td>\n",
              "      <td>12138</td>\n",
              "      <td>12330</td>\n",
              "      <td>Conques-Marcillac</td>\n",
              "    </tr>\n",
              "    <tr>\n",
              "      <th>0</th>\n",
              "      <td>49.291400</td>\n",
              "      <td>49.291400</td>\n",
              "      <td>14</td>\n",
              "      <td>14514</td>\n",
              "      <td>14130</td>\n",
              "      <td>Terre d’Auge</td>\n",
              "    </tr>\n",
              "    <tr>\n",
              "      <th>0</th>\n",
              "      <td>49.126169</td>\n",
              "      <td>49.126169</td>\n",
              "      <td>14</td>\n",
              "      <td>14057</td>\n",
              "      <td>14370</td>\n",
              "      <td>Val ès Dunes</td>\n",
              "    </tr>\n",
              "    <tr>\n",
              "      <th>...</th>\n",
              "      <td>...</td>\n",
              "      <td>...</td>\n",
              "      <td>...</td>\n",
              "      <td>...</td>\n",
              "      <td>...</td>\n",
              "      <td>...</td>\n",
              "    </tr>\n",
              "    <tr>\n",
              "      <th>0</th>\n",
              "      <td>47.617932</td>\n",
              "      <td>47.617932</td>\n",
              "      <td>89</td>\n",
              "      <td>89368</td>\n",
              "      <td>89520</td>\n",
              "      <td>Saint-Sauveur-en-Puisaye</td>\n",
              "    </tr>\n",
              "    <tr>\n",
              "      <th>0</th>\n",
              "      <td>48.980007</td>\n",
              "      <td>48.980007</td>\n",
              "      <td>95</td>\n",
              "      <td>95219</td>\n",
              "      <td>95120</td>\n",
              "      <td>Ermont</td>\n",
              "    </tr>\n",
              "    <tr>\n",
              "      <th>0</th>\n",
              "      <td>47.181000</td>\n",
              "      <td>47.181000</td>\n",
              "      <td>25</td>\n",
              "      <td>25527</td>\n",
              "      <td>25410</td>\n",
              "      <td>Saint Vit</td>\n",
              "    </tr>\n",
              "    <tr>\n",
              "      <th>0</th>\n",
              "      <td>43.208769</td>\n",
              "      <td>43.208769</td>\n",
              "      <td>31</td>\n",
              "      <td>31375</td>\n",
              "      <td>31310</td>\n",
              "      <td>Volvestre – Antenne Montesquieu</td>\n",
              "    </tr>\n",
              "    <tr>\n",
              "      <th>0</th>\n",
              "      <td>43.328157</td>\n",
              "      <td>43.328157</td>\n",
              "      <td>31</td>\n",
              "      <td>31517</td>\n",
              "      <td>31410</td>\n",
              "      <td>Volvestre – Antenne Saint Sulpice</td>\n",
              "    </tr>\n",
              "  </tbody>\n",
              "</table>\n",
              "<p>908 rows × 6 columns</p>\n",
              "</div>"
            ],
            "text/plain": [
              "     latitude  longitude  ... code_postal                lib_france_services\n",
              "0   46.105747  46.105747  ...       01200                         Valserhône\n",
              "0   44.031548  44.031548  ...       12170            Réquista « Le Bercail »\n",
              "0   44.475185  44.475185  ...       12330                  Conques-Marcillac\n",
              "0   49.291400  49.291400  ...       14130                       Terre d’Auge\n",
              "0   49.126169  49.126169  ...       14370                       Val ès Dunes\n",
              "..        ...        ...  ...         ...                                ...\n",
              "0   47.617932  47.617932  ...       89520           Saint-Sauveur-en-Puisaye\n",
              "0   48.980007  48.980007  ...       95120                             Ermont\n",
              "0   47.181000  47.181000  ...       25410                          Saint Vit\n",
              "0   43.208769  43.208769  ...       31310    Volvestre – Antenne Montesquieu\n",
              "0   43.328157  43.328157  ...       31410  Volvestre – Antenne Saint Sulpice\n",
              "\n",
              "[908 rows x 6 columns]"
            ]
          },
          "metadata": {
            "tags": []
          },
          "execution_count": 5
        }
      ]
    },
    {
      "cell_type": "code",
      "metadata": {
        "id": "mNUz0FYtPIHq",
        "outputId": "1391187f-45e6-4d7f-847e-970cd909bdb2",
        "colab": {
          "base_uri": "https://localhost:8080/",
          "height": 260
        }
      },
      "source": [
        "!pip install pgeocode"
      ],
      "execution_count": 6,
      "outputs": [
        {
          "output_type": "stream",
          "text": [
            "Collecting pgeocode\n",
            "  Downloading https://files.pythonhosted.org/packages/35/88/688b8550ceeed59a4b0be3f54d2ad8075ce708b5d5c0b0ec1a3abe58d4cb/pgeocode-0.3.0-py3-none-any.whl\n",
            "Requirement already satisfied: pandas in /usr/local/lib/python3.6/dist-packages (from pgeocode) (1.1.3)\n",
            "Requirement already satisfied: numpy in /usr/local/lib/python3.6/dist-packages (from pgeocode) (1.18.5)\n",
            "Requirement already satisfied: requests in /usr/local/lib/python3.6/dist-packages (from pgeocode) (2.23.0)\n",
            "Requirement already satisfied: pytz>=2017.2 in /usr/local/lib/python3.6/dist-packages (from pandas->pgeocode) (2018.9)\n",
            "Requirement already satisfied: python-dateutil>=2.7.3 in /usr/local/lib/python3.6/dist-packages (from pandas->pgeocode) (2.8.1)\n",
            "Requirement already satisfied: certifi>=2017.4.17 in /usr/local/lib/python3.6/dist-packages (from requests->pgeocode) (2020.6.20)\n",
            "Requirement already satisfied: idna<3,>=2.5 in /usr/local/lib/python3.6/dist-packages (from requests->pgeocode) (2.10)\n",
            "Requirement already satisfied: urllib3!=1.25.0,!=1.25.1,<1.26,>=1.21.1 in /usr/local/lib/python3.6/dist-packages (from requests->pgeocode) (1.24.3)\n",
            "Requirement already satisfied: chardet<4,>=3.0.2 in /usr/local/lib/python3.6/dist-packages (from requests->pgeocode) (3.0.4)\n",
            "Requirement already satisfied: six>=1.5 in /usr/local/lib/python3.6/dist-packages (from python-dateutil>=2.7.3->pandas->pgeocode) (1.15.0)\n",
            "Installing collected packages: pgeocode\n",
            "Successfully installed pgeocode-0.3.0\n"
          ],
          "name": "stdout"
        }
      ]
    },
    {
      "cell_type": "markdown",
      "metadata": {
        "id": "Bn8gHBHFTIsb"
      },
      "source": [
        "### Calculer la distance entre le centre des communes et la prefecture, sous-prefecture ou france-services la plus proche en km. \n",
        "\n",
        "- scrapper prefecture / sous-prefecture https://fr.wikipedia.org/wiki/Liste_des_pr%C3%A9fectures_de_France\n",
        "- obtenir coordonnées des communes: OK via codes postaux + librairie `pgecode`"
      ]
    },
    {
      "cell_type": "code",
      "metadata": {
        "id": "kSuKUHxQP4gw",
        "outputId": "0f3e1a6f-934c-439e-a22f-f06681c5d409",
        "colab": {
          "base_uri": "https://localhost:8080/",
          "height": 156
        }
      },
      "source": [
        "import pgeocode\n",
        "dist = pgeocode.GeoDistance('fr')\n",
        "\n",
        "!rm -rf batch8_mednum/\n",
        "!git clone https://github.com/dataforgoodfr/batch8_mednum.git\n",
        "!mv batch8_mednum/data/table_iris_insee_epci.csv .\n",
        "!ls"
      ],
      "execution_count": 7,
      "outputs": [
        {
          "output_type": "stream",
          "text": [
            "Cloning into 'batch8_mednum'...\n",
            "remote: Enumerating objects: 99, done.\u001b[K\n",
            "remote: Counting objects: 100% (99/99), done.\u001b[K\n",
            "remote: Compressing objects: 100% (90/90), done.\u001b[K\n",
            "remote: Total 99 (delta 48), reused 22 (delta 5), pack-reused 0\u001b[K\n",
            "Unpacking objects: 100% (99/99), done.\n",
            "batch8_mednum\t france_services.geojson  table_iris_insee_epci.csv\n",
            "France-services  sample_data\n"
          ],
          "name": "stdout"
        }
      ]
    },
    {
      "cell_type": "code",
      "metadata": {
        "id": "SqxbsB-tQEmn"
      },
      "source": [
        "#data['distance'] = dist.query_postal_code(data[''].values, data[''].values)"
      ],
      "execution_count": 8,
      "outputs": []
    },
    {
      "cell_type": "code",
      "metadata": {
        "id": "ajj_2ZvPRnl-",
        "outputId": "2b1e2d19-b052-419c-b6e6-74bf352e1ccd",
        "colab": {
          "base_uri": "https://localhost:8080/",
          "height": 424
        }
      },
      "source": [
        "#commune = pd.read_csv('table_iris_insee_epci.csv')\n",
        "#del commune['Unnamed: 0']\n",
        "commune = pd.read_csv('/content/drive/My Drive/Colab Notebooks/laposte_hexasmal.csv', delimiter=';')\n",
        "commune.rename(columns={'Code_postal': 'code_postal'}, inplace=True)\n",
        "commune"
      ],
      "execution_count": 12,
      "outputs": [
        {
          "output_type": "execute_result",
          "data": {
            "text/html": [
              "<div>\n",
              "<style scoped>\n",
              "    .dataframe tbody tr th:only-of-type {\n",
              "        vertical-align: middle;\n",
              "    }\n",
              "\n",
              "    .dataframe tbody tr th {\n",
              "        vertical-align: top;\n",
              "    }\n",
              "\n",
              "    .dataframe thead th {\n",
              "        text-align: right;\n",
              "    }\n",
              "</style>\n",
              "<table border=\"1\" class=\"dataframe\">\n",
              "  <thead>\n",
              "    <tr style=\"text-align: right;\">\n",
              "      <th></th>\n",
              "      <th>Code_commune_INSEE</th>\n",
              "      <th>Nom_commune</th>\n",
              "      <th>code_postal</th>\n",
              "      <th>Ligne_5</th>\n",
              "      <th>Libellé_d_acheminement</th>\n",
              "      <th>coordonnees_gps</th>\n",
              "    </tr>\n",
              "  </thead>\n",
              "  <tbody>\n",
              "    <tr>\n",
              "      <th>0</th>\n",
              "      <td>01004</td>\n",
              "      <td>AMBERIEU EN BUGEY</td>\n",
              "      <td>1500</td>\n",
              "      <td>NaN</td>\n",
              "      <td>AMBERIEU EN BUGEY</td>\n",
              "      <td>45.9608475114,5.3729257777</td>\n",
              "    </tr>\n",
              "    <tr>\n",
              "      <th>1</th>\n",
              "      <td>01008</td>\n",
              "      <td>AMBUTRIX</td>\n",
              "      <td>1500</td>\n",
              "      <td>NaN</td>\n",
              "      <td>AMBUTRIX</td>\n",
              "      <td>45.9367134524,5.3328092349</td>\n",
              "    </tr>\n",
              "    <tr>\n",
              "      <th>2</th>\n",
              "      <td>01015</td>\n",
              "      <td>ARBOYS EN BUGEY</td>\n",
              "      <td>1300</td>\n",
              "      <td>ST BOIS</td>\n",
              "      <td>ARBOYS EN BUGEY</td>\n",
              "      <td>45.7237621545,5.65263086429</td>\n",
              "    </tr>\n",
              "    <tr>\n",
              "      <th>3</th>\n",
              "      <td>01017</td>\n",
              "      <td>ARGIS</td>\n",
              "      <td>1230</td>\n",
              "      <td>NaN</td>\n",
              "      <td>ARGIS</td>\n",
              "      <td>45.9337182132,5.48251100314</td>\n",
              "    </tr>\n",
              "    <tr>\n",
              "      <th>4</th>\n",
              "      <td>01019</td>\n",
              "      <td>ARMIX</td>\n",
              "      <td>1510</td>\n",
              "      <td>NaN</td>\n",
              "      <td>ARMIX</td>\n",
              "      <td>45.8541838459,5.58357838695</td>\n",
              "    </tr>\n",
              "    <tr>\n",
              "      <th>...</th>\n",
              "      <td>...</td>\n",
              "      <td>...</td>\n",
              "      <td>...</td>\n",
              "      <td>...</td>\n",
              "      <td>...</td>\n",
              "      <td>...</td>\n",
              "    </tr>\n",
              "    <tr>\n",
              "      <th>39187</th>\n",
              "      <td>98824</td>\n",
              "      <td>POUEBO</td>\n",
              "      <td>98824</td>\n",
              "      <td>NaN</td>\n",
              "      <td>POUEBO</td>\n",
              "      <td>NaN</td>\n",
              "    </tr>\n",
              "    <tr>\n",
              "      <th>39188</th>\n",
              "      <td>98825</td>\n",
              "      <td>POUEMBOUT</td>\n",
              "      <td>98825</td>\n",
              "      <td>NaN</td>\n",
              "      <td>POUEMBOUT</td>\n",
              "      <td>NaN</td>\n",
              "    </tr>\n",
              "    <tr>\n",
              "      <th>39189</th>\n",
              "      <td>98828</td>\n",
              "      <td>SARRAMEA</td>\n",
              "      <td>98882</td>\n",
              "      <td>NaN</td>\n",
              "      <td>SARRAMEA</td>\n",
              "      <td>NaN</td>\n",
              "    </tr>\n",
              "    <tr>\n",
              "      <th>39190</th>\n",
              "      <td>98830</td>\n",
              "      <td>TOUHO</td>\n",
              "      <td>98831</td>\n",
              "      <td>NaN</td>\n",
              "      <td>TOUHO</td>\n",
              "      <td>NaN</td>\n",
              "    </tr>\n",
              "    <tr>\n",
              "      <th>39191</th>\n",
              "      <td>98901</td>\n",
              "      <td>ILE DE CLIPPERTON</td>\n",
              "      <td>98799</td>\n",
              "      <td>NaN</td>\n",
              "      <td>ILE DE CLIPPERTON</td>\n",
              "      <td>NaN</td>\n",
              "    </tr>\n",
              "  </tbody>\n",
              "</table>\n",
              "<p>39192 rows × 6 columns</p>\n",
              "</div>"
            ],
            "text/plain": [
              "      Code_commune_INSEE  ...              coordonnees_gps\n",
              "0                  01004  ...   45.9608475114,5.3729257777\n",
              "1                  01008  ...   45.9367134524,5.3328092349\n",
              "2                  01015  ...  45.7237621545,5.65263086429\n",
              "3                  01017  ...  45.9337182132,5.48251100314\n",
              "4                  01019  ...  45.8541838459,5.58357838695\n",
              "...                  ...  ...                          ...\n",
              "39187              98824  ...                          NaN\n",
              "39188              98825  ...                          NaN\n",
              "39189              98828  ...                          NaN\n",
              "39190              98830  ...                          NaN\n",
              "39191              98901  ...                          NaN\n",
              "\n",
              "[39192 rows x 6 columns]"
            ]
          },
          "metadata": {
            "tags": []
          },
          "execution_count": 12
        }
      ]
    },
    {
      "cell_type": "code",
      "metadata": {
        "id": "KYiLHw_eUQ7p"
      },
      "source": [
        "# calculer le france-service (ou prefecture, sous-prefecture etc.) le plus proche de chaque commune et bueno "
      ],
      "execution_count": null,
      "outputs": []
    },
    {
      "cell_type": "code",
      "metadata": {
        "id": "hJCs-6D3LMK5"
      },
      "source": [
        "commune.dtypes\n",
        "commune['code_postal'] = commune['code_postal'].astype(str)"
      ],
      "execution_count": 13,
      "outputs": []
    },
    {
      "cell_type": "code",
      "metadata": {
        "id": "FqWmYD2LUo0K",
        "outputId": "8c49c0e0-ed30-4b04-c7fb-7d8bb2e18da8",
        "colab": {
          "base_uri": "https://localhost:8080/",
          "height": 312
        }
      },
      "source": [
        "def df_crossjoin(df1, df2, **kwargs):\n",
        "    \"\"\"\n",
        "    Make a cross join (cartesian product) between two dataframes by using a constant temporary key.\n",
        "    Also sets a MultiIndex which is the cartesian product of the indices of the input dataframes.\n",
        "    See: https://github.com/pydata/pandas/issues/5401\n",
        "    :param df1 dataframe 1\n",
        "    :param df1 dataframe 2\n",
        "    :param kwargs keyword arguments that will be passed to pd.merge()\n",
        "    :return cross join of df1 and df2\n",
        "    \"\"\"\n",
        "    df1['_tmpkey'] = 1\n",
        "    df2['_tmpkey'] = 1\n",
        "\n",
        "    res = pd.merge(df1, df2, on='_tmpkey', **kwargs).drop('_tmpkey', axis=1)\n",
        "    res.index = pd.MultiIndex.from_product((df1.index, df2.index))\n",
        "\n",
        "    df1.drop('_tmpkey', axis=1, inplace=True)\n",
        "    df2.drop('_tmpkey', axis=1, inplace=True)\n",
        "\n",
        "    return res\n",
        "\n",
        "df = df_crossjoin(commune[['code_postal']], data_fs[['code_postal']], suffixes=('_communes', '_fs'))\n",
        "df = df.reset_index()"
      ],
      "execution_count": 14,
      "outputs": [
        {
          "output_type": "stream",
          "text": [
            "/usr/local/lib/python3.6/dist-packages/ipykernel_launcher.py:11: SettingWithCopyWarning: \n",
            "A value is trying to be set on a copy of a slice from a DataFrame.\n",
            "Try using .loc[row_indexer,col_indexer] = value instead\n",
            "\n",
            "See the caveats in the documentation: https://pandas.pydata.org/pandas-docs/stable/user_guide/indexing.html#returning-a-view-versus-a-copy\n",
            "  # This is added back by InteractiveShellApp.init_path()\n",
            "/usr/local/lib/python3.6/dist-packages/ipykernel_launcher.py:12: SettingWithCopyWarning: \n",
            "A value is trying to be set on a copy of a slice from a DataFrame.\n",
            "Try using .loc[row_indexer,col_indexer] = value instead\n",
            "\n",
            "See the caveats in the documentation: https://pandas.pydata.org/pandas-docs/stable/user_guide/indexing.html#returning-a-view-versus-a-copy\n",
            "  if sys.path[0] == '':\n",
            "/usr/local/lib/python3.6/dist-packages/pandas/core/frame.py:4170: SettingWithCopyWarning: \n",
            "A value is trying to be set on a copy of a slice from a DataFrame\n",
            "\n",
            "See the caveats in the documentation: https://pandas.pydata.org/pandas-docs/stable/user_guide/indexing.html#returning-a-view-versus-a-copy\n",
            "  errors=errors,\n"
          ],
          "name": "stderr"
        }
      ]
    },
    {
      "cell_type": "code",
      "metadata": {
        "id": "2vFNzxVdT3uu",
        "outputId": "6c7b1aa2-3331-4ee0-8b99-49193c7f4697",
        "colab": {
          "base_uri": "https://localhost:8080/",
          "height": 424
        }
      },
      "source": [
        "df"
      ],
      "execution_count": 38,
      "outputs": [
        {
          "output_type": "execute_result",
          "data": {
            "text/html": [
              "<div>\n",
              "<style scoped>\n",
              "    .dataframe tbody tr th:only-of-type {\n",
              "        vertical-align: middle;\n",
              "    }\n",
              "\n",
              "    .dataframe tbody tr th {\n",
              "        vertical-align: top;\n",
              "    }\n",
              "\n",
              "    .dataframe thead th {\n",
              "        text-align: right;\n",
              "    }\n",
              "</style>\n",
              "<table border=\"1\" class=\"dataframe\">\n",
              "  <thead>\n",
              "    <tr style=\"text-align: right;\">\n",
              "      <th></th>\n",
              "      <th>level_0</th>\n",
              "      <th>level_1</th>\n",
              "      <th>code_postal_communes</th>\n",
              "      <th>code_postal_fs</th>\n",
              "    </tr>\n",
              "  </thead>\n",
              "  <tbody>\n",
              "    <tr>\n",
              "      <th>0</th>\n",
              "      <td>0</td>\n",
              "      <td>0</td>\n",
              "      <td>1500</td>\n",
              "      <td>01200</td>\n",
              "    </tr>\n",
              "    <tr>\n",
              "      <th>1</th>\n",
              "      <td>0</td>\n",
              "      <td>0</td>\n",
              "      <td>1500</td>\n",
              "      <td>12170</td>\n",
              "    </tr>\n",
              "    <tr>\n",
              "      <th>2</th>\n",
              "      <td>0</td>\n",
              "      <td>0</td>\n",
              "      <td>1500</td>\n",
              "      <td>12330</td>\n",
              "    </tr>\n",
              "    <tr>\n",
              "      <th>3</th>\n",
              "      <td>0</td>\n",
              "      <td>0</td>\n",
              "      <td>1500</td>\n",
              "      <td>14130</td>\n",
              "    </tr>\n",
              "    <tr>\n",
              "      <th>4</th>\n",
              "      <td>0</td>\n",
              "      <td>0</td>\n",
              "      <td>1500</td>\n",
              "      <td>14370</td>\n",
              "    </tr>\n",
              "    <tr>\n",
              "      <th>...</th>\n",
              "      <td>...</td>\n",
              "      <td>...</td>\n",
              "      <td>...</td>\n",
              "      <td>...</td>\n",
              "    </tr>\n",
              "    <tr>\n",
              "      <th>35586331</th>\n",
              "      <td>39191</td>\n",
              "      <td>0</td>\n",
              "      <td>98799</td>\n",
              "      <td>89520</td>\n",
              "    </tr>\n",
              "    <tr>\n",
              "      <th>35586332</th>\n",
              "      <td>39191</td>\n",
              "      <td>0</td>\n",
              "      <td>98799</td>\n",
              "      <td>95120</td>\n",
              "    </tr>\n",
              "    <tr>\n",
              "      <th>35586333</th>\n",
              "      <td>39191</td>\n",
              "      <td>0</td>\n",
              "      <td>98799</td>\n",
              "      <td>25410</td>\n",
              "    </tr>\n",
              "    <tr>\n",
              "      <th>35586334</th>\n",
              "      <td>39191</td>\n",
              "      <td>0</td>\n",
              "      <td>98799</td>\n",
              "      <td>31310</td>\n",
              "    </tr>\n",
              "    <tr>\n",
              "      <th>35586335</th>\n",
              "      <td>39191</td>\n",
              "      <td>0</td>\n",
              "      <td>98799</td>\n",
              "      <td>31410</td>\n",
              "    </tr>\n",
              "  </tbody>\n",
              "</table>\n",
              "<p>35586336 rows × 4 columns</p>\n",
              "</div>"
            ],
            "text/plain": [
              "          level_0  level_1 code_postal_communes code_postal_fs\n",
              "0               0        0                 1500          01200\n",
              "1               0        0                 1500          12170\n",
              "2               0        0                 1500          12330\n",
              "3               0        0                 1500          14130\n",
              "4               0        0                 1500          14370\n",
              "...           ...      ...                  ...            ...\n",
              "35586331    39191        0                98799          89520\n",
              "35586332    39191        0                98799          95120\n",
              "35586333    39191        0                98799          25410\n",
              "35586334    39191        0                98799          31310\n",
              "35586335    39191        0                98799          31410\n",
              "\n",
              "[35586336 rows x 4 columns]"
            ]
          },
          "metadata": {
            "tags": []
          },
          "execution_count": 38
        }
      ]
    },
    {
      "cell_type": "code",
      "metadata": {
        "id": "zXnarUQbT5Sk",
        "outputId": "eeb9ea5d-82d7-44b0-ae08-d25638dc72d4",
        "colab": {
          "base_uri": "https://localhost:8080/",
          "height": 903
        }
      },
      "source": [
        "df.tail(50).apply(lambda row: dist.query_postal_code(row['code_postal_communes'], row['code_postal_fs']), axis=1)\n",
        "\n",
        "# RAJOUTER 0 devant code postal à 4 chiffres"
      ],
      "execution_count": 41,
      "outputs": [
        {
          "output_type": "execute_result",
          "data": {
            "text/plain": [
              "35586286    10979.659756\n",
              "35586287    10979.659756\n",
              "35586288    10979.659756\n",
              "35586289    10979.782742\n",
              "35586290    10929.637236\n",
              "35586291    10929.334877\n",
              "35586292    10871.425854\n",
              "35586293    10961.396595\n",
              "35586294    10879.484539\n",
              "35586295    11075.435423\n",
              "35586296    11066.282672\n",
              "35586297    11101.031954\n",
              "35586298    11041.421562\n",
              "35586299    10705.990751\n",
              "35586300    10721.849721\n",
              "35586301    10695.177065\n",
              "35586302    10740.956522\n",
              "35586303    10729.962975\n",
              "35586304    10728.142028\n",
              "35586305    10713.622841\n",
              "35586306    10716.912218\n",
              "35586307    10706.375813\n",
              "35586308    10618.072580\n",
              "35586309    10563.378863\n",
              "35586310    10658.372877\n",
              "35586311    10635.267409\n",
              "35586312    10850.982186\n",
              "35586313    10873.315065\n",
              "35586314    10884.024490\n",
              "35586315    10836.028262\n",
              "35586316    10871.801304\n",
              "35586317    10764.382037\n",
              "35586318    10827.776868\n",
              "35586319    10827.776868\n",
              "35586320    10809.971160\n",
              "35586321    10800.703900\n",
              "35586322    10679.434671\n",
              "35586323    10686.112073\n",
              "35586324    10678.352254\n",
              "35586325    10682.352206\n",
              "35586326    10456.944793\n",
              "35586327    10578.484706\n",
              "35586328    10930.700907\n",
              "35586329    10930.700907\n",
              "35586330    10829.188293\n",
              "35586331    10786.390990\n",
              "35586332    10654.932811\n",
              "35586333    10978.641325\n",
              "35586334    10828.239158\n",
              "35586335    10823.772378\n",
              "dtype: float64"
            ]
          },
          "metadata": {
            "tags": []
          },
          "execution_count": 41
        }
      ]
    },
    {
      "cell_type": "code",
      "metadata": {
        "id": "1pqwuDy9T5Z3"
      },
      "source": [
        ""
      ],
      "execution_count": null,
      "outputs": []
    },
    {
      "cell_type": "code",
      "metadata": {
        "id": "a7nqH884Uo2l"
      },
      "source": [
        "df['distance'] = dist.query_postal_code(df['code_postal_communes'].values, data['code_postal_fs'].values)"
      ],
      "execution_count": null,
      "outputs": []
    },
    {
      "cell_type": "code",
      "metadata": {
        "id": "0SwMFq3iT19L"
      },
      "source": [
        ""
      ],
      "execution_count": null,
      "outputs": []
    },
    {
      "cell_type": "code",
      "metadata": {
        "id": "-NNkU8oJUm5u"
      },
      "source": [
        ""
      ],
      "execution_count": null,
      "outputs": []
    },
    {
      "cell_type": "markdown",
      "metadata": {
        "id": "ztxNWDqmU1aO"
      },
      "source": [
        "## 4. Part des moins de 25 ans"
      ]
    },
    {
      "cell_type": "code",
      "metadata": {
        "id": "uGD9lO82U8LD",
        "outputId": "0e1d2e09-0fa8-4995-8d59-0e7f5793fa52",
        "colab": {
          "base_uri": "https://localhost:8080/",
          "height": 34
        }
      },
      "source": [
        "from google.colab import drive\n",
        "drive.mount(\"/content/drive\")"
      ],
      "execution_count": 8,
      "outputs": [
        {
          "output_type": "stream",
          "text": [
            "Drive already mounted at /content/drive; to attempt to forcibly remount, call drive.mount(\"/content/drive\", force_remount=True).\n"
          ],
          "name": "stdout"
        }
      ]
    },
    {
      "cell_type": "code",
      "metadata": {
        "id": "VUPGixvaU8Mi",
        "outputId": "b478db5f-a514-47b2-a7ed-e058be0a7d4f",
        "colab": {
          "base_uri": "https://localhost:8080/",
          "height": 424
        }
      },
      "source": [
        "demo1 = pd.read_csv('/content/drive/My Drive/Colab Notebooks/data_DEMO_2020_V1_COM.csv', sep=';')\n",
        "demo2 = pd.read_csv('/content/drive/My Drive/Colab Notebooks/data_DEMO_2020_V1_ENSQP.csv', sep=';')\n",
        "demo3 = pd.read_csv('/content/drive/My Drive/Colab Notebooks/data_DEMO_2020_V1_EPCI15.csv', sep=';')\n",
        "demo4 = pd.read_csv('/content/drive/My Drive/Colab Notebooks/data_DEMO_2020_V1_EPCI19.csv', sep=';')\n",
        "demo5 = pd.read_csv('/content/drive/My Drive/Colab Notebooks/data_DEMO_2020_V1_QP.csv', sep=';')\n",
        "\n",
        "demo = pd.concat([demo1,demo2,demo3,demo4,demo5], axis=0).reset_index()\n",
        "demo = demo[['CODGEO', 'POP_MUN', 'TX_TOT_0A24']]\n",
        "demo"
      ],
      "execution_count": 19,
      "outputs": [
        {
          "output_type": "execute_result",
          "data": {
            "text/html": [
              "<div>\n",
              "<style scoped>\n",
              "    .dataframe tbody tr th:only-of-type {\n",
              "        vertical-align: middle;\n",
              "    }\n",
              "\n",
              "    .dataframe tbody tr th {\n",
              "        vertical-align: top;\n",
              "    }\n",
              "\n",
              "    .dataframe thead th {\n",
              "        text-align: right;\n",
              "    }\n",
              "</style>\n",
              "<table border=\"1\" class=\"dataframe\">\n",
              "  <thead>\n",
              "    <tr style=\"text-align: right;\">\n",
              "      <th></th>\n",
              "      <th>CODGEO</th>\n",
              "      <th>POP_MUN</th>\n",
              "      <th>TX_TOT_0A24</th>\n",
              "    </tr>\n",
              "  </thead>\n",
              "  <tbody>\n",
              "    <tr>\n",
              "      <th>0</th>\n",
              "      <td>01004</td>\n",
              "      <td>14359</td>\n",
              "      <td>32,5</td>\n",
              "    </tr>\n",
              "    <tr>\n",
              "      <th>1</th>\n",
              "      <td>01031</td>\n",
              "      <td>3646</td>\n",
              "      <td>32,1</td>\n",
              "    </tr>\n",
              "    <tr>\n",
              "      <th>2</th>\n",
              "      <td>01034</td>\n",
              "      <td>8909</td>\n",
              "      <td>29,5</td>\n",
              "    </tr>\n",
              "    <tr>\n",
              "      <th>3</th>\n",
              "      <td>01053</td>\n",
              "      <td>40490</td>\n",
              "      <td>31,3</td>\n",
              "    </tr>\n",
              "    <tr>\n",
              "      <th>4</th>\n",
              "      <td>01160</td>\n",
              "      <td>9236</td>\n",
              "      <td>29,1</td>\n",
              "    </tr>\n",
              "    <tr>\n",
              "      <th>...</th>\n",
              "      <td>...</td>\n",
              "      <td>...</td>\n",
              "      <td>...</td>\n",
              "    </tr>\n",
              "    <tr>\n",
              "      <th>2948</th>\n",
              "      <td>QP974045</td>\n",
              "      <td>1998</td>\n",
              "      <td>NaN</td>\n",
              "    </tr>\n",
              "    <tr>\n",
              "      <th>2949</th>\n",
              "      <td>QP974046</td>\n",
              "      <td>1411</td>\n",
              "      <td>NaN</td>\n",
              "    </tr>\n",
              "    <tr>\n",
              "      <th>2950</th>\n",
              "      <td>QP974047</td>\n",
              "      <td>2349</td>\n",
              "      <td>NaN</td>\n",
              "    </tr>\n",
              "    <tr>\n",
              "      <th>2951</th>\n",
              "      <td>QP974048</td>\n",
              "      <td>1798</td>\n",
              "      <td>NaN</td>\n",
              "    </tr>\n",
              "    <tr>\n",
              "      <th>2952</th>\n",
              "      <td>QP974049</td>\n",
              "      <td>895</td>\n",
              "      <td>NaN</td>\n",
              "    </tr>\n",
              "  </tbody>\n",
              "</table>\n",
              "<p>2953 rows × 3 columns</p>\n",
              "</div>"
            ],
            "text/plain": [
              "        CODGEO  POP_MUN TX_TOT_0A24\n",
              "0        01004    14359        32,5\n",
              "1        01031     3646        32,1\n",
              "2        01034     8909        29,5\n",
              "3        01053    40490        31,3\n",
              "4        01160     9236        29,1\n",
              "...        ...      ...         ...\n",
              "2948  QP974045     1998         NaN\n",
              "2949  QP974046     1411         NaN\n",
              "2950  QP974047     2349         NaN\n",
              "2951  QP974048     1798         NaN\n",
              "2952  QP974049      895         NaN\n",
              "\n",
              "[2953 rows x 3 columns]"
            ]
          },
          "metadata": {
            "tags": []
          },
          "execution_count": 19
        }
      ]
    },
    {
      "cell_type": "code",
      "metadata": {
        "id": "LLFueYoLWYL6"
      },
      "source": [
        "#pd.merge(commune, demo, how='outer', on='')"
      ],
      "execution_count": 20,
      "outputs": []
    },
    {
      "cell_type": "code",
      "metadata": {
        "id": "_wsmCFimHdju"
      },
      "source": [
        ""
      ],
      "execution_count": null,
      "outputs": []
    }
  ]
}