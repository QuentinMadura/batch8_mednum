{
 "cells": [
  {
   "cell_type": "markdown",
   "metadata": {},
   "source": [
    "## Merge toute les données intérim (variables des 4 piliers)"
   ]
  },
  {
   "cell_type": "code",
   "execution_count": 22,
   "metadata": {},
   "outputs": [],
   "source": [
    "import pandas as pd\n",
    "import numpy as np\n",
    "from pathlib import Path\n",
    "import warnings\n",
    "warnings.filterwarnings('ignore')\n",
    "\n",
    "pd.set_option('display.max_columns', 500)\n",
    "pd.set_option('display.width', 1000)\n",
    "\n",
    "external_data = Path('../data/external/')\n",
    "processed_data = Path('../data/processed/')\n",
    "raw_data = Path('../data/raw/')\n",
    "interim_data = Path('../data/interim/')"
   ]
  },
  {
   "cell_type": "code",
   "execution_count": 27,
   "metadata": {},
   "outputs": [
    {
     "name": "stdout",
     "output_type": "stream",
     "text": [
      "total 9,0M\n",
      "-rw-rw-r-- 1 outini outini 822K nov.  28 00:23 acces_point_phys_service_publique.csv\n",
      "-rw-rw-r-- 1 outini outini  23K nov.  27 01:00 data_merge_V2.ipynb\n",
      "-rw-rw-r-- 1 outini outini 4,0M nov.  28 00:23 data_scol_menage_demandeurEmplois.csv\n",
      "-rw-rw-r-- 1 outini outini  79K nov.  27 01:00 IFN_var_scol_menage_demandeEmplois.ipynb\n",
      "-rw-rw-r-- 1 outini outini 837K nov.  28 00:23 taux_couverture_mobile.csv\n",
      "-rw-rw-r-- 1 outini outini 825K nov.  28 00:23 taux_couverture_THD.csv\n",
      "-rw-rw-r-- 1 outini outini 706K nov.  28 00:23 taux_demandeurs_emploi.csv\n",
      "-rw-rw-r-- 1 outini outini 781K nov.  28 00:23 taux_pauvrete.csv\n",
      "-rw-rw-r-- 1 outini outini 999K nov.  28 00:23 variable_minimas_V2.csv\n"
     ]
    }
   ],
   "source": [
    "!ls -lh ../data/interim/"
   ]
  },
  {
   "cell_type": "code",
   "execution_count": 32,
   "metadata": {},
   "outputs": [],
   "source": [
    "df1 = pd.read_csv(interim_data/'acces_point_phys_service_publique.csv')\n",
    "df2 = pd.read_csv(interim_data/'data_scol_menage_demandeurEmplois.csv')\n",
    "df3 = pd.read_csv(interim_data/'taux_couverture_mobile.csv')\n",
    "df4 = pd.read_csv(interim_data/'taux_couverture_THD.csv')\n",
    "df5 = pd.read_csv(interim_data/'taux_demandeurs_emploi.csv')    # get TX_DEMANDEUR_EMPLOIS from this one\n",
    "df6 = pd.read_csv(interim_data/'taux_pauvrete.csv')\n",
    "df7 = pd.read_csv(interim_data/'variable_minimas_V2.csv')\n",
    "\n",
    "communes = pd.read_csv(raw_data/'table_insee_libcom_dep.csv').drop(columns=['Unnamed: 0'])"
   ]
  },
  {
   "cell_type": "markdown",
   "metadata": {},
   "source": [
    "### Check pour avoir meme base de 3 index : (CODE_INSEE, LIBCOM, DEP) et meme taille de dataset"
   ]
  },
  {
   "cell_type": "code",
   "execution_count": 33,
   "metadata": {},
   "outputs": [
    {
     "name": "stdout",
     "output_type": "stream",
     "text": [
      "Index(['CODE_INSEE', 'LIBCOM', 'DEP', 'ACCES_SERVICE_PUBLIC'], dtype='object')\n",
      "(35013, 4)\n",
      "\n",
      "Index(['Unnamed: 0', 'CODE_INSEE', 'LIBCOM', 'DEP', 'TX_NSCOL15P', 'TX_MENSEUL', 'TX_FAMMONO', 'TX_65ETPLUS', 'TX_25ETMOINS', 'TX_DEMANDEURS_EMPLOI'], dtype='object')\n",
      "(36101, 10)\n",
      "\n",
      "Index(['CODE_INSEE', 'LIBCOM', 'DEP', 'COUVERTURE_MOBILE'], dtype='object')\n",
      "(35010, 4)\n",
      "\n",
      "Index(['CODE_INSEE', 'DEP', 'LIBCOM', 'TAUX_COUVERTURE_THD'], dtype='object')\n",
      "(35359, 4)\n",
      "\n",
      "Index(['CODE_INSEE', 'LIBCOM', 'TX_DEMANDEUR_EMPLOIS'], dtype='object')\n",
      "(35010, 3)\n",
      "\n",
      "Index(['CODE_INSEE', 'LIBCOM', 'TX_POVERTY'], dtype='object')\n",
      "(35010, 3)\n",
      "\n",
      "Index(['Unnamed: 0', 'CODE_INSEE', 'LIBCOM', 'DEP', 'TX_RSA'], dtype='object')\n",
      "(35010, 5)\n",
      "\n"
     ]
    }
   ],
   "source": [
    "for data in [df1, df2, df3, df4, df5, df6, df7]:\n",
    "    print(data.columns)\n",
    "    print(data.shape)\n",
    "    print()"
   ]
  },
  {
   "cell_type": "markdown",
   "metadata": {},
   "source": [
    "### Check nouvelle taille de chaque dataset"
   ]
  },
  {
   "cell_type": "code",
   "execution_count": 34,
   "metadata": {},
   "outputs": [
    {
     "name": "stdout",
     "output_type": "stream",
     "text": [
      "Index(['CODE_INSEE', 'LIBCOM', 'DEP', 'ACCES_SERVICE_PUBLIC'], dtype='object')\n",
      "(35010, 4)\n",
      "\n",
      "Index(['CODE_INSEE', 'LIBCOM', 'DEP', 'TX_NSCOL15P', 'TX_MENSEUL', 'TX_FAMMONO', 'TX_65ETPLUS', 'TX_25ETMOINS'], dtype='object')\n",
      "(35010, 8)\n",
      "\n",
      "Index(['CODE_INSEE', 'LIBCOM', 'DEP', 'COUVERTURE_MOBILE'], dtype='object')\n",
      "(35010, 4)\n",
      "\n",
      "Index(['CODE_INSEE', 'LIBCOM', 'DEP', 'TAUX_COUVERTURE_THD'], dtype='object')\n",
      "(35010, 4)\n",
      "\n",
      "Index(['CODE_INSEE', 'LIBCOM', 'DEP', 'TX_DEMANDEUR_EMPLOIS'], dtype='object')\n",
      "(35010, 4)\n",
      "\n",
      "Index(['CODE_INSEE', 'LIBCOM', 'DEP', 'TX_POVERTY'], dtype='object')\n",
      "(35010, 4)\n",
      "\n",
      "Index(['CODE_INSEE', 'LIBCOM', 'DEP', 'TX_RSA'], dtype='object')\n",
      "(35010, 4)\n",
      "\n"
     ]
    }
   ],
   "source": [
    "indexes = ['CODE_INSEE', 'LIBCOM', 'DEP']\n",
    "how = 'left'\n",
    "\n",
    "df1 = communes.merge(df1, how=how, on=indexes).drop_duplicates(subset=indexes)\n",
    "df2.drop(columns=['Unnamed: 0', 'TX_DEMANDEURS_EMPLOI'], inplace=True)\n",
    "df2 = communes.merge(df2, how=how, on=indexes).drop_duplicates(subset=indexes)\n",
    "df3 = communes.merge(df3, how=how, on=indexes).drop_duplicates(subset=indexes)\n",
    "df4 = communes.merge(df4, how=how, on=indexes).drop_duplicates(subset=indexes)\n",
    "df5 = communes.merge(df5, how=how, on=['CODE_INSEE', 'LIBCOM']).drop_duplicates(subset=indexes)\n",
    "df6 = communes.merge(df6, how=how, on=['CODE_INSEE', 'LIBCOM']).drop_duplicates(subset=indexes)\n",
    "df7.drop(columns=['Unnamed: 0'], inplace=True)\n",
    "\n",
    "for data in [df1, df2, df3, df4, df5, df6, df7]:\n",
    "    print(data.columns)\n",
    "    print(data.shape)\n",
    "    print()"
   ]
  },
  {
   "cell_type": "markdown",
   "metadata": {},
   "source": [
    "### MERGE"
   ]
  },
  {
   "cell_type": "code",
   "execution_count": 35,
   "metadata": {},
   "outputs": [
    {
     "name": "stdout",
     "output_type": "stream",
     "text": [
      "(35010, 14)\n"
     ]
    }
   ],
   "source": [
    "df = df1.merge(df2, how='inner', on=['CODE_INSEE', 'LIBCOM', 'DEP'])\n",
    "df = df.merge(df3, how='inner', on=['CODE_INSEE', 'LIBCOM', 'DEP'])\n",
    "df = df.merge(df4, how='inner', on=['CODE_INSEE', 'LIBCOM', 'DEP'])\n",
    "df = df.merge(df5, how='inner', on=['CODE_INSEE', 'LIBCOM', 'DEP'])\n",
    "df = df.merge(df6, how='inner', on=['CODE_INSEE', 'LIBCOM', 'DEP'])\n",
    "df = df.merge(df7, how='inner', on=['CODE_INSEE', 'LIBCOM', 'DEP'])\n",
    "\n",
    "print(df.shape)"
   ]
  },
  {
   "cell_type": "code",
   "execution_count": 36,
   "metadata": {},
   "outputs": [
    {
     "data": {
      "text/html": [
       "<div>\n",
       "<style scoped>\n",
       "    .dataframe tbody tr th:only-of-type {\n",
       "        vertical-align: middle;\n",
       "    }\n",
       "\n",
       "    .dataframe tbody tr th {\n",
       "        vertical-align: top;\n",
       "    }\n",
       "\n",
       "    .dataframe thead th {\n",
       "        text-align: right;\n",
       "    }\n",
       "</style>\n",
       "<table border=\"1\" class=\"dataframe\">\n",
       "  <thead>\n",
       "    <tr style=\"text-align: right;\">\n",
       "      <th></th>\n",
       "      <th>CODE_INSEE</th>\n",
       "      <th>LIBCOM</th>\n",
       "      <th>DEP</th>\n",
       "      <th>ACCES_SERVICE_PUBLIC</th>\n",
       "      <th>TX_NSCOL15P</th>\n",
       "      <th>TX_MENSEUL</th>\n",
       "      <th>TX_FAMMONO</th>\n",
       "      <th>TX_65ETPLUS</th>\n",
       "      <th>TX_25ETMOINS</th>\n",
       "      <th>COUVERTURE_MOBILE</th>\n",
       "      <th>TAUX_COUVERTURE_THD</th>\n",
       "      <th>TX_DEMANDEUR_EMPLOIS</th>\n",
       "      <th>TX_POVERTY</th>\n",
       "      <th>TX_RSA</th>\n",
       "    </tr>\n",
       "  </thead>\n",
       "  <tbody>\n",
       "    <tr>\n",
       "      <th>0</th>\n",
       "      <td>01001</td>\n",
       "      <td>L'Abergement-Clémenciat</td>\n",
       "      <td>01</td>\n",
       "      <td>0</td>\n",
       "      <td>52.154281</td>\n",
       "      <td>22.823614</td>\n",
       "      <td>4.831504</td>\n",
       "      <td>23.779236</td>\n",
       "      <td>11.309305</td>\n",
       "      <td>NaN</td>\n",
       "      <td>1.0</td>\n",
       "      <td>NaN</td>\n",
       "      <td>NaN</td>\n",
       "      <td>NaN</td>\n",
       "    </tr>\n",
       "    <tr>\n",
       "      <th>1</th>\n",
       "      <td>01002</td>\n",
       "      <td>L'Abergement-de-Varey</td>\n",
       "      <td>01</td>\n",
       "      <td>0</td>\n",
       "      <td>40.425532</td>\n",
       "      <td>28.571429</td>\n",
       "      <td>4.761905</td>\n",
       "      <td>23.404255</td>\n",
       "      <td>7.978723</td>\n",
       "      <td>1.00</td>\n",
       "      <td>1.0</td>\n",
       "      <td>NaN</td>\n",
       "      <td>NaN</td>\n",
       "      <td>NaN</td>\n",
       "    </tr>\n",
       "    <tr>\n",
       "      <th>2</th>\n",
       "      <td>01004</td>\n",
       "      <td>Ambérieu-en-Bugey</td>\n",
       "      <td>01</td>\n",
       "      <td>0</td>\n",
       "      <td>49.474587</td>\n",
       "      <td>41.515231</td>\n",
       "      <td>10.216084</td>\n",
       "      <td>20.733915</td>\n",
       "      <td>16.620013</td>\n",
       "      <td>1.00</td>\n",
       "      <td>1.0</td>\n",
       "      <td>21.754928</td>\n",
       "      <td>26.170897</td>\n",
       "      <td>2.593516</td>\n",
       "    </tr>\n",
       "    <tr>\n",
       "      <th>3</th>\n",
       "      <td>01005</td>\n",
       "      <td>Ambérieux-en-Dombes</td>\n",
       "      <td>01</td>\n",
       "      <td>1</td>\n",
       "      <td>53.574678</td>\n",
       "      <td>21.076206</td>\n",
       "      <td>6.601983</td>\n",
       "      <td>19.488442</td>\n",
       "      <td>13.854125</td>\n",
       "      <td>1.00</td>\n",
       "      <td>1.0</td>\n",
       "      <td>NaN</td>\n",
       "      <td>NaN</td>\n",
       "      <td>NaN</td>\n",
       "    </tr>\n",
       "    <tr>\n",
       "      <th>4</th>\n",
       "      <td>01006</td>\n",
       "      <td>Ambléon</td>\n",
       "      <td>01</td>\n",
       "      <td>0</td>\n",
       "      <td>53.061224</td>\n",
       "      <td>36.363636</td>\n",
       "      <td>9.090909</td>\n",
       "      <td>26.530612</td>\n",
       "      <td>10.204082</td>\n",
       "      <td>0.65</td>\n",
       "      <td>1.0</td>\n",
       "      <td>NaN</td>\n",
       "      <td>NaN</td>\n",
       "      <td>NaN</td>\n",
       "    </tr>\n",
       "    <tr>\n",
       "      <th>...</th>\n",
       "      <td>...</td>\n",
       "      <td>...</td>\n",
       "      <td>...</td>\n",
       "      <td>...</td>\n",
       "      <td>...</td>\n",
       "      <td>...</td>\n",
       "      <td>...</td>\n",
       "      <td>...</td>\n",
       "      <td>...</td>\n",
       "      <td>...</td>\n",
       "      <td>...</td>\n",
       "      <td>...</td>\n",
       "      <td>...</td>\n",
       "      <td>...</td>\n",
       "    </tr>\n",
       "    <tr>\n",
       "      <th>35005</th>\n",
       "      <td>97613</td>\n",
       "      <td>M'Tsangamouji</td>\n",
       "      <td>976</td>\n",
       "      <td>0</td>\n",
       "      <td>NaN</td>\n",
       "      <td>NaN</td>\n",
       "      <td>NaN</td>\n",
       "      <td>NaN</td>\n",
       "      <td>NaN</td>\n",
       "      <td>NaN</td>\n",
       "      <td>1.0</td>\n",
       "      <td>NaN</td>\n",
       "      <td>NaN</td>\n",
       "      <td>NaN</td>\n",
       "    </tr>\n",
       "    <tr>\n",
       "      <th>35006</th>\n",
       "      <td>97614</td>\n",
       "      <td>Ouangani</td>\n",
       "      <td>976</td>\n",
       "      <td>0</td>\n",
       "      <td>NaN</td>\n",
       "      <td>NaN</td>\n",
       "      <td>NaN</td>\n",
       "      <td>NaN</td>\n",
       "      <td>NaN</td>\n",
       "      <td>NaN</td>\n",
       "      <td>0.0</td>\n",
       "      <td>NaN</td>\n",
       "      <td>NaN</td>\n",
       "      <td>NaN</td>\n",
       "    </tr>\n",
       "    <tr>\n",
       "      <th>35007</th>\n",
       "      <td>97615</td>\n",
       "      <td>Pamandzi</td>\n",
       "      <td>976</td>\n",
       "      <td>1</td>\n",
       "      <td>NaN</td>\n",
       "      <td>NaN</td>\n",
       "      <td>NaN</td>\n",
       "      <td>NaN</td>\n",
       "      <td>NaN</td>\n",
       "      <td>NaN</td>\n",
       "      <td>1.0</td>\n",
       "      <td>NaN</td>\n",
       "      <td>51.411632</td>\n",
       "      <td>NaN</td>\n",
       "    </tr>\n",
       "    <tr>\n",
       "      <th>35008</th>\n",
       "      <td>97616</td>\n",
       "      <td>Sada</td>\n",
       "      <td>976</td>\n",
       "      <td>1</td>\n",
       "      <td>NaN</td>\n",
       "      <td>NaN</td>\n",
       "      <td>NaN</td>\n",
       "      <td>NaN</td>\n",
       "      <td>NaN</td>\n",
       "      <td>NaN</td>\n",
       "      <td>1.0</td>\n",
       "      <td>NaN</td>\n",
       "      <td>49.198658</td>\n",
       "      <td>NaN</td>\n",
       "    </tr>\n",
       "    <tr>\n",
       "      <th>35009</th>\n",
       "      <td>97617</td>\n",
       "      <td>Tsingoni</td>\n",
       "      <td>976</td>\n",
       "      <td>1</td>\n",
       "      <td>NaN</td>\n",
       "      <td>NaN</td>\n",
       "      <td>NaN</td>\n",
       "      <td>NaN</td>\n",
       "      <td>NaN</td>\n",
       "      <td>NaN</td>\n",
       "      <td>1.0</td>\n",
       "      <td>NaN</td>\n",
       "      <td>66.458073</td>\n",
       "      <td>NaN</td>\n",
       "    </tr>\n",
       "  </tbody>\n",
       "</table>\n",
       "<p>35010 rows × 14 columns</p>\n",
       "</div>"
      ],
      "text/plain": [
       "      CODE_INSEE                   LIBCOM  DEP  ACCES_SERVICE_PUBLIC  TX_NSCOL15P  TX_MENSEUL  TX_FAMMONO  TX_65ETPLUS  TX_25ETMOINS  COUVERTURE_MOBILE  TAUX_COUVERTURE_THD  TX_DEMANDEUR_EMPLOIS  TX_POVERTY    TX_RSA\n",
       "0          01001  L'Abergement-Clémenciat   01                     0    52.154281   22.823614    4.831504    23.779236     11.309305                NaN                  1.0                   NaN         NaN       NaN\n",
       "1          01002    L'Abergement-de-Varey   01                     0    40.425532   28.571429    4.761905    23.404255      7.978723               1.00                  1.0                   NaN         NaN       NaN\n",
       "2          01004        Ambérieu-en-Bugey   01                     0    49.474587   41.515231   10.216084    20.733915     16.620013               1.00                  1.0             21.754928   26.170897  2.593516\n",
       "3          01005      Ambérieux-en-Dombes   01                     1    53.574678   21.076206    6.601983    19.488442     13.854125               1.00                  1.0                   NaN         NaN       NaN\n",
       "4          01006                  Ambléon   01                     0    53.061224   36.363636    9.090909    26.530612     10.204082               0.65                  1.0                   NaN         NaN       NaN\n",
       "...          ...                      ...  ...                   ...          ...         ...         ...          ...           ...                ...                  ...                   ...         ...       ...\n",
       "35005      97613            M'Tsangamouji  976                     0          NaN         NaN         NaN          NaN           NaN                NaN                  1.0                   NaN         NaN       NaN\n",
       "35006      97614                 Ouangani  976                     0          NaN         NaN         NaN          NaN           NaN                NaN                  0.0                   NaN         NaN       NaN\n",
       "35007      97615                 Pamandzi  976                     1          NaN         NaN         NaN          NaN           NaN                NaN                  1.0                   NaN   51.411632       NaN\n",
       "35008      97616                     Sada  976                     1          NaN         NaN         NaN          NaN           NaN                NaN                  1.0                   NaN   49.198658       NaN\n",
       "35009      97617                 Tsingoni  976                     1          NaN         NaN         NaN          NaN           NaN                NaN                  1.0                   NaN   66.458073       NaN\n",
       "\n",
       "[35010 rows x 14 columns]"
      ]
     },
     "execution_count": 36,
     "metadata": {},
     "output_type": "execute_result"
    }
   ],
   "source": [
    "df"
   ]
  },
  {
   "cell_type": "markdown",
   "metadata": {},
   "source": [
    "### Cela résulte en 11 colonnes pour calculer le score à savoir: "
   ]
  },
  {
   "cell_type": "code",
   "execution_count": 38,
   "metadata": {},
   "outputs": [
    {
     "data": {
      "text/plain": [
       "['ACCES_SERVICE_PUBLIC',\n",
       " 'TX_NSCOL15P',\n",
       " 'TX_MENSEUL',\n",
       " 'TX_FAMMONO',\n",
       " 'TX_65ETPLUS',\n",
       " 'TX_25ETMOINS',\n",
       " 'COUVERTURE_MOBILE',\n",
       " 'TAUX_COUVERTURE_THD',\n",
       " 'TX_DEMANDEUR_EMPLOIS',\n",
       " 'TX_POVERTY',\n",
       " 'TX_RSA']"
      ]
     },
     "execution_count": 38,
     "metadata": {},
     "output_type": "execute_result"
    }
   ],
   "source": [
    "list(df.drop(columns=indexes).columns)"
   ]
  },
  {
   "cell_type": "markdown",
   "metadata": {},
   "source": [
    "### + 3 colonnes d'index :"
   ]
  },
  {
   "cell_type": "code",
   "execution_count": 39,
   "metadata": {},
   "outputs": [
    {
     "data": {
      "text/plain": [
       "['CODE_INSEE', 'LIBCOM', 'DEP']"
      ]
     },
     "execution_count": 39,
     "metadata": {},
     "output_type": "execute_result"
    }
   ],
   "source": [
    "list(indexes)"
   ]
  },
  {
   "cell_type": "code",
   "execution_count": 40,
   "metadata": {},
   "outputs": [],
   "source": [
    "df.to_csv(processed_data/'MERGE_data.csv', index=False)"
   ]
  },
  {
   "cell_type": "code",
   "execution_count": null,
   "metadata": {},
   "outputs": [],
   "source": []
  }
 ],
 "metadata": {
  "kernelspec": {
   "display_name": "Python 3",
   "language": "python",
   "name": "python3"
  },
  "language_info": {
   "codemirror_mode": {
    "name": "ipython",
    "version": 3
   },
   "file_extension": ".py",
   "mimetype": "text/x-python",
   "name": "python",
   "nbconvert_exporter": "python",
   "pygments_lexer": "ipython3",
   "version": "3.6.6"
  }
 },
 "nbformat": 4,
 "nbformat_minor": 4
}
