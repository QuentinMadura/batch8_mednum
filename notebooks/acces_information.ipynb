{
 "cells": [
  {
   "cell_type": "markdown",
   "metadata": {
    "colab_type": "text",
    "id": "view-in-github"
   },
   "source": [
    "<a href=\"https://colab.research.google.com/github/dataforgoodfr/batch8_mednum/blob/master/notebooks/acces_information.ipynb\" target=\"_parent\"><img src=\"https://colab.research.google.com/assets/colab-badge.svg\" alt=\"Open In Colab\"/></a>"
   ]
  },
  {
   "cell_type": "markdown",
   "metadata": {},
   "source": [
    "# Accès à l'information \n",
    "## Accès à un point physique de service publique"
   ]
  },
  {
   "cell_type": "markdown",
   "metadata": {
    "id": "t_HA6Y74Bj6Y"
   },
   "source": [
    "## 1. Liste des médiathèques\n"
   ]
  },
  {
   "cell_type": "code",
   "execution_count": 1,
   "metadata": {
    "colab": {
     "base_uri": "https://localhost:8080/"
    },
    "id": "lTy9Hg7uY623",
    "outputId": "581d9e8c-a17b-4e30-f6ee-47672583f276"
   },
   "outputs": [],
   "source": [
    "# get mediatheques map\n",
    "import pandas as pd\n",
    "import numpy as np\n",
    "from pathlib import Path\n",
    "\n",
    "external_data = Path('../data/external/')\n",
    "processed_data = Path('../data/processed/')\n",
    "raw_data = Path('../data/raw/')\n",
    "interim_data = Path('../data/interim/')"
   ]
  },
  {
   "cell_type": "code",
   "execution_count": 2,
   "metadata": {
    "colab": {
     "base_uri": "https://localhost:8080/"
    },
    "id": "8tBKP6-Ftkw2",
    "outputId": "19e2ecfb-7335-410f-a012-b28476e7c144"
   },
   "outputs": [
    {
     "data": {
      "text/html": [
       "<div>\n",
       "<style scoped>\n",
       "    .dataframe tbody tr th:only-of-type {\n",
       "        vertical-align: middle;\n",
       "    }\n",
       "\n",
       "    .dataframe tbody tr th {\n",
       "        vertical-align: top;\n",
       "    }\n",
       "\n",
       "    .dataframe thead th {\n",
       "        text-align: right;\n",
       "    }\n",
       "</style>\n",
       "<table border=\"1\" class=\"dataframe\">\n",
       "  <thead>\n",
       "    <tr style=\"text-align: right;\">\n",
       "      <th></th>\n",
       "      <th>CODE_INSEE</th>\n",
       "      <th>LIBCOM</th>\n",
       "      <th>DEP</th>\n",
       "    </tr>\n",
       "  </thead>\n",
       "  <tbody>\n",
       "    <tr>\n",
       "      <th>0</th>\n",
       "      <td>01001</td>\n",
       "      <td>L'Abergement-Clémenciat</td>\n",
       "      <td>01</td>\n",
       "    </tr>\n",
       "    <tr>\n",
       "      <th>1</th>\n",
       "      <td>01002</td>\n",
       "      <td>L'Abergement-de-Varey</td>\n",
       "      <td>01</td>\n",
       "    </tr>\n",
       "    <tr>\n",
       "      <th>2</th>\n",
       "      <td>01004</td>\n",
       "      <td>Ambérieu-en-Bugey</td>\n",
       "      <td>01</td>\n",
       "    </tr>\n",
       "    <tr>\n",
       "      <th>3</th>\n",
       "      <td>01005</td>\n",
       "      <td>Ambérieux-en-Dombes</td>\n",
       "      <td>01</td>\n",
       "    </tr>\n",
       "    <tr>\n",
       "      <th>4</th>\n",
       "      <td>01006</td>\n",
       "      <td>Ambléon</td>\n",
       "      <td>01</td>\n",
       "    </tr>\n",
       "    <tr>\n",
       "      <th>...</th>\n",
       "      <td>...</td>\n",
       "      <td>...</td>\n",
       "      <td>...</td>\n",
       "    </tr>\n",
       "    <tr>\n",
       "      <th>35005</th>\n",
       "      <td>97613</td>\n",
       "      <td>M'Tsangamouji</td>\n",
       "      <td>976</td>\n",
       "    </tr>\n",
       "    <tr>\n",
       "      <th>35006</th>\n",
       "      <td>97614</td>\n",
       "      <td>Ouangani</td>\n",
       "      <td>976</td>\n",
       "    </tr>\n",
       "    <tr>\n",
       "      <th>35007</th>\n",
       "      <td>97615</td>\n",
       "      <td>Pamandzi</td>\n",
       "      <td>976</td>\n",
       "    </tr>\n",
       "    <tr>\n",
       "      <th>35008</th>\n",
       "      <td>97616</td>\n",
       "      <td>Sada</td>\n",
       "      <td>976</td>\n",
       "    </tr>\n",
       "    <tr>\n",
       "      <th>35009</th>\n",
       "      <td>97617</td>\n",
       "      <td>Tsingoni</td>\n",
       "      <td>976</td>\n",
       "    </tr>\n",
       "  </tbody>\n",
       "</table>\n",
       "<p>35010 rows × 3 columns</p>\n",
       "</div>"
      ],
      "text/plain": [
       "      CODE_INSEE                   LIBCOM  DEP\n",
       "0          01001  L'Abergement-Clémenciat   01\n",
       "1          01002    L'Abergement-de-Varey   01\n",
       "2          01004        Ambérieu-en-Bugey   01\n",
       "3          01005      Ambérieux-en-Dombes   01\n",
       "4          01006                  Ambléon   01\n",
       "...          ...                      ...  ...\n",
       "35005      97613            M'Tsangamouji  976\n",
       "35006      97614                 Ouangani  976\n",
       "35007      97615                 Pamandzi  976\n",
       "35008      97616                     Sada  976\n",
       "35009      97617                 Tsingoni  976\n",
       "\n",
       "[35010 rows x 3 columns]"
      ]
     },
     "execution_count": 2,
     "metadata": {},
     "output_type": "execute_result"
    }
   ],
   "source": [
    "commune = pd.read_csv(raw_data/'table_insee_libcom_dep.csv')\n",
    "commune.drop(columns=['Unnamed: 0'], inplace=True)\n",
    "commune"
   ]
  },
  {
   "cell_type": "code",
   "execution_count": 19,
   "metadata": {
    "colab": {
     "base_uri": "https://localhost:8080/",
     "height": 288
    },
    "id": "0uiJI65XtwW5",
    "outputId": "a7e3e4f0-d4a2-4d98-eb43-de42b8ad646f"
   },
   "outputs": [
    {
     "name": "stdout",
     "output_type": "stream",
     "text": [
      "(15779, 20)\n"
     ]
    },
    {
     "data": {
      "text/html": [
       "<div>\n",
       "<style scoped>\n",
       "    .dataframe tbody tr th:only-of-type {\n",
       "        vertical-align: middle;\n",
       "    }\n",
       "\n",
       "    .dataframe tbody tr th {\n",
       "        vertical-align: top;\n",
       "    }\n",
       "\n",
       "    .dataframe thead th {\n",
       "        text-align: right;\n",
       "    }\n",
       "</style>\n",
       "<table border=\"1\" class=\"dataframe\">\n",
       "  <thead>\n",
       "    <tr style=\"text-align: right;\">\n",
       "      <th></th>\n",
       "      <th>Libelle1</th>\n",
       "      <th>Libelle2</th>\n",
       "      <th>Localisation</th>\n",
       "      <th>voie</th>\n",
       "      <th>CP</th>\n",
       "      <th>CEDEXB</th>\n",
       "      <th>Ville</th>\n",
       "      <th>DEPT</th>\n",
       "      <th>INSEE</th>\n",
       "      <th>coordonnees_ban</th>\n",
       "      <th>coordonnees_insee</th>\n",
       "      <th>coordonnees_finales</th>\n",
       "      <th>code_bib</th>\n",
       "      <th>code_ua</th>\n",
       "      <th>Code region</th>\n",
       "      <th>Statut</th>\n",
       "      <th>surface</th>\n",
       "      <th>type_adresse</th>\n",
       "      <th>amplitude_horaire</th>\n",
       "      <th>pop_com</th>\n",
       "    </tr>\n",
       "  </thead>\n",
       "  <tbody>\n",
       "    <tr>\n",
       "      <th>0</th>\n",
       "      <td>Bibliothèque Intercommunale 'Plaisir de Lire'</td>\n",
       "      <td>NaN</td>\n",
       "      <td>NaN</td>\n",
       "      <td>rue de la gare</td>\n",
       "      <td>60490</td>\n",
       "      <td>NaN</td>\n",
       "      <td>Boulogne-la-Grasse</td>\n",
       "      <td>60</td>\n",
       "      <td>60093</td>\n",
       "      <td>49.609493, 2.705751</td>\n",
       "      <td>49.6080302361, 2.70097863571</td>\n",
       "      <td>49.609493,2.705751</td>\n",
       "      <td>8724.0</td>\n",
       "      <td>8724.0</td>\n",
       "      <td>32</td>\n",
       "      <td>Bibliothèque municipale</td>\n",
       "      <td>NaN</td>\n",
       "      <td>Bibliothèque ouverte au public</td>\n",
       "      <td>NaN</td>\n",
       "      <td>486.0</td>\n",
       "    </tr>\n",
       "    <tr>\n",
       "      <th>1</th>\n",
       "      <td>Médiathèque Madeleine Odent</td>\n",
       "      <td>NaN</td>\n",
       "      <td>NaN</td>\n",
       "      <td>13 rue de la Mare du four</td>\n",
       "      <td>60510</td>\n",
       "      <td>NaN</td>\n",
       "      <td>Bresles</td>\n",
       "      <td>60</td>\n",
       "      <td>60103</td>\n",
       "      <td>49.409555, 2.252608</td>\n",
       "      <td>49.4135603419, 2.25008112215</td>\n",
       "      <td>49.409555,2.252608</td>\n",
       "      <td>8729.0</td>\n",
       "      <td>8729.0</td>\n",
       "      <td>32</td>\n",
       "      <td>Bibliothèque municipale</td>\n",
       "      <td>373.0</td>\n",
       "      <td>Bibliothèque ouverte au public</td>\n",
       "      <td>20.0</td>\n",
       "      <td>4226.0</td>\n",
       "    </tr>\n",
       "    <tr>\n",
       "      <th>2</th>\n",
       "      <td>Bibliothèque Municipale De Bury</td>\n",
       "      <td>NaN</td>\n",
       "      <td>NaN</td>\n",
       "      <td>107 rue Pillon Crouzet</td>\n",
       "      <td>60250</td>\n",
       "      <td>NaN</td>\n",
       "      <td>Bury</td>\n",
       "      <td>60</td>\n",
       "      <td>60116</td>\n",
       "      <td>49.313706, 2.343188</td>\n",
       "      <td>49.3128542225, 2.35865250561</td>\n",
       "      <td>49.313706,2.343188</td>\n",
       "      <td>8732.0</td>\n",
       "      <td>8732.0</td>\n",
       "      <td>32</td>\n",
       "      <td>Bibliothèque municipale</td>\n",
       "      <td>82.0</td>\n",
       "      <td>Bibliothèque ouverte au public</td>\n",
       "      <td>16.0</td>\n",
       "      <td>3033.0</td>\n",
       "    </tr>\n",
       "    <tr>\n",
       "      <th>3</th>\n",
       "      <td>Médiathèque Municipale</td>\n",
       "      <td>NaN</td>\n",
       "      <td>NaN</td>\n",
       "      <td>1 AVENUE Henri BESSE</td>\n",
       "      <td>60290</td>\n",
       "      <td>NaN</td>\n",
       "      <td>Cauffry</td>\n",
       "      <td>60</td>\n",
       "      <td>60134</td>\n",
       "      <td>49.322419, 2.442326</td>\n",
       "      <td>49.3134355162, 2.43026281523</td>\n",
       "      <td>49.322419,2.442326</td>\n",
       "      <td>2584.0</td>\n",
       "      <td>2584.0</td>\n",
       "      <td>32</td>\n",
       "      <td>Bibliothèque municipale</td>\n",
       "      <td>131.0</td>\n",
       "      <td>Bibliothèque ouverte au public</td>\n",
       "      <td>26.0</td>\n",
       "      <td>2535.0</td>\n",
       "    </tr>\n",
       "    <tr>\n",
       "      <th>4</th>\n",
       "      <td>Bibliothèque Municipale</td>\n",
       "      <td>NaN</td>\n",
       "      <td>NaN</td>\n",
       "      <td>8 rue de Pont Sainte Maxence</td>\n",
       "      <td>60940</td>\n",
       "      <td>NaN</td>\n",
       "      <td>Cinqueux</td>\n",
       "      <td>60</td>\n",
       "      <td>60154</td>\n",
       "      <td>49.319259, 2.52798</td>\n",
       "      <td>49.3243592276, 2.53354291409</td>\n",
       "      <td>49.319259,2.52798</td>\n",
       "      <td>8742.0</td>\n",
       "      <td>8742.0</td>\n",
       "      <td>32</td>\n",
       "      <td>Bibliothèque municipale</td>\n",
       "      <td>80.0</td>\n",
       "      <td>Bibliothèque ouverte au public</td>\n",
       "      <td>3.0</td>\n",
       "      <td>1593.0</td>\n",
       "    </tr>\n",
       "  </tbody>\n",
       "</table>\n",
       "</div>"
      ],
      "text/plain": [
       "                                        Libelle1 Libelle2 Localisation  \\\n",
       "0  Bibliothèque Intercommunale 'Plaisir de Lire'      NaN          NaN   \n",
       "1                    Médiathèque Madeleine Odent      NaN          NaN   \n",
       "2                Bibliothèque Municipale De Bury      NaN          NaN   \n",
       "3                         Médiathèque Municipale      NaN          NaN   \n",
       "4                        Bibliothèque Municipale      NaN          NaN   \n",
       "\n",
       "                           voie     CP CEDEXB               Ville DEPT  INSEE  \\\n",
       "0                rue de la gare  60490    NaN  Boulogne-la-Grasse   60  60093   \n",
       "1     13 rue de la Mare du four  60510    NaN             Bresles   60  60103   \n",
       "2        107 rue Pillon Crouzet  60250    NaN                Bury   60  60116   \n",
       "3          1 AVENUE Henri BESSE  60290    NaN             Cauffry   60  60134   \n",
       "4  8 rue de Pont Sainte Maxence  60940    NaN            Cinqueux   60  60154   \n",
       "\n",
       "       coordonnees_ban             coordonnees_insee coordonnees_finales  \\\n",
       "0  49.609493, 2.705751  49.6080302361, 2.70097863571  49.609493,2.705751   \n",
       "1  49.409555, 2.252608  49.4135603419, 2.25008112215  49.409555,2.252608   \n",
       "2  49.313706, 2.343188  49.3128542225, 2.35865250561  49.313706,2.343188   \n",
       "3  49.322419, 2.442326  49.3134355162, 2.43026281523  49.322419,2.442326   \n",
       "4   49.319259, 2.52798  49.3243592276, 2.53354291409   49.319259,2.52798   \n",
       "\n",
       "   code_bib  code_ua Code region                   Statut  surface  \\\n",
       "0    8724.0   8724.0          32  Bibliothèque municipale      NaN   \n",
       "1    8729.0   8729.0          32  Bibliothèque municipale    373.0   \n",
       "2    8732.0   8732.0          32  Bibliothèque municipale     82.0   \n",
       "3    2584.0   2584.0          32  Bibliothèque municipale    131.0   \n",
       "4    8742.0   8742.0          32  Bibliothèque municipale     80.0   \n",
       "\n",
       "                     type_adresse  amplitude_horaire  pop_com  \n",
       "0  Bibliothèque ouverte au public                NaN    486.0  \n",
       "1  Bibliothèque ouverte au public               20.0   4226.0  \n",
       "2  Bibliothèque ouverte au public               16.0   3033.0  \n",
       "3  Bibliothèque ouverte au public               26.0   2535.0  \n",
       "4  Bibliothèque ouverte au public                3.0   1593.0  "
      ]
     },
     "execution_count": 19,
     "metadata": {},
     "output_type": "execute_result"
    }
   ],
   "source": [
    "df = pd.read_csv(raw_data/'adresses-des-bibliotheques-publiques.csv', header=0, sep=';')\n",
    "#df.rename(columns={'Code postal': 'CODE_INSEE', 'Département': 'DEP'}, inplace=True)\n",
    "print(df.shape)\n",
    "df.head()"
   ]
  },
  {
   "cell_type": "code",
   "execution_count": 20,
   "metadata": {},
   "outputs": [
    {
     "data": {
      "text/plain": [
       "Bibliothèque ouverte au public    15481\n",
       "Adresse administrative              298\n",
       "Name: type_adresse, dtype: int64"
      ]
     },
     "execution_count": 20,
     "metadata": {},
     "output_type": "execute_result"
    }
   ],
   "source": [
    "df['type_adresse'].value_counts()"
   ]
  },
  {
   "cell_type": "code",
   "execution_count": 21,
   "metadata": {},
   "outputs": [
    {
     "data": {
      "text/plain": [
       "Bibliothèque municipale            15182\n",
       "Bibliothèque municipale classée      376\n",
       "Bibliothèque départementale          177\n",
       "Name: Statut, dtype: int64"
      ]
     },
     "execution_count": 21,
     "metadata": {},
     "output_type": "execute_result"
    }
   ],
   "source": [
    "df['Statut'].value_counts()"
   ]
  },
  {
   "cell_type": "code",
   "execution_count": 22,
   "metadata": {},
   "outputs": [],
   "source": [
    "# On garde uniquement les bibliothèques ouverte au public\n",
    "df = df[df['type_adresse'] == 'Bibliothèque ouverte au public']"
   ]
  },
  {
   "cell_type": "code",
   "execution_count": 23,
   "metadata": {
    "colab": {
     "base_uri": "https://localhost:8080/",
     "height": 424
    },
    "id": "gwqtxAy3u_YU",
    "outputId": "8d16959a-0228-429c-ef0e-b3dbfbc94b78"
   },
   "outputs": [
    {
     "data": {
      "text/html": [
       "<div>\n",
       "<style scoped>\n",
       "    .dataframe tbody tr th:only-of-type {\n",
       "        vertical-align: middle;\n",
       "    }\n",
       "\n",
       "    .dataframe tbody tr th {\n",
       "        vertical-align: top;\n",
       "    }\n",
       "\n",
       "    .dataframe thead th {\n",
       "        text-align: right;\n",
       "    }\n",
       "</style>\n",
       "<table border=\"1\" class=\"dataframe\">\n",
       "  <thead>\n",
       "    <tr style=\"text-align: right;\">\n",
       "      <th></th>\n",
       "      <th>CODE_INSEE</th>\n",
       "      <th>DEP</th>\n",
       "      <th>Ville</th>\n",
       "    </tr>\n",
       "  </thead>\n",
       "  <tbody>\n",
       "    <tr>\n",
       "      <th>0</th>\n",
       "      <td>60093</td>\n",
       "      <td>60</td>\n",
       "      <td>Boulogne-la-Grasse</td>\n",
       "    </tr>\n",
       "    <tr>\n",
       "      <th>1</th>\n",
       "      <td>60103</td>\n",
       "      <td>60</td>\n",
       "      <td>Bresles</td>\n",
       "    </tr>\n",
       "    <tr>\n",
       "      <th>2</th>\n",
       "      <td>60116</td>\n",
       "      <td>60</td>\n",
       "      <td>Bury</td>\n",
       "    </tr>\n",
       "    <tr>\n",
       "      <th>3</th>\n",
       "      <td>60134</td>\n",
       "      <td>60</td>\n",
       "      <td>Cauffry</td>\n",
       "    </tr>\n",
       "    <tr>\n",
       "      <th>4</th>\n",
       "      <td>60154</td>\n",
       "      <td>60</td>\n",
       "      <td>Cinqueux</td>\n",
       "    </tr>\n",
       "    <tr>\n",
       "      <th>...</th>\n",
       "      <td>...</td>\n",
       "      <td>...</td>\n",
       "      <td>...</td>\n",
       "    </tr>\n",
       "    <tr>\n",
       "      <th>15774</th>\n",
       "      <td>60042</td>\n",
       "      <td>60</td>\n",
       "      <td>Bailleval</td>\n",
       "    </tr>\n",
       "    <tr>\n",
       "      <th>15775</th>\n",
       "      <td>60053</td>\n",
       "      <td>60</td>\n",
       "      <td>Beaulieu-les-Fontaines</td>\n",
       "    </tr>\n",
       "    <tr>\n",
       "      <th>15776</th>\n",
       "      <td>60057</td>\n",
       "      <td>60</td>\n",
       "      <td>Beauvais</td>\n",
       "    </tr>\n",
       "    <tr>\n",
       "      <th>15777</th>\n",
       "      <td>60068</td>\n",
       "      <td>60</td>\n",
       "      <td>Béthisy-Saint-Pierre</td>\n",
       "    </tr>\n",
       "    <tr>\n",
       "      <th>15778</th>\n",
       "      <td>60079</td>\n",
       "      <td>60</td>\n",
       "      <td>Boissy-Fresnoy</td>\n",
       "    </tr>\n",
       "  </tbody>\n",
       "</table>\n",
       "<p>15481 rows × 3 columns</p>\n",
       "</div>"
      ],
      "text/plain": [
       "      CODE_INSEE DEP                   Ville\n",
       "0          60093  60      Boulogne-la-Grasse\n",
       "1          60103  60                 Bresles\n",
       "2          60116  60                    Bury\n",
       "3          60134  60                 Cauffry\n",
       "4          60154  60                Cinqueux\n",
       "...          ...  ..                     ...\n",
       "15774      60042  60               Bailleval\n",
       "15775      60053  60  Beaulieu-les-Fontaines\n",
       "15776      60057  60                Beauvais\n",
       "15777      60068  60    Béthisy-Saint-Pierre\n",
       "15778      60079  60          Boissy-Fresnoy\n",
       "\n",
       "[15481 rows x 3 columns]"
      ]
     },
     "execution_count": 23,
     "metadata": {},
     "output_type": "execute_result"
    }
   ],
   "source": [
    "df = df[['INSEE', 'DEPT', 'Ville']]\n",
    "df = df.rename(columns={'INSEE': 'CODE_INSEE', 'DEPT': 'DEP'})\n",
    "df"
   ]
  },
  {
   "cell_type": "code",
   "execution_count": 30,
   "metadata": {
    "colab": {
     "base_uri": "https://localhost:8080/",
     "height": 424
    },
    "id": "DpogjcPX7LcK",
    "outputId": "2713606e-6aa8-4aa6-f471-6781b0832496"
   },
   "outputs": [
    {
     "data": {
      "text/html": [
       "<div>\n",
       "<style scoped>\n",
       "    .dataframe tbody tr th:only-of-type {\n",
       "        vertical-align: middle;\n",
       "    }\n",
       "\n",
       "    .dataframe tbody tr th {\n",
       "        vertical-align: top;\n",
       "    }\n",
       "\n",
       "    .dataframe thead th {\n",
       "        text-align: right;\n",
       "    }\n",
       "</style>\n",
       "<table border=\"1\" class=\"dataframe\">\n",
       "  <thead>\n",
       "    <tr style=\"text-align: right;\">\n",
       "      <th></th>\n",
       "      <th>CODE_INSEE</th>\n",
       "      <th>LIBCOM</th>\n",
       "      <th>DEP</th>\n",
       "      <th>ACCES_SERVICE_PUBLIC</th>\n",
       "    </tr>\n",
       "  </thead>\n",
       "  <tbody>\n",
       "    <tr>\n",
       "      <th>0</th>\n",
       "      <td>01001</td>\n",
       "      <td>L'Abergement-Clémenciat</td>\n",
       "      <td>01</td>\n",
       "      <td>0</td>\n",
       "    </tr>\n",
       "    <tr>\n",
       "      <th>1</th>\n",
       "      <td>01002</td>\n",
       "      <td>L'Abergement-de-Varey</td>\n",
       "      <td>01</td>\n",
       "      <td>0</td>\n",
       "    </tr>\n",
       "    <tr>\n",
       "      <th>2</th>\n",
       "      <td>01004</td>\n",
       "      <td>Ambérieu-en-Bugey</td>\n",
       "      <td>01</td>\n",
       "      <td>0</td>\n",
       "    </tr>\n",
       "    <tr>\n",
       "      <th>3</th>\n",
       "      <td>01005</td>\n",
       "      <td>Ambérieux-en-Dombes</td>\n",
       "      <td>01</td>\n",
       "      <td>1</td>\n",
       "    </tr>\n",
       "    <tr>\n",
       "      <th>4</th>\n",
       "      <td>01006</td>\n",
       "      <td>Ambléon</td>\n",
       "      <td>01</td>\n",
       "      <td>0</td>\n",
       "    </tr>\n",
       "    <tr>\n",
       "      <th>...</th>\n",
       "      <td>...</td>\n",
       "      <td>...</td>\n",
       "      <td>...</td>\n",
       "      <td>...</td>\n",
       "    </tr>\n",
       "    <tr>\n",
       "      <th>36443</th>\n",
       "      <td>97613</td>\n",
       "      <td>M'Tsangamouji</td>\n",
       "      <td>976</td>\n",
       "      <td>0</td>\n",
       "    </tr>\n",
       "    <tr>\n",
       "      <th>36444</th>\n",
       "      <td>97614</td>\n",
       "      <td>Ouangani</td>\n",
       "      <td>976</td>\n",
       "      <td>0</td>\n",
       "    </tr>\n",
       "    <tr>\n",
       "      <th>36445</th>\n",
       "      <td>97615</td>\n",
       "      <td>Pamandzi</td>\n",
       "      <td>976</td>\n",
       "      <td>1</td>\n",
       "    </tr>\n",
       "    <tr>\n",
       "      <th>36446</th>\n",
       "      <td>97616</td>\n",
       "      <td>Sada</td>\n",
       "      <td>976</td>\n",
       "      <td>1</td>\n",
       "    </tr>\n",
       "    <tr>\n",
       "      <th>36447</th>\n",
       "      <td>97617</td>\n",
       "      <td>Tsingoni</td>\n",
       "      <td>976</td>\n",
       "      <td>1</td>\n",
       "    </tr>\n",
       "  </tbody>\n",
       "</table>\n",
       "<p>35013 rows × 4 columns</p>\n",
       "</div>"
      ],
      "text/plain": [
       "      CODE_INSEE                   LIBCOM  DEP  ACCES_SERVICE_PUBLIC\n",
       "0          01001  L'Abergement-Clémenciat   01                     0\n",
       "1          01002    L'Abergement-de-Varey   01                     0\n",
       "2          01004        Ambérieu-en-Bugey   01                     0\n",
       "3          01005      Ambérieux-en-Dombes   01                     1\n",
       "4          01006                  Ambléon   01                     0\n",
       "...          ...                      ...  ...                   ...\n",
       "36443      97613            M'Tsangamouji  976                     0\n",
       "36444      97614                 Ouangani  976                     0\n",
       "36445      97615                 Pamandzi  976                     1\n",
       "36446      97616                     Sada  976                     1\n",
       "36447      97617                 Tsingoni  976                     1\n",
       "\n",
       "[35013 rows x 4 columns]"
      ]
     },
     "execution_count": 30,
     "metadata": {},
     "output_type": "execute_result"
    }
   ],
   "source": [
    "mediatheque = commune.merge(df, on=['CODE_INSEE', 'DEP'], how='left').reset_index(drop=True)\n",
    "mediatheque['ACCES_SERVICE_PUBLIC'] = mediatheque['Ville'].apply(lambda x: 0 if pd.isna(x) else 1)\n",
    "mediatheque = mediatheque[['CODE_INSEE', 'LIBCOM', 'DEP', 'ACCES_SERVICE_PUBLIC']] \n",
    "mediatheque.drop_duplicates(inplace=True)\n",
    "mediatheque"
   ]
  },
  {
   "cell_type": "code",
   "execution_count": 32,
   "metadata": {},
   "outputs": [
    {
     "data": {
      "text/plain": [
       "0    21284\n",
       "1    13729\n",
       "Name: ACCES_SERVICE_PUBLIC, dtype: int64"
      ]
     },
     "execution_count": 32,
     "metadata": {},
     "output_type": "execute_result"
    }
   ],
   "source": [
    "mediatheque['ACCES_SERVICE_PUBLIC'].value_counts()"
   ]
  },
  {
   "cell_type": "code",
   "execution_count": 33,
   "metadata": {
    "id": "373IvqIQeRqn"
   },
   "outputs": [],
   "source": [
    "mediatheque.to_csv(f'{interim_data}/acces_point_phys_service_publique.csv', index=False)"
   ]
  },
  {
   "cell_type": "markdown",
   "metadata": {
    "id": "qP0mew0WBrJv"
   },
   "source": [
    "## 2. Liste des centres sociaux"
   ]
  },
  {
   "cell_type": "code",
   "execution_count": null,
   "metadata": {
    "id": "XD_MDH2YB1LW"
   },
   "outputs": [],
   "source": [
    "import json\n",
    "import pandas as pd\n",
    "import numpy as np\n",
    "from bs4 import BeautifulSoup\n",
    "from urllib import request\n",
    "\n",
    "import time\n",
    "\n",
    "\n",
    "def timeit(method):\n",
    "    def timed(*args, **kw):\n",
    "        ts = time.time()\n",
    "        result = method(*args, **kw)\n",
    "        te = time.time()        \n",
    "        if 'log_time' in kw:\n",
    "            name = kw.get('log_name', method.__name__.upper())\n",
    "            kw['log_time'][name] = int((te - ts) * 1000)\n",
    "        else:\n",
    "            print('%r  %2.2f ms' % \\\n",
    "                  (method.__name__, (te - ts) * 1000))\n",
    "        return result    \n",
    "    return timed"
   ]
  },
  {
   "cell_type": "code",
   "execution_count": null,
   "metadata": {
    "id": "55UsMNkoBtrQ"
   },
   "outputs": [],
   "source": [
    "@timeit\n",
    "def scrap_table_page(url='https://www.senacs.fr/structure/csx?page=', page_number=1):\n",
    "    \"\"\"\n",
    "    Generate a request on senacs page for a given \n",
    "    page number to get the name and location of \n",
    "    each social center.\n",
    "    \"\"\"\n",
    "\n",
    "    url_page = url + str(page_number)\n",
    "    request_text = request.urlopen(url_page).read()\n",
    "    page = BeautifulSoup(request_text, 'html.parser')\n",
    "\n",
    "    table = page.find('table', {'class': 'table table-striped table-hover'}).findAll('td')\n",
    "\n",
    "    # fill the values of id, name and city\n",
    "    ids = [id.getText() for id in table[::4]]\n",
    "    names = [name.getText() for name in table[1::4]]\n",
    "    cities = [city.getText() for city in table[2::4]]\n",
    "\n",
    "    df = pd.DataFrame({'id': ids, \n",
    "                      'nom': names,\n",
    "                      'ville': cities}\n",
    "                      )\n",
    "    df['page'] = page_number\n",
    "\n",
    "    return df\n",
    "\n",
    "\n",
    "def stack_pages(pages=range(91)):\n",
    "    \"\"\"\n",
    "    Concatenate all empruntis scrapped data per region.\n",
    "    \"\"\"\n",
    "\n",
    "    data = pd.DataFrame()    # empty Dataframe to fill\n",
    "    for page_number in pages:\n",
    "        temp = scrap_table_page(page_number=page_number)\n",
    "        data = pd.concat([data, temp], axis=0)\n",
    "\n",
    "    return data"
   ]
  },
  {
   "cell_type": "code",
   "execution_count": null,
   "metadata": {
    "id": "8JjPHFWjHKRF"
   },
   "outputs": [],
   "source": [
    "data = stack_pages()"
   ]
  },
  {
   "cell_type": "code",
   "execution_count": null,
   "metadata": {
    "id": "3-9GvgYoIYof"
   },
   "outputs": [],
   "source": [
    "data['code_postal'] = data['ville'].apply(lambda x: x.split('-')[0])\n",
    "data['ville'] = data['ville'].apply(lambda x: x.split('-')[1])"
   ]
  },
  {
   "cell_type": "code",
   "execution_count": null,
   "metadata": {
    "colab": {
     "base_uri": "https://localhost:8080/",
     "height": 424
    },
    "id": "S0Y6lbJ_LEiB",
    "outputId": "811ec5a4-6bac-4a4a-e13d-22b032fa844b"
   },
   "outputs": [
    {
     "data": {
      "text/html": [
       "<div>\n",
       "<style scoped>\n",
       "    .dataframe tbody tr th:only-of-type {\n",
       "        vertical-align: middle;\n",
       "    }\n",
       "\n",
       "    .dataframe tbody tr th {\n",
       "        vertical-align: top;\n",
       "    }\n",
       "\n",
       "    .dataframe thead th {\n",
       "        text-align: right;\n",
       "    }\n",
       "</style>\n",
       "<table border=\"1\" class=\"dataframe\">\n",
       "  <thead>\n",
       "    <tr style=\"text-align: right;\">\n",
       "      <th></th>\n",
       "      <th>id</th>\n",
       "      <th>nom</th>\n",
       "      <th>ville</th>\n",
       "      <th>page</th>\n",
       "      <th>code_postal</th>\n",
       "    </tr>\n",
       "  </thead>\n",
       "  <tbody>\n",
       "    <tr>\n",
       "      <th>0</th>\n",
       "      <td>91</td>\n",
       "      <td>CENTRE SOCIAL DES GRANDES BORNES</td>\n",
       "      <td>Goussainville</td>\n",
       "      <td>0</td>\n",
       "      <td>95190</td>\n",
       "    </tr>\n",
       "    <tr>\n",
       "      <th>1</th>\n",
       "      <td>92</td>\n",
       "      <td>CENTRE SOCIAL ARCHIPELIA</td>\n",
       "      <td>PARIS 20EME ARRONDISSEMENT</td>\n",
       "      <td>0</td>\n",
       "      <td>75020</td>\n",
       "    </tr>\n",
       "    <tr>\n",
       "      <th>2</th>\n",
       "      <td>93</td>\n",
       "      <td>Espace Socioculturel Val de Charente</td>\n",
       "      <td>Ruffec</td>\n",
       "      <td>0</td>\n",
       "      <td>16700</td>\n",
       "    </tr>\n",
       "    <tr>\n",
       "      <th>3</th>\n",
       "      <td>94</td>\n",
       "      <td>CENTRE SOCIAL Maison Des Habitants Champaret</td>\n",
       "      <td>Bourgoin</td>\n",
       "      <td>0</td>\n",
       "      <td>38300</td>\n",
       "    </tr>\n",
       "    <tr>\n",
       "      <th>4</th>\n",
       "      <td>95</td>\n",
       "      <td>CENTRE SOCIAL MAISON DE LA CHALLE</td>\n",
       "      <td>Éragny</td>\n",
       "      <td>0</td>\n",
       "      <td>95610</td>\n",
       "    </tr>\n",
       "    <tr>\n",
       "      <th>...</th>\n",
       "      <td>...</td>\n",
       "      <td>...</td>\n",
       "      <td>...</td>\n",
       "      <td>...</td>\n",
       "      <td>...</td>\n",
       "    </tr>\n",
       "    <tr>\n",
       "      <th>6</th>\n",
       "      <td>16264</td>\n",
       "      <td>CENTRE SOCIOCULTUREL MUNICIPAL DE SAINT-DIZIER</td>\n",
       "      <td>Saint</td>\n",
       "      <td>90</td>\n",
       "      <td>52100</td>\n",
       "    </tr>\n",
       "    <tr>\n",
       "      <th>7</th>\n",
       "      <td>16267</td>\n",
       "      <td>ESPACE DE VIE SOCIALE L.E.P.H.A.R.E</td>\n",
       "      <td>Aniche</td>\n",
       "      <td>90</td>\n",
       "      <td>59580</td>\n",
       "    </tr>\n",
       "    <tr>\n",
       "      <th>8</th>\n",
       "      <td>16351</td>\n",
       "      <td>ASSOCIATION  FERME BEAUREPAIRE</td>\n",
       "      <td>Boulogne</td>\n",
       "      <td>90</td>\n",
       "      <td>62200</td>\n",
       "    </tr>\n",
       "    <tr>\n",
       "      <th>9</th>\n",
       "      <td>16355</td>\n",
       "      <td>OFFICE DE LA JEUNESSE</td>\n",
       "      <td>Bruay</td>\n",
       "      <td>90</td>\n",
       "      <td>62700</td>\n",
       "    </tr>\n",
       "    <tr>\n",
       "      <th>10</th>\n",
       "      <td>16359</td>\n",
       "      <td>CENTRE SOCIAL MUNICIPAL ECLATE MONTIGNY EN GOH...</td>\n",
       "      <td>Montigny</td>\n",
       "      <td>90</td>\n",
       "      <td>62640</td>\n",
       "    </tr>\n",
       "  </tbody>\n",
       "</table>\n",
       "<p>2261 rows × 5 columns</p>\n",
       "</div>"
      ],
      "text/plain": [
       "       id                                                nom  ... page  code_postal\n",
       "0      91                   CENTRE SOCIAL DES GRANDES BORNES  ...    0       95190 \n",
       "1      92                           CENTRE SOCIAL ARCHIPELIA  ...    0       75020 \n",
       "2      93               Espace Socioculturel Val de Charente  ...    0       16700 \n",
       "3      94       CENTRE SOCIAL Maison Des Habitants Champaret  ...    0       38300 \n",
       "4      95                  CENTRE SOCIAL MAISON DE LA CHALLE  ...    0       95610 \n",
       "..    ...                                                ...  ...  ...          ...\n",
       "6   16264     CENTRE SOCIOCULTUREL MUNICIPAL DE SAINT-DIZIER  ...   90       52100 \n",
       "7   16267                ESPACE DE VIE SOCIALE L.E.P.H.A.R.E  ...   90       59580 \n",
       "8   16351                    ASSOCIATION  FERME BEAUREPAIRE   ...   90       62200 \n",
       "9   16355                              OFFICE DE LA JEUNESSE  ...   90       62700 \n",
       "10  16359  CENTRE SOCIAL MUNICIPAL ECLATE MONTIGNY EN GOH...  ...   90       62640 \n",
       "\n",
       "[2261 rows x 5 columns]"
      ]
     },
     "execution_count": 5,
     "metadata": {
      "tags": []
     },
     "output_type": "execute_result"
    }
   ],
   "source": [
    "data"
   ]
  },
  {
   "cell_type": "code",
   "execution_count": null,
   "metadata": {
    "id": "ykPa_n-9izOa"
   },
   "outputs": [],
   "source": [
    "dir = '/content/drive/My Drive/Colab Notebooks/'\n",
    "data.to_csv(f'{dir}data_centre_sociaux.csv', index=False)"
   ]
  },
  {
   "cell_type": "markdown",
   "metadata": {
    "id": "0nXf4iOgeVUi"
   },
   "source": [
    "## 3. Distance des communes à l'accès le plus proche\n"
   ]
  },
  {
   "cell_type": "code",
   "execution_count": null,
   "metadata": {
    "colab": {
     "base_uri": "https://localhost:8080/",
     "height": 139
    },
    "id": "gbrlsP6LKBNk",
    "outputId": "a77c4f26-1720-4c80-e8d3-d6bb19516352"
   },
   "outputs": [
    {
     "name": "stdout",
     "output_type": "stream",
     "text": [
      "Cloning into 'France-services'...\n",
      "remote: Enumerating objects: 260, done.\u001b[K\n",
      "remote: Counting objects: 100% (260/260), done.\u001b[K\n",
      "remote: Compressing objects: 100% (169/169), done.\u001b[K\n",
      "remote: Total 260 (delta 108), reused 221 (delta 78), pack-reused 0\u001b[K\n",
      "Receiving objects: 100% (260/260), 2.12 MiB | 11.94 MiB/s, done.\n",
      "Resolving deltas: 100% (108/108), done.\n"
     ]
    }
   ],
   "source": [
    "# copy geoson file with every 'Franceservices' locations\n",
    "\n",
    "import os\n",
    "\n",
    "if 'COLAB_GPU' in os.environ:  # this is always set on Colab, the value is 0 or 1 depending on whether a GPU is attached\n",
    "    from google.colab import auth\n",
    "    #auth.authenticate_user()\n",
    "\n",
    "    !rm -rf France-services/ \n",
    "    !git clone https://github.com/cget-carto/France-services.git\n",
    "    !mv France-services/data/france_services.geojson ."
   ]
  },
  {
   "cell_type": "code",
   "execution_count": null,
   "metadata": {
    "id": "Xn4yFI7dflix"
   },
   "outputs": [],
   "source": [
    "import pandas as pd\n",
    "import json\n",
    "\n",
    "with open(\"france_services.geojson\", \"r\") as read_file: \n",
    "    fs = json.load(read_file) "
   ]
  },
  {
   "cell_type": "code",
   "execution_count": null,
   "metadata": {
    "id": "7SftmC0ZgIkl"
   },
   "outputs": [],
   "source": [
    "data_fs = pd.DataFrame()\n",
    "for n, temp in enumerate(fs['features']): \n",
    " \n",
    "    df_temp = pd.DataFrame.from_records([{'latitude': temp['properties']['LATITUDE'], \n",
    "                            'longitude': temp['properties']['LATITUDE'], \n",
    "                            'departement': temp['properties']['DEPARTEMENT'],\n",
    "                            'insee_com': temp['properties']['insee_com'],\n",
    "                            'code_postal': temp['properties']['code_postal'], \n",
    "                            'lib_france_services': temp['properties']['lib_france_services']\n",
    "                            }])\n",
    "    \n",
    "    data_fs = pd.concat([data_fs, df_temp], axis=0)"
   ]
  },
  {
   "cell_type": "code",
   "execution_count": null,
   "metadata": {
    "colab": {
     "base_uri": "https://localhost:8080/",
     "height": 424
    },
    "id": "4AbtbfiVObrp",
    "outputId": "b76aea11-3072-4525-8cb2-97a6389bbe06"
   },
   "outputs": [
    {
     "data": {
      "text/html": [
       "<div>\n",
       "<style scoped>\n",
       "    .dataframe tbody tr th:only-of-type {\n",
       "        vertical-align: middle;\n",
       "    }\n",
       "\n",
       "    .dataframe tbody tr th {\n",
       "        vertical-align: top;\n",
       "    }\n",
       "\n",
       "    .dataframe thead th {\n",
       "        text-align: right;\n",
       "    }\n",
       "</style>\n",
       "<table border=\"1\" class=\"dataframe\">\n",
       "  <thead>\n",
       "    <tr style=\"text-align: right;\">\n",
       "      <th></th>\n",
       "      <th>latitude</th>\n",
       "      <th>longitude</th>\n",
       "      <th>departement</th>\n",
       "      <th>insee_com</th>\n",
       "      <th>code_postal</th>\n",
       "      <th>lib_france_services</th>\n",
       "    </tr>\n",
       "  </thead>\n",
       "  <tbody>\n",
       "    <tr>\n",
       "      <th>0</th>\n",
       "      <td>46.105747</td>\n",
       "      <td>46.105747</td>\n",
       "      <td>1</td>\n",
       "      <td>01033</td>\n",
       "      <td>01200</td>\n",
       "      <td>Valserhône</td>\n",
       "    </tr>\n",
       "    <tr>\n",
       "      <th>0</th>\n",
       "      <td>44.031548</td>\n",
       "      <td>44.031548</td>\n",
       "      <td>12</td>\n",
       "      <td>12197</td>\n",
       "      <td>12170</td>\n",
       "      <td>Réquista « Le Bercail »</td>\n",
       "    </tr>\n",
       "    <tr>\n",
       "      <th>0</th>\n",
       "      <td>44.475185</td>\n",
       "      <td>44.475185</td>\n",
       "      <td>12</td>\n",
       "      <td>12138</td>\n",
       "      <td>12330</td>\n",
       "      <td>Conques-Marcillac</td>\n",
       "    </tr>\n",
       "    <tr>\n",
       "      <th>0</th>\n",
       "      <td>49.291400</td>\n",
       "      <td>49.291400</td>\n",
       "      <td>14</td>\n",
       "      <td>14514</td>\n",
       "      <td>14130</td>\n",
       "      <td>Terre d’Auge</td>\n",
       "    </tr>\n",
       "    <tr>\n",
       "      <th>0</th>\n",
       "      <td>49.126169</td>\n",
       "      <td>49.126169</td>\n",
       "      <td>14</td>\n",
       "      <td>14057</td>\n",
       "      <td>14370</td>\n",
       "      <td>Val ès Dunes</td>\n",
       "    </tr>\n",
       "    <tr>\n",
       "      <th>...</th>\n",
       "      <td>...</td>\n",
       "      <td>...</td>\n",
       "      <td>...</td>\n",
       "      <td>...</td>\n",
       "      <td>...</td>\n",
       "      <td>...</td>\n",
       "    </tr>\n",
       "    <tr>\n",
       "      <th>0</th>\n",
       "      <td>47.617932</td>\n",
       "      <td>47.617932</td>\n",
       "      <td>89</td>\n",
       "      <td>89368</td>\n",
       "      <td>89520</td>\n",
       "      <td>Saint-Sauveur-en-Puisaye</td>\n",
       "    </tr>\n",
       "    <tr>\n",
       "      <th>0</th>\n",
       "      <td>48.980007</td>\n",
       "      <td>48.980007</td>\n",
       "      <td>95</td>\n",
       "      <td>95219</td>\n",
       "      <td>95120</td>\n",
       "      <td>Ermont</td>\n",
       "    </tr>\n",
       "    <tr>\n",
       "      <th>0</th>\n",
       "      <td>47.181000</td>\n",
       "      <td>47.181000</td>\n",
       "      <td>25</td>\n",
       "      <td>25527</td>\n",
       "      <td>25410</td>\n",
       "      <td>Saint Vit</td>\n",
       "    </tr>\n",
       "    <tr>\n",
       "      <th>0</th>\n",
       "      <td>43.208769</td>\n",
       "      <td>43.208769</td>\n",
       "      <td>31</td>\n",
       "      <td>31375</td>\n",
       "      <td>31310</td>\n",
       "      <td>Volvestre – Antenne Montesquieu</td>\n",
       "    </tr>\n",
       "    <tr>\n",
       "      <th>0</th>\n",
       "      <td>43.328157</td>\n",
       "      <td>43.328157</td>\n",
       "      <td>31</td>\n",
       "      <td>31517</td>\n",
       "      <td>31410</td>\n",
       "      <td>Volvestre – Antenne Saint Sulpice</td>\n",
       "    </tr>\n",
       "  </tbody>\n",
       "</table>\n",
       "<p>908 rows × 6 columns</p>\n",
       "</div>"
      ],
      "text/plain": [
       "     latitude  longitude  ... code_postal                lib_france_services\n",
       "0   46.105747  46.105747  ...       01200                         Valserhône\n",
       "0   44.031548  44.031548  ...       12170            Réquista « Le Bercail »\n",
       "0   44.475185  44.475185  ...       12330                  Conques-Marcillac\n",
       "0   49.291400  49.291400  ...       14130                       Terre d’Auge\n",
       "0   49.126169  49.126169  ...       14370                       Val ès Dunes\n",
       "..        ...        ...  ...         ...                                ...\n",
       "0   47.617932  47.617932  ...       89520           Saint-Sauveur-en-Puisaye\n",
       "0   48.980007  48.980007  ...       95120                             Ermont\n",
       "0   47.181000  47.181000  ...       25410                          Saint Vit\n",
       "0   43.208769  43.208769  ...       31310    Volvestre – Antenne Montesquieu\n",
       "0   43.328157  43.328157  ...       31410  Volvestre – Antenne Saint Sulpice\n",
       "\n",
       "[908 rows x 6 columns]"
      ]
     },
     "execution_count": 12,
     "metadata": {
      "tags": []
     },
     "output_type": "execute_result"
    }
   ],
   "source": [
    "data_fs"
   ]
  },
  {
   "cell_type": "markdown",
   "metadata": {
    "id": "Bn8gHBHFTIsb"
   },
   "source": [
    "### Calculer la distance entre le centre des communes et la prefecture, sous-prefecture ou france-services la plus proche en km. \n",
    "\n",
    "- scrapper prefecture / sous-prefecture https://fr.wikipedia.org/wiki/Liste_des_pr%C3%A9fectures_de_France\n",
    "- obtenir coordonnées des communes: OK via codes postaux + librairie `pgecode`"
   ]
  },
  {
   "cell_type": "code",
   "execution_count": null,
   "metadata": {
    "id": "kSuKUHxQP4gw"
   },
   "outputs": [],
   "source": [
    "#data['distance'] = dist.query_postal_code(data[''].values, data[''].values)\n",
    "\n",
    "# calculer le france-service (ou prefecture, sous-prefecture etc.) le plus proche de chaque commune et bueno "
   ]
  },
  {
   "cell_type": "code",
   "execution_count": null,
   "metadata": {
    "colab": {
     "base_uri": "https://localhost:8080/",
     "height": 719
    },
    "id": "FqWmYD2LUo0K",
    "outputId": "1bd1aeeb-debd-4d03-8315-fd24ffdbe5ef"
   },
   "outputs": [
    {
     "name": "stderr",
     "output_type": "stream",
     "text": [
      "/usr/local/lib/python3.6/dist-packages/ipykernel_launcher.py:11: SettingWithCopyWarning: \n",
      "A value is trying to be set on a copy of a slice from a DataFrame.\n",
      "Try using .loc[row_indexer,col_indexer] = value instead\n",
      "\n",
      "See the caveats in the documentation: https://pandas.pydata.org/pandas-docs/stable/user_guide/indexing.html#returning-a-view-versus-a-copy\n",
      "  # This is added back by InteractiveShellApp.init_path()\n",
      "/usr/local/lib/python3.6/dist-packages/ipykernel_launcher.py:12: SettingWithCopyWarning: \n",
      "A value is trying to be set on a copy of a slice from a DataFrame.\n",
      "Try using .loc[row_indexer,col_indexer] = value instead\n",
      "\n",
      "See the caveats in the documentation: https://pandas.pydata.org/pandas-docs/stable/user_guide/indexing.html#returning-a-view-versus-a-copy\n",
      "  if sys.path[0] == '':\n",
      "/usr/local/lib/python3.6/dist-packages/pandas/core/frame.py:4170: SettingWithCopyWarning: \n",
      "A value is trying to be set on a copy of a slice from a DataFrame\n",
      "\n",
      "See the caveats in the documentation: https://pandas.pydata.org/pandas-docs/stable/user_guide/indexing.html#returning-a-view-versus-a-copy\n",
      "  errors=errors,\n"
     ]
    },
    {
     "data": {
      "text/html": [
       "<div>\n",
       "<style scoped>\n",
       "    .dataframe tbody tr th:only-of-type {\n",
       "        vertical-align: middle;\n",
       "    }\n",
       "\n",
       "    .dataframe tbody tr th {\n",
       "        vertical-align: top;\n",
       "    }\n",
       "\n",
       "    .dataframe thead th {\n",
       "        text-align: right;\n",
       "    }\n",
       "</style>\n",
       "<table border=\"1\" class=\"dataframe\">\n",
       "  <thead>\n",
       "    <tr style=\"text-align: right;\">\n",
       "      <th></th>\n",
       "      <th>level_0</th>\n",
       "      <th>level_1</th>\n",
       "      <th>code_postal_communes</th>\n",
       "      <th>code_postal_fs</th>\n",
       "    </tr>\n",
       "  </thead>\n",
       "  <tbody>\n",
       "    <tr>\n",
       "      <th>0</th>\n",
       "      <td>0</td>\n",
       "      <td>0</td>\n",
       "      <td>01500</td>\n",
       "      <td>01200</td>\n",
       "    </tr>\n",
       "    <tr>\n",
       "      <th>1</th>\n",
       "      <td>0</td>\n",
       "      <td>0</td>\n",
       "      <td>01500</td>\n",
       "      <td>12170</td>\n",
       "    </tr>\n",
       "    <tr>\n",
       "      <th>2</th>\n",
       "      <td>0</td>\n",
       "      <td>0</td>\n",
       "      <td>01500</td>\n",
       "      <td>12330</td>\n",
       "    </tr>\n",
       "    <tr>\n",
       "      <th>3</th>\n",
       "      <td>0</td>\n",
       "      <td>0</td>\n",
       "      <td>01500</td>\n",
       "      <td>14130</td>\n",
       "    </tr>\n",
       "    <tr>\n",
       "      <th>4</th>\n",
       "      <td>0</td>\n",
       "      <td>0</td>\n",
       "      <td>01500</td>\n",
       "      <td>14370</td>\n",
       "    </tr>\n",
       "    <tr>\n",
       "      <th>...</th>\n",
       "      <td>...</td>\n",
       "      <td>...</td>\n",
       "      <td>...</td>\n",
       "      <td>...</td>\n",
       "    </tr>\n",
       "    <tr>\n",
       "      <th>35586331</th>\n",
       "      <td>39191</td>\n",
       "      <td>0</td>\n",
       "      <td>98799</td>\n",
       "      <td>89520</td>\n",
       "    </tr>\n",
       "    <tr>\n",
       "      <th>35586332</th>\n",
       "      <td>39191</td>\n",
       "      <td>0</td>\n",
       "      <td>98799</td>\n",
       "      <td>95120</td>\n",
       "    </tr>\n",
       "    <tr>\n",
       "      <th>35586333</th>\n",
       "      <td>39191</td>\n",
       "      <td>0</td>\n",
       "      <td>98799</td>\n",
       "      <td>25410</td>\n",
       "    </tr>\n",
       "    <tr>\n",
       "      <th>35586334</th>\n",
       "      <td>39191</td>\n",
       "      <td>0</td>\n",
       "      <td>98799</td>\n",
       "      <td>31310</td>\n",
       "    </tr>\n",
       "    <tr>\n",
       "      <th>35586335</th>\n",
       "      <td>39191</td>\n",
       "      <td>0</td>\n",
       "      <td>98799</td>\n",
       "      <td>31410</td>\n",
       "    </tr>\n",
       "  </tbody>\n",
       "</table>\n",
       "<p>35586336 rows × 4 columns</p>\n",
       "</div>"
      ],
      "text/plain": [
       "          level_0  level_1 code_postal_communes code_postal_fs\n",
       "0               0        0                01500          01200\n",
       "1               0        0                01500          12170\n",
       "2               0        0                01500          12330\n",
       "3               0        0                01500          14130\n",
       "4               0        0                01500          14370\n",
       "...           ...      ...                  ...            ...\n",
       "35586331    39191        0                98799          89520\n",
       "35586332    39191        0                98799          95120\n",
       "35586333    39191        0                98799          25410\n",
       "35586334    39191        0                98799          31310\n",
       "35586335    39191        0                98799          31410\n",
       "\n",
       "[35586336 rows x 4 columns]"
      ]
     },
     "execution_count": 24,
     "metadata": {
      "tags": []
     },
     "output_type": "execute_result"
    }
   ],
   "source": [
    "def df_crossjoin(df1, df2, **kwargs):\n",
    "    \"\"\"\n",
    "    Make a cross join (cartesian product) between two dataframes by using a constant temporary key.\n",
    "    Also sets a MultiIndex which is the cartesian product of the indices of the input dataframes.\n",
    "    See: https://github.com/pydata/pandas/issues/5401\n",
    "    :param df1 dataframe 1\n",
    "    :param df1 dataframe 2\n",
    "    :param kwargs keyword arguments that will be passed to pd.merge()\n",
    "    :return cross join of df1 and df2\n",
    "    \"\"\"\n",
    "    df1['_tmpkey'] = 1\n",
    "    df2['_tmpkey'] = 1\n",
    "\n",
    "    res = pd.merge(df1, df2, on='_tmpkey', **kwargs).drop('_tmpkey', axis=1)\n",
    "    res.index = pd.MultiIndex.from_product((df1.index, df2.index))\n",
    "\n",
    "    df1.drop('_tmpkey', axis=1, inplace=True)\n",
    "    df2.drop('_tmpkey', axis=1, inplace=True)\n",
    "\n",
    "    return res\n",
    "\n",
    "df = df_crossjoin(commune[['code_postal']], data_fs[['code_postal']], suffixes=('_communes', '_fs')).reset_index()\n",
    "df"
   ]
  },
  {
   "cell_type": "code",
   "execution_count": null,
   "metadata": {
    "colab": {
     "base_uri": "https://localhost:8080/",
     "height": 424
    },
    "id": "oKEUOYEnmPlO",
    "outputId": "ebe0a02c-6b95-454c-fa9c-b3dfc341bb12"
   },
   "outputs": [
    {
     "data": {
      "text/html": [
       "<div>\n",
       "<style scoped>\n",
       "    .dataframe tbody tr th:only-of-type {\n",
       "        vertical-align: middle;\n",
       "    }\n",
       "\n",
       "    .dataframe tbody tr th {\n",
       "        vertical-align: top;\n",
       "    }\n",
       "\n",
       "    .dataframe thead th {\n",
       "        text-align: right;\n",
       "    }\n",
       "</style>\n",
       "<table border=\"1\" class=\"dataframe\">\n",
       "  <thead>\n",
       "    <tr style=\"text-align: right;\">\n",
       "      <th></th>\n",
       "      <th>level_0</th>\n",
       "      <th>level_1</th>\n",
       "      <th>code_postal_communes</th>\n",
       "      <th>code_postal_fs</th>\n",
       "    </tr>\n",
       "  </thead>\n",
       "  <tbody>\n",
       "    <tr>\n",
       "      <th>0</th>\n",
       "      <td>0</td>\n",
       "      <td>0</td>\n",
       "      <td>01500</td>\n",
       "      <td>01200</td>\n",
       "    </tr>\n",
       "    <tr>\n",
       "      <th>1</th>\n",
       "      <td>0</td>\n",
       "      <td>0</td>\n",
       "      <td>01500</td>\n",
       "      <td>12170</td>\n",
       "    </tr>\n",
       "    <tr>\n",
       "      <th>2</th>\n",
       "      <td>0</td>\n",
       "      <td>0</td>\n",
       "      <td>01500</td>\n",
       "      <td>12330</td>\n",
       "    </tr>\n",
       "    <tr>\n",
       "      <th>3</th>\n",
       "      <td>0</td>\n",
       "      <td>0</td>\n",
       "      <td>01500</td>\n",
       "      <td>14130</td>\n",
       "    </tr>\n",
       "    <tr>\n",
       "      <th>4</th>\n",
       "      <td>0</td>\n",
       "      <td>0</td>\n",
       "      <td>01500</td>\n",
       "      <td>14370</td>\n",
       "    </tr>\n",
       "    <tr>\n",
       "      <th>...</th>\n",
       "      <td>...</td>\n",
       "      <td>...</td>\n",
       "      <td>...</td>\n",
       "      <td>...</td>\n",
       "    </tr>\n",
       "    <tr>\n",
       "      <th>35586331</th>\n",
       "      <td>39191</td>\n",
       "      <td>0</td>\n",
       "      <td>98799</td>\n",
       "      <td>89520</td>\n",
       "    </tr>\n",
       "    <tr>\n",
       "      <th>35586332</th>\n",
       "      <td>39191</td>\n",
       "      <td>0</td>\n",
       "      <td>98799</td>\n",
       "      <td>95120</td>\n",
       "    </tr>\n",
       "    <tr>\n",
       "      <th>35586333</th>\n",
       "      <td>39191</td>\n",
       "      <td>0</td>\n",
       "      <td>98799</td>\n",
       "      <td>25410</td>\n",
       "    </tr>\n",
       "    <tr>\n",
       "      <th>35586334</th>\n",
       "      <td>39191</td>\n",
       "      <td>0</td>\n",
       "      <td>98799</td>\n",
       "      <td>31310</td>\n",
       "    </tr>\n",
       "    <tr>\n",
       "      <th>35586335</th>\n",
       "      <td>39191</td>\n",
       "      <td>0</td>\n",
       "      <td>98799</td>\n",
       "      <td>31410</td>\n",
       "    </tr>\n",
       "  </tbody>\n",
       "</table>\n",
       "<p>33665928 rows × 4 columns</p>\n",
       "</div>"
      ],
      "text/plain": [
       "          level_0  level_1 code_postal_communes code_postal_fs\n",
       "0               0        0                01500          01200\n",
       "1               0        0                01500          12170\n",
       "2               0        0                01500          12330\n",
       "3               0        0                01500          14130\n",
       "4               0        0                01500          14370\n",
       "...           ...      ...                  ...            ...\n",
       "35586331    39191        0                98799          89520\n",
       "35586332    39191        0                98799          95120\n",
       "35586333    39191        0                98799          25410\n",
       "35586334    39191        0                98799          31310\n",
       "35586335    39191        0                98799          31410\n",
       "\n",
       "[33665928 rows x 4 columns]"
      ]
     },
     "execution_count": 27,
     "metadata": {
      "tags": []
     },
     "output_type": "execute_result"
    }
   ],
   "source": [
    "df.drop_duplicates()"
   ]
  },
  {
   "cell_type": "code",
   "execution_count": null,
   "metadata": {
    "colab": {
     "base_uri": "https://localhost:8080/",
     "height": 69
    },
    "id": "Zz9ORye5mc9L",
    "outputId": "65769bba-132b-41da-bc29-1f4fb0837703"
   },
   "outputs": [
    {
     "data": {
      "text/plain": [
       "code_postal_communes\n",
       "01500    []\n",
       "dtype: object"
      ]
     },
     "execution_count": 39,
     "metadata": {
      "tags": []
     },
     "output_type": "execute_result"
    }
   ],
   "source": [
    "df[:len(data_fs)].groupby('code_postal_communes').apply(lambda row: dist.query_postal_code(row['code_postal_communes'], row['code_postal_fs']))"
   ]
  },
  {
   "cell_type": "code",
   "execution_count": null,
   "metadata": {
    "colab": {
     "base_uri": "https://localhost:8080/",
     "height": 225
    },
    "id": "tDNfGYoOnRgn",
    "outputId": "017d6f50-4d66-48c2-c8b7-62635cd9e120"
   },
   "outputs": [
    {
     "data": {
      "text/plain": [
       "0       42.623548\n",
       "1      301.434162\n",
       "2      275.230403\n",
       "3      527.270586\n",
       "4      544.313797\n",
       "          ...    \n",
       "903    238.162672\n",
       "904    409.646169\n",
       "905    143.125315\n",
       "906    446.226215\n",
       "907    431.109707\n",
       "Length: 908, dtype: float64"
      ]
     },
     "execution_count": 40,
     "metadata": {
      "tags": []
     },
     "output_type": "execute_result"
    }
   ],
   "source": [
    "df[:len(data_fs)].apply(lambda row: dist.query_postal_code(row['code_postal_communes'], row['code_postal_fs']), axis=1)"
   ]
  },
  {
   "cell_type": "code",
   "execution_count": 26,
   "metadata": {
    "colab": {
     "base_uri": "https://localhost:8080/",
     "height": 417
    },
    "id": "2vFNzxVdT3uu",
    "outputId": "1ea1136e-5e97-46de-c980-047c414f3ec8"
   },
   "outputs": [],
   "source": [
    "#df['distance_commune_france_service'] = df.apply(lambda row: dist.query_postal_code(row['code_postal_communes'], row['code_postal_fs']), axis=1)"
   ]
  },
  {
   "cell_type": "code",
   "execution_count": null,
   "metadata": {
    "id": "1pqwuDy9T5Z3"
   },
   "outputs": [],
   "source": [
    "# take the minimum per commune and OK\n",
    "# df.groupby('code_postal_communes').agg({'distance_commune_france_service': ['mean', 'min']})"
   ]
  },
  {
   "cell_type": "code",
   "execution_count": 27,
   "metadata": {
    "colab": {
     "base_uri": "https://localhost:8080/",
     "height": 424
    },
    "id": "0SwMFq3iT19L",
    "outputId": "2e9b5818-6a9e-4ab7-eec5-3237c914b67b"
   },
   "outputs": [],
   "source": [
    "#df"
   ]
  }
 ],
 "metadata": {
  "colab": {
   "collapsed_sections": [],
   "include_colab_link": true,
   "name": "carte_mediatheque.ipynb",
   "provenance": [],
   "toc_visible": true
  },
  "kernelspec": {
   "display_name": "Python 3",
   "language": "python",
   "name": "python3"
  },
  "language_info": {
   "codemirror_mode": {
    "name": "ipython",
    "version": 3
   },
   "file_extension": ".py",
   "mimetype": "text/x-python",
   "name": "python",
   "nbconvert_exporter": "python",
   "pygments_lexer": "ipython3",
   "version": "3.6.6"
  }
 },
 "nbformat": 4,
 "nbformat_minor": 4
}
