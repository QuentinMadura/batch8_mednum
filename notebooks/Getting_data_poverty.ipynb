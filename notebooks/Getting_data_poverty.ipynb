{
 "cells": [
  {
   "cell_type": "markdown",
   "metadata": {},
   "source": [
    "# Transforming excel to df"
   ]
  },
  {
   "cell_type": "code",
   "execution_count": 1,
   "metadata": {},
   "outputs": [],
   "source": [
    "import os \n",
    "from glob import glob\n",
    "import pandas as pd\n",
    "import numpy as np"
   ]
  },
  {
   "cell_type": "code",
   "execution_count": 19,
   "metadata": {},
   "outputs": [
    {
     "name": "stdout",
     "output_type": "stream",
     "text": [
      "Collecting xlrd\n",
      "  Downloading xlrd-1.2.0-py2.py3-none-any.whl (103 kB)\n",
      "\u001b[K     |████████████████████████████████| 103 kB 427 kB/s eta 0:00:01\n",
      "\u001b[?25hInstalling collected packages: xlrd\n",
      "Successfully installed xlrd-1.2.0\n"
     ]
    }
   ],
   "source": [
    "#!pip install xlrd"
   ]
  },
  {
   "cell_type": "code",
   "execution_count": 2,
   "metadata": {},
   "outputs": [],
   "source": [
    "import xlrd"
   ]
  },
  {
   "cell_type": "markdown",
   "metadata": {},
   "source": [
    "### 1. Using `xlrd`"
   ]
  },
  {
   "cell_type": "code",
   "execution_count": 3,
   "metadata": {},
   "outputs": [],
   "source": [
    "path = '../../Donnees_indices_fragilites_numeriques/'\n"
   ]
  },
  {
   "cell_type": "markdown",
   "metadata": {},
   "source": [
    "#### Find path of xls into TauxdePauvrete folder\n"
   ]
  },
  {
   "cell_type": "code",
   "execution_count": 4,
   "metadata": {},
   "outputs": [
    {
     "data": {
      "text/plain": [
       "'../../Donnees_indices_fragilites_numeriques/1 - Accès aux interfaces numériques/1 - Taux de pauvreté/2019/2A - Corse du Sud.xls'"
      ]
     },
     "execution_count": 4,
     "metadata": {},
     "output_type": "execute_result"
    }
   ],
   "source": [
    "list_files= glob(os.path.join(path,'**/**/2019/*.xls'))\n",
    "list_files[0]"
   ]
  },
  {
   "cell_type": "markdown",
   "metadata": {},
   "source": [
    "# 1. Method to create dataframe"
   ]
  },
  {
   "cell_type": "code",
   "execution_count": 5,
   "metadata": {},
   "outputs": [],
   "source": [
    "def create_dataframe(filename,columns = ['Dep','Commune','Libelle','revenu_fiscal_ref','num_foyers_fiscal'],start_row=24,start_col=1,end_col = 6):\n",
    "    # load the first sheet\n",
    "    wb = xlrd.open_workbook(filename=filename)\n",
    "    sheet = wb.sheet_by_index(0)   \n",
    "    data = [sheet.row_values(i,start_colx=start_col,end_colx=end_col) for i in range(start_row,sheet.nrows)]  # get the info\n",
    "    df = pd.DataFrame(data,columns=columns)\n",
    "    df['Dep'] = df['Dep'].transform(lambda x: x[:2]) #convert 060 to 06 (departement)\n",
    "    return df"
   ]
  },
  {
   "cell_type": "code",
   "execution_count": 6,
   "metadata": {},
   "outputs": [
    {
     "data": {
      "text/html": [
       "<div>\n",
       "<style scoped>\n",
       "    .dataframe tbody tr th:only-of-type {\n",
       "        vertical-align: middle;\n",
       "    }\n",
       "\n",
       "    .dataframe tbody tr th {\n",
       "        vertical-align: top;\n",
       "    }\n",
       "\n",
       "    .dataframe thead th {\n",
       "        text-align: right;\n",
       "    }\n",
       "</style>\n",
       "<table border=\"1\" class=\"dataframe\">\n",
       "  <thead>\n",
       "    <tr style=\"text-align: right;\">\n",
       "      <th></th>\n",
       "      <th>Dep</th>\n",
       "      <th>Commune</th>\n",
       "      <th>Libelle</th>\n",
       "      <th>revenu_fiscal_ref</th>\n",
       "      <th>num_foyers_fiscal</th>\n",
       "    </tr>\n",
       "  </thead>\n",
       "  <tbody>\n",
       "    <tr>\n",
       "      <th>0</th>\n",
       "      <td>06</td>\n",
       "      <td>002</td>\n",
       "      <td>Amirat</td>\n",
       "      <td>Total</td>\n",
       "      <td>21</td>\n",
       "    </tr>\n",
       "    <tr>\n",
       "      <th>1</th>\n",
       "      <td>06</td>\n",
       "      <td>003</td>\n",
       "      <td>Andon</td>\n",
       "      <td>Total</td>\n",
       "      <td>348</td>\n",
       "    </tr>\n",
       "    <tr>\n",
       "      <th>2</th>\n",
       "      <td>06</td>\n",
       "      <td>004</td>\n",
       "      <td>Antibes</td>\n",
       "      <td>0 à 10 000</td>\n",
       "      <td>10235</td>\n",
       "    </tr>\n",
       "    <tr>\n",
       "      <th>3</th>\n",
       "      <td>06</td>\n",
       "      <td>004</td>\n",
       "      <td>Antibes</td>\n",
       "      <td>10 001 à 12 000</td>\n",
       "      <td>2526</td>\n",
       "    </tr>\n",
       "    <tr>\n",
       "      <th>4</th>\n",
       "      <td>06</td>\n",
       "      <td>004</td>\n",
       "      <td>Antibes</td>\n",
       "      <td>12 001 à 15 000</td>\n",
       "      <td>3886</td>\n",
       "    </tr>\n",
       "  </tbody>\n",
       "</table>\n",
       "</div>"
      ],
      "text/plain": [
       "  Dep Commune  Libelle revenu_fiscal_ref num_foyers_fiscal\n",
       "0  06     002   Amirat             Total                21\n",
       "1  06     003    Andon             Total               348\n",
       "2  06     004  Antibes        0 à 10 000             10235\n",
       "3  06     004  Antibes   10 001 à 12 000              2526\n",
       "4  06     004  Antibes   12 001 à 15 000              3886"
      ]
     },
     "execution_count": 6,
     "metadata": {},
     "output_type": "execute_result"
    }
   ],
   "source": [
    "# Example \n",
    "df = create_dataframe(list_files[7])\n",
    "df.head()"
   ]
  },
  {
   "cell_type": "markdown",
   "metadata": {},
   "source": [
    "### pivot table revenu\n"
   ]
  },
  {
   "cell_type": "code",
   "execution_count": 7,
   "metadata": {},
   "outputs": [
    {
     "name": "stdout",
     "output_type": "stream",
     "text": [
      "0\n",
      "30\n"
     ]
    }
   ],
   "source": [
    "for i,c in enumerate(list_files):\n",
    "    if 'Corse' in c:\n",
    "        print(i)"
   ]
  },
  {
   "cell_type": "markdown",
   "metadata": {},
   "source": [
    "# 2. Method to get taux by deparment"
   ]
  },
  {
   "cell_type": "markdown",
   "metadata": {},
   "source": [
    "####### changes a faire\n",
    "1. NAN --- 0\n",
    "2. Taux dans pourcentage\n",
    "3. CODE (00)(000)"
   ]
  },
  {
   "cell_type": "code",
   "execution_count": 8,
   "metadata": {},
   "outputs": [],
   "source": [
    "def get_info(file):\n",
    "    # Method to get info\n",
    "    df = create_dataframe(file)\n",
    "    # pivot table to change revenu to columns\n",
    "    table = pd.pivot_table(df, values='num_foyers_fiscal', index=['Dep','Commune','Libelle'],\n",
    "                           columns=['revenu_fiscal_ref'], aggfunc=np.sum,fill_value=0).reset_index()\n",
    "    # ----- calculating indices\n",
    "    nx_10k = table['0 à 10 000']=='n.c.'\n",
    "    nx_12k = table['10 001 à 12 000']=='n.c.'\n",
    "    nx_total = table['Total'] =='n.c.'\n",
    "    if table.loc[nx_10k,'Libelle'].count(): print('****N.C. in 10K\\n',table.loc[nx_10k,['Dep','Libelle']])\n",
    "    if table.loc[nx_12k,'Libelle'].count(): print('****N.C. in 12K\\n',table.loc[nx_12k,['Dep','Libelle']])\n",
    "    if table.loc[nx_total,'Libelle'].count(): print('****N.C. in Total\\n',table.loc[nx_total,['Dep','Libelle']])\n"
   ]
  },
  {
   "cell_type": "markdown",
   "metadata": {},
   "source": [
    "# information"
   ]
  },
  {
   "cell_type": "code",
   "execution_count": 96,
   "metadata": {},
   "outputs": [
    {
     "name": "stdout",
     "output_type": "stream",
     "text": [
      "[[[ Corse du Sud.xls]]] \n",
      "[[[ Drome.xls]]] \n",
      "****N.C. in 12K\n",
      " revenu_fiscal_ref Dep                   Libelle\n",
      "312                26  Saint-Sorlin-en-Valloire\n",
      "****N.C. in Total\n",
      " revenu_fiscal_ref Dep             Libelle\n",
      "15                 26             Aucelon\n",
      "16                 26               Aulan\n",
      "27                 26  La Bâtie-des-Fonds\n",
      "142                26     Izon-la-Bruisse\n",
      "228                26   Le Poët-en-Percip\n",
      "231                26            Pommerol\n",
      "258                26       Rochefourchat\n",
      "333                26          Les Tonils\n",
      "[[[ Mayotte.xls]]] \n",
      "****N.C. in 12K\n",
      " revenu_fiscal_ref Dep        Libelle\n",
      "0                  97          Acoua\n",
      "1                  97     Bandraboua\n",
      "3                  97         Bouéni\n",
      "4                  97        Chiconi\n",
      "8                  97      Kani-Kéli\n",
      "11                 97      Mtsamboro\n",
      "12                 97  M'Tsangamouji\n",
      "13                 97       Ouangani\n",
      "[[[ Taux de pauvreté/2019/430.xls]]] \n",
      "****N.C. in 12K\n",
      " revenu_fiscal_ref Dep                 Libelle\n",
      "193                43  Saint-Julien-Chapteuil\n",
      "208                43           Saint-Paulien\n",
      "[[[ Taux de pauvreté/2019/740.xls]]] \n"
     ]
    }
   ],
   "source": [
    "#dataframe_total = pd.DataFrame(columns=['Libelle','num_foyers','Total','TX_POVERTY'])\n",
    "for file in list_files[:5]:\n",
    "    print(\"[[[{}]]] \".format(file.split('-')[-1]))\n",
    "    df = get_info(file)\n",
    "    #dataframe_total = pd.concat([dataframe_total,df])"
   ]
  },
  {
   "cell_type": "code",
   "execution_count": 9,
   "metadata": {},
   "outputs": [],
   "source": [
    "def get_data(file):\n",
    "    # 1. create dataframe from excel : ['Dep','Commune','Libelle','revenu_fiscal_ref','num_foyers_fiscal']\n",
    "    # 2. NaN fill with 0 !\n",
    "    df = create_dataframe(file)\n",
    "    # pivot table to change revenu to columns\n",
    "    table = pd.pivot_table(df, values='num_foyers_fiscal', index=['Dep','Commune','Libelle'],\n",
    "                           columns=['revenu_fiscal_ref'], aggfunc=np.sum).reset_index()\n",
    "    # ----- calculating indices\n",
    "    # n.c. to Nan  num_foyers < 12 000\n",
    "    table.loc[table['0 à 10 000'] == 'n.c.','0 à 10 000'] = np.nan\n",
    "    table.loc[table['10 001 à 12 000']  == 'n.c.', '10 001 à 12 000'] = np.nan\n",
    "    table.loc[table['Total']  == 'n.c.','Total'] = np.nan\n",
    "    \n",
    "    # TX_POVERTY = (number_foyers10k + number_foyers12k) / total\n",
    "    taux = []\n",
    "    for foyers_10k,foyers_12k,total in zip(table['0 à 10 000'],table['10 001 à 12 000'],table['Total']):\n",
    "        if foyers_10k != np.nan and foyers_12k != np.nan:\n",
    "            taux.append(((foyers_10k + foyers_12k) / total) * 100)\n",
    "        elif foyers_10k == np.nan:\n",
    "            taux.append(((foyers_12k) / total) * 100)\n",
    "        else:\n",
    "            taux.append(((foyers_10k) / total) * 100)\n",
    "            \n",
    "    table['TX_POVERTY'] = taux\n",
    "    table['code_INSEE'] = table['Dep'] + table['Commune'] \n",
    "    return table[['code_INSEE','TX_POVERTY']]\n",
    "    "
   ]
  },
  {
   "cell_type": "markdown",
   "metadata": {},
   "source": [
    "# Testing "
   ]
  },
  {
   "cell_type": "code",
   "execution_count": 10,
   "metadata": {},
   "outputs": [
    {
     "name": "stdout",
     "output_type": "stream",
     "text": [
      "10\n"
     ]
    }
   ],
   "source": [
    "for i,c in enumerate(list_files):\n",
    "    if '92' in c:\n",
    "        print(i)"
   ]
  },
  {
   "cell_type": "code",
   "execution_count": 11,
   "metadata": {},
   "outputs": [
    {
     "data": {
      "text/html": [
       "<div>\n",
       "<style scoped>\n",
       "    .dataframe tbody tr th:only-of-type {\n",
       "        vertical-align: middle;\n",
       "    }\n",
       "\n",
       "    .dataframe tbody tr th {\n",
       "        vertical-align: top;\n",
       "    }\n",
       "\n",
       "    .dataframe thead th {\n",
       "        text-align: right;\n",
       "    }\n",
       "</style>\n",
       "<table border=\"1\" class=\"dataframe\">\n",
       "  <thead>\n",
       "    <tr style=\"text-align: right;\">\n",
       "      <th>revenu_fiscal_ref</th>\n",
       "      <th>TX_POVERTY</th>\n",
       "    </tr>\n",
       "  </thead>\n",
       "  <tbody>\n",
       "    <tr>\n",
       "      <th>count</th>\n",
       "      <td>34.000000</td>\n",
       "    </tr>\n",
       "    <tr>\n",
       "      <th>mean</th>\n",
       "      <td>18.863270</td>\n",
       "    </tr>\n",
       "    <tr>\n",
       "      <th>std</th>\n",
       "      <td>5.535667</td>\n",
       "    </tr>\n",
       "    <tr>\n",
       "      <th>min</th>\n",
       "      <td>13.706041</td>\n",
       "    </tr>\n",
       "    <tr>\n",
       "      <th>25%</th>\n",
       "      <td>15.255150</td>\n",
       "    </tr>\n",
       "    <tr>\n",
       "      <th>50%</th>\n",
       "      <td>16.744815</td>\n",
       "    </tr>\n",
       "    <tr>\n",
       "      <th>75%</th>\n",
       "      <td>19.780616</td>\n",
       "    </tr>\n",
       "    <tr>\n",
       "      <th>max</th>\n",
       "      <td>34.205830</td>\n",
       "    </tr>\n",
       "  </tbody>\n",
       "</table>\n",
       "</div>"
      ],
      "text/plain": [
       "revenu_fiscal_ref  TX_POVERTY\n",
       "count               34.000000\n",
       "mean                18.863270\n",
       "std                  5.535667\n",
       "min                 13.706041\n",
       "25%                 15.255150\n",
       "50%                 16.744815\n",
       "75%                 19.780616\n",
       "max                 34.205830"
      ]
     },
     "execution_count": 11,
     "metadata": {},
     "output_type": "execute_result"
    }
   ],
   "source": [
    "df = get_data(list_files[10])\n",
    "df.describe()"
   ]
  },
  {
   "cell_type": "code",
   "execution_count": 12,
   "metadata": {},
   "outputs": [
    {
     "data": {
      "text/html": [
       "<div>\n",
       "<style scoped>\n",
       "    .dataframe tbody tr th:only-of-type {\n",
       "        vertical-align: middle;\n",
       "    }\n",
       "\n",
       "    .dataframe tbody tr th {\n",
       "        vertical-align: top;\n",
       "    }\n",
       "\n",
       "    .dataframe thead th {\n",
       "        text-align: right;\n",
       "    }\n",
       "</style>\n",
       "<table border=\"1\" class=\"dataframe\">\n",
       "  <thead>\n",
       "    <tr style=\"text-align: right;\">\n",
       "      <th>revenu_fiscal_ref</th>\n",
       "      <th>code_INSEE</th>\n",
       "      <th>TX_POVERTY</th>\n",
       "    </tr>\n",
       "  </thead>\n",
       "  <tbody>\n",
       "    <tr>\n",
       "      <th>0</th>\n",
       "      <td>92002</td>\n",
       "      <td>NaN</td>\n",
       "    </tr>\n",
       "    <tr>\n",
       "      <th>1</th>\n",
       "      <td>92004</td>\n",
       "      <td>22.532063</td>\n",
       "    </tr>\n",
       "    <tr>\n",
       "      <th>2</th>\n",
       "      <td>92007</td>\n",
       "      <td>26.346719</td>\n",
       "    </tr>\n",
       "    <tr>\n",
       "      <th>3</th>\n",
       "      <td>92009</td>\n",
       "      <td>16.152004</td>\n",
       "    </tr>\n",
       "    <tr>\n",
       "      <th>4</th>\n",
       "      <td>92012</td>\n",
       "      <td>16.848615</td>\n",
       "    </tr>\n",
       "    <tr>\n",
       "      <th>5</th>\n",
       "      <td>92014</td>\n",
       "      <td>16.024722</td>\n",
       "    </tr>\n",
       "    <tr>\n",
       "      <th>6</th>\n",
       "      <td>92019</td>\n",
       "      <td>19.950207</td>\n",
       "    </tr>\n",
       "    <tr>\n",
       "      <th>7</th>\n",
       "      <td>92020</td>\n",
       "      <td>16.671527</td>\n",
       "    </tr>\n",
       "    <tr>\n",
       "      <th>8</th>\n",
       "      <td>92022</td>\n",
       "      <td>15.054697</td>\n",
       "    </tr>\n",
       "    <tr>\n",
       "      <th>9</th>\n",
       "      <td>92023</td>\n",
       "      <td>19.271840</td>\n",
       "    </tr>\n",
       "    <tr>\n",
       "      <th>10</th>\n",
       "      <td>92024</td>\n",
       "      <td>27.835804</td>\n",
       "    </tr>\n",
       "    <tr>\n",
       "      <th>11</th>\n",
       "      <td>92025</td>\n",
       "      <td>25.549234</td>\n",
       "    </tr>\n",
       "    <tr>\n",
       "      <th>12</th>\n",
       "      <td>92026</td>\n",
       "      <td>16.644268</td>\n",
       "    </tr>\n",
       "    <tr>\n",
       "      <th>13</th>\n",
       "      <td>92032</td>\n",
       "      <td>19.188392</td>\n",
       "    </tr>\n",
       "    <tr>\n",
       "      <th>14</th>\n",
       "      <td>92033</td>\n",
       "      <td>13.859757</td>\n",
       "    </tr>\n",
       "    <tr>\n",
       "      <th>15</th>\n",
       "      <td>92035</td>\n",
       "      <td>13.978751</td>\n",
       "    </tr>\n",
       "    <tr>\n",
       "      <th>16</th>\n",
       "      <td>92036</td>\n",
       "      <td>34.205830</td>\n",
       "    </tr>\n",
       "    <tr>\n",
       "      <th>17</th>\n",
       "      <td>92040</td>\n",
       "      <td>15.555275</td>\n",
       "    </tr>\n",
       "    <tr>\n",
       "      <th>18</th>\n",
       "      <td>92044</td>\n",
       "      <td>16.087722</td>\n",
       "    </tr>\n",
       "    <tr>\n",
       "      <th>19</th>\n",
       "      <td>92046</td>\n",
       "      <td>22.491369</td>\n",
       "    </tr>\n",
       "    <tr>\n",
       "      <th>20</th>\n",
       "      <td>92047</td>\n",
       "      <td>NaN</td>\n",
       "    </tr>\n",
       "    <tr>\n",
       "      <th>21</th>\n",
       "      <td>92048</td>\n",
       "      <td>17.188999</td>\n",
       "    </tr>\n",
       "    <tr>\n",
       "      <th>22</th>\n",
       "      <td>92049</td>\n",
       "      <td>16.818103</td>\n",
       "    </tr>\n",
       "    <tr>\n",
       "      <th>23</th>\n",
       "      <td>92050</td>\n",
       "      <td>31.574330</td>\n",
       "    </tr>\n",
       "    <tr>\n",
       "      <th>24</th>\n",
       "      <td>92051</td>\n",
       "      <td>16.089678</td>\n",
       "    </tr>\n",
       "    <tr>\n",
       "      <th>25</th>\n",
       "      <td>92060</td>\n",
       "      <td>14.123896</td>\n",
       "    </tr>\n",
       "    <tr>\n",
       "      <th>26</th>\n",
       "      <td>92062</td>\n",
       "      <td>17.975693</td>\n",
       "    </tr>\n",
       "    <tr>\n",
       "      <th>27</th>\n",
       "      <td>92063</td>\n",
       "      <td>14.747886</td>\n",
       "    </tr>\n",
       "    <tr>\n",
       "      <th>28</th>\n",
       "      <td>92064</td>\n",
       "      <td>14.200653</td>\n",
       "    </tr>\n",
       "    <tr>\n",
       "      <th>29</th>\n",
       "      <td>92071</td>\n",
       "      <td>15.155108</td>\n",
       "    </tr>\n",
       "    <tr>\n",
       "      <th>30</th>\n",
       "      <td>92072</td>\n",
       "      <td>16.932780</td>\n",
       "    </tr>\n",
       "    <tr>\n",
       "      <th>31</th>\n",
       "      <td>92073</td>\n",
       "      <td>17.624230</td>\n",
       "    </tr>\n",
       "    <tr>\n",
       "      <th>32</th>\n",
       "      <td>92075</td>\n",
       "      <td>16.546581</td>\n",
       "    </tr>\n",
       "    <tr>\n",
       "      <th>33</th>\n",
       "      <td>92076</td>\n",
       "      <td>13.706041</td>\n",
       "    </tr>\n",
       "    <tr>\n",
       "      <th>34</th>\n",
       "      <td>92077</td>\n",
       "      <td>13.730570</td>\n",
       "    </tr>\n",
       "    <tr>\n",
       "      <th>35</th>\n",
       "      <td>92078</td>\n",
       "      <td>30.687831</td>\n",
       "    </tr>\n",
       "  </tbody>\n",
       "</table>\n",
       "</div>"
      ],
      "text/plain": [
       "revenu_fiscal_ref code_INSEE  TX_POVERTY\n",
       "0                      92002         NaN\n",
       "1                      92004   22.532063\n",
       "2                      92007   26.346719\n",
       "3                      92009   16.152004\n",
       "4                      92012   16.848615\n",
       "5                      92014   16.024722\n",
       "6                      92019   19.950207\n",
       "7                      92020   16.671527\n",
       "8                      92022   15.054697\n",
       "9                      92023   19.271840\n",
       "10                     92024   27.835804\n",
       "11                     92025   25.549234\n",
       "12                     92026   16.644268\n",
       "13                     92032   19.188392\n",
       "14                     92033   13.859757\n",
       "15                     92035   13.978751\n",
       "16                     92036   34.205830\n",
       "17                     92040   15.555275\n",
       "18                     92044   16.087722\n",
       "19                     92046   22.491369\n",
       "20                     92047         NaN\n",
       "21                     92048   17.188999\n",
       "22                     92049   16.818103\n",
       "23                     92050   31.574330\n",
       "24                     92051   16.089678\n",
       "25                     92060   14.123896\n",
       "26                     92062   17.975693\n",
       "27                     92063   14.747886\n",
       "28                     92064   14.200653\n",
       "29                     92071   15.155108\n",
       "30                     92072   16.932780\n",
       "31                     92073   17.624230\n",
       "32                     92075   16.546581\n",
       "33                     92076   13.706041\n",
       "34                     92077   13.730570\n",
       "35                     92078   30.687831"
      ]
     },
     "execution_count": 12,
     "metadata": {},
     "output_type": "execute_result"
    }
   ],
   "source": [
    "df"
   ]
  },
  {
   "cell_type": "code",
   "execution_count": 13,
   "metadata": {},
   "outputs": [
    {
     "data": {
      "text/plain": [
       "<AxesSubplot:ylabel='Frequency'>"
      ]
     },
     "execution_count": 13,
     "metadata": {},
     "output_type": "execute_result"
    },
    {
     "data": {
      "image/png": "[encoded data removed]",
      "text/plain": [
       "<Figure size 432x288 with 1 Axes>"
      ]
     },
     "metadata": {
      "needs_background": "light"
     },
     "output_type": "display_data"
    }
   ],
   "source": [
    "df['TX_POVERTY'].plot.hist()"
   ]
  },
  {
   "cell_type": "markdown",
   "metadata": {},
   "source": [
    "# Create big csv "
   ]
  },
  {
   "cell_type": "code",
   "execution_count": 14,
   "metadata": {},
   "outputs": [
    {
     "name": "stdout",
     "output_type": "stream",
     "text": [
      "[[[ Corse du Sud.xls]]] \n",
      "[[[ Drome.xls]]] \n",
      "[[[ Mayotte.xls]]] \n",
      "[[[ Taux de pauvreté/2019/430.xls]]] \n",
      "[[[ Taux de pauvreté/2019/740.xls]]] \n",
      "[[[ Taux de pauvreté/2019/940.xls]]] \n",
      "[[[ Taux de pauvreté/2019/650.xls]]] \n",
      "[[[ Alpes Maritime.xls]]] \n",
      "[[[ Taux de pauvreté/2019/730.xls]]] \n",
      "[[[ Isère.xls]]] \n",
      "[[[ Taux de pauvreté/2019/920.xls]]] \n",
      "[[[ Martinique.xls]]] \n",
      "[[[ Garonne.xls]]] \n",
      "[[[ Taux de pauvreté/2019/500.xls]]] \n",
      "[[[ Côte d'or.xls]]] \n",
      "[[[ Taux de pauvreté/2019/470.xls]]] \n",
      "[[[ Ardennes.xls]]] \n",
      "[[[ Landes.xls]]] \n",
      "[[[ Taux de pauvreté/2019/950.xls]]] \n",
      "[[[ Allier.xls]]] \n",
      "[[[ Taux de pauvreté/2019/530.xls]]] \n",
      "[[[ Ariège.xls]]] \n",
      "[[[ Taux de pauvreté/2019/580.xls]]] \n",
      "[[[ Marne.xls]]] \n",
      "[[[ Taux de pauvreté/2019/630.xls]]] \n",
      "[[[Maritime.xls]]] \n",
      "[[[ Gers.xls]]] \n",
      "[[[ Taux de pauvreté/2019/830.xls]]] \n",
      "[[[ Taux de pauvreté/2019/700.xls]]] \n",
      "[[[ Ardèche.xls]]] \n",
      "[[[Corse.xls]]] \n",
      "[[[ Charente.xls]]] \n",
      "[[[ Taux de pauvreté/2019/930.xls]]] \n",
      "[[[ Taux de pauvreté/2019/750.xls]]] \n",
      "[[[ Taux de pauvreté/2019/770.xls]]] \n",
      "[[[ Indre.xls]]] \n",
      "[[[ Taux de pauvreté/2019/450.xls]]] \n",
      "[[[ Alpes (Hautes).xls]]] \n",
      "[[[ Taux de pauvreté/2019/620.xls]]] \n",
      "[[[Loir.xls]]] \n",
      "[[[ Calvados.xls]]] \n",
      "[[[ Taux de pauvreté/2019/460.xls]]] \n",
      "[[[ Taux de pauvreté/2019/820.xls]]] \n",
      "[[[ Taux de pauvreté/2019/590.xls]]] \n",
      "[[[ Taux de pauvreté/2019/760.xls]]] \n",
      "[[[ Guadeloupe.xls]]] \n",
      "[[[ Taux de pauvreté/2019/720.xls]]] \n",
      "[[[ Taux de pauvreté/2019/600.xls]]] \n",
      "[[[ Côtes d'Armor.xls]]] \n",
      "[[[ Taux de pauvreté/2019/540.xls]]] \n",
      "[[[ Doubs.xls]]] \n",
      "[[[ Cantal.xls]]] \n",
      "[[[ Taux de pauvreté/2019/860.xls]]] \n",
      "[[[ Taux de pauvreté/2019/710.xls]]] \n",
      "[[[ Réunion.xls]]] \n",
      "[[[ Taux de pauvreté/2019/850.xls]]] \n",
      "[[[ Taux de pauvreté/2019/490.xls]]] \n",
      "[[[Rhône.xls]]] \n",
      "[[[ Cher.xls]]] \n",
      "[[[ Taux de pauvreté/2019/810.xls]]] \n",
      "[[[ Hérault.xls]]] \n",
      "[[[ Corrèze.xls]]] \n",
      "[[[ Jura.xls]]] \n",
      "[[[Loir.xls]]] \n",
      "[[[ Aisne.xls]]] \n",
      "[[[ Sèvres (Deux).xls]]] \n",
      "[[[ Somme.xls]]] \n",
      "[[[ Taux de pauvreté/2019/480.xls]]] \n",
      "[[[ Alpes de haute Provence.xls]]] \n",
      "[[[ Taux de pauvreté/2019/550.xls]]] \n",
      "[[[ Finist_re.xls]]] \n",
      "[[[ Taux de pauvreté/2019/910.xls]]] \n",
      "[[[ Aube.xls]]] \n",
      "[[[ Taux de pauvreté/2019/640.xls]]] \n",
      "[[[ Taux de pauvreté/2019/660.xls]]] \n",
      "[[[ Gard.xls]]] \n",
      "[[[ Taux de pauvreté/2019/440.xls]]] \n",
      "[[[ Taux de pauvreté/2019/890.xls]]] \n",
      "[[[ Taux de pauvreté/2019/870.xls]]] \n",
      "[[[Vilaine.xls]]] \n",
      "[[[ Gironde.xls]]] \n",
      "[[[ Taux de pauvreté/2019/610.xls]]] \n",
      "[[[ Taux de pauvreté/2019/680.xls]]] \n",
      "[[[ Taux de pauvreté/2019/420.xls]]] \n",
      "[[[ Aveyron.xls]]] \n",
      "[[[ Taux de pauvreté/2019/560.xls]]] \n",
      "[[[ Taux de pauvreté/2019/880.xls]]] \n",
      "[[[ Creuse.xls]]] \n",
      "[[[ Taux de pauvreté/2019/570.xls]]] \n",
      "[[[ Taux de pauvreté/2019/900.xls]]] \n",
      "[[[ Rhin (Bas).xls]]] \n",
      "[[[ Ain.xls]]] \n",
      "[[[ Eure.xls]]] \n",
      "[[[ Dordogne.xls]]] \n",
      "[[[ Taux de pauvreté/2019/410.xls]]] \n",
      "[[[ Taux de pauvreté/2019/780.xls]]] \n",
      "[[[ Aude.xls]]] \n",
      "[[[ Taux de pauvreté/2019/840.xls]]] \n",
      "[[[ Taux de pauvreté/2019/690.xls]]] \n",
      "[[[ Guyane.xls]]] \n",
      "[[[ Taux de pauvreté/2019/520.xls]]] \n"
     ]
    }
   ],
   "source": [
    "dataframe_total = pd.DataFrame(columns=['code_INSEE','TX_POVERTY'])\n",
    "for file in list_files:\n",
    "    print(\"[[[{}]]] \".format(file.split('-')[-1]))\n",
    "    # create dataset by departement and concatenate\n",
    "    df = get_data(file)\n",
    "    dataframe_total = pd.concat([dataframe_total,df])\n"
   ]
  },
  {
   "cell_type": "code",
   "execution_count": 15,
   "metadata": {},
   "outputs": [
    {
     "data": {
      "text/html": [
       "<div>\n",
       "<style scoped>\n",
       "    .dataframe tbody tr th:only-of-type {\n",
       "        vertical-align: middle;\n",
       "    }\n",
       "\n",
       "    .dataframe tbody tr th {\n",
       "        vertical-align: top;\n",
       "    }\n",
       "\n",
       "    .dataframe thead th {\n",
       "        text-align: right;\n",
       "    }\n",
       "</style>\n",
       "<table border=\"1\" class=\"dataframe\">\n",
       "  <thead>\n",
       "    <tr style=\"text-align: right;\">\n",
       "      <th>revenu_fiscal_ref</th>\n",
       "      <th>code_INSEE</th>\n",
       "      <th>TX_POVERTY</th>\n",
       "    </tr>\n",
       "  </thead>\n",
       "  <tbody>\n",
       "    <tr>\n",
       "      <th>0</th>\n",
       "      <td>2A001</td>\n",
       "      <td>NaN</td>\n",
       "    </tr>\n",
       "    <tr>\n",
       "      <th>1</th>\n",
       "      <td>2A004</td>\n",
       "      <td>27.441333</td>\n",
       "    </tr>\n",
       "    <tr>\n",
       "      <th>2</th>\n",
       "      <td>2A006</td>\n",
       "      <td>17.826087</td>\n",
       "    </tr>\n",
       "    <tr>\n",
       "      <th>3</th>\n",
       "      <td>2A008</td>\n",
       "      <td>NaN</td>\n",
       "    </tr>\n",
       "    <tr>\n",
       "      <th>4</th>\n",
       "      <td>2A011</td>\n",
       "      <td>NaN</td>\n",
       "    </tr>\n",
       "  </tbody>\n",
       "</table>\n",
       "</div>"
      ],
      "text/plain": [
       "revenu_fiscal_ref code_INSEE  TX_POVERTY\n",
       "0                      2A001         NaN\n",
       "1                      2A004   27.441333\n",
       "2                      2A006   17.826087\n",
       "3                      2A008         NaN\n",
       "4                      2A011         NaN"
      ]
     },
     "execution_count": 15,
     "metadata": {},
     "output_type": "execute_result"
    }
   ],
   "source": [
    "dataframe_total.head()"
   ]
  },
  {
   "cell_type": "code",
   "execution_count": 16,
   "metadata": {},
   "outputs": [
    {
     "data": {
      "text/html": [
       "<div>\n",
       "<style scoped>\n",
       "    .dataframe tbody tr th:only-of-type {\n",
       "        vertical-align: middle;\n",
       "    }\n",
       "\n",
       "    .dataframe tbody tr th {\n",
       "        vertical-align: top;\n",
       "    }\n",
       "\n",
       "    .dataframe thead th {\n",
       "        text-align: right;\n",
       "    }\n",
       "</style>\n",
       "<table border=\"1\" class=\"dataframe\">\n",
       "  <thead>\n",
       "    <tr style=\"text-align: right;\">\n",
       "      <th>revenu_fiscal_ref</th>\n",
       "      <th>TX_POVERTY</th>\n",
       "    </tr>\n",
       "  </thead>\n",
       "  <tbody>\n",
       "    <tr>\n",
       "      <th>count</th>\n",
       "      <td>5596.000000</td>\n",
       "    </tr>\n",
       "    <tr>\n",
       "      <th>mean</th>\n",
       "      <td>24.800362</td>\n",
       "    </tr>\n",
       "    <tr>\n",
       "      <th>std</th>\n",
       "      <td>8.764831</td>\n",
       "    </tr>\n",
       "    <tr>\n",
       "      <th>min</th>\n",
       "      <td>9.387755</td>\n",
       "    </tr>\n",
       "    <tr>\n",
       "      <th>25%</th>\n",
       "      <td>18.236501</td>\n",
       "    </tr>\n",
       "    <tr>\n",
       "      <th>50%</th>\n",
       "      <td>23.165684</td>\n",
       "    </tr>\n",
       "    <tr>\n",
       "      <th>75%</th>\n",
       "      <td>30.123037</td>\n",
       "    </tr>\n",
       "    <tr>\n",
       "      <th>max</th>\n",
       "      <td>72.405498</td>\n",
       "    </tr>\n",
       "  </tbody>\n",
       "</table>\n",
       "</div>"
      ],
      "text/plain": [
       "revenu_fiscal_ref   TX_POVERTY\n",
       "count              5596.000000\n",
       "mean                 24.800362\n",
       "std                   8.764831\n",
       "min                   9.387755\n",
       "25%                  18.236501\n",
       "50%                  23.165684\n",
       "75%                  30.123037\n",
       "max                  72.405498"
      ]
     },
     "execution_count": 16,
     "metadata": {},
     "output_type": "execute_result"
    }
   ],
   "source": [
    "dataframe_total.describe()"
   ]
  },
  {
   "cell_type": "code",
   "execution_count": 17,
   "metadata": {},
   "outputs": [],
   "source": [
    "dataframe_total.to_csv('../data/taux_pauvrete.csv',index=False)"
   ]
  }
 ],
 "metadata": {
  "kernelspec": {
   "display_name": "Python 3",
   "language": "python",
   "name": "python3"
  },
  "language_info": {
   "codemirror_mode": {
    "name": "ipython",
    "version": 3
   },
   "file_extension": ".py",
   "mimetype": "text/x-python",
   "name": "python",
   "nbconvert_exporter": "python",
   "pygments_lexer": "ipython3",
   "version": "3.7.7"
  }
 },
 "nbformat": 4,
 "nbformat_minor": 4
}
