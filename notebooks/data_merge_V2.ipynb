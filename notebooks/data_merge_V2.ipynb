{
 "cells": [
  {
   "cell_type": "code",
   "execution_count": 1,
   "metadata": {
    "ExecuteTime": {
     "end_time": "2020-11-13T11:44:03.816244Z",
     "start_time": "2020-11-13T11:44:03.612793Z"
    },
    "cell_id": "00000-c270f546-9353-47b6-8586-51179a8d36dd",
    "execution_millis": 2,
    "execution_start": 1604599297734,
    "output_cleared": false,
    "source_hash": "c76c7c51",
    "tags": []
   },
   "outputs": [],
   "source": [
    "import pandas as pd\n",
    "import numpy as np\n",
    "import mednum as mdn\n",
    "from mednum.config import *"
   ]
  },
  {
   "cell_type": "code",
   "execution_count": 2,
   "metadata": {
    "ExecuteTime": {
     "end_time": "2020-11-13T11:44:05.565166Z",
     "start_time": "2020-11-13T11:44:05.366787Z"
    },
    "cell_id": "00001-2416c1b1-bafb-4029-95fb-ade38852dba3",
    "execution_millis": 90,
    "execution_start": 1604599297740,
    "output_cleared": false,
    "source_hash": "3c2b1400",
    "tags": []
   },
   "outputs": [
    {
     "data": {
      "text/html": [
       "<div>\n",
       "<style scoped>\n",
       "    .dataframe tbody tr th:only-of-type {\n",
       "        vertical-align: middle;\n",
       "    }\n",
       "\n",
       "    .dataframe tbody tr th {\n",
       "        vertical-align: top;\n",
       "    }\n",
       "\n",
       "    .dataframe thead th {\n",
       "        text-align: right;\n",
       "    }\n",
       "</style>\n",
       "<table border=\"1\" class=\"dataframe\">\n",
       "  <thead>\n",
       "    <tr style=\"text-align: right;\">\n",
       "      <th></th>\n",
       "      <th>Unnamed: 0</th>\n",
       "      <th>CODE_INSEE</th>\n",
       "      <th>TX_POVERTY</th>\n",
       "      <th>TX_NSCOL15P</th>\n",
       "      <th>TX_MENSEUL</th>\n",
       "      <th>TX_FAMMONO</th>\n",
       "      <th>TX_65ETPLUS</th>\n",
       "      <th>TX_25ETMOINS</th>\n",
       "      <th>TX_DEMANDEUR_EMPLOIS</th>\n",
       "      <th>COUVERTURE_HD_THD</th>\n",
       "    </tr>\n",
       "  </thead>\n",
       "  <tbody>\n",
       "    <tr>\n",
       "      <th>0</th>\n",
       "      <td>0</td>\n",
       "      <td>2A001</td>\n",
       "      <td>NaN</td>\n",
       "      <td>47.724584</td>\n",
       "      <td>22.350501</td>\n",
       "      <td>9.322385</td>\n",
       "      <td>21.662567</td>\n",
       "      <td>10.902031</td>\n",
       "      <td>NaN</td>\n",
       "      <td>1.0</td>\n",
       "    </tr>\n",
       "    <tr>\n",
       "      <th>1</th>\n",
       "      <td>1</td>\n",
       "      <td>2A004</td>\n",
       "      <td>27.441333</td>\n",
       "      <td>47.006382</td>\n",
       "      <td>26.648289</td>\n",
       "      <td>14.049949</td>\n",
       "      <td>26.619498</td>\n",
       "      <td>11.425760</td>\n",
       "      <td>13.062663</td>\n",
       "      <td>1.0</td>\n",
       "    </tr>\n",
       "    <tr>\n",
       "      <th>2</th>\n",
       "      <td>2</td>\n",
       "      <td>2A006</td>\n",
       "      <td>17.826087</td>\n",
       "      <td>45.656990</td>\n",
       "      <td>20.245461</td>\n",
       "      <td>9.324807</td>\n",
       "      <td>21.224153</td>\n",
       "      <td>10.888846</td>\n",
       "      <td>NaN</td>\n",
       "      <td>1.0</td>\n",
       "    </tr>\n",
       "    <tr>\n",
       "      <th>3</th>\n",
       "      <td>3</td>\n",
       "      <td>2A008</td>\n",
       "      <td>NaN</td>\n",
       "      <td>41.227734</td>\n",
       "      <td>33.376123</td>\n",
       "      <td>9.627728</td>\n",
       "      <td>36.385084</td>\n",
       "      <td>6.076146</td>\n",
       "      <td>NaN</td>\n",
       "      <td>1.0</td>\n",
       "    </tr>\n",
       "    <tr>\n",
       "      <th>4</th>\n",
       "      <td>4</td>\n",
       "      <td>2A011</td>\n",
       "      <td>NaN</td>\n",
       "      <td>47.727273</td>\n",
       "      <td>48.148148</td>\n",
       "      <td>3.703704</td>\n",
       "      <td>40.909091</td>\n",
       "      <td>11.363636</td>\n",
       "      <td>NaN</td>\n",
       "      <td>1.0</td>\n",
       "    </tr>\n",
       "  </tbody>\n",
       "</table>\n",
       "</div>"
      ],
      "text/plain": [
       "   Unnamed: 0 CODE_INSEE  TX_POVERTY  TX_NSCOL15P  TX_MENSEUL  TX_FAMMONO  \\\n",
       "0           0      2A001         NaN    47.724584   22.350501    9.322385   \n",
       "1           1      2A004   27.441333    47.006382   26.648289   14.049949   \n",
       "2           2      2A006   17.826087    45.656990   20.245461    9.324807   \n",
       "3           3      2A008         NaN    41.227734   33.376123    9.627728   \n",
       "4           4      2A011         NaN    47.727273   48.148148    3.703704   \n",
       "\n",
       "   TX_65ETPLUS  TX_25ETMOINS  TX_DEMANDEUR_EMPLOIS  COUVERTURE_HD_THD  \n",
       "0    21.662567     10.902031                   NaN                1.0  \n",
       "1    26.619498     11.425760             13.062663                1.0  \n",
       "2    21.224153     10.888846                   NaN                1.0  \n",
       "3    36.385084      6.076146                   NaN                1.0  \n",
       "4    40.909091     11.363636                   NaN                1.0  "
      ]
     },
     "execution_count": 2,
     "metadata": {},
     "output_type": "execute_result"
    }
   ],
   "source": [
    "data = pd.read_csv(data_path / 'data_merge.csv')\n",
    "data.head()"
   ]
  },
  {
   "cell_type": "code",
   "execution_count": 3,
   "metadata": {
    "ExecuteTime": {
     "end_time": "2020-11-13T11:44:09.310499Z",
     "start_time": "2020-11-13T11:44:09.301298Z"
    },
    "cell_id": "00002-63554473-1116-458a-a589-7c7f6520d059",
    "execution_millis": 2,
    "execution_start": 1604599297835,
    "output_cleared": false,
    "source_hash": "2007f58",
    "tags": []
   },
   "outputs": [
    {
     "data": {
      "text/plain": [
       "(36393, 10)"
      ]
     },
     "execution_count": 3,
     "metadata": {},
     "output_type": "execute_result"
    }
   ],
   "source": [
    "data.shape"
   ]
  },
  {
   "cell_type": "code",
   "execution_count": 4,
   "metadata": {
    "ExecuteTime": {
     "end_time": "2020-11-13T11:44:11.002505Z",
     "start_time": "2020-11-13T11:44:10.998318Z"
    },
    "cell_id": "00002-e5015416-cf84-41eb-a93f-1450567bb980",
    "execution_millis": 1,
    "execution_start": 1604599297842,
    "output_cleared": false,
    "source_hash": "33a9576d",
    "tags": []
   },
   "outputs": [],
   "source": [
    "data = data.drop(columns='Unnamed: 0')"
   ]
  },
  {
   "cell_type": "code",
   "execution_count": 5,
   "metadata": {
    "ExecuteTime": {
     "end_time": "2020-11-13T11:44:30.162485Z",
     "start_time": "2020-11-13T11:44:30.069907Z"
    },
    "cell_id": "00004-2eca0765-12fa-4948-8540-97f3188f67b0",
    "execution_millis": 64,
    "execution_start": 1604599297885,
    "output_cleared": false,
    "source_hash": "e5d2144a",
    "tags": []
   },
   "outputs": [],
   "source": [
    "df = pd.read_csv(data_path / 'table_iris_insee_epci.csv')"
   ]
  },
  {
   "cell_type": "code",
   "execution_count": 6,
   "metadata": {
    "ExecuteTime": {
     "end_time": "2020-11-13T11:44:31.316386Z",
     "start_time": "2020-11-13T11:44:31.287133Z"
    },
    "cell_id": "00006-66e9779c-10db-47c9-8998-3ffbf5845412",
    "execution_millis": 0,
    "execution_start": 1604599297997,
    "output_cleared": false,
    "source_hash": "60291fe5",
    "tags": []
   },
   "outputs": [
    {
     "data": {
      "text/html": [
       "<div>\n",
       "<style scoped>\n",
       "    .dataframe tbody tr th:only-of-type {\n",
       "        vertical-align: middle;\n",
       "    }\n",
       "\n",
       "    .dataframe tbody tr th {\n",
       "        vertical-align: top;\n",
       "    }\n",
       "\n",
       "    .dataframe thead th {\n",
       "        text-align: right;\n",
       "    }\n",
       "</style>\n",
       "<table border=\"1\" class=\"dataframe\">\n",
       "  <thead>\n",
       "    <tr style=\"text-align: right;\">\n",
       "      <th></th>\n",
       "      <th>CODE_INSEE</th>\n",
       "      <th>LIBCOM</th>\n",
       "      <th>DEP</th>\n",
       "    </tr>\n",
       "  </thead>\n",
       "  <tbody>\n",
       "    <tr>\n",
       "      <th>0</th>\n",
       "      <td>01001</td>\n",
       "      <td>L'Abergement-Clémenciat</td>\n",
       "      <td>01</td>\n",
       "    </tr>\n",
       "    <tr>\n",
       "      <th>1</th>\n",
       "      <td>01002</td>\n",
       "      <td>L'Abergement-de-Varey</td>\n",
       "      <td>01</td>\n",
       "    </tr>\n",
       "    <tr>\n",
       "      <th>2</th>\n",
       "      <td>01004</td>\n",
       "      <td>Ambérieu-en-Bugey</td>\n",
       "      <td>01</td>\n",
       "    </tr>\n",
       "    <tr>\n",
       "      <th>6</th>\n",
       "      <td>01005</td>\n",
       "      <td>Ambérieux-en-Dombes</td>\n",
       "      <td>01</td>\n",
       "    </tr>\n",
       "    <tr>\n",
       "      <th>7</th>\n",
       "      <td>01006</td>\n",
       "      <td>Ambléon</td>\n",
       "      <td>01</td>\n",
       "    </tr>\n",
       "  </tbody>\n",
       "</table>\n",
       "</div>"
      ],
      "text/plain": [
       "  CODE_INSEE                   LIBCOM DEP\n",
       "0      01001  L'Abergement-Clémenciat  01\n",
       "1      01002    L'Abergement-de-Varey  01\n",
       "2      01004        Ambérieu-en-Bugey  01\n",
       "6      01005      Ambérieux-en-Dombes  01\n",
       "7      01006                  Ambléon  01"
      ]
     },
     "execution_count": 6,
     "metadata": {},
     "output_type": "execute_result"
    }
   ],
   "source": [
    "df = df[['CODE_INSEE', 'LIBCOM', 'DEP']]\n",
    "df = df.drop_duplicates()\n",
    "#df = df.groupby(['CODE_INSEE', 'DEP', 'LIBCOM'])\n",
    "df.head()"
   ]
  },
  {
   "cell_type": "code",
   "execution_count": 7,
   "metadata": {
    "ExecuteTime": {
     "end_time": "2020-11-13T11:44:32.318442Z",
     "start_time": "2020-11-13T11:44:32.243055Z"
    },
    "cell_id": "00007-209e1b0b-e57a-4139-a2a4-bd81de3ff1bb",
    "execution_millis": 4,
    "execution_start": 1604599298041,
    "output_cleared": false,
    "source_hash": "8e82d717",
    "tags": []
   },
   "outputs": [
    {
     "data": {
      "text/html": [
       "<div>\n",
       "<style scoped>\n",
       "    .dataframe tbody tr th:only-of-type {\n",
       "        vertical-align: middle;\n",
       "    }\n",
       "\n",
       "    .dataframe tbody tr th {\n",
       "        vertical-align: top;\n",
       "    }\n",
       "\n",
       "    .dataframe thead th {\n",
       "        text-align: right;\n",
       "    }\n",
       "</style>\n",
       "<table border=\"1\" class=\"dataframe\">\n",
       "  <thead>\n",
       "    <tr style=\"text-align: right;\">\n",
       "      <th></th>\n",
       "      <th>CODE_INSEE</th>\n",
       "      <th>DEP</th>\n",
       "      <th>LIBCOM</th>\n",
       "      <th>TX_POVERTY</th>\n",
       "      <th>TX_NSCOL15P</th>\n",
       "      <th>TX_MENSEUL</th>\n",
       "      <th>TX_FAMMONO</th>\n",
       "      <th>TX_65ETPLUS</th>\n",
       "      <th>TX_25ETMOINS</th>\n",
       "      <th>TX_DEMANDEUR_EMPLOIS</th>\n",
       "      <th>COUVERTURE_HD_THD</th>\n",
       "    </tr>\n",
       "  </thead>\n",
       "  <tbody>\n",
       "    <tr>\n",
       "      <th>0</th>\n",
       "      <td>2A001</td>\n",
       "      <td>2A</td>\n",
       "      <td>Afa</td>\n",
       "      <td>NaN</td>\n",
       "      <td>47.724584</td>\n",
       "      <td>22.350501</td>\n",
       "      <td>9.322385</td>\n",
       "      <td>21.662567</td>\n",
       "      <td>10.902031</td>\n",
       "      <td>NaN</td>\n",
       "      <td>1.0</td>\n",
       "    </tr>\n",
       "    <tr>\n",
       "      <th>1</th>\n",
       "      <td>2A004</td>\n",
       "      <td>2A</td>\n",
       "      <td>Ajaccio</td>\n",
       "      <td>27.441333</td>\n",
       "      <td>47.006382</td>\n",
       "      <td>26.648289</td>\n",
       "      <td>14.049949</td>\n",
       "      <td>26.619498</td>\n",
       "      <td>11.425760</td>\n",
       "      <td>13.062663</td>\n",
       "      <td>1.0</td>\n",
       "    </tr>\n",
       "    <tr>\n",
       "      <th>2</th>\n",
       "      <td>2A006</td>\n",
       "      <td>2A</td>\n",
       "      <td>Alata</td>\n",
       "      <td>17.826087</td>\n",
       "      <td>45.656990</td>\n",
       "      <td>20.245461</td>\n",
       "      <td>9.324807</td>\n",
       "      <td>21.224153</td>\n",
       "      <td>10.888846</td>\n",
       "      <td>NaN</td>\n",
       "      <td>1.0</td>\n",
       "    </tr>\n",
       "    <tr>\n",
       "      <th>3</th>\n",
       "      <td>2A008</td>\n",
       "      <td>2A</td>\n",
       "      <td>Albitreccia</td>\n",
       "      <td>NaN</td>\n",
       "      <td>41.227734</td>\n",
       "      <td>33.376123</td>\n",
       "      <td>9.627728</td>\n",
       "      <td>36.385084</td>\n",
       "      <td>6.076146</td>\n",
       "      <td>NaN</td>\n",
       "      <td>1.0</td>\n",
       "    </tr>\n",
       "    <tr>\n",
       "      <th>4</th>\n",
       "      <td>2A011</td>\n",
       "      <td>2A</td>\n",
       "      <td>Altagène</td>\n",
       "      <td>NaN</td>\n",
       "      <td>47.727273</td>\n",
       "      <td>48.148148</td>\n",
       "      <td>3.703704</td>\n",
       "      <td>40.909091</td>\n",
       "      <td>11.363636</td>\n",
       "      <td>NaN</td>\n",
       "      <td>1.0</td>\n",
       "    </tr>\n",
       "  </tbody>\n",
       "</table>\n",
       "</div>"
      ],
      "text/plain": [
       "  CODE_INSEE DEP       LIBCOM  TX_POVERTY  TX_NSCOL15P  TX_MENSEUL  \\\n",
       "0      2A001  2A          Afa         NaN    47.724584   22.350501   \n",
       "1      2A004  2A      Ajaccio   27.441333    47.006382   26.648289   \n",
       "2      2A006  2A        Alata   17.826087    45.656990   20.245461   \n",
       "3      2A008  2A  Albitreccia         NaN    41.227734   33.376123   \n",
       "4      2A011  2A     Altagène         NaN    47.727273   48.148148   \n",
       "\n",
       "   TX_FAMMONO  TX_65ETPLUS  TX_25ETMOINS  TX_DEMANDEUR_EMPLOIS  \\\n",
       "0    9.322385    21.662567     10.902031                   NaN   \n",
       "1   14.049949    26.619498     11.425760             13.062663   \n",
       "2    9.324807    21.224153     10.888846                   NaN   \n",
       "3    9.627728    36.385084      6.076146                   NaN   \n",
       "4    3.703704    40.909091     11.363636                   NaN   \n",
       "\n",
       "   COUVERTURE_HD_THD  \n",
       "0                1.0  \n",
       "1                1.0  \n",
       "2                1.0  \n",
       "3                1.0  \n",
       "4                1.0  "
      ]
     },
     "execution_count": 7,
     "metadata": {},
     "output_type": "execute_result"
    }
   ],
   "source": [
    "data = pd.merge(data, df, left_on='CODE_INSEE', right_on='CODE_INSEE', how='outer')\n",
    "data = data[['CODE_INSEE', 'DEP', 'LIBCOM', 'TX_POVERTY', 'TX_NSCOL15P', 'TX_MENSEUL', 'TX_FAMMONO', 'TX_65ETPLUS', 'TX_25ETMOINS', 'TX_DEMANDEUR_EMPLOIS', 'COUVERTURE_HD_THD']]\n",
    "data.head()"
   ]
  },
  {
   "cell_type": "code",
   "execution_count": 8,
   "metadata": {
    "ExecuteTime": {
     "end_time": "2020-11-13T11:44:32.875122Z",
     "start_time": "2020-11-13T11:44:32.865526Z"
    },
    "cell_id": "00007-d98d97e9-e5a7-47d3-ae95-dac6d38849f8",
    "execution_millis": 1,
    "execution_start": 1604599298063,
    "output_cleared": false,
    "source_hash": "2007f58",
    "tags": []
   },
   "outputs": [
    {
     "data": {
      "text/plain": [
       "(36393, 11)"
      ]
     },
     "execution_count": 8,
     "metadata": {},
     "output_type": "execute_result"
    }
   ],
   "source": [
    "data.shape"
   ]
  },
  {
   "cell_type": "code",
   "execution_count": 9,
   "metadata": {
    "ExecuteTime": {
     "end_time": "2020-11-13T11:44:33.604290Z",
     "start_time": "2020-11-13T11:44:33.571042Z"
    },
    "cell_id": "00010-8b34529a-ee56-4507-b728-a72e197a5a79",
    "execution_millis": 36,
    "execution_start": 1604599298066,
    "output_cleared": false,
    "source_hash": "67650955",
    "tags": []
   },
   "outputs": [
    {
     "data": {
      "text/html": [
       "<div>\n",
       "<style scoped>\n",
       "    .dataframe tbody tr th:only-of-type {\n",
       "        vertical-align: middle;\n",
       "    }\n",
       "\n",
       "    .dataframe tbody tr th {\n",
       "        vertical-align: top;\n",
       "    }\n",
       "\n",
       "    .dataframe thead th {\n",
       "        text-align: right;\n",
       "    }\n",
       "</style>\n",
       "<table border=\"1\" class=\"dataframe\">\n",
       "  <thead>\n",
       "    <tr style=\"text-align: right;\">\n",
       "      <th></th>\n",
       "      <th>CODE_INSEE</th>\n",
       "      <th>DEP</th>\n",
       "      <th>LIBCOM</th>\n",
       "      <th>TX_POVERTY</th>\n",
       "      <th>TX_NSCOL15P</th>\n",
       "      <th>TX_MENSEUL</th>\n",
       "      <th>TX_FAMMONO</th>\n",
       "      <th>TX_65ETPLUS</th>\n",
       "      <th>TX_25ETMOINS</th>\n",
       "      <th>TX_DEMANDEUR_EMPLOIS</th>\n",
       "      <th>COUVERTURE_HD_THD</th>\n",
       "      <th>TX_BENEF_MINIMAS_SOC</th>\n",
       "    </tr>\n",
       "  </thead>\n",
       "  <tbody>\n",
       "    <tr>\n",
       "      <th>0</th>\n",
       "      <td>2A001</td>\n",
       "      <td>2A</td>\n",
       "      <td>Afa</td>\n",
       "      <td>NaN</td>\n",
       "      <td>47.724584</td>\n",
       "      <td>22.350501</td>\n",
       "      <td>9.322385</td>\n",
       "      <td>21.662567</td>\n",
       "      <td>10.902031</td>\n",
       "      <td>NaN</td>\n",
       "      <td>1.0</td>\n",
       "      <td>1</td>\n",
       "    </tr>\n",
       "    <tr>\n",
       "      <th>1</th>\n",
       "      <td>2A004</td>\n",
       "      <td>2A</td>\n",
       "      <td>Ajaccio</td>\n",
       "      <td>27.441333</td>\n",
       "      <td>47.006382</td>\n",
       "      <td>26.648289</td>\n",
       "      <td>14.049949</td>\n",
       "      <td>26.619498</td>\n",
       "      <td>11.425760</td>\n",
       "      <td>13.062663</td>\n",
       "      <td>1.0</td>\n",
       "      <td>1</td>\n",
       "    </tr>\n",
       "    <tr>\n",
       "      <th>2</th>\n",
       "      <td>2A006</td>\n",
       "      <td>2A</td>\n",
       "      <td>Alata</td>\n",
       "      <td>17.826087</td>\n",
       "      <td>45.656990</td>\n",
       "      <td>20.245461</td>\n",
       "      <td>9.324807</td>\n",
       "      <td>21.224153</td>\n",
       "      <td>10.888846</td>\n",
       "      <td>NaN</td>\n",
       "      <td>1.0</td>\n",
       "      <td>1</td>\n",
       "    </tr>\n",
       "    <tr>\n",
       "      <th>3</th>\n",
       "      <td>2A008</td>\n",
       "      <td>2A</td>\n",
       "      <td>Albitreccia</td>\n",
       "      <td>NaN</td>\n",
       "      <td>41.227734</td>\n",
       "      <td>33.376123</td>\n",
       "      <td>9.627728</td>\n",
       "      <td>36.385084</td>\n",
       "      <td>6.076146</td>\n",
       "      <td>NaN</td>\n",
       "      <td>1.0</td>\n",
       "      <td>1</td>\n",
       "    </tr>\n",
       "    <tr>\n",
       "      <th>4</th>\n",
       "      <td>2A011</td>\n",
       "      <td>2A</td>\n",
       "      <td>Altagène</td>\n",
       "      <td>NaN</td>\n",
       "      <td>47.727273</td>\n",
       "      <td>48.148148</td>\n",
       "      <td>3.703704</td>\n",
       "      <td>40.909091</td>\n",
       "      <td>11.363636</td>\n",
       "      <td>NaN</td>\n",
       "      <td>1.0</td>\n",
       "      <td>1</td>\n",
       "    </tr>\n",
       "  </tbody>\n",
       "</table>\n",
       "</div>"
      ],
      "text/plain": [
       "  CODE_INSEE DEP       LIBCOM  TX_POVERTY  TX_NSCOL15P  TX_MENSEUL  \\\n",
       "0      2A001  2A          Afa         NaN    47.724584   22.350501   \n",
       "1      2A004  2A      Ajaccio   27.441333    47.006382   26.648289   \n",
       "2      2A006  2A        Alata   17.826087    45.656990   20.245461   \n",
       "3      2A008  2A  Albitreccia         NaN    41.227734   33.376123   \n",
       "4      2A011  2A     Altagène         NaN    47.727273   48.148148   \n",
       "\n",
       "   TX_FAMMONO  TX_65ETPLUS  TX_25ETMOINS  TX_DEMANDEUR_EMPLOIS  \\\n",
       "0    9.322385    21.662567     10.902031                   NaN   \n",
       "1   14.049949    26.619498     11.425760             13.062663   \n",
       "2    9.324807    21.224153     10.888846                   NaN   \n",
       "3    9.627728    36.385084      6.076146                   NaN   \n",
       "4    3.703704    40.909091     11.363636                   NaN   \n",
       "\n",
       "   COUVERTURE_HD_THD  TX_BENEF_MINIMAS_SOC  \n",
       "0                1.0                     1  \n",
       "1                1.0                     1  \n",
       "2                1.0                     1  \n",
       "3                1.0                     1  \n",
       "4                1.0                     1  "
      ]
     },
     "execution_count": 9,
     "metadata": {},
     "output_type": "execute_result"
    }
   ],
   "source": [
    "data['TX_BENEF_MINIMAS_SOC'] = 1\n",
    "data.head()"
   ]
  },
  {
   "cell_type": "code",
   "execution_count": 10,
   "metadata": {
    "ExecuteTime": {
     "end_time": "2020-11-13T11:44:34.172334Z",
     "start_time": "2020-11-13T11:44:34.169854Z"
    },
    "cell_id": "00009-fcebdf9c-a141-4ea3-8bdb-ebf54e3797f8",
    "execution_millis": 3,
    "execution_start": 1604599298104,
    "output_cleared": false,
    "source_hash": "2007f58",
    "tags": []
   },
   "outputs": [
    {
     "data": {
      "text/plain": [
       "(36393, 12)"
      ]
     },
     "execution_count": 10,
     "metadata": {},
     "output_type": "execute_result"
    }
   ],
   "source": [
    "data.shape"
   ]
  },
  {
   "cell_type": "code",
   "execution_count": 11,
   "metadata": {
    "ExecuteTime": {
     "end_time": "2020-11-13T11:44:34.780155Z",
     "start_time": "2020-11-13T11:44:34.721540Z"
    },
    "cell_id": "00010-615f111a-9604-4125-960a-715edfeeac55",
    "execution_millis": 30,
    "execution_start": 1604599298113,
    "output_cleared": false,
    "source_hash": "fd74765",
    "tags": []
   },
   "outputs": [
    {
     "name": "stdout",
     "output_type": "stream",
     "text": [
      "Valeurs manquantes :\n",
      " CODE_INSEE                  0\n",
      "DEP                       275\n",
      "LIBCOM                    275\n",
      "TX_POVERTY              29703\n",
      "TX_NSCOL15P              1400\n",
      "TX_MENSEUL               1407\n",
      "TX_FAMMONO               1407\n",
      "TX_65ETPLUS              1400\n",
      "TX_25ETMOINS             1400\n",
      "TX_DEMANDEUR_EMPLOIS    36321\n",
      "COUVERTURE_HD_THD           0\n",
      "TX_BENEF_MINIMAS_SOC        0\n",
      "dtype: int64\n",
      "\n",
      "Valeurs dupliquées :  0\n"
     ]
    }
   ],
   "source": [
    "print('Valeurs manquantes :\\n', data.isna().sum())\n",
    "print('\\nValeurs dupliquées : ', data.duplicated().sum())"
   ]
  },
  {
   "cell_type": "code",
   "execution_count": 13,
   "metadata": {
    "ExecuteTime": {
     "end_time": "2020-11-13T11:44:54.286637Z",
     "start_time": "2020-11-13T11:44:53.909130Z"
    },
    "cell_id": "00009-cad71005-9f23-4da8-8868-74c892f37aa1",
    "execution_millis": 421,
    "execution_start": 1604599298145,
    "output_cleared": false,
    "source_hash": "48a4d259",
    "tags": []
   },
   "outputs": [],
   "source": [
    "data.to_csv(interim_data / 'data_merge_V2.csv')"
   ]
  },
  {
   "cell_type": "code",
   "execution_count": null,
   "metadata": {},
   "outputs": [],
   "source": []
  }
 ],
 "metadata": {
  "deepnote_execution_queue": [],
  "deepnote_notebook_id": "07787d67-b9cc-45e6-81c0-6e1f3d257489",
  "kernelspec": {
   "display_name": "Python 3.8.5 64-bit ('fragil_num': conda)",
   "language": "python",
   "name": "python38564bitfragilnumcondaa190f7e17ab64ae1a6cf30c0b645bfa1"
  },
  "language_info": {
   "codemirror_mode": {
    "name": "ipython",
    "version": 3
   },
   "file_extension": ".py",
   "mimetype": "text/x-python",
   "name": "python",
   "nbconvert_exporter": "python",
   "pygments_lexer": "ipython3",
   "version": "3.8.5"
  },
  "toc": {
   "base_numbering": 1,
   "nav_menu": {},
   "number_sections": true,
   "sideBar": true,
   "skip_h1_title": false,
   "title_cell": "Table of Contents",
   "title_sidebar": "Contents",
   "toc_cell": false,
   "toc_position": {},
   "toc_section_display": true,
   "toc_window_display": false
  }
 },
 "nbformat": 4,
 "nbformat_minor": 2
}
